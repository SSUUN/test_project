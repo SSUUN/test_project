{
 "cells": [
  {
   "cell_type": "code",
   "execution_count": 1,
   "id": "e0c7414c",
   "metadata": {},
   "outputs": [
    {
     "ename": "UnicodeDecodeError",
     "evalue": "'utf-8' codec can't decode byte 0xc1 in position 202: invalid start byte",
     "output_type": "error",
     "traceback": [
      "\u001b[1;31m---------------------------------------------------------------------------\u001b[0m",
      "\u001b[1;31mUnicodeDecodeError\u001b[0m                        Traceback (most recent call last)",
      "\u001b[1;32m~\\AppData\\Local\\Temp/ipykernel_7436/3211186133.py\u001b[0m in \u001b[0;36m<module>\u001b[1;34m\u001b[0m\n\u001b[0;32m      2\u001b[0m \u001b[1;33m\u001b[0m\u001b[0m\n\u001b[0;32m      3\u001b[0m \u001b[0mxgb_model\u001b[0m\u001b[1;33m=\u001b[0m\u001b[0mxgb\u001b[0m\u001b[1;33m.\u001b[0m\u001b[0mBooster\u001b[0m\u001b[1;33m(\u001b[0m\u001b[1;33m)\u001b[0m\u001b[1;33m\u001b[0m\u001b[1;33m\u001b[0m\u001b[0m\n\u001b[1;32m----> 4\u001b[1;33m \u001b[0mxgb_model\u001b[0m\u001b[1;33m.\u001b[0m\u001b[0mload_model\u001b[0m\u001b[1;33m(\u001b[0m\u001b[1;34mf\"ppp/open/models3_5_5_all/model_90.ubj\"\u001b[0m\u001b[1;33m)\u001b[0m\u001b[1;33m\u001b[0m\u001b[1;33m\u001b[0m\u001b[0m\n\u001b[0m",
      "\u001b[1;32m~\\anaconda3\\lib\\site-packages\\xgboost\\core.py\u001b[0m in \u001b[0;36mload_model\u001b[1;34m(self, fname)\u001b[0m\n\u001b[0;32m   2695\u001b[0m             \u001b[1;31m# from URL.\u001b[0m\u001b[1;33m\u001b[0m\u001b[1;33m\u001b[0m\u001b[0m\n\u001b[0;32m   2696\u001b[0m             \u001b[0mfname\u001b[0m \u001b[1;33m=\u001b[0m \u001b[0mos\u001b[0m\u001b[1;33m.\u001b[0m\u001b[0mfspath\u001b[0m\u001b[1;33m(\u001b[0m\u001b[0mos\u001b[0m\u001b[1;33m.\u001b[0m\u001b[0mpath\u001b[0m\u001b[1;33m.\u001b[0m\u001b[0mexpanduser\u001b[0m\u001b[1;33m(\u001b[0m\u001b[0mfname\u001b[0m\u001b[1;33m)\u001b[0m\u001b[1;33m)\u001b[0m\u001b[1;33m\u001b[0m\u001b[1;33m\u001b[0m\u001b[0m\n\u001b[1;32m-> 2697\u001b[1;33m             \u001b[0m_check_call\u001b[0m\u001b[1;33m(\u001b[0m\u001b[0m_LIB\u001b[0m\u001b[1;33m.\u001b[0m\u001b[0mXGBoosterLoadModel\u001b[0m\u001b[1;33m(\u001b[0m\u001b[0mself\u001b[0m\u001b[1;33m.\u001b[0m\u001b[0mhandle\u001b[0m\u001b[1;33m,\u001b[0m \u001b[0mc_str\u001b[0m\u001b[1;33m(\u001b[0m\u001b[0mfname\u001b[0m\u001b[1;33m)\u001b[0m\u001b[1;33m)\u001b[0m\u001b[1;33m)\u001b[0m\u001b[1;33m\u001b[0m\u001b[1;33m\u001b[0m\u001b[0m\n\u001b[0m\u001b[0;32m   2698\u001b[0m         \u001b[1;32melif\u001b[0m \u001b[0misinstance\u001b[0m\u001b[1;33m(\u001b[0m\u001b[0mfname\u001b[0m\u001b[1;33m,\u001b[0m \u001b[0mbytearray\u001b[0m\u001b[1;33m)\u001b[0m\u001b[1;33m:\u001b[0m\u001b[1;33m\u001b[0m\u001b[1;33m\u001b[0m\u001b[0m\n\u001b[0;32m   2699\u001b[0m             \u001b[0mbuf\u001b[0m \u001b[1;33m=\u001b[0m \u001b[0mfname\u001b[0m\u001b[1;33m\u001b[0m\u001b[1;33m\u001b[0m\u001b[0m\n",
      "\u001b[1;32m~\\anaconda3\\lib\\site-packages\\xgboost\\core.py\u001b[0m in \u001b[0;36m_check_call\u001b[1;34m(ret)\u001b[0m\n\u001b[0;32m    282\u001b[0m     \"\"\"\n\u001b[0;32m    283\u001b[0m     \u001b[1;32mif\u001b[0m \u001b[0mret\u001b[0m \u001b[1;33m!=\u001b[0m \u001b[1;36m0\u001b[0m\u001b[1;33m:\u001b[0m\u001b[1;33m\u001b[0m\u001b[1;33m\u001b[0m\u001b[0m\n\u001b[1;32m--> 284\u001b[1;33m         \u001b[1;32mraise\u001b[0m \u001b[0mXGBoostError\u001b[0m\u001b[1;33m(\u001b[0m\u001b[0mpy_str\u001b[0m\u001b[1;33m(\u001b[0m\u001b[0m_LIB\u001b[0m\u001b[1;33m.\u001b[0m\u001b[0mXGBGetLastError\u001b[0m\u001b[1;33m(\u001b[0m\u001b[1;33m)\u001b[0m\u001b[1;33m)\u001b[0m\u001b[1;33m)\u001b[0m\u001b[1;33m\u001b[0m\u001b[1;33m\u001b[0m\u001b[0m\n\u001b[0m\u001b[0;32m    285\u001b[0m \u001b[1;33m\u001b[0m\u001b[0m\n\u001b[0;32m    286\u001b[0m \u001b[1;33m\u001b[0m\u001b[0m\n",
      "\u001b[1;32m~\\anaconda3\\lib\\site-packages\\xgboost\\compat.py\u001b[0m in \u001b[0;36mpy_str\u001b[1;34m(x)\u001b[0m\n\u001b[0;32m     16\u001b[0m \u001b[1;32mdef\u001b[0m \u001b[0mpy_str\u001b[0m\u001b[1;33m(\u001b[0m\u001b[0mx\u001b[0m\u001b[1;33m:\u001b[0m \u001b[0mbytes\u001b[0m\u001b[1;33m)\u001b[0m \u001b[1;33m->\u001b[0m \u001b[0mstr\u001b[0m\u001b[1;33m:\u001b[0m\u001b[1;33m\u001b[0m\u001b[1;33m\u001b[0m\u001b[0m\n\u001b[0;32m     17\u001b[0m     \u001b[1;34m\"\"\"convert c string back to python string\"\"\"\u001b[0m\u001b[1;33m\u001b[0m\u001b[1;33m\u001b[0m\u001b[0m\n\u001b[1;32m---> 18\u001b[1;33m     \u001b[1;32mreturn\u001b[0m \u001b[0mx\u001b[0m\u001b[1;33m.\u001b[0m\u001b[0mdecode\u001b[0m\u001b[1;33m(\u001b[0m\u001b[1;34m\"utf-8\"\u001b[0m\u001b[1;33m)\u001b[0m  \u001b[1;31m# type: ignore\u001b[0m\u001b[1;33m\u001b[0m\u001b[1;33m\u001b[0m\u001b[0m\n\u001b[0m\u001b[0;32m     19\u001b[0m \u001b[1;33m\u001b[0m\u001b[0m\n\u001b[0;32m     20\u001b[0m \u001b[1;33m\u001b[0m\u001b[0m\n",
      "\u001b[1;31mUnicodeDecodeError\u001b[0m: 'utf-8' codec can't decode byte 0xc1 in position 202: invalid start byte"
     ]
    }
   ],
   "source": [
    "import xgboost as xgb\n",
    "\n",
    "xgb_model=xgb.Booster()\n",
    "xgb_model.load_model(f\"ppp/open/models3_5_5_all/model_90.ubj\")"
   ]
  },
  {
   "cell_type": "code",
   "execution_count": 7,
   "id": "8e549708",
   "metadata": {},
   "outputs": [
    {
     "ename": "TypeError",
     "evalue": "('Expecting data to be a DMatrix object, got: ', <class 'list'>)",
     "output_type": "error",
     "traceback": [
      "\u001b[1;31m---------------------------------------------------------------------------\u001b[0m",
      "\u001b[1;31mTypeError\u001b[0m                                 Traceback (most recent call last)",
      "\u001b[1;32m~\\AppData\\Local\\Temp/ipykernel_9824/783769240.py\u001b[0m in \u001b[0;36m<module>\u001b[1;34m\u001b[0m\n\u001b[1;32m----> 1\u001b[1;33m \u001b[0mxgb_model\u001b[0m\u001b[1;33m.\u001b[0m\u001b[0mpredict\u001b[0m\u001b[1;33m(\u001b[0m\u001b[1;33m[\u001b[0m\u001b[1;36m1\u001b[0m\u001b[1;33m,\u001b[0m\u001b[1;36m1\u001b[0m\u001b[1;33m]\u001b[0m\u001b[1;33m)\u001b[0m\u001b[1;33m\u001b[0m\u001b[1;33m\u001b[0m\u001b[0m\n\u001b[0m",
      "\u001b[1;32m~\\anaconda3\\lib\\site-packages\\xgboost\\core.py\u001b[0m in \u001b[0;36mpredict\u001b[1;34m(self, data, output_margin, pred_leaf, pred_contribs, approx_contribs, pred_interactions, validate_features, training, iteration_range, strict_shape)\u001b[0m\n\u001b[0;32m   2354\u001b[0m         \"\"\"\n\u001b[0;32m   2355\u001b[0m         \u001b[1;32mif\u001b[0m \u001b[1;32mnot\u001b[0m \u001b[0misinstance\u001b[0m\u001b[1;33m(\u001b[0m\u001b[0mdata\u001b[0m\u001b[1;33m,\u001b[0m \u001b[0mDMatrix\u001b[0m\u001b[1;33m)\u001b[0m\u001b[1;33m:\u001b[0m\u001b[1;33m\u001b[0m\u001b[1;33m\u001b[0m\u001b[0m\n\u001b[1;32m-> 2356\u001b[1;33m             \u001b[1;32mraise\u001b[0m \u001b[0mTypeError\u001b[0m\u001b[1;33m(\u001b[0m\u001b[1;34m\"Expecting data to be a DMatrix object, got: \"\u001b[0m\u001b[1;33m,\u001b[0m \u001b[0mtype\u001b[0m\u001b[1;33m(\u001b[0m\u001b[0mdata\u001b[0m\u001b[1;33m)\u001b[0m\u001b[1;33m)\u001b[0m\u001b[1;33m\u001b[0m\u001b[1;33m\u001b[0m\u001b[0m\n\u001b[0m\u001b[0;32m   2357\u001b[0m         \u001b[1;32mif\u001b[0m \u001b[0mvalidate_features\u001b[0m\u001b[1;33m:\u001b[0m\u001b[1;33m\u001b[0m\u001b[1;33m\u001b[0m\u001b[0m\n\u001b[0;32m   2358\u001b[0m             \u001b[0mfn\u001b[0m \u001b[1;33m=\u001b[0m \u001b[0mdata\u001b[0m\u001b[1;33m.\u001b[0m\u001b[0mfeature_names\u001b[0m\u001b[1;33m\u001b[0m\u001b[1;33m\u001b[0m\u001b[0m\n",
      "\u001b[1;31mTypeError\u001b[0m: ('Expecting data to be a DMatrix object, got: ', <class 'list'>)"
     ]
    }
   ],
   "source": [
    "xgb_model.predict([1,1])"
   ]
  },
  {
   "cell_type": "code",
   "execution_count": null,
   "id": "c1fd4982",
   "metadata": {},
   "outputs": [],
   "source": [
    "xgb.callback.TrainingCheckPoint('xgb_model_checkpoint.json')"
   ]
  },
  {
   "cell_type": "code",
   "execution_count": 3,
   "id": "87b6f0ad",
   "metadata": {},
   "outputs": [
    {
     "data": {
      "text/plain": [
       "xgboost.callback.TrainingCheckPoint"
      ]
     },
     "execution_count": 3,
     "metadata": {},
     "output_type": "execute_result"
    }
   ],
   "source": [
    " callbacks=[callback.ModelCheckpoint('xgb_model_checkpoint.json')])"
   ]
  },
  {
   "cell_type": "code",
   "execution_count": null,
   "id": "c27a9ed9",
   "metadata": {},
   "outputs": [],
   "source": [
    "import xgboost as xgb"
   ]
  },
  {
   "cell_type": "code",
   "execution_count": 1,
   "id": "2481256a",
   "metadata": {},
   "outputs": [
    {
     "name": "stdout",
     "output_type": "stream",
     "text": [
      "xgb_an_0_25_11111_6_09_0873.model\n"
     ]
    }
   ],
   "source": [
    "import os\n",
    "import xgboost as xgb\n",
    "import warnings\n",
    "warnings.filterwarnings(\"ignore\")\n",
    "from sklearn.model_selection import train_test_split\n",
    "import numpy as np\n",
    "from sklearn.metrics import accuracy_score,f1_score,confusion_matrix\n",
    "import datetime\n",
    "#model_list=list(filter(lambda x : x.split(\"_\")[2]==\"113\",os.listdir(\"ppp/open/models3_5_5_2\")))\n",
    "model_list=os.listdir(\"ppp/open/71_model/\")\n",
    "t1a=[]\n",
    "for i in model_list:\n",
    "    print(i)\n",
    "    xgb_model=xgb.Booster()\n",
    "    xgb_model.load_model(f\"ppp/open/71_model/{i}\")\n",
    "    t1a.append(xgb_model)\n",
    "    "
   ]
  },
  {
   "cell_type": "code",
   "execution_count": 5,
   "id": "97dac140",
   "metadata": {},
   "outputs": [
    {
     "data": {
      "text/plain": [
       "{'best_iteration': '7401', 'best_score': '0.05564503702682938'}"
      ]
     },
     "execution_count": 5,
     "metadata": {},
     "output_type": "execute_result"
    }
   ],
   "source": [
    "t1a[0].attributes()"
   ]
  },
  {
   "cell_type": "code",
   "execution_count": 2,
   "id": "d7adee1a",
   "metadata": {
    "scrolled": true
   },
   "outputs": [
    {
     "name": "stdout",
     "output_type": "stream",
     "text": [
      "{\n",
      "    \"learner\": {\n",
      "        \"generic_param\": {\n",
      "            \"device\": \"cpu\",\n",
      "            \"fail_on_invalid_gpu_id\": \"0\",\n",
      "            \"n_jobs\": \"0\",\n",
      "            \"nthread\": \"0\",\n",
      "            \"random_state\": \"0\",\n",
      "            \"seed\": \"0\",\n",
      "            \"seed_per_iteration\": \"0\",\n",
      "            \"validate_parameters\": \"1\"\n",
      "        },\n",
      "        \"gradient_booster\": {\n",
      "            \"gbtree_model_param\": {\n",
      "                \"num_parallel_tree\": \"1\",\n",
      "                \"num_trees\": \"37260\"\n",
      "            },\n",
      "            \"gbtree_train_param\": {\n",
      "                \"process_type\": \"default\",\n",
      "                \"tree_method\": \"auto\",\n",
      "                \"updater\": \"grow_quantile_histmaker\",\n",
      "                \"updater_seq\": \"grow_quantile_histmaker\"\n",
      "            },\n",
      "            \"name\": \"gbtree\",\n",
      "            \"specified_updater\": false,\n",
      "            \"tree_train_param\": {\n",
      "                \"alpha\": \"0\",\n",
      "                \"cache_opt\": \"1\",\n",
      "                \"colsample_bylevel\": \"1\",\n",
      "                \"colsample_bynode\": \"1\",\n",
      "                \"colsample_bytree\": \"1\",\n",
      "                \"eta\": \"0.300000012\",\n",
      "                \"gamma\": \"0\",\n",
      "                \"grow_policy\": \"depthwise\",\n",
      "                \"interaction_constraints\": \"\",\n",
      "                \"lambda\": \"1\",\n",
      "                \"learning_rate\": \"0.300000012\",\n",
      "                \"max_bin\": \"256\",\n",
      "                \"max_cat_threshold\": \"64\",\n",
      "                \"max_cat_to_onehot\": \"4\",\n",
      "                \"max_delta_step\": \"0\",\n",
      "                \"max_depth\": \"6\",\n",
      "                \"max_leaves\": \"0\",\n",
      "                \"min_child_weight\": \"1\",\n",
      "                \"min_split_loss\": \"0\",\n",
      "                \"monotone_constraints\": \"()\",\n",
      "                \"refresh_leaf\": \"1\",\n",
      "                \"reg_alpha\": \"0\",\n",
      "                \"reg_lambda\": \"1\",\n",
      "                \"sampling_method\": \"uniform\",\n",
      "                \"sketch_ratio\": \"2\",\n",
      "                \"sparse_threshold\": \"0.20000000000000001\",\n",
      "                \"subsample\": \"1\"\n",
      "            },\n",
      "            \"updater\": [\n",
      "                {\n",
      "                    \"hist_train_param\": {\n",
      "                        \"debug_synchronize\": \"0\",\n",
      "                        \"max_cached_hist_node\": \"65536\"\n",
      "                    },\n",
      "                    \"name\": \"grow_quantile_histmaker\"\n",
      "                }\n",
      "            ]\n",
      "        },\n",
      "        \"learner_model_param\": {\n",
      "            \"base_score\": \"5E-1\",\n",
      "            \"boost_from_average\": \"1\",\n",
      "            \"num_class\": \"5\",\n",
      "            \"num_feature\": \"987\",\n",
      "            \"num_target\": \"1\"\n",
      "        },\n",
      "        \"learner_train_param\": {\n",
      "            \"booster\": \"gbtree\",\n",
      "            \"disable_default_eval_metric\": \"0\",\n",
      "            \"multi_strategy\": \"one_output_per_tree\",\n",
      "            \"objective\": \"multi:softprob\"\n",
      "        },\n",
      "        \"metrics\": [],\n",
      "        \"objective\": {\n",
      "            \"name\": \"multi:softprob\",\n",
      "            \"softmax_multiclass_param\": {\n",
      "                \"num_class\": \"5\"\n",
      "            }\n",
      "        }\n",
      "    },\n",
      "    \"version\": [\n",
      "        2,\n",
      "        1,\n",
      "        4\n",
      "    ]\n",
      "}\n"
     ]
    }
   ],
   "source": [
    "import json\n",
    "\n",
    "config = t1a[0].save_config()\n",
    "parsed_config = json.loads(config)\n",
    "print(json.dumps(parsed_config, indent=4))"
   ]
  },
  {
   "cell_type": "code",
   "execution_count": null,
   "id": "df9f1e41",
   "metadata": {},
   "outputs": [],
   "source": [
    "t1a[0].trees_to_dataframe()"
   ]
  },
  {
   "cell_type": "code",
   "execution_count": 6,
   "id": "6dbc71d6",
   "metadata": {},
   "outputs": [
    {
     "name": "stdout",
     "output_type": "stream",
     "text": [
      "32\n",
      "sample_submission_no_pca_967_all_100_6_25_re02_6_30p5.csv\n",
      "41\n",
      "sample_submission_no_pca_982_all_100_6_20_16_16_4_down_my_30max_5244.csv\n",
      "43\n",
      "sample_submission_no_pca_982_all_100_6_25_re02_all0712_step_1_1_21185.csv\n",
      "34\n",
      "sample_submission_no_pca_982_all_200_1_20_35_35_79_down_my_30max_a01_11_kfold_00step.csv\n",
      "31\n",
      "sample_submission_no_pca_982_all_200_1_20_35_35_79_down_my_30max_a01_11_stand_01a_a103_setand.csv\n",
      "41\n",
      "sample_submission_no_pca_982_all_200_1_20_35_35_79_down_my_30max_a01_11_stand_b_00_41.csv\n",
      "38\n",
      "sample_submission_no_pca_982_all_200_1_20_35_35_79_down_my_30max_a01_11_stand_b_00_ab010383.csv\n",
      "36\n",
      "sample_submission_pca40_all_xgb_200_10_01_67_32_xytr_8m.csv\n",
      "41\n",
      "sample_submission_pca40_all_xgb_200_op.csv\n",
      "35\n",
      "sample_submission_pca40_all_xgb_50_6_00005_2.csv\n",
      "31\n",
      "sample_submission_pca40_all_xgb_50_6_00005_2_07.csv\n"
     ]
    }
   ],
   "source": [
    "import pandas as pd\n",
    "import os\n",
    "for i in list(filter(lambda x: \"sample\" in x ,os.listdir(\"ppp/open/\"))):\n",
    "    p1=pd.read_csv(f\"ppp/open/{i}\")\n",
    "    if 45>len(p1[p1[\"Segment\"]==\"A\"])>30:\n",
    "        print(len(list(p1[p1[\"Segment\"]==\"A\"].index)))\n",
    "        print(i)\n",
    "    "
   ]
  },
  {
   "cell_type": "code",
   "execution_count": 15,
   "id": "9033850c",
   "metadata": {},
   "outputs": [
    {
     "data": {
      "text/plain": [
       "Int64Index([ 1242,  3623,  6685,  8045,  9694, 11825, 16685, 23825, 24893,\n",
       "            28024, 31019, 39895, 41053, 42481, 43421, 51233, 53258, 56681,\n",
       "            62589, 63296, 64074, 68540, 69364, 73642, 73870, 74584, 75097,\n",
       "            77869, 81971, 83835, 85253, 88359, 88823, 89692, 90740, 90758,\n",
       "            91943, 95776, 95899, 95957, 99023],\n",
       "           dtype='int64')"
      ]
     },
     "execution_count": 15,
     "metadata": {},
     "output_type": "execute_result"
    }
   ],
   "source": [
    "p1=pd.read_csv(\"ppp/open/sample_submission_no_pca_982_all_200_1_20_35_35_79_down_my_30max_a01_11_stand_b_00_41.csv\")\n",
    "p1[p1[\"Segment\"]==\"A\"].index"
   ]
  },
  {
   "cell_type": "code",
   "execution_count": 21,
   "id": "71088f71",
   "metadata": {},
   "outputs": [
    {
     "data": {
      "text/plain": [
       "36"
      ]
     },
     "execution_count": 21,
     "metadata": {},
     "output_type": "execute_result"
    }
   ],
   "source": [
    "len((set(a111)&set(a101))&set(p1[p1[\"Segment\"]==\"A\"].index))"
   ]
  },
  {
   "cell_type": "code",
   "execution_count": 11,
   "id": "ef5fd1ad",
   "metadata": {
    "scrolled": true
   },
   "outputs": [
    {
     "data": {
      "text/plain": [
       "{3623,\n",
       " 6685,\n",
       " 9694,\n",
       " 10793,\n",
       " 12508,\n",
       " 15258,\n",
       " 16685,\n",
       " 20587,\n",
       " 23825,\n",
       " 24893,\n",
       " 28024,\n",
       " 31019,\n",
       " 39895,\n",
       " 41053,\n",
       " 42481,\n",
       " 45995,\n",
       " 51233,\n",
       " 53109,\n",
       " 53258,\n",
       " 57192,\n",
       " 62589,\n",
       " 64074,\n",
       " 68540,\n",
       " 69364,\n",
       " 73642,\n",
       " 73870,\n",
       " 74584,\n",
       " 75097,\n",
       " 77869,\n",
       " 81971,\n",
       " 85253,\n",
       " 88359,\n",
       " 88823,\n",
       " 89692,\n",
       " 90740,\n",
       " 90758,\n",
       " 91943,\n",
       " 95957,\n",
       " 99023}"
      ]
     },
     "execution_count": 11,
     "metadata": {},
     "output_type": "execute_result"
    }
   ],
   "source": [
    "set(a108)&set(a101)"
   ]
  },
  {
   "cell_type": "code",
   "execution_count": 16,
   "id": "7de6cfa8",
   "metadata": {},
   "outputs": [
    {
     "data": {
      "text/plain": [
       "ID         0\n",
       "Segment    0\n",
       "dtype: object"
      ]
     },
     "execution_count": 16,
     "metadata": {},
     "output_type": "execute_result"
    }
   ],
   "source": [
    "p1=pd.read_csv(\"ppp/open/sample_submission_no_pca_982_all_200_1_20_35_35_79_down_my_30max_a01_11_stand_nob.csv\")\n",
    "p1[p1==\"B\"]."
   ]
  },
  {
   "cell_type": "code",
   "execution_count": 20,
   "id": "5d0c4f29",
   "metadata": {},
   "outputs": [
    {
     "data": {
      "text/plain": [
       "(0.3998922745, 0.11442213199999995)"
      ]
     },
     "execution_count": 20,
     "metadata": {},
     "output_type": "execute_result"
    }
   ],
   "source": [
    "(0.6793944264-0.5994159715)*5,(0.6793944264-0.65651)*5"
   ]
  },
  {
   "cell_type": "code",
   "execution_count": 9,
   "id": "94cf6cbf",
   "metadata": {},
   "outputs": [
    {
     "data": {
      "text/plain": [
       "(0.11439352650000012, 0.06689613049999987)"
      ]
     },
     "execution_count": 9,
     "metadata": {},
     "output_type": "execute_result"
    }
   ],
   "source": [
    "(0.6793944264-0.6565157211)*5,  (0.6971544515-0.6837752254)*5a"
   ]
  },
  {
   "cell_type": "code",
   "execution_count": 19,
   "id": "b539988b",
   "metadata": {},
   "outputs": [
    {
     "data": {
      "text/plain": [
       "E    78836\n",
       "D    15856\n",
       "C     5258\n",
       "A       47\n",
       "B        3\n",
       "Name: Segment, dtype: int64"
      ]
     },
     "execution_count": 19,
     "metadata": {},
     "output_type": "execute_result"
    }
   ],
   "source": [
    "import pandas as pd\n",
    "p1=pd.read_csv(\"ppp/open/sample_submission_no_pca_982_all_200_1_20_35_35_79_down_my_30max_a01_11_kfold.csv\")\n",
    "p1[\"Segment\"].value_counts()"
   ]
  },
  {
   "cell_type": "code",
   "execution_count": 24,
   "id": "4e65f128",
   "metadata": {},
   "outputs": [
    {
     "data": {
      "text/plain": [
       "E    78836\n",
       "D    15856\n",
       "C     5305\n",
       "B        3\n",
       "Name: Segment, dtype: int64"
      ]
     },
     "execution_count": 24,
     "metadata": {},
     "output_type": "execute_result"
    }
   ],
   "source": [
    "p1.iloc[p1[p1[\"Segment\"]==\"A\"].index,1]=\"C\"\n",
    "#p1.iloc[list(set(a108)&set(a101)),1]=\"A\"\n",
    "p1[\"Segment\"].value_counts()"
   ]
  },
  {
   "cell_type": "code",
   "execution_count": 23,
   "id": "4008ad8a",
   "metadata": {},
   "outputs": [],
   "source": [
    "p1.to_csv(\"ppp/open/sample_submission_no_pca_982_all_200_1_20_35_35_79_down_my_30max_a01_11_kfold_fk.csv\",encoding=\"utf-8-sig\",index=False)\n"
   ]
  },
  {
   "cell_type": "code",
   "execution_count": null,
   "id": "3aac5f65",
   "metadata": {},
   "outputs": [],
   "source": []
  },
  {
   "cell_type": "code",
   "execution_count": 1,
   "id": "f0eb532c",
   "metadata": {},
   "outputs": [],
   "source": [
    "import numpy as np\n",
    "x=np.load(\"ppp/open/datas/data_31/x_ml_987_no_pca_min_max.npy\")\n",
    "y=np.load(\"ppp/open/datas/data_31/y_ml_987_no_pca_min_max.npy\")\n",
    "for i in range(6):\n",
    "\n",
    "\n",
    "    np.save(f\"ppp/open/datas/data_31/x_{i}\",np.vstack([x[i*119913:(i+1)*119913],\n",
    "               x[719478+(i*119913):719478+((i+1)*119913)]]))\n",
    "    np.save(f\"ppp/open/datas/data_31/y_{i}\",np.hstack([y[i*119913:(i+1)*119913],\n",
    "               y[719478+(i*119913):719478+((i+1)*119913)]]))"
   ]
  },
  {
   "cell_type": "code",
   "execution_count": 3,
   "id": "6a8033b7",
   "metadata": {},
   "outputs": [
    {
     "data": {
      "text/plain": [
       "((1438956, 987), (1438956,))"
      ]
     },
     "execution_count": 3,
     "metadata": {},
     "output_type": "execute_result"
    }
   ],
   "source": [
    "x.shape,y.shape"
   ]
  },
  {
   "cell_type": "code",
   "execution_count": 23,
   "id": "cd8d4327",
   "metadata": {},
   "outputs": [
    {
     "data": {
      "text/plain": [
       "480510"
      ]
     },
     "execution_count": 23,
     "metadata": {},
     "output_type": "execute_result"
    }
   ],
   "source": [
    "len(np.where(y==4)[0][::2])"
   ]
  },
  {
   "cell_type": "code",
   "execution_count": 3,
   "id": "bf1ff313",
   "metadata": {},
   "outputs": [
    {
     "data": {
      "text/plain": [
       "972"
      ]
     },
     "execution_count": 3,
     "metadata": {},
     "output_type": "execute_result"
    }
   ],
   "source": [
    "len(np.where(y==0)[0])"
   ]
  },
  {
   "cell_type": "code",
   "execution_count": 2,
   "id": "f74254b8",
   "metadata": {},
   "outputs": [],
   "source": [
    "from imblearn.over_sampling import SMOTE, ADASYN"
   ]
  },
  {
   "cell_type": "code",
   "execution_count": 4,
   "id": "1a24469f",
   "metadata": {},
   "outputs": [
    {
     "name": "stderr",
     "output_type": "stream",
     "text": [
      "C:\\Users\\607-14\\anaconda3\\lib\\site-packages\\sklearn\\base.py:474: FutureWarning: `BaseEstimator._validate_data` is deprecated in 1.6 and will be removed in 1.7. Use `sklearn.utils.validation.validate_data` instead. This function becomes public and is part of the scikit-learn developer API.\n",
      "  warnings.warn(\n"
     ]
    }
   ],
   "source": [
    "from imblearn.over_sampling import SMOTE, ADASYN\n",
    "adasyn = ADASYN(sampling_strategy={0:int(972*10)+972 ,1: int(144*20)+144}, random_state=0,n_neighbors=6,)  #{0:1500,1:300}\n",
    "x , y= adasyn.fit_resample(x, y)\n"
   ]
  },
  {
   "cell_type": "code",
   "execution_count": 28,
   "id": "d79447c2",
   "metadata": {},
   "outputs": [
    {
     "data": {
      "text/plain": [
       "((1451522, 987), (1451522,))"
      ]
     },
     "execution_count": 28,
     "metadata": {},
     "output_type": "execute_result"
    }
   ],
   "source": [
    "x.shape,y.shape"
   ]
  },
  {
   "cell_type": "code",
   "execution_count": 34,
   "id": "98a7a46f",
   "metadata": {},
   "outputs": [
    {
     "data": {
      "text/plain": [
       "(array([0, 1], dtype=int64), array([9673, 2893], dtype=int64))"
      ]
     },
     "execution_count": 34,
     "metadata": {},
     "output_type": "execute_result"
    }
   ],
   "source": [
    "np.unique(y[1438956:],return_counts=True)"
   ]
  },
  {
   "cell_type": "code",
   "execution_count": 41,
   "id": "5e70d4d4",
   "metadata": {},
   "outputs": [
    {
     "data": {
      "text/plain": [
       "array([1, 1, 1, ..., 1, 1, 1], dtype=int64)"
      ]
     },
     "execution_count": 41,
     "metadata": {},
     "output_type": "execute_result"
    }
   ],
   "source": [
    "y[1438956:1438956+9673]\n",
    "y[1438956+9673:]\n",
    "\n"
   ]
  },
  {
   "cell_type": "code",
   "execution_count": 30,
   "id": "a498ab50",
   "metadata": {},
   "outputs": [],
   "source": [
    "#np.save(f\"ppp/open/datas/data_31/adasyn_x\",x[1438956:])\n",
    "#np.save(f\"ppp/open/datas/data_31/adasyn_y\",y[1438956:])\n",
    "\n"
   ]
  },
  {
   "cell_type": "code",
   "execution_count": 1,
   "id": "e9b11f80",
   "metadata": {},
   "outputs": [],
   "source": [
    "import numpy as np"
   ]
  },
  {
   "cell_type": "code",
   "execution_count": 2,
   "id": "3298cab2",
   "metadata": {},
   "outputs": [],
   "source": [
    "x=np.load(\"ppp/open/datas/data_31/adasyn_x.npy\")\n",
    "y=np.load(\"ppp/open/datas/data_31/adasyn_y.npy\")"
   ]
  },
  {
   "cell_type": "code",
   "execution_count": 8,
   "id": "addf2f29",
   "metadata": {},
   "outputs": [],
   "source": [
    "np.save(f\"ppp/open/datas/data_31/adasyn_x_1\",x[906:])\n",
    "np.save(f\"ppp/open/datas/data_31/adasyn_y_1\",y[906:])\n",
    "\n",
    "np.save(f\"ppp/open/datas/data_31/adasyn_x_0\",x[:906])\n",
    "np.save(f\"ppp/open/datas/data_31/adasyn_y_0\",y[:906])\n",
    "\n",
    "\n"
   ]
  },
  {
   "cell_type": "code",
   "execution_count": null,
   "id": "23d6a97d",
   "metadata": {},
   "outputs": [],
   "source": [
    "np.save(f\"ppp/open/datas/data_31/adasyn_x_1_10\",x[1438956+9673:])\n",
    "np.save(f\"ppp/open/datas/data_31/adasyn_y_1_10\",y[1438956+9673:])\n",
    "\n",
    "np.save(f\"ppp/open/datas/data_31/adasyn_x_0_10\",x[1438956:1438956+9673])\n",
    "np.save(f\"ppp/open/datas/data_31/adasyn_y_0_10\",y[1438956:1438956+9673])"
   ]
  },
  {
   "cell_type": "code",
   "execution_count": 4,
   "id": "e06e0fe1",
   "metadata": {},
   "outputs": [
    {
     "data": {
      "text/plain": [
       "(array([ 906,  907,  908,  909,  910,  911,  912,  913,  914,  915,  916,\n",
       "         917,  918,  919,  920,  921,  922,  923,  924,  925,  926,  927,\n",
       "         928,  929,  930,  931,  932,  933,  934,  935,  936,  937,  938,\n",
       "         939,  940,  941,  942,  943,  944,  945,  946,  947,  948,  949,\n",
       "         950,  951,  952,  953,  954,  955,  956,  957,  958,  959,  960,\n",
       "         961,  962,  963,  964,  965,  966,  967,  968,  969,  970,  971,\n",
       "         972,  973,  974,  975,  976,  977,  978,  979,  980,  981,  982,\n",
       "         983,  984,  985,  986,  987,  988,  989,  990,  991,  992,  993,\n",
       "         994,  995,  996,  997,  998,  999, 1000, 1001, 1002, 1003, 1004,\n",
       "        1005, 1006, 1007, 1008, 1009, 1010, 1011, 1012, 1013, 1014, 1015,\n",
       "        1016, 1017, 1018, 1019, 1020, 1021, 1022, 1023, 1024, 1025, 1026,\n",
       "        1027, 1028, 1029, 1030, 1031, 1032, 1033, 1034, 1035, 1036, 1037,\n",
       "        1038, 1039, 1040, 1041, 1042, 1043, 1044, 1045, 1046, 1047, 1048,\n",
       "        1049, 1050, 1051, 1052, 1053, 1054, 1055, 1056, 1057, 1058, 1059,\n",
       "        1060, 1061, 1062, 1063, 1064, 1065, 1066, 1067, 1068, 1069, 1070,\n",
       "        1071, 1072, 1073, 1074, 1075, 1076, 1077, 1078, 1079, 1080, 1081,\n",
       "        1082, 1083, 1084, 1085, 1086, 1087, 1088, 1089, 1090, 1091, 1092,\n",
       "        1093, 1094, 1095, 1096, 1097, 1098, 1099, 1100, 1101, 1102, 1103,\n",
       "        1104, 1105, 1106, 1107, 1108, 1109, 1110, 1111, 1112, 1113, 1114,\n",
       "        1115, 1116, 1117, 1118, 1119, 1120, 1121, 1122, 1123, 1124, 1125,\n",
       "        1126, 1127, 1128, 1129, 1130, 1131, 1132, 1133, 1134, 1135, 1136,\n",
       "        1137, 1138, 1139, 1140, 1141, 1142, 1143, 1144, 1145, 1146, 1147,\n",
       "        1148, 1149, 1150, 1151, 1152, 1153, 1154, 1155, 1156, 1157, 1158,\n",
       "        1159, 1160, 1161, 1162, 1163, 1164, 1165, 1166, 1167, 1168, 1169,\n",
       "        1170, 1171, 1172, 1173, 1174, 1175, 1176, 1177, 1178, 1179, 1180,\n",
       "        1181, 1182, 1183, 1184, 1185, 1186, 1187, 1188, 1189, 1190, 1191,\n",
       "        1192, 1193, 1194, 1195, 1196, 1197, 1198, 1199, 1200, 1201, 1202,\n",
       "        1203], dtype=int64),)"
      ]
     },
     "execution_count": 4,
     "metadata": {},
     "output_type": "execute_result"
    }
   ],
   "source": [
    "np.where(y==1)"
   ]
  },
  {
   "cell_type": "code",
   "execution_count": 1,
   "id": "5b4b2569",
   "metadata": {},
   "outputs": [
    {
     "name": "stdout",
     "output_type": "stream",
     "text": [
      "77\n",
      "117\n",
      "521\n",
      "565\n",
      "645\n",
      "748\n",
      "810\n",
      "857\n",
      "77\n",
      "117\n",
      "521\n",
      "565\n",
      "645\n",
      "748\n",
      "810\n",
      "857\n"
     ]
    }
   ],
   "source": [
    "import pandas as pd\n",
    "import os\n",
    "#import matplotlib.pyplot as plt\n",
    "#import matplotlib.pyplot as plt\n",
    "import numpy as np\n",
    "#plt.rcParams['font.family'] ='Malgun Gothic'\n",
    "#plt.rcParams['axes.unicode_minus'] =False\n",
    "np.random.seed(2025)\n",
    "\n",
    "path1=os.listdir(\"ppp/open/train/\")\n",
    "data=1\n",
    "\n",
    "aaa=0\n",
    "for j in path1:    \n",
    "    a=os.listdir(f\"ppp/open/train/{j}\")\n",
    "    p=[]\n",
    "    \n",
    "    pp=[]\n",
    "    for i in a[:1]:\n",
    "        p=pd.read_parquet(f\"ppp/open/train/{j}/{i}\").drop(\"기준년월\",axis=1)\n",
    "        data=pd.merge(data,p,on=\"ID\",how=\"inner\") if j!=\"1.회원정보\" else p\n",
    "        \n",
    "        print(len(data.columns))\n",
    "del p\n",
    "\n",
    "idx0=data[data[\"Segment\"].apply(lambda x: x==\"A\")].index\n",
    "idx1=data[data[\"Segment\"].apply(lambda x: x==\"B\")].index\n",
    "idx2=data[data[\"Segment\"].apply(lambda x: x==\"E\" )].index\n",
    "idx3=data[data[\"Segment\"].apply(lambda x: x==\"D\" )].index\n",
    "idx4=data[data[\"Segment\"].apply(lambda x: x==\"C\" )].index\n",
    "\n",
    "idxs=[]\n",
    "no_idxs=[]\n",
    "no_idx=range(400000)\n",
    "for i in range(6): # 1.5 ,1,10,,4,5\n",
    "    np.random.seed(2025)\n",
    "    idx00=np.random.choice(idx0,size=int(162/2),replace=False,)\n",
    "    idx11=np.random.choice(idx1,size=int(24/2),replace=False,)\n",
    "    idx22=np.random.choice(idx2,size=int(320342//4),replace=False)#320342//30\n",
    "    idx33=np.random.choice(idx3,size=int(58207//2),replace=False) #58207//24\n",
    "    idx44=np.random.choice(idx4,size=int(21265//2),replace=False) # 21265//24\n",
    "    \n",
    "\n",
    "    now_idx=np.concatenate([idx00,idx11,idx22,idx33,idx44])\n",
    "    idxs.append(now_idx)\n",
    "    \n",
    "    idx00q=np.random.choice(list(set(idx0)-set(idx00)),size=int(162/2),replace=False)\n",
    "    idx11q=np.random.choice(list(set(idx1)-set(idx11)),size=int(24/2),replace=False,)\n",
    "    idx22q=np.random.choice(list(set(idx2)-set(idx22)),size=int(320342//4),replace=False)#320342//30\n",
    "    idx33q=np.random.choice(list(set(idx3)-set(idx33)),size=int(58207//2),replace=False) #58207//24\n",
    "    idx44q=np.random.choice(list(set(idx4)-set(idx44)),size=int(21265//2),replace=False) # 21265//24\n",
    "    \n",
    "    now_idx41=np.concatenate([idx00q,idx11q,idx22q,idx33q,idx44q])\n",
    "    no_idxs.append(now_idx41)\n",
    "\n",
    "\n",
    "\n",
    "\n",
    "    \n",
    "    \n",
    "    #no_idxs.append(np.random.choice(list(set(range(400000))-set(now_idx)),40000,replace=False))\n",
    "\"\"\"\n",
    "    print(len(no_idx))\n",
    "for i in range(6):\n",
    "    np.random.seed(2025+i)\n",
    "    no_idxs.append(np.random.choice(no_idx,(400000-len(no_idx))//6,replace=False))\n",
    "#print(len(idx))\"\"\"\n",
    "np.random.seed(2025)\n",
    "####################### tr daataaa loadddddddddddddddddd\n",
    "path1=os.listdir(\"ppp/open/train/\")\n",
    "#data=1\n",
    "data2=10\n",
    "aaa=0\n",
    "for j in path1:    \n",
    "    a=os.listdir(f\"ppp/open/train/{j}\")\n",
    "    p=[]\n",
    "    \n",
    "    pp=[]\n",
    "    for iin,i in enumerate(a):\n",
    "        \n",
    "        p=(pd.read_parquet(f\"ppp/open/train/{j}/{i}\").drop(\"기준년월\",axis=1))\n",
    "        p=p.iloc[idxs[iin]]\n",
    "        #print(len(p))\n",
    "        pp.append(p)\n",
    "    #print(len(pd.concat(pp).columns))\n",
    "    #pd.concat(pp)\n",
    "    data2=pd.concat([data2,pd.concat(pp).drop(\"ID\",axis=1)],axis=1) if aaa==1 else pd.concat(pp)\n",
    "    print(len(data2.columns))\n",
    "    aaa=1\n",
    "    pp=[]\n",
    "    #print(len(data2))\n",
    "    #print(i,j)  \n",
    "    \n"
   ]
  },
  {
   "cell_type": "code",
   "execution_count": 2,
   "id": "8930115f",
   "metadata": {},
   "outputs": [
    {
     "name": "stdout",
     "output_type": "stream",
     "text": [
      "77\n",
      "117\n",
      "521\n",
      "565\n",
      "645\n",
      "748\n",
      "810\n",
      "857\n",
      "719478\n"
     ]
    },
    {
     "data": {
      "text/plain": [
       "E    961020\n",
       "D    349236\n",
       "C    127584\n",
       "A       972\n",
       "B       144\n",
       "Name: Segment, dtype: int64"
      ]
     },
     "execution_count": 2,
     "metadata": {},
     "output_type": "execute_result"
    }
   ],
   "source": [
    "####################### te daataaa loadddddddddddddddddd\n",
    "\n",
    "\n",
    "path1=os.listdir(\"ppp/open/train/\")\n",
    "#data=1\n",
    "data3=10\n",
    "aaa=0\n",
    "for j in path1:    \n",
    "    a=os.listdir(f\"ppp/open/train/{j}\")\n",
    "    p=[]\n",
    "    \n",
    "    pp=[]\n",
    "    for iin,i in enumerate(a):\n",
    "        \n",
    "        p=(pd.read_parquet(f\"ppp/open/train/{j}/{i}\").drop(\"기준년월\",axis=1))\n",
    "        p=p.iloc[no_idxs[iin]]\n",
    "        #print(len(p))\n",
    "        pp.append(p)\n",
    "    #print(len(pd.concat(pp).columns))\n",
    "    #pd.concat(pp)\n",
    "    data3=pd.concat([data3,pd.concat(pp).drop(\"ID\",axis=1)],axis=1) if aaa==1 else pd.concat(pp)\n",
    "    print(len(data3.columns))\n",
    "    aaa=1\n",
    "    pp=[]\n",
    "    #print(len(data2))\n",
    "    #print(i,j)  \n",
    "    \n",
    "\n",
    "del p \n",
    "del pp\n",
    "#del idx,idx2,idx3,idx4\n",
    "trl=len(data2)\n",
    "print(trl)\n",
    "\n",
    "lesxxx=len(data2)//6\n",
    "lpasdw=[]\n",
    "for i in range(7,13):\n",
    "   lpasdw+= [str(i)]*lesxxx\n",
    "data2[\"month\"]=lpasdw\n",
    "\n",
    "lesxxx=len(data3)//6\n",
    "lpasdw=[]\n",
    "for i in range(7,13):\n",
    "   lpasdw+= [str(i)]*lesxxx\n",
    "data3[\"month\"]=lpasdw\n",
    "\n",
    "\n",
    "\n",
    "data=pd.concat([data2,data3])#pd.concat([data,data2],ignore_index=True)\n",
    "#data=data2#pd.concat([data,data2],ignore_index=True)\n",
    "del data2\n",
    "del data3\n",
    "\n",
    "data[\"Segment\"].value_counts()"
   ]
  },
  {
   "cell_type": "code",
   "execution_count": 3,
   "id": "d2dc79db",
   "metadata": {},
   "outputs": [
    {
     "data": {
      "text/plain": [
       "119913.0"
      ]
     },
     "execution_count": 3,
     "metadata": {},
     "output_type": "execute_result"
    }
   ],
   "source": [
    "(719478+719478)/12"
   ]
  },
  {
   "cell_type": "markdown",
   "id": "b0163a5a",
   "metadata": {},
   "source": [
    "## 값이 1개인 열 삭제 "
   ]
  },
  {
   "cell_type": "code",
   "execution_count": 4,
   "id": "7402f40b",
   "metadata": {},
   "outputs": [
    {
     "data": {
      "text/html": [
       "<div>\n",
       "<style scoped>\n",
       "    .dataframe tbody tr th:only-of-type {\n",
       "        vertical-align: middle;\n",
       "    }\n",
       "\n",
       "    .dataframe tbody tr th {\n",
       "        vertical-align: top;\n",
       "    }\n",
       "\n",
       "    .dataframe thead th {\n",
       "        text-align: right;\n",
       "    }\n",
       "</style>\n",
       "<table border=\"1\" class=\"dataframe\">\n",
       "  <thead>\n",
       "    <tr style=\"text-align: right;\">\n",
       "      <th></th>\n",
       "      <th>CA이자율_할인전</th>\n",
       "      <th>CA한도금액</th>\n",
       "      <th>CL이자율_할인전</th>\n",
       "      <th>IB문의건수_BL_R6M</th>\n",
       "      <th>IB문의건수_CA_R6M</th>\n",
       "      <th>IB문의건수_CL_RV_B0M</th>\n",
       "      <th>IB문의건수_CL_RV_R6M</th>\n",
       "      <th>IB문의건수_CS_B0M</th>\n",
       "      <th>IB문의건수_CS_R6M</th>\n",
       "      <th>IB문의건수_SMS_R6M</th>\n",
       "      <th>...</th>\n",
       "      <th>혜택수혜율_B0M</th>\n",
       "      <th>혜택수혜율_R3M</th>\n",
       "      <th>홈페이지_금융건수_R3M</th>\n",
       "      <th>홈페이지_금융건수_R6M</th>\n",
       "      <th>홈페이지_선결제건수_R3M</th>\n",
       "      <th>홈페이지_선결제건수_R6M</th>\n",
       "      <th>회원여부_연체</th>\n",
       "      <th>회원여부_이용가능</th>\n",
       "      <th>회원여부_이용가능_CA</th>\n",
       "      <th>회원여부_이용가능_카드론</th>\n",
       "    </tr>\n",
       "  </thead>\n",
       "  <tbody>\n",
       "    <tr>\n",
       "      <th>301160</th>\n",
       "      <td>14.611353</td>\n",
       "      <td>55012</td>\n",
       "      <td>14.833936</td>\n",
       "      <td>0</td>\n",
       "      <td>0</td>\n",
       "      <td>0</td>\n",
       "      <td>0</td>\n",
       "      <td>0</td>\n",
       "      <td>0</td>\n",
       "      <td>0</td>\n",
       "      <td>...</td>\n",
       "      <td>0.902461</td>\n",
       "      <td>1.164612</td>\n",
       "      <td>0</td>\n",
       "      <td>0</td>\n",
       "      <td>0</td>\n",
       "      <td>0</td>\n",
       "      <td>0</td>\n",
       "      <td>1</td>\n",
       "      <td>1</td>\n",
       "      <td>1</td>\n",
       "    </tr>\n",
       "    <tr>\n",
       "      <th>42909</th>\n",
       "      <td>22.001406</td>\n",
       "      <td>51955</td>\n",
       "      <td>17.844288</td>\n",
       "      <td>0</td>\n",
       "      <td>0</td>\n",
       "      <td>0</td>\n",
       "      <td>0</td>\n",
       "      <td>0</td>\n",
       "      <td>0</td>\n",
       "      <td>0</td>\n",
       "      <td>...</td>\n",
       "      <td>2.543620</td>\n",
       "      <td>1.439187</td>\n",
       "      <td>4</td>\n",
       "      <td>7</td>\n",
       "      <td>0</td>\n",
       "      <td>0</td>\n",
       "      <td>0</td>\n",
       "      <td>1</td>\n",
       "      <td>1</td>\n",
       "      <td>0</td>\n",
       "    </tr>\n",
       "    <tr>\n",
       "      <th>49631</th>\n",
       "      <td>14.221057</td>\n",
       "      <td>58716</td>\n",
       "      <td>14.868122</td>\n",
       "      <td>0</td>\n",
       "      <td>0</td>\n",
       "      <td>0</td>\n",
       "      <td>0</td>\n",
       "      <td>0</td>\n",
       "      <td>0</td>\n",
       "      <td>0</td>\n",
       "      <td>...</td>\n",
       "      <td>1.467625</td>\n",
       "      <td>1.271877</td>\n",
       "      <td>0</td>\n",
       "      <td>0</td>\n",
       "      <td>0</td>\n",
       "      <td>0</td>\n",
       "      <td>0</td>\n",
       "      <td>1</td>\n",
       "      <td>1</td>\n",
       "      <td>0</td>\n",
       "    </tr>\n",
       "    <tr>\n",
       "      <th>288676</th>\n",
       "      <td>21.886489</td>\n",
       "      <td>51119</td>\n",
       "      <td>17.427597</td>\n",
       "      <td>0</td>\n",
       "      <td>0</td>\n",
       "      <td>0</td>\n",
       "      <td>0</td>\n",
       "      <td>0</td>\n",
       "      <td>0</td>\n",
       "      <td>0</td>\n",
       "      <td>...</td>\n",
       "      <td>0.778914</td>\n",
       "      <td>1.144397</td>\n",
       "      <td>0</td>\n",
       "      <td>0</td>\n",
       "      <td>0</td>\n",
       "      <td>0</td>\n",
       "      <td>0</td>\n",
       "      <td>1</td>\n",
       "      <td>1</td>\n",
       "      <td>0</td>\n",
       "    </tr>\n",
       "    <tr>\n",
       "      <th>5253</th>\n",
       "      <td>16.939709</td>\n",
       "      <td>53971</td>\n",
       "      <td>15.579195</td>\n",
       "      <td>0</td>\n",
       "      <td>0</td>\n",
       "      <td>0</td>\n",
       "      <td>0</td>\n",
       "      <td>0</td>\n",
       "      <td>0</td>\n",
       "      <td>0</td>\n",
       "      <td>...</td>\n",
       "      <td>-0.056497</td>\n",
       "      <td>-0.363363</td>\n",
       "      <td>4</td>\n",
       "      <td>6</td>\n",
       "      <td>0</td>\n",
       "      <td>0</td>\n",
       "      <td>0</td>\n",
       "      <td>1</td>\n",
       "      <td>1</td>\n",
       "      <td>1</td>\n",
       "    </tr>\n",
       "    <tr>\n",
       "      <th>...</th>\n",
       "      <td>...</td>\n",
       "      <td>...</td>\n",
       "      <td>...</td>\n",
       "      <td>...</td>\n",
       "      <td>...</td>\n",
       "      <td>...</td>\n",
       "      <td>...</td>\n",
       "      <td>...</td>\n",
       "      <td>...</td>\n",
       "      <td>...</td>\n",
       "      <td>...</td>\n",
       "      <td>...</td>\n",
       "      <td>...</td>\n",
       "      <td>...</td>\n",
       "      <td>...</td>\n",
       "      <td>...</td>\n",
       "      <td>...</td>\n",
       "      <td>...</td>\n",
       "      <td>...</td>\n",
       "      <td>...</td>\n",
       "      <td>...</td>\n",
       "    </tr>\n",
       "    <tr>\n",
       "      <th>307157</th>\n",
       "      <td>14.756586</td>\n",
       "      <td>33620</td>\n",
       "      <td>14.841655</td>\n",
       "      <td>0</td>\n",
       "      <td>0</td>\n",
       "      <td>0</td>\n",
       "      <td>0</td>\n",
       "      <td>0</td>\n",
       "      <td>0</td>\n",
       "      <td>0</td>\n",
       "      <td>...</td>\n",
       "      <td>0.000000</td>\n",
       "      <td>0.000000</td>\n",
       "      <td>0</td>\n",
       "      <td>0</td>\n",
       "      <td>0</td>\n",
       "      <td>0</td>\n",
       "      <td>0</td>\n",
       "      <td>1</td>\n",
       "      <td>1</td>\n",
       "      <td>1</td>\n",
       "    </tr>\n",
       "    <tr>\n",
       "      <th>351725</th>\n",
       "      <td>17.973755</td>\n",
       "      <td>54044</td>\n",
       "      <td>15.638678</td>\n",
       "      <td>0</td>\n",
       "      <td>0</td>\n",
       "      <td>0</td>\n",
       "      <td>0</td>\n",
       "      <td>0</td>\n",
       "      <td>0</td>\n",
       "      <td>0</td>\n",
       "      <td>...</td>\n",
       "      <td>1.175048</td>\n",
       "      <td>1.805359</td>\n",
       "      <td>0</td>\n",
       "      <td>0</td>\n",
       "      <td>0</td>\n",
       "      <td>0</td>\n",
       "      <td>0</td>\n",
       "      <td>1</td>\n",
       "      <td>1</td>\n",
       "      <td>1</td>\n",
       "    </tr>\n",
       "    <tr>\n",
       "      <th>314214</th>\n",
       "      <td>22.262605</td>\n",
       "      <td>27507</td>\n",
       "      <td>18.823554</td>\n",
       "      <td>0</td>\n",
       "      <td>0</td>\n",
       "      <td>0</td>\n",
       "      <td>0</td>\n",
       "      <td>0</td>\n",
       "      <td>0</td>\n",
       "      <td>0</td>\n",
       "      <td>...</td>\n",
       "      <td>1.315405</td>\n",
       "      <td>-0.310217</td>\n",
       "      <td>6</td>\n",
       "      <td>13</td>\n",
       "      <td>7</td>\n",
       "      <td>13</td>\n",
       "      <td>0</td>\n",
       "      <td>1</td>\n",
       "      <td>1</td>\n",
       "      <td>0</td>\n",
       "    </tr>\n",
       "    <tr>\n",
       "      <th>367878</th>\n",
       "      <td>15.214161</td>\n",
       "      <td>38251</td>\n",
       "      <td>15.271567</td>\n",
       "      <td>0</td>\n",
       "      <td>0</td>\n",
       "      <td>0</td>\n",
       "      <td>0</td>\n",
       "      <td>0</td>\n",
       "      <td>0</td>\n",
       "      <td>0</td>\n",
       "      <td>...</td>\n",
       "      <td>0.990969</td>\n",
       "      <td>1.563516</td>\n",
       "      <td>0</td>\n",
       "      <td>0</td>\n",
       "      <td>0</td>\n",
       "      <td>0</td>\n",
       "      <td>0</td>\n",
       "      <td>1</td>\n",
       "      <td>1</td>\n",
       "      <td>1</td>\n",
       "    </tr>\n",
       "    <tr>\n",
       "      <th>227680</th>\n",
       "      <td>21.996913</td>\n",
       "      <td>42381</td>\n",
       "      <td>17.973930</td>\n",
       "      <td>0</td>\n",
       "      <td>0</td>\n",
       "      <td>0</td>\n",
       "      <td>0</td>\n",
       "      <td>0</td>\n",
       "      <td>0</td>\n",
       "      <td>0</td>\n",
       "      <td>...</td>\n",
       "      <td>1.126022</td>\n",
       "      <td>0.818383</td>\n",
       "      <td>5</td>\n",
       "      <td>9</td>\n",
       "      <td>0</td>\n",
       "      <td>0</td>\n",
       "      <td>0</td>\n",
       "      <td>1</td>\n",
       "      <td>1</td>\n",
       "      <td>0</td>\n",
       "    </tr>\n",
       "  </tbody>\n",
       "</table>\n",
       "<p>1438956 rows × 747 columns</p>\n",
       "</div>"
      ],
      "text/plain": [
       "        CA이자율_할인전  CA한도금액  CL이자율_할인전  IB문의건수_BL_R6M  IB문의건수_CA_R6M  \\\n",
       "301160  14.611353   55012  14.833936              0              0   \n",
       "42909   22.001406   51955  17.844288              0              0   \n",
       "49631   14.221057   58716  14.868122              0              0   \n",
       "288676  21.886489   51119  17.427597              0              0   \n",
       "5253    16.939709   53971  15.579195              0              0   \n",
       "...           ...     ...        ...            ...            ...   \n",
       "307157  14.756586   33620  14.841655              0              0   \n",
       "351725  17.973755   54044  15.638678              0              0   \n",
       "314214  22.262605   27507  18.823554              0              0   \n",
       "367878  15.214161   38251  15.271567              0              0   \n",
       "227680  21.996913   42381  17.973930              0              0   \n",
       "\n",
       "        IB문의건수_CL_RV_B0M  IB문의건수_CL_RV_R6M  IB문의건수_CS_B0M  IB문의건수_CS_R6M  \\\n",
       "301160                 0                 0              0              0   \n",
       "42909                  0                 0              0              0   \n",
       "49631                  0                 0              0              0   \n",
       "288676                 0                 0              0              0   \n",
       "5253                   0                 0              0              0   \n",
       "...                  ...               ...            ...            ...   \n",
       "307157                 0                 0              0              0   \n",
       "351725                 0                 0              0              0   \n",
       "314214                 0                 0              0              0   \n",
       "367878                 0                 0              0              0   \n",
       "227680                 0                 0              0              0   \n",
       "\n",
       "        IB문의건수_SMS_R6M  ...  혜택수혜율_B0M  혜택수혜율_R3M  홈페이지_금융건수_R3M  \\\n",
       "301160               0  ...   0.902461   1.164612              0   \n",
       "42909                0  ...   2.543620   1.439187              4   \n",
       "49631                0  ...   1.467625   1.271877              0   \n",
       "288676               0  ...   0.778914   1.144397              0   \n",
       "5253                 0  ...  -0.056497  -0.363363              4   \n",
       "...                ...  ...        ...        ...            ...   \n",
       "307157               0  ...   0.000000   0.000000              0   \n",
       "351725               0  ...   1.175048   1.805359              0   \n",
       "314214               0  ...   1.315405  -0.310217              6   \n",
       "367878               0  ...   0.990969   1.563516              0   \n",
       "227680               0  ...   1.126022   0.818383              5   \n",
       "\n",
       "        홈페이지_금융건수_R6M  홈페이지_선결제건수_R3M  홈페이지_선결제건수_R6M  회원여부_연체  회원여부_이용가능  \\\n",
       "301160              0               0               0        0          1   \n",
       "42909               7               0               0        0          1   \n",
       "49631               0               0               0        0          1   \n",
       "288676              0               0               0        0          1   \n",
       "5253                6               0               0        0          1   \n",
       "...               ...             ...             ...      ...        ...   \n",
       "307157              0               0               0        0          1   \n",
       "351725              0               0               0        0          1   \n",
       "314214             13               7              13        0          1   \n",
       "367878              0               0               0        0          1   \n",
       "227680              9               0               0        0          1   \n",
       "\n",
       "        회원여부_이용가능_CA  회원여부_이용가능_카드론  \n",
       "301160             1              1  \n",
       "42909              1              0  \n",
       "49631              1              0  \n",
       "288676             1              0  \n",
       "5253               1              1  \n",
       "...              ...            ...  \n",
       "307157             1              1  \n",
       "351725             1              1  \n",
       "314214             1              0  \n",
       "367878             1              1  \n",
       "227680             1              0  \n",
       "\n",
       "[1438956 rows x 747 columns]"
      ]
     },
     "execution_count": 4,
     "metadata": {},
     "output_type": "execute_result"
    }
   ],
   "source": [
    "\n",
    "led=[]\n",
    "for i in data.columns:\n",
    "    if len(data[i].unique())==1:\n",
    "        led.append(i)\n",
    "led=sorted(list(set(data.columns)-set(led)))\n",
    "x=data[led]\n",
    "x"
   ]
  },
  {
   "cell_type": "markdown",
   "id": "b4272ab7",
   "metadata": {},
   "source": [
    "## x,y 분리 , &(오브젝트열 추출)"
   ]
  },
  {
   "cell_type": "code",
   "execution_count": 5,
   "id": "461e8832",
   "metadata": {
    "scrolled": true
   },
   "outputs": [
    {
     "name": "stderr",
     "output_type": "stream",
     "text": [
      "C:\\Users\\607-14\\anaconda3\\lib\\site-packages\\pandas\\core\\frame.py:4906: SettingWithCopyWarning: \n",
      "A value is trying to be set on a copy of a slice from a DataFrame\n",
      "\n",
      "See the caveats in the documentation: https://pandas.pydata.org/pandas-docs/stable/user_guide/indexing.html#returning-a-view-versus-a-copy\n",
      "  return super().drop(\n"
     ]
    },
    {
     "data": {
      "text/plain": [
       "{'Life_Stage': array(['자녀성장(1)', '자녀성장(2)', '노년생활', '자녀독립기', '자녀출산기', '독신', '가족구축기'],\n",
       "       dtype=object),\n",
       " 'OS구분코드': array(['Android', None, 'IOS'], dtype=object),\n",
       " 'RV전환가능여부': array(['Z', 'N', None], dtype=object),\n",
       " '_1순위교통업종': array(['주유', None, '철도버스', '택시', '버스지하철', '정비'], dtype=object),\n",
       " '_1순위납부업종': array(['납부기타', '통신비', '보험료', None, '관리비', '가스/전기료'], dtype=object),\n",
       " '_1순위쇼핑업종': array(['온라인', '도소매', None, '마트', '쇼핑기타', '아울렛', '편의점', '슈퍼마켓', '백화점'],\n",
       "       dtype=object),\n",
       " '_1순위신용체크구분': array(['신용', '체크', None], dtype=object),\n",
       " '_1순위업종': array(['쇼핑', '교육', '사교활동', '납부', '교통', '의료', None, '해외', '여유생활', '일상생활',\n",
       "        '요식'], dtype=object),\n",
       " '_1순위여유업종': array(['항공', None, 'Pet', '운동', '공연', '숙박', '여유기타', '공원'], dtype=object),\n",
       " '_2순위교통업종': array(['정비', None, '버스지하철', '택시', '철도버스', '주유', '통행료'], dtype=object),\n",
       " '_2순위납부업종': array([None, '납부기타', '보험료', '통신비', '가스/전기료', '관리비'], dtype=object),\n",
       " '_2순위쇼핑업종': array(['도소매', '온라인', '슈퍼마켓', '마트', None, '편의점', '백화점', '쇼핑기타', '아울렛'],\n",
       "       dtype=object),\n",
       " '_2순위신용체크구분': array(['신용', None, '체크'], dtype=object),\n",
       " '_2순위업종': array(['사교활동', '쇼핑', '해외', '의료', '납부', None, '교육', '교통', '일상생활', '여유생활',\n",
       "        '요식'], dtype=object),\n",
       " '_2순위여유업종': array(['운동', None, '여유기타', '숙박', 'Pet', '공연', '공원', '항공'], dtype=object),\n",
       " '_3순위교통업종': array(['버스지하철', None, '택시', '철도버스', '정비', '통행료'], dtype=object),\n",
       " '_3순위납부업종': array([None, '납부기타', '가스/전기료', '보험료', '통신비'], dtype=object),\n",
       " '_3순위쇼핑업종': array(['마트', '백화점', '편의점', None, '슈퍼마켓', '아울렛', '쇼핑기타', '온라인', '도소매'],\n",
       "       dtype=object),\n",
       " '_3순위업종': array(['의료', '사교활동', '교육', '교통', None, '해외', '납부', '쇼핑', '여유생활', '요식',\n",
       "        '일상생활'], dtype=object),\n",
       " '_3순위여유업종': array(['숙박', None, '공연', 'Pet', '여유기타', '공원', '운동'], dtype=object),\n",
       " 'month': array(['7', '8', '9', '10', '11', '12'], dtype=object),\n",
       " '가입통신회사코드': array(['S사', None, 'K사', 'L사'], dtype=object),\n",
       " '거주시도명': array(['서울', '경기', '부산', '대전', '충남', '인천', '울산', '경북', '충북', '경남', '대구',\n",
       "        '강원', '광주', '전남', '전북', '제주', '세종'], dtype=object),\n",
       " '대표청구서수령지구분코드': array(['우편', '이메일', '당사페이앱+이메일', '미수신', 'K톡명세서+이메일', '문자메세지', '당사멤버십+이메일'],\n",
       "       dtype=object),\n",
       " '대표청구지고객주소구분코드': array(['주거지', '회사', '미확인'], dtype=object),\n",
       " '방문일수_PC_R6M': array(['1회 이상', '20회 이상', '10회 이상', '30회 이상'], dtype=object),\n",
       " '방문횟수_PC_R6M': array(['1회 이상', '20회 이상', '10회 이상', '30회 이상', '40회 이상'], dtype=object),\n",
       " '방문횟수_앱_R6M': array(['1회 이상', '70회 이상', '50회 이상', '10회 이상', '40회 이상', '60회 이상',\n",
       "        '20회 이상', '30회 이상', '80회 이상'], dtype=object),\n",
       " '연령': array(['40대', '50대', '30대', '70대이상', '60대', '20대'], dtype=object),\n",
       " '연회비발생카드수_B0M': array(['0개', '1개이상'], dtype=object),\n",
       " '이용금액대': array(['01.100만원+', '02.50만원+', '05.10만원-', '09.미사용', '04.10만원+',\n",
       "        '03.30만원+'], dtype=object),\n",
       " '이용메뉴건수_ARS_R6M': array(['1회 이상', '10회 이상', '30회 이상', '20회 이상'], dtype=object),\n",
       " '인입횟수_ARS_R6M': array(['1회 이상', '10회 이상'], dtype=object),\n",
       " '자발한도감액횟수_R12M': array(['0회', '1회', '2회'], dtype=object),\n",
       " '직장시도명': array(['대전', '경기', '서울', '부산', '전북', '충남', '인천', None, '경북', '충북', '경남',\n",
       "        '울산', '강원', '광주', '전남', '대구', '세종', '제주'], dtype=object),\n",
       " '청구서수령방법': array(['우편', '이메일', '문자메세지', '미수령', 'K톡', '당사멤버십'], dtype=object),\n",
       " '최종카드론_신청경로코드': array([None, '2', '7', '1', '8', 'D'], dtype=object),\n",
       " '카드론동의여부': array(['Y', 'N'], dtype=object),\n",
       " '캠페인접촉건수_R12M': array(['5회 이상', '1회 이상', '10회 이상', '15회 이상', '20회 이상', '25회 이상'],\n",
       "       dtype=object),\n",
       " '캠페인접촉일수_R12M': array(['5일 이상', '1일 이상', '10일 이상', '15일 이상', '20일 이상'], dtype=object),\n",
       " '한도심사요청건수': array(['0회', '1회이상'], dtype=object),\n",
       " '한도증액횟수_R12M': array(['1회이상', '0회'], dtype=object),\n",
       " '할인건수_B0M': array(['1회 이상', '10회 이상'], dtype=object),\n",
       " '할인건수_R3M': array(['1회 이상', '10회 이상', '20회 이상', '30회 이상', '40회 이상'], dtype=object)}"
      ]
     },
     "execution_count": 5,
     "metadata": {},
     "output_type": "execute_result"
    }
   ],
   "source": [
    "hh=dict(zip(list(\"ABCDE\"),[0,1,2,3,4]))\n",
    "y=x[\"Segment\"].apply(lambda x: hh[x])\n",
    "x.drop([\"ID\",\"Segment\"],axis=1,inplace=True)\n",
    "\n",
    "\n",
    "led2_value={}\n",
    "for i in x.columns:\n",
    "    if x[i].dtype=='O':\n",
    "        led2_value[i]=x[i].unique()\n",
    "led2_value"
   ]
  },
  {
   "cell_type": "markdown",
   "id": "4b655a7f",
   "metadata": {},
   "source": [
    "## 오브젝트 값마다 열 생성"
   ]
  },
  {
   "cell_type": "code",
   "execution_count": 6,
   "id": "63ebe039",
   "metadata": {},
   "outputs": [
    {
     "name": "stderr",
     "output_type": "stream",
     "text": [
      "C:\\Users\\607-14\\AppData\\Local\\Temp/ipykernel_8784/1755802907.py:4: SettingWithCopyWarning: \n",
      "A value is trying to be set on a copy of a slice from a DataFrame.\n",
      "Try using .loc[row_indexer,col_indexer] = value instead\n",
      "\n",
      "See the caveats in the documentation: https://pandas.pydata.org/pandas-docs/stable/user_guide/indexing.html#returning-a-view-versus-a-copy\n",
      "  x[f\"{i}_{j}\"]=(x[i]==j)\n"
     ]
    },
    {
     "name": "stdout",
     "output_type": "stream",
     "text": [
      "Life_Stage 자녀성장(1)\n",
      "Life_Stage 자녀성장(2)\n",
      "Life_Stage 노년생활\n",
      "Life_Stage 자녀독립기\n",
      "Life_Stage 자녀출산기\n",
      "Life_Stage 독신\n",
      "Life_Stage 가족구축기\n",
      "OS구분코드 Android\n",
      "OS구분코드 None\n",
      "OS구분코드 IOS\n",
      "RV전환가능여부 Z\n",
      "RV전환가능여부 N\n",
      "RV전환가능여부 None\n",
      "_1순위교통업종 주유\n",
      "_1순위교통업종 None\n",
      "_1순위교통업종 철도버스\n",
      "_1순위교통업종 택시\n",
      "_1순위교통업종 버스지하철\n",
      "_1순위교통업종 정비\n",
      "_1순위납부업종 납부기타\n",
      "_1순위납부업종 통신비\n",
      "_1순위납부업종 보험료\n",
      "_1순위납부업종 None\n",
      "_1순위납부업종 관리비\n",
      "_1순위납부업종 가스/전기료\n",
      "_1순위쇼핑업종 온라인\n",
      "_1순위쇼핑업종 도소매\n",
      "_1순위쇼핑업종 None\n",
      "_1순위쇼핑업종 마트\n",
      "_1순위쇼핑업종 쇼핑기타\n",
      "_1순위쇼핑업종 아울렛\n",
      "_1순위쇼핑업종 편의점\n",
      "_1순위쇼핑업종 슈퍼마켓\n",
      "_1순위쇼핑업종 백화점\n",
      "_1순위신용체크구분 신용\n",
      "_1순위신용체크구분 체크\n",
      "_1순위신용체크구분 None\n",
      "_1순위업종 쇼핑\n",
      "_1순위업종 교육\n",
      "_1순위업종 사교활동\n",
      "_1순위업종 납부\n",
      "_1순위업종 교통\n",
      "_1순위업종 의료\n",
      "_1순위업종 None\n",
      "_1순위업종 해외\n",
      "_1순위업종 여유생활\n",
      "_1순위업종 일상생활\n",
      "_1순위업종 요식\n",
      "_1순위여유업종 항공\n",
      "_1순위여유업종 None\n",
      "_1순위여유업종 Pet\n",
      "_1순위여유업종 운동\n",
      "_1순위여유업종 공연\n",
      "_1순위여유업종 숙박\n",
      "_1순위여유업종 여유기타\n",
      "_1순위여유업종 공원\n",
      "_2순위교통업종 정비\n",
      "_2순위교통업종 None\n",
      "_2순위교통업종 버스지하철\n",
      "_2순위교통업종 택시\n",
      "_2순위교통업종 철도버스\n",
      "_2순위교통업종 주유\n",
      "_2순위교통업종 통행료\n",
      "_2순위납부업종 None\n",
      "_2순위납부업종 납부기타\n",
      "_2순위납부업종 보험료\n",
      "_2순위납부업종 통신비\n",
      "_2순위납부업종 가스/전기료\n",
      "_2순위납부업종 관리비\n",
      "_2순위쇼핑업종 도소매\n",
      "_2순위쇼핑업종 온라인\n",
      "_2순위쇼핑업종 슈퍼마켓\n",
      "_2순위쇼핑업종 마트\n",
      "_2순위쇼핑업종 None\n",
      "_2순위쇼핑업종 편의점\n",
      "_2순위쇼핑업종 백화점\n",
      "_2순위쇼핑업종 쇼핑기타\n",
      "_2순위쇼핑업종 아울렛\n",
      "_2순위신용체크구분 신용\n",
      "_2순위신용체크구분 None\n",
      "_2순위신용체크구분 체크\n",
      "_2순위업종 사교활동\n",
      "_2순위업종 쇼핑\n",
      "_2순위업종 해외\n",
      "_2순위업종 의료\n",
      "_2순위업종 납부\n",
      "_2순위업종 None\n",
      "_2순위업종 교육\n",
      "_2순위업종 교통\n",
      "_2순위업종 일상생활\n",
      "_2순위업종 여유생활\n",
      "_2순위업종 요식\n",
      "_2순위여유업종 운동\n",
      "_2순위여유업종 None\n",
      "_2순위여유업종 여유기타\n",
      "_2순위여유업종 숙박\n",
      "_2순위여유업종 Pet\n",
      "_2순위여유업종 공연\n",
      "_2순위여유업종 공원\n",
      "_2순위여유업종 항공\n",
      "_3순위교통업종 버스지하철\n",
      "_3순위교통업종 None\n",
      "_3순위교통업종 택시\n",
      "_3순위교통업종 철도버스\n"
     ]
    },
    {
     "name": "stderr",
     "output_type": "stream",
     "text": [
      "C:\\Users\\607-14\\AppData\\Local\\Temp/ipykernel_8784/1755802907.py:4: PerformanceWarning: DataFrame is highly fragmented.  This is usually the result of calling `frame.insert` many times, which has poor performance.  Consider joining all columns at once using pd.concat(axis=1) instead.  To get a de-fragmented frame, use `newframe = frame.copy()`\n",
      "  x[f\"{i}_{j}\"]=(x[i]==j)\n"
     ]
    },
    {
     "name": "stdout",
     "output_type": "stream",
     "text": [
      "_3순위교통업종 정비\n",
      "_3순위교통업종 통행료\n",
      "_3순위납부업종 None\n",
      "_3순위납부업종 납부기타\n",
      "_3순위납부업종 가스/전기료\n",
      "_3순위납부업종 보험료\n",
      "_3순위납부업종 통신비\n",
      "_3순위쇼핑업종 마트\n",
      "_3순위쇼핑업종 백화점\n",
      "_3순위쇼핑업종 편의점\n",
      "_3순위쇼핑업종 None\n",
      "_3순위쇼핑업종 슈퍼마켓\n",
      "_3순위쇼핑업종 아울렛\n",
      "_3순위쇼핑업종 쇼핑기타\n",
      "_3순위쇼핑업종 온라인\n",
      "_3순위쇼핑업종 도소매\n",
      "_3순위업종 의료\n",
      "_3순위업종 사교활동\n",
      "_3순위업종 교육\n",
      "_3순위업종 교통\n",
      "_3순위업종 None\n",
      "_3순위업종 해외\n",
      "_3순위업종 납부\n",
      "_3순위업종 쇼핑\n",
      "_3순위업종 여유생활\n",
      "_3순위업종 요식\n",
      "_3순위업종 일상생활\n",
      "_3순위여유업종 숙박\n",
      "_3순위여유업종 None\n",
      "_3순위여유업종 공연\n",
      "_3순위여유업종 Pet\n",
      "_3순위여유업종 여유기타\n",
      "_3순위여유업종 공원\n",
      "_3순위여유업종 운동\n",
      "month 7\n",
      "month 8\n",
      "month 9\n",
      "month 10\n",
      "month 11\n",
      "month 12\n",
      "가입통신회사코드 S사\n",
      "가입통신회사코드 None\n",
      "가입통신회사코드 K사\n",
      "가입통신회사코드 L사\n",
      "거주시도명 서울\n",
      "거주시도명 경기\n",
      "거주시도명 부산\n",
      "거주시도명 대전\n",
      "거주시도명 충남\n",
      "거주시도명 인천\n",
      "거주시도명 울산\n",
      "거주시도명 경북\n",
      "거주시도명 충북\n",
      "거주시도명 경남\n",
      "거주시도명 대구\n",
      "거주시도명 강원\n",
      "거주시도명 광주\n",
      "거주시도명 전남\n",
      "거주시도명 전북\n",
      "거주시도명 제주\n",
      "거주시도명 세종\n",
      "대표청구서수령지구분코드 우편\n",
      "대표청구서수령지구분코드 이메일\n",
      "대표청구서수령지구분코드 당사페이앱+이메일\n",
      "대표청구서수령지구분코드 미수신\n",
      "대표청구서수령지구분코드 K톡명세서+이메일\n",
      "대표청구서수령지구분코드 문자메세지\n",
      "대표청구서수령지구분코드 당사멤버십+이메일\n",
      "대표청구지고객주소구분코드 주거지\n",
      "대표청구지고객주소구분코드 회사\n",
      "대표청구지고객주소구분코드 미확인\n",
      "방문일수_PC_R6M 1회 이상\n",
      "방문일수_PC_R6M 20회 이상\n",
      "방문일수_PC_R6M 10회 이상\n",
      "방문일수_PC_R6M 30회 이상\n",
      "방문횟수_PC_R6M 1회 이상\n",
      "방문횟수_PC_R6M 20회 이상\n",
      "방문횟수_PC_R6M 10회 이상\n",
      "방문횟수_PC_R6M 30회 이상\n",
      "방문횟수_PC_R6M 40회 이상\n",
      "방문횟수_앱_R6M 1회 이상\n",
      "방문횟수_앱_R6M 70회 이상\n",
      "방문횟수_앱_R6M 50회 이상\n",
      "방문횟수_앱_R6M 10회 이상\n",
      "방문횟수_앱_R6M 40회 이상\n",
      "방문횟수_앱_R6M 60회 이상\n",
      "방문횟수_앱_R6M 20회 이상\n",
      "방문횟수_앱_R6M 30회 이상\n",
      "방문횟수_앱_R6M 80회 이상\n",
      "연령 40대\n",
      "연령 50대\n",
      "연령 30대\n",
      "연령 70대이상\n",
      "연령 60대\n",
      "연령 20대\n",
      "연회비발생카드수_B0M 0개\n",
      "연회비발생카드수_B0M 1개이상\n",
      "이용금액대 01.100만원+\n",
      "이용금액대 02.50만원+\n",
      "이용금액대 05.10만원-\n",
      "이용금액대 09.미사용\n",
      "이용금액대 04.10만원+\n",
      "이용금액대 03.30만원+\n",
      "이용메뉴건수_ARS_R6M 1회 이상\n",
      "이용메뉴건수_ARS_R6M 10회 이상\n",
      "이용메뉴건수_ARS_R6M 30회 이상\n",
      "이용메뉴건수_ARS_R6M 20회 이상\n",
      "인입횟수_ARS_R6M 1회 이상\n",
      "인입횟수_ARS_R6M 10회 이상\n",
      "자발한도감액횟수_R12M 0회\n",
      "자발한도감액횟수_R12M 1회\n",
      "자발한도감액횟수_R12M 2회\n",
      "직장시도명 대전\n",
      "직장시도명 경기\n",
      "직장시도명 서울\n",
      "직장시도명 부산\n",
      "직장시도명 전북\n",
      "직장시도명 충남\n",
      "직장시도명 인천\n",
      "직장시도명 None\n",
      "직장시도명 경북\n",
      "직장시도명 충북\n",
      "직장시도명 경남\n",
      "직장시도명 울산\n",
      "직장시도명 강원\n",
      "직장시도명 광주\n",
      "직장시도명 전남\n",
      "직장시도명 대구\n",
      "직장시도명 세종\n",
      "직장시도명 제주\n",
      "청구서수령방법 우편\n",
      "청구서수령방법 이메일\n",
      "청구서수령방법 문자메세지\n",
      "청구서수령방법 미수령\n",
      "청구서수령방법 K톡\n",
      "청구서수령방법 당사멤버십\n",
      "최종카드론_신청경로코드 None\n",
      "최종카드론_신청경로코드 2\n",
      "최종카드론_신청경로코드 7\n",
      "최종카드론_신청경로코드 1\n",
      "최종카드론_신청경로코드 8\n",
      "최종카드론_신청경로코드 D\n",
      "카드론동의여부 Y\n",
      "카드론동의여부 N\n",
      "캠페인접촉건수_R12M 5회 이상\n",
      "캠페인접촉건수_R12M 1회 이상\n",
      "캠페인접촉건수_R12M 10회 이상\n",
      "캠페인접촉건수_R12M 15회 이상\n",
      "캠페인접촉건수_R12M 20회 이상\n",
      "캠페인접촉건수_R12M 25회 이상\n",
      "캠페인접촉일수_R12M 5일 이상\n",
      "캠페인접촉일수_R12M 1일 이상\n",
      "캠페인접촉일수_R12M 10일 이상\n",
      "캠페인접촉일수_R12M 15일 이상\n",
      "캠페인접촉일수_R12M 20일 이상\n",
      "한도심사요청건수 0회\n",
      "한도심사요청건수 1회이상\n",
      "한도증액횟수_R12M 1회이상\n",
      "한도증액횟수_R12M 0회\n",
      "할인건수_B0M 1회 이상\n",
      "할인건수_B0M 10회 이상\n",
      "할인건수_R3M 1회 이상\n",
      "할인건수_R3M 10회 이상\n",
      "할인건수_R3M 20회 이상\n",
      "할인건수_R3M 30회 이상\n",
      "할인건수_R3M 40회 이상\n",
      "22\n"
     ]
    },
    {
     "data": {
      "text/html": [
       "<div>\n",
       "<style scoped>\n",
       "    .dataframe tbody tr th:only-of-type {\n",
       "        vertical-align: middle;\n",
       "    }\n",
       "\n",
       "    .dataframe tbody tr th {\n",
       "        vertical-align: top;\n",
       "    }\n",
       "\n",
       "    .dataframe thead th {\n",
       "        text-align: right;\n",
       "    }\n",
       "</style>\n",
       "<table border=\"1\" class=\"dataframe\">\n",
       "  <thead>\n",
       "    <tr style=\"text-align: right;\">\n",
       "      <th></th>\n",
       "      <th>CA이자율_할인전</th>\n",
       "      <th>CA한도금액</th>\n",
       "      <th>CL이자율_할인전</th>\n",
       "      <th>IB문의건수_BL_R6M</th>\n",
       "      <th>IB문의건수_CA_R6M</th>\n",
       "      <th>IB문의건수_CL_RV_B0M</th>\n",
       "      <th>IB문의건수_CL_RV_R6M</th>\n",
       "      <th>IB문의건수_CS_B0M</th>\n",
       "      <th>IB문의건수_CS_R6M</th>\n",
       "      <th>IB문의건수_SMS_R6M</th>\n",
       "      <th>...</th>\n",
       "      <th>한도심사요청건수_1회이상</th>\n",
       "      <th>한도증액횟수_R12M_1회이상</th>\n",
       "      <th>한도증액횟수_R12M_0회</th>\n",
       "      <th>할인건수_B0M_1회 이상</th>\n",
       "      <th>할인건수_B0M_10회 이상</th>\n",
       "      <th>할인건수_R3M_1회 이상</th>\n",
       "      <th>할인건수_R3M_10회 이상</th>\n",
       "      <th>할인건수_R3M_20회 이상</th>\n",
       "      <th>할인건수_R3M_30회 이상</th>\n",
       "      <th>할인건수_R3M_40회 이상</th>\n",
       "    </tr>\n",
       "  </thead>\n",
       "  <tbody>\n",
       "    <tr>\n",
       "      <th>301160</th>\n",
       "      <td>14.611353</td>\n",
       "      <td>55012</td>\n",
       "      <td>14.833936</td>\n",
       "      <td>0</td>\n",
       "      <td>0</td>\n",
       "      <td>0</td>\n",
       "      <td>0</td>\n",
       "      <td>0</td>\n",
       "      <td>0</td>\n",
       "      <td>0</td>\n",
       "      <td>...</td>\n",
       "      <td>False</td>\n",
       "      <td>True</td>\n",
       "      <td>False</td>\n",
       "      <td>True</td>\n",
       "      <td>False</td>\n",
       "      <td>True</td>\n",
       "      <td>False</td>\n",
       "      <td>False</td>\n",
       "      <td>False</td>\n",
       "      <td>False</td>\n",
       "    </tr>\n",
       "    <tr>\n",
       "      <th>42909</th>\n",
       "      <td>22.001406</td>\n",
       "      <td>51955</td>\n",
       "      <td>17.844288</td>\n",
       "      <td>0</td>\n",
       "      <td>0</td>\n",
       "      <td>0</td>\n",
       "      <td>0</td>\n",
       "      <td>0</td>\n",
       "      <td>0</td>\n",
       "      <td>0</td>\n",
       "      <td>...</td>\n",
       "      <td>False</td>\n",
       "      <td>False</td>\n",
       "      <td>True</td>\n",
       "      <td>True</td>\n",
       "      <td>False</td>\n",
       "      <td>True</td>\n",
       "      <td>False</td>\n",
       "      <td>False</td>\n",
       "      <td>False</td>\n",
       "      <td>False</td>\n",
       "    </tr>\n",
       "    <tr>\n",
       "      <th>49631</th>\n",
       "      <td>14.221057</td>\n",
       "      <td>58716</td>\n",
       "      <td>14.868122</td>\n",
       "      <td>0</td>\n",
       "      <td>0</td>\n",
       "      <td>0</td>\n",
       "      <td>0</td>\n",
       "      <td>0</td>\n",
       "      <td>0</td>\n",
       "      <td>0</td>\n",
       "      <td>...</td>\n",
       "      <td>False</td>\n",
       "      <td>False</td>\n",
       "      <td>True</td>\n",
       "      <td>True</td>\n",
       "      <td>False</td>\n",
       "      <td>True</td>\n",
       "      <td>False</td>\n",
       "      <td>False</td>\n",
       "      <td>False</td>\n",
       "      <td>False</td>\n",
       "    </tr>\n",
       "    <tr>\n",
       "      <th>288676</th>\n",
       "      <td>21.886489</td>\n",
       "      <td>51119</td>\n",
       "      <td>17.427597</td>\n",
       "      <td>0</td>\n",
       "      <td>0</td>\n",
       "      <td>0</td>\n",
       "      <td>0</td>\n",
       "      <td>0</td>\n",
       "      <td>0</td>\n",
       "      <td>0</td>\n",
       "      <td>...</td>\n",
       "      <td>False</td>\n",
       "      <td>False</td>\n",
       "      <td>True</td>\n",
       "      <td>True</td>\n",
       "      <td>False</td>\n",
       "      <td>True</td>\n",
       "      <td>False</td>\n",
       "      <td>False</td>\n",
       "      <td>False</td>\n",
       "      <td>False</td>\n",
       "    </tr>\n",
       "    <tr>\n",
       "      <th>5253</th>\n",
       "      <td>16.939709</td>\n",
       "      <td>53971</td>\n",
       "      <td>15.579195</td>\n",
       "      <td>0</td>\n",
       "      <td>0</td>\n",
       "      <td>0</td>\n",
       "      <td>0</td>\n",
       "      <td>0</td>\n",
       "      <td>0</td>\n",
       "      <td>0</td>\n",
       "      <td>...</td>\n",
       "      <td>False</td>\n",
       "      <td>False</td>\n",
       "      <td>True</td>\n",
       "      <td>True</td>\n",
       "      <td>False</td>\n",
       "      <td>True</td>\n",
       "      <td>False</td>\n",
       "      <td>False</td>\n",
       "      <td>False</td>\n",
       "      <td>False</td>\n",
       "    </tr>\n",
       "    <tr>\n",
       "      <th>...</th>\n",
       "      <td>...</td>\n",
       "      <td>...</td>\n",
       "      <td>...</td>\n",
       "      <td>...</td>\n",
       "      <td>...</td>\n",
       "      <td>...</td>\n",
       "      <td>...</td>\n",
       "      <td>...</td>\n",
       "      <td>...</td>\n",
       "      <td>...</td>\n",
       "      <td>...</td>\n",
       "      <td>...</td>\n",
       "      <td>...</td>\n",
       "      <td>...</td>\n",
       "      <td>...</td>\n",
       "      <td>...</td>\n",
       "      <td>...</td>\n",
       "      <td>...</td>\n",
       "      <td>...</td>\n",
       "      <td>...</td>\n",
       "      <td>...</td>\n",
       "    </tr>\n",
       "    <tr>\n",
       "      <th>307157</th>\n",
       "      <td>14.756586</td>\n",
       "      <td>33620</td>\n",
       "      <td>14.841655</td>\n",
       "      <td>0</td>\n",
       "      <td>0</td>\n",
       "      <td>0</td>\n",
       "      <td>0</td>\n",
       "      <td>0</td>\n",
       "      <td>0</td>\n",
       "      <td>0</td>\n",
       "      <td>...</td>\n",
       "      <td>False</td>\n",
       "      <td>False</td>\n",
       "      <td>True</td>\n",
       "      <td>True</td>\n",
       "      <td>False</td>\n",
       "      <td>True</td>\n",
       "      <td>False</td>\n",
       "      <td>False</td>\n",
       "      <td>False</td>\n",
       "      <td>False</td>\n",
       "    </tr>\n",
       "    <tr>\n",
       "      <th>351725</th>\n",
       "      <td>17.973755</td>\n",
       "      <td>54044</td>\n",
       "      <td>15.638678</td>\n",
       "      <td>0</td>\n",
       "      <td>0</td>\n",
       "      <td>0</td>\n",
       "      <td>0</td>\n",
       "      <td>0</td>\n",
       "      <td>0</td>\n",
       "      <td>0</td>\n",
       "      <td>...</td>\n",
       "      <td>False</td>\n",
       "      <td>False</td>\n",
       "      <td>True</td>\n",
       "      <td>True</td>\n",
       "      <td>False</td>\n",
       "      <td>True</td>\n",
       "      <td>False</td>\n",
       "      <td>False</td>\n",
       "      <td>False</td>\n",
       "      <td>False</td>\n",
       "    </tr>\n",
       "    <tr>\n",
       "      <th>314214</th>\n",
       "      <td>22.262605</td>\n",
       "      <td>27507</td>\n",
       "      <td>18.823554</td>\n",
       "      <td>0</td>\n",
       "      <td>0</td>\n",
       "      <td>0</td>\n",
       "      <td>0</td>\n",
       "      <td>0</td>\n",
       "      <td>0</td>\n",
       "      <td>0</td>\n",
       "      <td>...</td>\n",
       "      <td>False</td>\n",
       "      <td>False</td>\n",
       "      <td>True</td>\n",
       "      <td>True</td>\n",
       "      <td>False</td>\n",
       "      <td>True</td>\n",
       "      <td>False</td>\n",
       "      <td>False</td>\n",
       "      <td>False</td>\n",
       "      <td>False</td>\n",
       "    </tr>\n",
       "    <tr>\n",
       "      <th>367878</th>\n",
       "      <td>15.214161</td>\n",
       "      <td>38251</td>\n",
       "      <td>15.271567</td>\n",
       "      <td>0</td>\n",
       "      <td>0</td>\n",
       "      <td>0</td>\n",
       "      <td>0</td>\n",
       "      <td>0</td>\n",
       "      <td>0</td>\n",
       "      <td>0</td>\n",
       "      <td>...</td>\n",
       "      <td>False</td>\n",
       "      <td>False</td>\n",
       "      <td>True</td>\n",
       "      <td>True</td>\n",
       "      <td>False</td>\n",
       "      <td>False</td>\n",
       "      <td>False</td>\n",
       "      <td>True</td>\n",
       "      <td>False</td>\n",
       "      <td>False</td>\n",
       "    </tr>\n",
       "    <tr>\n",
       "      <th>227680</th>\n",
       "      <td>21.996913</td>\n",
       "      <td>42381</td>\n",
       "      <td>17.973930</td>\n",
       "      <td>0</td>\n",
       "      <td>0</td>\n",
       "      <td>0</td>\n",
       "      <td>0</td>\n",
       "      <td>0</td>\n",
       "      <td>0</td>\n",
       "      <td>0</td>\n",
       "      <td>...</td>\n",
       "      <td>False</td>\n",
       "      <td>False</td>\n",
       "      <td>True</td>\n",
       "      <td>True</td>\n",
       "      <td>False</td>\n",
       "      <td>True</td>\n",
       "      <td>False</td>\n",
       "      <td>False</td>\n",
       "      <td>False</td>\n",
       "      <td>False</td>\n",
       "    </tr>\n",
       "  </tbody>\n",
       "</table>\n",
       "<p>1438956 rows × 1015 columns</p>\n",
       "</div>"
      ],
      "text/plain": [
       "        CA이자율_할인전  CA한도금액  CL이자율_할인전  IB문의건수_BL_R6M  IB문의건수_CA_R6M  \\\n",
       "301160  14.611353   55012  14.833936              0              0   \n",
       "42909   22.001406   51955  17.844288              0              0   \n",
       "49631   14.221057   58716  14.868122              0              0   \n",
       "288676  21.886489   51119  17.427597              0              0   \n",
       "5253    16.939709   53971  15.579195              0              0   \n",
       "...           ...     ...        ...            ...            ...   \n",
       "307157  14.756586   33620  14.841655              0              0   \n",
       "351725  17.973755   54044  15.638678              0              0   \n",
       "314214  22.262605   27507  18.823554              0              0   \n",
       "367878  15.214161   38251  15.271567              0              0   \n",
       "227680  21.996913   42381  17.973930              0              0   \n",
       "\n",
       "        IB문의건수_CL_RV_B0M  IB문의건수_CL_RV_R6M  IB문의건수_CS_B0M  IB문의건수_CS_R6M  \\\n",
       "301160                 0                 0              0              0   \n",
       "42909                  0                 0              0              0   \n",
       "49631                  0                 0              0              0   \n",
       "288676                 0                 0              0              0   \n",
       "5253                   0                 0              0              0   \n",
       "...                  ...               ...            ...            ...   \n",
       "307157                 0                 0              0              0   \n",
       "351725                 0                 0              0              0   \n",
       "314214                 0                 0              0              0   \n",
       "367878                 0                 0              0              0   \n",
       "227680                 0                 0              0              0   \n",
       "\n",
       "        IB문의건수_SMS_R6M  ...  한도심사요청건수_1회이상  한도증액횟수_R12M_1회이상  한도증액횟수_R12M_0회  \\\n",
       "301160               0  ...          False              True           False   \n",
       "42909                0  ...          False             False            True   \n",
       "49631                0  ...          False             False            True   \n",
       "288676               0  ...          False             False            True   \n",
       "5253                 0  ...          False             False            True   \n",
       "...                ...  ...            ...               ...             ...   \n",
       "307157               0  ...          False             False            True   \n",
       "351725               0  ...          False             False            True   \n",
       "314214               0  ...          False             False            True   \n",
       "367878               0  ...          False             False            True   \n",
       "227680               0  ...          False             False            True   \n",
       "\n",
       "        할인건수_B0M_1회 이상  할인건수_B0M_10회 이상  할인건수_R3M_1회 이상  할인건수_R3M_10회 이상  \\\n",
       "301160            True            False            True            False   \n",
       "42909             True            False            True            False   \n",
       "49631             True            False            True            False   \n",
       "288676            True            False            True            False   \n",
       "5253              True            False            True            False   \n",
       "...                ...              ...             ...              ...   \n",
       "307157            True            False            True            False   \n",
       "351725            True            False            True            False   \n",
       "314214            True            False            True            False   \n",
       "367878            True            False           False            False   \n",
       "227680            True            False            True            False   \n",
       "\n",
       "        할인건수_R3M_20회 이상  할인건수_R3M_30회 이상  할인건수_R3M_40회 이상  \n",
       "301160            False            False            False  \n",
       "42909             False            False            False  \n",
       "49631             False            False            False  \n",
       "288676            False            False            False  \n",
       "5253              False            False            False  \n",
       "...                 ...              ...              ...  \n",
       "307157            False            False            False  \n",
       "351725            False            False            False  \n",
       "314214            False            False            False  \n",
       "367878             True            False            False  \n",
       "227680            False            False            False  \n",
       "\n",
       "[1438956 rows x 1015 columns]"
      ]
     },
     "execution_count": 6,
     "metadata": {},
     "output_type": "execute_result"
    }
   ],
   "source": [
    "klkl=0\n",
    "for i in led2_value.keys():\n",
    "    for j in led2_value[i]:\n",
    "        x[f\"{i}_{j}\"]=(x[i]==j)\n",
    "        if j==\"None\" or j==None:\n",
    "            klkl+=1\n",
    "        print(i,j)\n",
    "print(klkl)\n",
    "x\n"
   ]
  },
  {
   "cell_type": "code",
   "execution_count": 7,
   "id": "238ae811",
   "metadata": {},
   "outputs": [
    {
     "data": {
      "text/html": [
       "<div>\n",
       "<style scoped>\n",
       "    .dataframe tbody tr th:only-of-type {\n",
       "        vertical-align: middle;\n",
       "    }\n",
       "\n",
       "    .dataframe tbody tr th {\n",
       "        vertical-align: top;\n",
       "    }\n",
       "\n",
       "    .dataframe thead th {\n",
       "        text-align: right;\n",
       "    }\n",
       "</style>\n",
       "<table border=\"1\" class=\"dataframe\">\n",
       "  <thead>\n",
       "    <tr style=\"text-align: right;\">\n",
       "      <th></th>\n",
       "      <th>CA이자율_할인전</th>\n",
       "      <th>CA한도금액</th>\n",
       "      <th>CL이자율_할인전</th>\n",
       "      <th>IB문의건수_BL_R6M</th>\n",
       "      <th>IB문의건수_CA_R6M</th>\n",
       "      <th>IB문의건수_CL_RV_B0M</th>\n",
       "      <th>IB문의건수_CL_RV_R6M</th>\n",
       "      <th>IB문의건수_CS_B0M</th>\n",
       "      <th>IB문의건수_CS_R6M</th>\n",
       "      <th>IB문의건수_SMS_R6M</th>\n",
       "      <th>...</th>\n",
       "      <th>한도심사요청건수_1회이상</th>\n",
       "      <th>한도증액횟수_R12M_1회이상</th>\n",
       "      <th>한도증액횟수_R12M_0회</th>\n",
       "      <th>할인건수_B0M_1회 이상</th>\n",
       "      <th>할인건수_B0M_10회 이상</th>\n",
       "      <th>할인건수_R3M_1회 이상</th>\n",
       "      <th>할인건수_R3M_10회 이상</th>\n",
       "      <th>할인건수_R3M_20회 이상</th>\n",
       "      <th>할인건수_R3M_30회 이상</th>\n",
       "      <th>할인건수_R3M_40회 이상</th>\n",
       "    </tr>\n",
       "  </thead>\n",
       "  <tbody>\n",
       "    <tr>\n",
       "      <th>301160</th>\n",
       "      <td>14.611353</td>\n",
       "      <td>55012</td>\n",
       "      <td>14.833936</td>\n",
       "      <td>0</td>\n",
       "      <td>0</td>\n",
       "      <td>0</td>\n",
       "      <td>0</td>\n",
       "      <td>0</td>\n",
       "      <td>0</td>\n",
       "      <td>0</td>\n",
       "      <td>...</td>\n",
       "      <td>False</td>\n",
       "      <td>True</td>\n",
       "      <td>False</td>\n",
       "      <td>True</td>\n",
       "      <td>False</td>\n",
       "      <td>True</td>\n",
       "      <td>False</td>\n",
       "      <td>False</td>\n",
       "      <td>False</td>\n",
       "      <td>False</td>\n",
       "    </tr>\n",
       "    <tr>\n",
       "      <th>42909</th>\n",
       "      <td>22.001406</td>\n",
       "      <td>51955</td>\n",
       "      <td>17.844288</td>\n",
       "      <td>0</td>\n",
       "      <td>0</td>\n",
       "      <td>0</td>\n",
       "      <td>0</td>\n",
       "      <td>0</td>\n",
       "      <td>0</td>\n",
       "      <td>0</td>\n",
       "      <td>...</td>\n",
       "      <td>False</td>\n",
       "      <td>False</td>\n",
       "      <td>True</td>\n",
       "      <td>True</td>\n",
       "      <td>False</td>\n",
       "      <td>True</td>\n",
       "      <td>False</td>\n",
       "      <td>False</td>\n",
       "      <td>False</td>\n",
       "      <td>False</td>\n",
       "    </tr>\n",
       "    <tr>\n",
       "      <th>49631</th>\n",
       "      <td>14.221057</td>\n",
       "      <td>58716</td>\n",
       "      <td>14.868122</td>\n",
       "      <td>0</td>\n",
       "      <td>0</td>\n",
       "      <td>0</td>\n",
       "      <td>0</td>\n",
       "      <td>0</td>\n",
       "      <td>0</td>\n",
       "      <td>0</td>\n",
       "      <td>...</td>\n",
       "      <td>False</td>\n",
       "      <td>False</td>\n",
       "      <td>True</td>\n",
       "      <td>True</td>\n",
       "      <td>False</td>\n",
       "      <td>True</td>\n",
       "      <td>False</td>\n",
       "      <td>False</td>\n",
       "      <td>False</td>\n",
       "      <td>False</td>\n",
       "    </tr>\n",
       "    <tr>\n",
       "      <th>288676</th>\n",
       "      <td>21.886489</td>\n",
       "      <td>51119</td>\n",
       "      <td>17.427597</td>\n",
       "      <td>0</td>\n",
       "      <td>0</td>\n",
       "      <td>0</td>\n",
       "      <td>0</td>\n",
       "      <td>0</td>\n",
       "      <td>0</td>\n",
       "      <td>0</td>\n",
       "      <td>...</td>\n",
       "      <td>False</td>\n",
       "      <td>False</td>\n",
       "      <td>True</td>\n",
       "      <td>True</td>\n",
       "      <td>False</td>\n",
       "      <td>True</td>\n",
       "      <td>False</td>\n",
       "      <td>False</td>\n",
       "      <td>False</td>\n",
       "      <td>False</td>\n",
       "    </tr>\n",
       "    <tr>\n",
       "      <th>5253</th>\n",
       "      <td>16.939709</td>\n",
       "      <td>53971</td>\n",
       "      <td>15.579195</td>\n",
       "      <td>0</td>\n",
       "      <td>0</td>\n",
       "      <td>0</td>\n",
       "      <td>0</td>\n",
       "      <td>0</td>\n",
       "      <td>0</td>\n",
       "      <td>0</td>\n",
       "      <td>...</td>\n",
       "      <td>False</td>\n",
       "      <td>False</td>\n",
       "      <td>True</td>\n",
       "      <td>True</td>\n",
       "      <td>False</td>\n",
       "      <td>True</td>\n",
       "      <td>False</td>\n",
       "      <td>False</td>\n",
       "      <td>False</td>\n",
       "      <td>False</td>\n",
       "    </tr>\n",
       "    <tr>\n",
       "      <th>...</th>\n",
       "      <td>...</td>\n",
       "      <td>...</td>\n",
       "      <td>...</td>\n",
       "      <td>...</td>\n",
       "      <td>...</td>\n",
       "      <td>...</td>\n",
       "      <td>...</td>\n",
       "      <td>...</td>\n",
       "      <td>...</td>\n",
       "      <td>...</td>\n",
       "      <td>...</td>\n",
       "      <td>...</td>\n",
       "      <td>...</td>\n",
       "      <td>...</td>\n",
       "      <td>...</td>\n",
       "      <td>...</td>\n",
       "      <td>...</td>\n",
       "      <td>...</td>\n",
       "      <td>...</td>\n",
       "      <td>...</td>\n",
       "      <td>...</td>\n",
       "    </tr>\n",
       "    <tr>\n",
       "      <th>307157</th>\n",
       "      <td>14.756586</td>\n",
       "      <td>33620</td>\n",
       "      <td>14.841655</td>\n",
       "      <td>0</td>\n",
       "      <td>0</td>\n",
       "      <td>0</td>\n",
       "      <td>0</td>\n",
       "      <td>0</td>\n",
       "      <td>0</td>\n",
       "      <td>0</td>\n",
       "      <td>...</td>\n",
       "      <td>False</td>\n",
       "      <td>False</td>\n",
       "      <td>True</td>\n",
       "      <td>True</td>\n",
       "      <td>False</td>\n",
       "      <td>True</td>\n",
       "      <td>False</td>\n",
       "      <td>False</td>\n",
       "      <td>False</td>\n",
       "      <td>False</td>\n",
       "    </tr>\n",
       "    <tr>\n",
       "      <th>351725</th>\n",
       "      <td>17.973755</td>\n",
       "      <td>54044</td>\n",
       "      <td>15.638678</td>\n",
       "      <td>0</td>\n",
       "      <td>0</td>\n",
       "      <td>0</td>\n",
       "      <td>0</td>\n",
       "      <td>0</td>\n",
       "      <td>0</td>\n",
       "      <td>0</td>\n",
       "      <td>...</td>\n",
       "      <td>False</td>\n",
       "      <td>False</td>\n",
       "      <td>True</td>\n",
       "      <td>True</td>\n",
       "      <td>False</td>\n",
       "      <td>True</td>\n",
       "      <td>False</td>\n",
       "      <td>False</td>\n",
       "      <td>False</td>\n",
       "      <td>False</td>\n",
       "    </tr>\n",
       "    <tr>\n",
       "      <th>314214</th>\n",
       "      <td>22.262605</td>\n",
       "      <td>27507</td>\n",
       "      <td>18.823554</td>\n",
       "      <td>0</td>\n",
       "      <td>0</td>\n",
       "      <td>0</td>\n",
       "      <td>0</td>\n",
       "      <td>0</td>\n",
       "      <td>0</td>\n",
       "      <td>0</td>\n",
       "      <td>...</td>\n",
       "      <td>False</td>\n",
       "      <td>False</td>\n",
       "      <td>True</td>\n",
       "      <td>True</td>\n",
       "      <td>False</td>\n",
       "      <td>True</td>\n",
       "      <td>False</td>\n",
       "      <td>False</td>\n",
       "      <td>False</td>\n",
       "      <td>False</td>\n",
       "    </tr>\n",
       "    <tr>\n",
       "      <th>367878</th>\n",
       "      <td>15.214161</td>\n",
       "      <td>38251</td>\n",
       "      <td>15.271567</td>\n",
       "      <td>0</td>\n",
       "      <td>0</td>\n",
       "      <td>0</td>\n",
       "      <td>0</td>\n",
       "      <td>0</td>\n",
       "      <td>0</td>\n",
       "      <td>0</td>\n",
       "      <td>...</td>\n",
       "      <td>False</td>\n",
       "      <td>False</td>\n",
       "      <td>True</td>\n",
       "      <td>True</td>\n",
       "      <td>False</td>\n",
       "      <td>False</td>\n",
       "      <td>False</td>\n",
       "      <td>True</td>\n",
       "      <td>False</td>\n",
       "      <td>False</td>\n",
       "    </tr>\n",
       "    <tr>\n",
       "      <th>227680</th>\n",
       "      <td>21.996913</td>\n",
       "      <td>42381</td>\n",
       "      <td>17.973930</td>\n",
       "      <td>0</td>\n",
       "      <td>0</td>\n",
       "      <td>0</td>\n",
       "      <td>0</td>\n",
       "      <td>0</td>\n",
       "      <td>0</td>\n",
       "      <td>0</td>\n",
       "      <td>...</td>\n",
       "      <td>False</td>\n",
       "      <td>False</td>\n",
       "      <td>True</td>\n",
       "      <td>True</td>\n",
       "      <td>False</td>\n",
       "      <td>True</td>\n",
       "      <td>False</td>\n",
       "      <td>False</td>\n",
       "      <td>False</td>\n",
       "      <td>False</td>\n",
       "    </tr>\n",
       "  </tbody>\n",
       "</table>\n",
       "<p>1438956 rows × 971 columns</p>\n",
       "</div>"
      ],
      "text/plain": [
       "        CA이자율_할인전  CA한도금액  CL이자율_할인전  IB문의건수_BL_R6M  IB문의건수_CA_R6M  \\\n",
       "301160  14.611353   55012  14.833936              0              0   \n",
       "42909   22.001406   51955  17.844288              0              0   \n",
       "49631   14.221057   58716  14.868122              0              0   \n",
       "288676  21.886489   51119  17.427597              0              0   \n",
       "5253    16.939709   53971  15.579195              0              0   \n",
       "...           ...     ...        ...            ...            ...   \n",
       "307157  14.756586   33620  14.841655              0              0   \n",
       "351725  17.973755   54044  15.638678              0              0   \n",
       "314214  22.262605   27507  18.823554              0              0   \n",
       "367878  15.214161   38251  15.271567              0              0   \n",
       "227680  21.996913   42381  17.973930              0              0   \n",
       "\n",
       "        IB문의건수_CL_RV_B0M  IB문의건수_CL_RV_R6M  IB문의건수_CS_B0M  IB문의건수_CS_R6M  \\\n",
       "301160                 0                 0              0              0   \n",
       "42909                  0                 0              0              0   \n",
       "49631                  0                 0              0              0   \n",
       "288676                 0                 0              0              0   \n",
       "5253                   0                 0              0              0   \n",
       "...                  ...               ...            ...            ...   \n",
       "307157                 0                 0              0              0   \n",
       "351725                 0                 0              0              0   \n",
       "314214                 0                 0              0              0   \n",
       "367878                 0                 0              0              0   \n",
       "227680                 0                 0              0              0   \n",
       "\n",
       "        IB문의건수_SMS_R6M  ...  한도심사요청건수_1회이상  한도증액횟수_R12M_1회이상  한도증액횟수_R12M_0회  \\\n",
       "301160               0  ...          False              True           False   \n",
       "42909                0  ...          False             False            True   \n",
       "49631                0  ...          False             False            True   \n",
       "288676               0  ...          False             False            True   \n",
       "5253                 0  ...          False             False            True   \n",
       "...                ...  ...            ...               ...             ...   \n",
       "307157               0  ...          False             False            True   \n",
       "351725               0  ...          False             False            True   \n",
       "314214               0  ...          False             False            True   \n",
       "367878               0  ...          False             False            True   \n",
       "227680               0  ...          False             False            True   \n",
       "\n",
       "        할인건수_B0M_1회 이상  할인건수_B0M_10회 이상  할인건수_R3M_1회 이상  할인건수_R3M_10회 이상  \\\n",
       "301160            True            False            True            False   \n",
       "42909             True            False            True            False   \n",
       "49631             True            False            True            False   \n",
       "288676            True            False            True            False   \n",
       "5253              True            False            True            False   \n",
       "...                ...              ...             ...              ...   \n",
       "307157            True            False            True            False   \n",
       "351725            True            False            True            False   \n",
       "314214            True            False            True            False   \n",
       "367878            True            False           False            False   \n",
       "227680            True            False            True            False   \n",
       "\n",
       "        할인건수_R3M_20회 이상  할인건수_R3M_30회 이상  할인건수_R3M_40회 이상  \n",
       "301160            False            False            False  \n",
       "42909             False            False            False  \n",
       "49631             False            False            False  \n",
       "288676            False            False            False  \n",
       "5253              False            False            False  \n",
       "...                 ...              ...              ...  \n",
       "307157            False            False            False  \n",
       "351725            False            False            False  \n",
       "314214            False            False            False  \n",
       "367878             True            False            False  \n",
       "227680            False            False            False  \n",
       "\n",
       "[1438956 rows x 971 columns]"
      ]
     },
     "execution_count": 7,
     "metadata": {},
     "output_type": "execute_result"
    }
   ],
   "source": [
    "x.drop(led2_value.keys(),inplace=True,axis=1)\n",
    "x"
   ]
  },
  {
   "cell_type": "markdown",
   "id": "43b54563",
   "metadata": {},
   "source": [
    "## 년월일 같은 날짠는 일수로 변환"
   ]
  },
  {
   "cell_type": "code",
   "execution_count": 8,
   "id": "a94268bb",
   "metadata": {
    "scrolled": true
   },
   "outputs": [
    {
     "name": "stdout",
     "output_type": "stream",
     "text": [
      "RV신청일자 nan\n",
      "연체일자_B0M nan\n",
      "입회일자_신용 19991101\n",
      "최종유효년월_신용_이용 202209.0\n",
      "최종유효년월_신용_이용가능 202302.0\n",
      "최종이용일자_CA 20140405\n",
      "최종이용일자_기본 20180731\n",
      "최종이용일자_신판 20180731\n",
      "최종이용일자_일시불 20180731\n",
      "최종이용일자_체크 10101\n",
      "최종이용일자_카드론 10101\n",
      "최종이용일자_할부 20180706\n",
      "최종카드론_대출일자 nan\n",
      "최종카드발급일자 20180702.0\n"
     ]
    },
    {
     "data": {
      "text/plain": [
       "(14,\n",
       " ['최종이용일자_CA',\n",
       "  '최종이용일자_기본',\n",
       "  '최종이용일자_신판',\n",
       "  '최종이용일자_일시불',\n",
       "  '최종이용일자_체크',\n",
       "  '최종이용일자_카드론',\n",
       "  '최종이용일자_할부'])"
      ]
     },
     "execution_count": 8,
     "metadata": {},
     "output_type": "execute_result"
    }
   ],
   "source": [
    "def day(x):\n",
    "    if not pd.isna(x):\n",
    "        x=str(int(x))\n",
    "        if len(x)>5:\n",
    "            if len(x)>7:\n",
    "                return (datetime.datetime.strptime(\"20250414\",\"%Y%m%d\")-datetime.datetime.strptime(x,\"%Y%m%d\")).days\n",
    "            else:\n",
    "                return (datetime.datetime.strptime(\"202504\",\"%Y%m\")-datetime.datetime.strptime(x,\"%Y%m\")).days\n",
    "        return 0\n",
    "    return np.nan\n",
    "\n",
    "l=[]\n",
    "import datetime \n",
    "x10101=[]\n",
    "for i in x.columns:\n",
    "    for j in [\"일자\",\"년월\"]:\n",
    "        if j in i:\n",
    "            l.append(i)\n",
    "            print(i,x[i].iloc[0])\n",
    "            x[i]=x[i].apply(day)\n",
    "            if (x[i]==0).sum():\n",
    "                x10101.append(i)\n",
    "len(l),x10101"
   ]
  },
  {
   "cell_type": "markdown",
   "id": "cc381549",
   "metadata": {},
   "source": [
    "## 이상치? 같은애들 적당하게 만들기 "
   ]
  },
  {
   "cell_type": "code",
   "execution_count": 9,
   "id": "7cb160b8",
   "metadata": {
    "scrolled": true
   },
   "outputs": [
    {
     "name": "stdout",
     "output_type": "stream",
     "text": [
      "rv최초시작후경과일 [0, 92, 93, 94, 95, 96, 97, 98, 99, 100, 101, 102, 103, 104, 105, 106, 107, 108, 109, 110, 111, 112, 113, 114, 115, 116, 117, 164, 166, 167, 168, 169, 170, 171, 172, 173, 174, 175, 176, 177, 178, 179, 180, 181, 182, 183, 184, 185, 186, 187, 188, 189, 190, 191, 192, 193, 194, 195, 196, 197, 198, 199, 200, 201, 202, 203, 204, 205, 206, 207, 208, 209, 210, 211, 212, 213, 214, 215, 216, 217, 218, 219, 221, 222, 223, 226, 232, 282, 285, 286, 287, 288, 290, 291, 292, 293, 294, 295, 296, 297, 298, 299, 300, 301, 302, 303, 304, 305, 306, 307, 308, 309, 310, 311, 312, 313, 314, 315, 316, 317, 318, 319, 320, 321, 322, 323, 324, 325, 326, 327, 328, 329, 330, 331, 332, 333, 334, 335, 336, 337, 338, 339, 340, 341, 342, 343, 344, 345, 346, 347, 348, 349, 350, 351, 352, 353, 354, 355, 356, 357, 358, 359, 360, 361, 362, 363, 364, 365, 366, 367, 368, 369, 370, 371, 372, 373, 374, 375, 377, 378, 382, 384, 386, 388, 514, 520, 521, 525, 526, 527, 528, 529, 530, 531, 532, 533, 534, 535, 536, 537, 538, 539, 540, 541, 542, 543, 544, 545, 546, 547, 548, 549, 550, 551, 552, 553, 554, 555, 556, 557, 558, 559, 560, 561, 562, 563, 564, 565, 566, 567, 568, 569, 570, 571, 572, 573, 574, 575, 576, 577, 578, 579, 580, 581, 582, 583, 584, 585, 586, 587, 588, 589, 590, 591, 592, 593, 594, 595, 596, 597, 598, 599, 600, 601, 602, 603, 604, 605, 606, 607, 608, 609, 610, 611, 612, 613, 614, 615, 616, 617, 618, 619, 620, 621, 623, 626, 627, 637, 641, 735, 736, 743, 746, 747, 748, 749, 751, 752, 753, 754, 755, 756, 757, 758, 759, 760, 761, 762, 763, 764, 765, 766, 767, 768, 769, 770, 771, 772, 773, 774, 775, 776, 777, 778, 779, 780, 781, 782, 783, 784, 785, 786, 787, 788, 789, 790, 791, 792, 793, 794, 795, 796, 797, 798, 799, 800, 801, 802, 803, 804, 805, 806, 807, 808, 809, 810, 811, 812, 813, 814, 815, 816, 817, 818, 819, 820, 821, 822, 823, 824, 825, 826, 827, 828, 829, 830, 831, 832, 833, 834, 835, 836, 837, 838, 839, 840, 841, 842, 843, 844, 845, 846, 847, 848, 849, 850, 851, 852, 853, 854, 855, 856, 857, 858, 859, 860, 861, 862, 863, 864, 865, 866, 867, 868, 869, 870, 871, 872, 873, 874, 875, 876, 877, 878, 879, 880, 881, 882, 883, 884, 885, 886, 887, 888, 889, 890, 891, 892, 893, 894, 895, 896, 897, 898, 899, 900, 901, 902, 903, 904, 905, 906, 907, 908, 909, 910, 911, 912, 913, 914, 915, 916, 917, 918, 919, 920, 921, 922, 923, 924, 925, 926, 927, 928, 929, 931, 932, 933, 935, 936, 937, 939, 941, 943, 945, 948, 954, 955, 956, 957, 963, 1430, 1443, 1453, 1462, 1466, 1472, 1473, 1475, 1479, 1480, 1481, 1482, 1483, 1485, 1486, 1488, 1489, 1491, 1492, 1493, 1494, 1495, 1496, 1497, 1498, 1499, 1500, 1501, 1502, 1503, 1504, 1505, 1506, 1507, 1508, 1509, 1510, 1511, 1512, 1513, 1514, 1515, 1516, 1517, 1518, 1519, 1520, 1521, 1522, 1523, 1524, 1525, 1526, 1527, 1528, 1529, 1530, 1531, 1532, 1533, 1534, 1535, 1536, 1537, 1538, 1539, 1540, 1541, 1542, 1543, 1544, 1545, 1546, 1547, 1548, 1549, 1550, 1551, 1552, 1553, 1554, 1555, 1556, 1557, 1558, 1559, 1560, 1561, 1562, 1563, 1564, 1565, 1566, 1567, 1568, 1569, 1570, 1571, 1572, 1573, 1574, 1575, 1576, 1577, 1578, 1579, 1580, 1581, 1582, 1583, 1584, 1585, 1586, 1587, 1588, 1589, 1590, 1591, 1592, 1593, 1594, 1595, 1596, 1597, 1598, 1599, 1600, 1601, 1602, 1603, 1604, 1605, 1606, 1607, 1608, 1609, 1610, 1611, 1612, 1613, 1614, 1615, 1616, 1617, 1618, 1619, 1620, 1621, 1622, 1623, 1624, 1625, 1626, 1627, 1628, 1629, 1630, 1631, 1632, 1633, 1634, 1635, 1636, 1637, 1638, 1639, 1640, 1641, 1642, 1643, 1644, 1645, 1646, 1647, 1648, 1649, 1650, 1651, 1652, 1653, 1654, 1655, 1656, 1657, 1658, 1659, 1660, 1661, 1662, 1663, 1664, 1665, 1666, 1667, 1668, 1669, 1670, 1671, 1672, 1673, 1674, 1675, 1676, 1677, 1678, 1679, 1680, 1681, 1682, 1683, 1684, 1685, 1687, 1688, 1689, 1690, 1691, 1693, 1694, 1695, 1697, 1698, 1699, 1700, 1701, 1703, 1708, 1713, 1718, 1720, 1721, 1723, 1727, 1734, 1776, 2121, 2125, 2138, 2142, 2147, 2149, 2150, 2151, 2154, 2158, 2159, 2163, 2165, 2166, 2169, 2170, 2171, 2172, 2173, 2175, 2176, 2177, 2178, 2179, 2180, 2181, 2182, 2183, 2184, 2185, 2186, 2187, 2188, 2189, 2190, 2191, 2192, 2193, 2194, 2195, 2196, 2197, 2198, 2199, 2200, 2201, 2202, 2203, 2204, 2205, 2206, 2207, 2208, 2209, 2210, 2211, 2212, 2213, 2214, 2215, 2216, 2217, 2218, 2219, 2220, 2221, 2222, 2223, 2224, 2225, 2226, 2227, 2228, 2229, 2230, 2231, 2232, 2233, 2234, 2235, 2236, 2237, 2238, 2239, 2240, 2241, 2242, 2243, 2244, 2245, 2246, 2247, 2248, 2249, 2250, 2251, 2252, 2253, 2254, 2255, 2256, 2257, 2258, 2259, 2260, 2261, 2262, 2263, 2264, 2265, 2266, 2267, 2268, 2269, 2270, 2271, 2272, 2273, 2274, 2275, 2276, 2277, 2278, 2279, 2280, 2281, 2282, 2283, 2284, 2285, 2286, 2287, 2288, 2289, 2290, 2291, 2292, 2293, 2294, 2295, 2296, 2297, 2298, 2299, 2300, 2301, 2302, 2303, 2304, 2305, 2306, 2307, 2308, 2309, 2310, 2311, 2312, 2313, 2314, 2315, 2316, 2317, 2318, 2319, 2320, 2321, 2322, 2323, 2324, 2325, 2326, 2327, 2328, 2329, 2330, 2331, 2332, 2333, 2334, 2335, 2336, 2337, 2338, 2339, 2340, 2341, 2342, 2343, 2344, 2345, 2346, 2347, 2348, 2349, 2350, 2351, 2352, 2353, 2354, 2355, 2356, 2357, 2358, 2359, 2360, 2361, 2362, 2363, 2364, 2365, 2366, 2367, 2368, 2369, 2370, 2371, 2372, 2373, 2374, 2375, 2376, 2377, 2378, 2379, 2380, 2381, 2382, 2383, 2384, 2385, 2386, 2387, 2388, 2389, 2390, 2391, 2392, 2393, 2394, 2395, 2396, 2397, 2398, 2399, 2400, 2401, 2402, 2403, 2404, 2405, 2406, 2407, 2408, 2409, 2410, 2411, 2412, 2413, 2414, 2415, 2416, 2417, 2418, 2419, 2420, 2421, 2422, 2423, 2424, 2425, 2426, 2427, 2428, 2429, 2430, 2431, 2432, 2433, 2434, 2435, 2436, 2437, 2438, 2439, 2440, 2441, 2442, 2443, 2444, 2445, 2446, 2447, 2448, 2449, 2450, 2451, 2452, 2453, 2454, 2455, 2456, 2457, 2458, 2459, 2460, 2461, 2462, 2463, 2464, 2465, 2466, 2467, 2468, 2469, 2470, 2471, 2472, 2473, 2474, 2475, 2476, 2477, 2478, 2479, 2480, 2481, 2482, 2483, 2484, 2485, 2486, 2487, 2488, 2489, 2490, 2491, 2492, 2493, 2494, 2495, 2496, 2497, 2498, 2499, 2500, 2501, 2502, 2503, 2504, 2505, 2506, 2507, 2508, 2509, 2510, 2511, 2512, 2513, 2514, 2515, 2516, 2517, 2518, 2519, 2520, 2521, 2522, 2523, 2524, 2525, 2526, 2527, 2528, 2529, 2530, 2531, 2532, 2533, 2535, 2536, 2537, 2538, 2539, 2540, 2541, 2542, 2544, 2545, 2547, 2548, 2549, 2551, 2552, 2553, 2555, 2556, 2557, 2558, 2559, 2561, 2563, 2564, 2567, 2568, 2572, 2578, 2588, 2589, 2592, 2594, 2606, 2631, 2639, 4454, 4570, 4621, 4626, 4632, 4634, 4635, 4642, 4644, 4645, 4647, 4652, 4654, 4663, 4673, 4677, 4678, 4685, 4686, 4687, 4690, 4692, 4693, 4695, 4698, 4699, 4700, 4718, 4719, 4721, 4722, 4723, 4729, 4736, 4738, 4742, 4743, 4750, 4751, 4752, 4753, 4755, 4756, 4757, 4758, 4760, 4765, 4766, 4767, 4768, 4769, 4770, 4771, 4772, 4773, 4774, 4775, 4778, 4779, 4780, 4784, 4787, 4788, 4789, 4790, 4791, 4792, 4793, 4794, 4795, 4796, 4798, 4799, 4800, 4801, 4802, 4803, 4804, 4809, 4811, 4812, 4815, 4816, 4817, 4818, 4819, 4821, 4822, 4823, 4824, 4825, 4826, 4827, 4828, 4829, 4831, 4832, 4834, 4835, 4836, 4837, 4839, 4841, 4842, 4843, 4844, 4845, 4846, 4847, 4848, 4849, 4850, 4851, 4853, 4854, 4855, 4857, 4858, 4859, 4860, 4861, 4862, 4863, 4864, 4866, 4867, 4868, 4869, 4870, 4872, 4873, 4874, 4875, 4876, 4877, 4878, 4879, 4880, 4881, 4882, 4883, 4884, 4885, 4886, 4887, 4889, 4890, 4892, 4893, 4895, 4896, 4897, 4899, 4900, 4901, 4902, 4903, 4904, 4905, 4906, 4907, 4908, 4909, 4910, 4911, 4912, 4913, 4914, 4915, 4916, 4917, 4918, 4919, 4920, 4921, 4922, 4923, 4924, 4925, 4926, 4927, 4928, 4929, 4931, 4932, 4933, 4934, 4935, 4936, 4937, 4938, 4939, 4940, 4941, 4942, 4943, 4944, 4945, 4946, 4947, 4948, 4949, 4950, 4951, 4952, 4953, 4954, 4955, 4956, 4957, 4958, 4959, 4960, 4961, 4962, 4964, 4965, 4966, 4967, 4968, 4969, 4970, 4971, 4973, 4974, 4975, 4976, 4977, 4979, 4980, 4981, 4982, 4983, 4985, 4986, 4987, 4988, 4989, 4990, 4991, 4992, 4993, 4994, 4995, 4996, 4997, 4998, 4999, 5000, 5001, 5002, 5003, 5005, 5006, 5007, 5008, 5009, 5010, 5011, 5012, 5013, 5014, 5015, 5016, 5017, 5018, 5019, 5020, 5021, 5022, 5023, 5024, 5025, 5027, 5028, 5029, 5030, 5031, 5033, 5034, 5035, 5037, 5038, 5039, 5040, 5041, 5042, 5043, 5044, 5045, 5046, 5048, 5049, 5050, 5051, 5052, 5053, 5054, 5055, 5056, 5057, 5058, 5060, 5061, 5062, 5063, 5064, 5065, 5069, 5070, 5071, 5073, 5074, 5075, 5076, 5077, 5078, 5080, 5082, 5083, 5084, 5085, 5086, 5087, 5090, 5091, 5092, 5093, 5094, 5096, 5097, 5098, 5099, 5100, 5101, 5102, 5103, 5104, 5106, 5108, 5109, 5110, 5113, 5114, 5115, 5116, 5118, 5119, 5121, 5125, 5126, 5128, 5129, 5132, 5133, 5134, 5135, 5136, 5137, 5139, 5140, 5141, 5147, 5148, 5149, 5153, 5154, 5157, 5161, 5162, 5164, 5168, 5169, 5171, 5173, 5174, 5176, 5179, 5180, 5181, 5182, 5183, 5189, 5191, 5192, 5194, 5195, 5198, 5200, 5203, 5205, 5207, 5208, 5211, 5212, 5216, 5218, 5224, 5226, 5228, 5229, 5230, 5231, 5233, 5236, 5239, 5249, 5250, 5252, 5255, 5256, 5257, 5259, 5262, 5269, 5278, 5294, 5299, 5305, 5313, 5314, 5327, 5335, 5350, 5362, 5379, 5384]\n",
      "최종카드론이용경과월 [0, 1, 2, 3, 4, 5, 6, 7, 8, 9, 10, 11, 12, 13, 14, 15, 16, 17, 18, 19, 20, 21, 22, 23, 24, 25, 26, 27, 28, 29, 30, 31, 32, 33, 34, 35, 36, 37, 38, 39, 40, 41, 42, 43, 44, 45, 46, 47, 48, 49, 50, 51, 52, 53, 54, 55, 56, 57, 58, 59, 60, 61, 62, 63, 64, 65, 100]\n",
      "연체일수_B2M [0, 1]\n",
      "연체일수_B1M [0, 1, 2]\n",
      "최초카드론이용경과월 [3, 4, 5, 6, 7, 8, 9, 10, 11, 12, 13, 14, 15, 16, 17, 18, 19, 20, 21, 22, 23, 24, 25, 26, 27, 28, 29, 30, 31, 32, 33, 34, 35, 36, 37, 38, 39, 40, 41, 42, 43, 44, 45, 46, 47, 48, 49, 50, 51, 52, 53, 54, 55, 56, 57, 58, 59, 60, 61, 62, 63, 64, 65, 66, 67, 68, 69, 70, 71, 72, 73, 74, 75, 76, 77, 78, 79, 80, 81, 82, 83, 84, 85, 86, 87, 88, 89, 90, 91, 92, 93, 94, 95, 96, 97, 98, 99, 100, 101, 102, 103, 104, 105, 106, 107, 108, 109, 110, 111, 112, 113, 114, 115, 116, 117, 118, 119, 120, 121, 122, 123, 124, 125, 126, 127, 128, 129, 130, 131, 132, 133, 134, 135, 136, 137, 138, 139, 140, 141, 142, 143, 144, 145, 146, 147, 148, 149, 150, 151, 152, 153, 154, 155, 156, 157, 158, 159, 160, 161, 162, 163, 164, 165, 166, 167, 168, 169, 170, 171, 172, 173, 174, 175, 176, 177, 178, 179, 180, 181, 182, 183, 184, 185, 186, 187, 188, 189, 190, 191, 192, 193, 194, 195, 196, 197, 198, 199, 200, 201, 202, 203, 204, 205, 206, 207, 208, 209, 210, 211, 212, 213, 214, 215, 216, 217, 218, 219, 220, 221, 222, 223, 224, 225, 226, 227, 228, 229, 230, 231, 232, 233, 234, 235, 236, 237, 238, 239, 240, 241, 242, 243, 244, 245, 246, 247, 248, 249, 250, 251, 252, 253, 254, 255, 256, 257, 258, 259, 260, 261, 262, 263, 264, 265, 266, 267, 268, 269, 270, 271, 272, 273, 274, 275, 276, 277, 278, 279, 280, 281, 282, 283, 284, 285, 286, 287, 288, 289, 290, 291, 292, 293, 294, 295, 296, 297, 298, 299, 300, 301, 302, 303, 304, 305, 306, 307, 308, 309, 310, 311, 312, 313, 314, 315, 316, 317, 318, 319, 320, 321, 322, 323, 324, 325, 326, 327, 328, 329, 330, 331, 332, 333, 334, 335, 336, 337, 338, 339, 340, 341, 342, 343, 344, 345, 346, 347, 348, 349, 350, 351, 352, 353, 354, 355, 356, 357, 358, 359, 360, 361, 363, 364, 365, 366, 367, 368, 369, 370, 371, 372, 373, 374, 375, 376, 377, 378, 379, 380, 381, 382, 383, 384, 385, 386, 387, 388, 389, 390, 391, 392, 393, 394, 395, 396, 397, 398, 399, 400, 401, 402, 406, 407, 408, 409, 411, 413, 416, 417, 418, 419, 421, 422, 425, 428, 429, 430, 431, 432, 433, 437, 438, 439, 440, 443, 446, 448, 453, 460, 467, 476, 478, 480, 485, 489, 490, 494, 541, 559, 609, 999]\n",
      "최종연체회차 [0, 1]\n",
      "연체일수_최근 [0, 1, 2]\n"
     ]
    },
    {
     "name": "stderr",
     "output_type": "stream",
     "text": [
      "C:\\Users\\607-14\\AppData\\Local\\Temp/ipykernel_8784/674649375.py:13: SettingWithCopyWarning: \n",
      "A value is trying to be set on a copy of a slice from a DataFrame\n",
      "\n",
      "See the caveats in the documentation: https://pandas.pydata.org/pandas-docs/stable/user_guide/indexing.html#returning-a-view-versus-a-copy\n",
      "  x[i][x[i]==hh[i][0]]=hh[i][1]\n"
     ]
    }
   ],
   "source": [
    "hh={\"rv최초시작후경과일\":[99999999,0],\n",
    "    \"최종카드론이용경과월\":[999,100],\n",
    "\"연체일수_B2M\":[-999999,1],\n",
    " \"연체일수_B1M\":[-999999,2],\n",
    "\"최초카드론이용경과월\":[0,999],\n",
    " \"최종연체회차\":[-99,1],\n",
    "\"연체일수_최근\":[-999999,2]}\n",
    "\n",
    "#for i in hh:\n",
    "#    print(i,sorted(x[i].unique()))\n",
    "\n",
    "for i in hh.keys():\n",
    "    x[i][x[i]==hh[i][0]]=hh[i][1]\n",
    "    print(i,sorted(x[i].unique()))"
   ]
  },
  {
   "cell_type": "markdown",
   "id": "4ea6dbfd",
   "metadata": {},
   "source": [
    "## 그 적당하게 만든거중에 별로없으면 더미"
   ]
  },
  {
   "cell_type": "code",
   "execution_count": 10,
   "id": "84b53ac3",
   "metadata": {},
   "outputs": [
    {
     "name": "stdout",
     "output_type": "stream",
     "text": [
      "연체일수_B2M 0\n",
      "연체일수_B2M 1\n",
      "연체일수_B1M 0\n",
      "연체일수_B1M 1\n",
      "연체일수_B1M 2\n",
      "최종연체회차 0\n",
      "최종연체회차 1\n",
      "연체일수_최근 0\n",
      "연체일수_최근 1\n",
      "연체일수_최근 2\n",
      "rv최초시작후경과일 0\n",
      "최종카드론이용경과월 100\n",
      "최초카드론이용경과월 999\n",
      "0\n",
      "최종이용일자_CA 0\n",
      "최종이용일자_기본 0\n",
      "최종이용일자_신판 0\n",
      "최종이용일자_일시불 0\n",
      "최종이용일자_체크 0\n",
      "최종이용일자_카드론 0\n",
      "최종이용일자_할부 0\n"
     ]
    },
    {
     "data": {
      "text/html": [
       "<div>\n",
       "<style scoped>\n",
       "    .dataframe tbody tr th:only-of-type {\n",
       "        vertical-align: middle;\n",
       "    }\n",
       "\n",
       "    .dataframe tbody tr th {\n",
       "        vertical-align: top;\n",
       "    }\n",
       "\n",
       "    .dataframe thead th {\n",
       "        text-align: right;\n",
       "    }\n",
       "</style>\n",
       "<table border=\"1\" class=\"dataframe\">\n",
       "  <thead>\n",
       "    <tr style=\"text-align: right;\">\n",
       "      <th></th>\n",
       "      <th>CA이자율_할인전</th>\n",
       "      <th>CA한도금액</th>\n",
       "      <th>CL이자율_할인전</th>\n",
       "      <th>IB문의건수_BL_R6M</th>\n",
       "      <th>IB문의건수_CA_R6M</th>\n",
       "      <th>IB문의건수_CL_RV_B0M</th>\n",
       "      <th>IB문의건수_CL_RV_R6M</th>\n",
       "      <th>IB문의건수_CS_B0M</th>\n",
       "      <th>IB문의건수_CS_R6M</th>\n",
       "      <th>IB문의건수_SMS_R6M</th>\n",
       "      <th>...</th>\n",
       "      <th>rv최초시작후경과일_0</th>\n",
       "      <th>최종카드론이용경과월_100</th>\n",
       "      <th>최초카드론이용경과월_999</th>\n",
       "      <th>최종이용일자_CA_0</th>\n",
       "      <th>최종이용일자_기본_0</th>\n",
       "      <th>최종이용일자_신판_0</th>\n",
       "      <th>최종이용일자_일시불_0</th>\n",
       "      <th>최종이용일자_체크_0</th>\n",
       "      <th>최종이용일자_카드론_0</th>\n",
       "      <th>최종이용일자_할부_0</th>\n",
       "    </tr>\n",
       "  </thead>\n",
       "  <tbody>\n",
       "    <tr>\n",
       "      <th>301160</th>\n",
       "      <td>14.611353</td>\n",
       "      <td>55012</td>\n",
       "      <td>14.833936</td>\n",
       "      <td>0</td>\n",
       "      <td>0</td>\n",
       "      <td>0</td>\n",
       "      <td>0</td>\n",
       "      <td>0</td>\n",
       "      <td>0</td>\n",
       "      <td>0</td>\n",
       "      <td>...</td>\n",
       "      <td>True</td>\n",
       "      <td>True</td>\n",
       "      <td>True</td>\n",
       "      <td>False</td>\n",
       "      <td>False</td>\n",
       "      <td>False</td>\n",
       "      <td>False</td>\n",
       "      <td>True</td>\n",
       "      <td>True</td>\n",
       "      <td>False</td>\n",
       "    </tr>\n",
       "    <tr>\n",
       "      <th>42909</th>\n",
       "      <td>22.001406</td>\n",
       "      <td>51955</td>\n",
       "      <td>17.844288</td>\n",
       "      <td>0</td>\n",
       "      <td>0</td>\n",
       "      <td>0</td>\n",
       "      <td>0</td>\n",
       "      <td>0</td>\n",
       "      <td>0</td>\n",
       "      <td>0</td>\n",
       "      <td>...</td>\n",
       "      <td>False</td>\n",
       "      <td>False</td>\n",
       "      <td>False</td>\n",
       "      <td>False</td>\n",
       "      <td>False</td>\n",
       "      <td>False</td>\n",
       "      <td>False</td>\n",
       "      <td>True</td>\n",
       "      <td>False</td>\n",
       "      <td>False</td>\n",
       "    </tr>\n",
       "    <tr>\n",
       "      <th>49631</th>\n",
       "      <td>14.221057</td>\n",
       "      <td>58716</td>\n",
       "      <td>14.868122</td>\n",
       "      <td>0</td>\n",
       "      <td>0</td>\n",
       "      <td>0</td>\n",
       "      <td>0</td>\n",
       "      <td>0</td>\n",
       "      <td>0</td>\n",
       "      <td>0</td>\n",
       "      <td>...</td>\n",
       "      <td>True</td>\n",
       "      <td>True</td>\n",
       "      <td>True</td>\n",
       "      <td>True</td>\n",
       "      <td>False</td>\n",
       "      <td>False</td>\n",
       "      <td>False</td>\n",
       "      <td>True</td>\n",
       "      <td>True</td>\n",
       "      <td>False</td>\n",
       "    </tr>\n",
       "    <tr>\n",
       "      <th>288676</th>\n",
       "      <td>21.886489</td>\n",
       "      <td>51119</td>\n",
       "      <td>17.427597</td>\n",
       "      <td>0</td>\n",
       "      <td>0</td>\n",
       "      <td>0</td>\n",
       "      <td>0</td>\n",
       "      <td>0</td>\n",
       "      <td>0</td>\n",
       "      <td>0</td>\n",
       "      <td>...</td>\n",
       "      <td>True</td>\n",
       "      <td>False</td>\n",
       "      <td>False</td>\n",
       "      <td>False</td>\n",
       "      <td>False</td>\n",
       "      <td>False</td>\n",
       "      <td>False</td>\n",
       "      <td>False</td>\n",
       "      <td>False</td>\n",
       "      <td>False</td>\n",
       "    </tr>\n",
       "    <tr>\n",
       "      <th>5253</th>\n",
       "      <td>16.939709</td>\n",
       "      <td>53971</td>\n",
       "      <td>15.579195</td>\n",
       "      <td>0</td>\n",
       "      <td>0</td>\n",
       "      <td>0</td>\n",
       "      <td>0</td>\n",
       "      <td>0</td>\n",
       "      <td>0</td>\n",
       "      <td>0</td>\n",
       "      <td>...</td>\n",
       "      <td>True</td>\n",
       "      <td>False</td>\n",
       "      <td>False</td>\n",
       "      <td>False</td>\n",
       "      <td>False</td>\n",
       "      <td>False</td>\n",
       "      <td>False</td>\n",
       "      <td>True</td>\n",
       "      <td>False</td>\n",
       "      <td>False</td>\n",
       "    </tr>\n",
       "    <tr>\n",
       "      <th>...</th>\n",
       "      <td>...</td>\n",
       "      <td>...</td>\n",
       "      <td>...</td>\n",
       "      <td>...</td>\n",
       "      <td>...</td>\n",
       "      <td>...</td>\n",
       "      <td>...</td>\n",
       "      <td>...</td>\n",
       "      <td>...</td>\n",
       "      <td>...</td>\n",
       "      <td>...</td>\n",
       "      <td>...</td>\n",
       "      <td>...</td>\n",
       "      <td>...</td>\n",
       "      <td>...</td>\n",
       "      <td>...</td>\n",
       "      <td>...</td>\n",
       "      <td>...</td>\n",
       "      <td>...</td>\n",
       "      <td>...</td>\n",
       "      <td>...</td>\n",
       "    </tr>\n",
       "    <tr>\n",
       "      <th>307157</th>\n",
       "      <td>14.756586</td>\n",
       "      <td>33620</td>\n",
       "      <td>14.841655</td>\n",
       "      <td>0</td>\n",
       "      <td>0</td>\n",
       "      <td>0</td>\n",
       "      <td>0</td>\n",
       "      <td>0</td>\n",
       "      <td>0</td>\n",
       "      <td>0</td>\n",
       "      <td>...</td>\n",
       "      <td>True</td>\n",
       "      <td>False</td>\n",
       "      <td>False</td>\n",
       "      <td>False</td>\n",
       "      <td>False</td>\n",
       "      <td>False</td>\n",
       "      <td>False</td>\n",
       "      <td>True</td>\n",
       "      <td>False</td>\n",
       "      <td>False</td>\n",
       "    </tr>\n",
       "    <tr>\n",
       "      <th>351725</th>\n",
       "      <td>17.973755</td>\n",
       "      <td>54044</td>\n",
       "      <td>15.638678</td>\n",
       "      <td>0</td>\n",
       "      <td>0</td>\n",
       "      <td>0</td>\n",
       "      <td>0</td>\n",
       "      <td>0</td>\n",
       "      <td>0</td>\n",
       "      <td>0</td>\n",
       "      <td>...</td>\n",
       "      <td>True</td>\n",
       "      <td>True</td>\n",
       "      <td>True</td>\n",
       "      <td>False</td>\n",
       "      <td>False</td>\n",
       "      <td>False</td>\n",
       "      <td>False</td>\n",
       "      <td>True</td>\n",
       "      <td>True</td>\n",
       "      <td>False</td>\n",
       "    </tr>\n",
       "    <tr>\n",
       "      <th>314214</th>\n",
       "      <td>22.262605</td>\n",
       "      <td>27507</td>\n",
       "      <td>18.823554</td>\n",
       "      <td>0</td>\n",
       "      <td>0</td>\n",
       "      <td>0</td>\n",
       "      <td>0</td>\n",
       "      <td>0</td>\n",
       "      <td>0</td>\n",
       "      <td>0</td>\n",
       "      <td>...</td>\n",
       "      <td>True</td>\n",
       "      <td>False</td>\n",
       "      <td>False</td>\n",
       "      <td>False</td>\n",
       "      <td>False</td>\n",
       "      <td>False</td>\n",
       "      <td>False</td>\n",
       "      <td>False</td>\n",
       "      <td>False</td>\n",
       "      <td>False</td>\n",
       "    </tr>\n",
       "    <tr>\n",
       "      <th>367878</th>\n",
       "      <td>15.214161</td>\n",
       "      <td>38251</td>\n",
       "      <td>15.271567</td>\n",
       "      <td>0</td>\n",
       "      <td>0</td>\n",
       "      <td>0</td>\n",
       "      <td>0</td>\n",
       "      <td>0</td>\n",
       "      <td>0</td>\n",
       "      <td>0</td>\n",
       "      <td>...</td>\n",
       "      <td>True</td>\n",
       "      <td>True</td>\n",
       "      <td>True</td>\n",
       "      <td>True</td>\n",
       "      <td>False</td>\n",
       "      <td>False</td>\n",
       "      <td>False</td>\n",
       "      <td>True</td>\n",
       "      <td>True</td>\n",
       "      <td>False</td>\n",
       "    </tr>\n",
       "    <tr>\n",
       "      <th>227680</th>\n",
       "      <td>21.996913</td>\n",
       "      <td>42381</td>\n",
       "      <td>17.973930</td>\n",
       "      <td>0</td>\n",
       "      <td>0</td>\n",
       "      <td>0</td>\n",
       "      <td>0</td>\n",
       "      <td>0</td>\n",
       "      <td>0</td>\n",
       "      <td>0</td>\n",
       "      <td>...</td>\n",
       "      <td>False</td>\n",
       "      <td>False</td>\n",
       "      <td>False</td>\n",
       "      <td>False</td>\n",
       "      <td>False</td>\n",
       "      <td>False</td>\n",
       "      <td>False</td>\n",
       "      <td>True</td>\n",
       "      <td>False</td>\n",
       "      <td>False</td>\n",
       "    </tr>\n",
       "  </tbody>\n",
       "</table>\n",
       "<p>1438956 rows × 987 columns</p>\n",
       "</div>"
      ],
      "text/plain": [
       "        CA이자율_할인전  CA한도금액  CL이자율_할인전  IB문의건수_BL_R6M  IB문의건수_CA_R6M  \\\n",
       "301160  14.611353   55012  14.833936              0              0   \n",
       "42909   22.001406   51955  17.844288              0              0   \n",
       "49631   14.221057   58716  14.868122              0              0   \n",
       "288676  21.886489   51119  17.427597              0              0   \n",
       "5253    16.939709   53971  15.579195              0              0   \n",
       "...           ...     ...        ...            ...            ...   \n",
       "307157  14.756586   33620  14.841655              0              0   \n",
       "351725  17.973755   54044  15.638678              0              0   \n",
       "314214  22.262605   27507  18.823554              0              0   \n",
       "367878  15.214161   38251  15.271567              0              0   \n",
       "227680  21.996913   42381  17.973930              0              0   \n",
       "\n",
       "        IB문의건수_CL_RV_B0M  IB문의건수_CL_RV_R6M  IB문의건수_CS_B0M  IB문의건수_CS_R6M  \\\n",
       "301160                 0                 0              0              0   \n",
       "42909                  0                 0              0              0   \n",
       "49631                  0                 0              0              0   \n",
       "288676                 0                 0              0              0   \n",
       "5253                   0                 0              0              0   \n",
       "...                  ...               ...            ...            ...   \n",
       "307157                 0                 0              0              0   \n",
       "351725                 0                 0              0              0   \n",
       "314214                 0                 0              0              0   \n",
       "367878                 0                 0              0              0   \n",
       "227680                 0                 0              0              0   \n",
       "\n",
       "        IB문의건수_SMS_R6M  ...  rv최초시작후경과일_0  최종카드론이용경과월_100  최초카드론이용경과월_999  \\\n",
       "301160               0  ...          True            True            True   \n",
       "42909                0  ...         False           False           False   \n",
       "49631                0  ...          True            True            True   \n",
       "288676               0  ...          True           False           False   \n",
       "5253                 0  ...          True           False           False   \n",
       "...                ...  ...           ...             ...             ...   \n",
       "307157               0  ...          True           False           False   \n",
       "351725               0  ...          True            True            True   \n",
       "314214               0  ...          True           False           False   \n",
       "367878               0  ...          True            True            True   \n",
       "227680               0  ...         False           False           False   \n",
       "\n",
       "        최종이용일자_CA_0  최종이용일자_기본_0  최종이용일자_신판_0  최종이용일자_일시불_0  최종이용일자_체크_0  \\\n",
       "301160        False        False        False         False         True   \n",
       "42909         False        False        False         False         True   \n",
       "49631          True        False        False         False         True   \n",
       "288676        False        False        False         False        False   \n",
       "5253          False        False        False         False         True   \n",
       "...             ...          ...          ...           ...          ...   \n",
       "307157        False        False        False         False         True   \n",
       "351725        False        False        False         False         True   \n",
       "314214        False        False        False         False        False   \n",
       "367878         True        False        False         False         True   \n",
       "227680        False        False        False         False         True   \n",
       "\n",
       "        최종이용일자_카드론_0  최종이용일자_할부_0  \n",
       "301160          True        False  \n",
       "42909          False        False  \n",
       "49631           True        False  \n",
       "288676         False        False  \n",
       "5253           False        False  \n",
       "...              ...          ...  \n",
       "307157         False        False  \n",
       "351725          True        False  \n",
       "314214         False        False  \n",
       "367878          True        False  \n",
       "227680         False        False  \n",
       "\n",
       "[1438956 rows x 987 columns]"
      ]
     },
     "execution_count": 10,
     "metadata": {},
     "output_type": "execute_result"
    }
   ],
   "source": [
    "hjk = {\"연체일수_B2M\" :[0, 1],\n",
    "\"연체일수_B1M\" :[0, 1, 2],\n",
    "\"최종연체회차\" :[0, 1],\n",
    "\"연체일수_최근\" :[0, 1, 2]}\n",
    "\n",
    "hjk2={\"rv최초시작후경과일\":[0],\n",
    "    \"최종카드론이용경과월\":[100],\n",
    "\"최초카드론이용경과월\":[999],\n",
    " }\n",
    "\n",
    "x10101= dict(zip(x10101,[[0]]*len(x10101)))\n",
    "    \n",
    "\n",
    "klkl=0\n",
    "for i in hjk.keys():\n",
    "    for j in hjk[i]:\n",
    "        x[f\"{i}_{j}\"]=(x[i]==j)\n",
    "        print(i,j)\n",
    "\n",
    "\n",
    "klkl=0\n",
    "for i in hjk2.keys():\n",
    "    for j in hjk2[i]:\n",
    "        x[f\"{i}_{j}\"]=(x[i]==j)\n",
    "        if j==\"None\" or j==None:\n",
    "            klkl+=1\n",
    "        print(i,j)\n",
    "print(klkl)\n",
    "\n",
    "\n",
    "for i in x10101.keys():\n",
    "    for j in x10101[i]:\n",
    "        x[f\"{i}_{j}\"]=(x[i]==j)\n",
    "        print(i,j)\n",
    "\n",
    "x.drop(hjk.keys(),inplace=True,axis=1)\n",
    "x"
   ]
  },
  {
   "cell_type": "markdown",
   "id": "c2587b3f",
   "metadata": {},
   "source": [
    "## nan값 편군으로챌루기"
   ]
  },
  {
   "cell_type": "code",
   "execution_count": 11,
   "id": "5357df21",
   "metadata": {},
   "outputs": [],
   "source": [
    "mean123=x.mean()\n",
    "x.fillna(mean123,inplace=True)"
   ]
  },
  {
   "cell_type": "markdown",
   "id": "2ea310e5",
   "metadata": {},
   "source": [
    "## 혹시몰라서 저장"
   ]
  },
  {
   "cell_type": "code",
   "execution_count": 16,
   "id": "d6d57b20",
   "metadata": {},
   "outputs": [],
   "source": [
    "pd.Series(x.columns).to_csv(\"ppp/open/987_col.csv\",index=False,encoding=\"utf-8-sig\")"
   ]
  },
  {
   "cell_type": "code",
   "execution_count": 29,
   "id": "04ceb977",
   "metadata": {},
   "outputs": [],
   "source": [
    "x[\"segmene\"]=y"
   ]
  },
  {
   "cell_type": "code",
   "execution_count": 27,
   "id": "3d6da13e",
   "metadata": {},
   "outputs": [
    {
     "data": {
      "text/plain": [
       "144"
      ]
     },
     "execution_count": 27,
     "metadata": {},
     "output_type": "execute_result"
    }
   ],
   "source": [
    "len(y[y==1])"
   ]
  },
  {
   "cell_type": "code",
   "execution_count": null,
   "id": "82b8636c",
   "metadata": {},
   "outputs": [],
   "source": [
    "x[x[\"segmene\"]==1]"
   ]
  },
  {
   "cell_type": "code",
   "execution_count": 12,
   "id": "fca18b60",
   "metadata": {},
   "outputs": [
    {
     "name": "stderr",
     "output_type": "stream",
     "text": [
      "C:\\Users\\607-14\\AppData\\Local\\Temp/ipykernel_11488/3238205732.py:1: DeprecationWarning: `np.float` is a deprecated alias for the builtin `float`. To silence this warning, use `float` by itself. Doing this will not modify any behavior and is safe. If you specifically wanted the numpy scalar type, use `np.float64` here.\n",
      "Deprecated in NumPy 1.20; for more details and guidance: https://numpy.org/devdocs/release/1.20.0-notes.html#deprecations\n",
      "  x=x.astype(np.float)\n"
     ]
    }
   ],
   "source": [
    "x=x.astype(np.float)\n",
    "x=x.values\n",
    "y=y.values"
   ]
  },
  {
   "cell_type": "code",
   "execution_count": 13,
   "id": "b3039ffa",
   "metadata": {},
   "outputs": [],
   "source": [
    "from sklearn.preprocessing import StandardScaler\n",
    "tca=StandardScaler()\n",
    "x=tca.fit_transform(x)"
   ]
  },
  {
   "cell_type": "code",
   "execution_count": null,
   "id": "6ae55497",
   "metadata": {},
   "outputs": [],
   "source": []
  },
  {
   "cell_type": "code",
   "execution_count": 15,
   "id": "92065a1e",
   "metadata": {},
   "outputs": [
    {
     "ename": "NameError",
     "evalue": "name 'x' is not defined",
     "output_type": "error",
     "traceback": [
      "\u001b[1;31m---------------------------------------------------------------------------\u001b[0m",
      "\u001b[1;31mNameError\u001b[0m                                 Traceback (most recent call last)",
      "\u001b[1;32m~\\AppData\\Local\\Temp/ipykernel_11488/3600092882.py\u001b[0m in \u001b[0;36m<module>\u001b[1;34m\u001b[0m\n\u001b[0;32m      3\u001b[0m \u001b[1;33m\u001b[0m\u001b[0m\n\u001b[0;32m      4\u001b[0m \u001b[1;31m# x, y, mean, led, hh\u001b[0m\u001b[1;33m\u001b[0m\u001b[1;33m\u001b[0m\u001b[0m\n\u001b[1;32m----> 5\u001b[1;33m \u001b[0msh\u001b[0m\u001b[1;33m=\u001b[0m\u001b[0mx\u001b[0m\u001b[1;33m.\u001b[0m\u001b[0mshape\u001b[0m\u001b[1;33m[\u001b[0m\u001b[1;36m1\u001b[0m\u001b[1;33m]\u001b[0m\u001b[1;33m\u001b[0m\u001b[1;33m\u001b[0m\u001b[0m\n\u001b[0m\u001b[0;32m      6\u001b[0m \u001b[0mnum\u001b[0m\u001b[1;33m=\u001b[0m\u001b[0mmax\u001b[0m\u001b[1;33m(\u001b[0m\u001b[0mlist\u001b[0m\u001b[1;33m(\u001b[0m\u001b[0mmap\u001b[0m\u001b[1;33m(\u001b[0m\u001b[1;32mlambda\u001b[0m \u001b[0mx\u001b[0m\u001b[1;33m:\u001b[0m \u001b[0mint\u001b[0m\u001b[1;33m(\u001b[0m\u001b[0mx\u001b[0m\u001b[1;33m.\u001b[0m\u001b[0msplit\u001b[0m\u001b[1;33m(\u001b[0m\u001b[1;34m\"_\"\u001b[0m\u001b[1;33m)\u001b[0m\u001b[1;33m[\u001b[0m\u001b[1;33m-\u001b[0m\u001b[1;36m1\u001b[0m\u001b[1;33m]\u001b[0m\u001b[1;33m)\u001b[0m\u001b[1;33m,\u001b[0m\u001b[0mos\u001b[0m\u001b[1;33m.\u001b[0m\u001b[0mlistdir\u001b[0m\u001b[1;33m(\u001b[0m\u001b[1;34m\"ppp/open/datas\"\u001b[0m\u001b[1;33m)\u001b[0m\u001b[1;33m)\u001b[0m\u001b[1;33m)\u001b[0m\u001b[1;33m)\u001b[0m\u001b[1;33m+\u001b[0m\u001b[1;36m1\u001b[0m\u001b[1;33m\u001b[0m\u001b[1;33m\u001b[0m\u001b[0m\n\u001b[0;32m      7\u001b[0m \u001b[0mos\u001b[0m\u001b[1;33m.\u001b[0m\u001b[0mmkdir\u001b[0m\u001b[1;33m(\u001b[0m\u001b[1;34mf'ppp/open/datas/data_{num}'\u001b[0m\u001b[1;33m)\u001b[0m\u001b[1;33m\u001b[0m\u001b[1;33m\u001b[0m\u001b[0m\n",
      "\u001b[1;31mNameError\u001b[0m: name 'x' is not defined"
     ]
    }
   ],
   "source": [
    "\n",
    "import os\n",
    "import pickle\n",
    "\n",
    "# x, y, mean, led, hh\n",
    "sh=x.shape[1]\n",
    "num=max(list(map(lambda x: int(x.split(\"_\")[-1]),os.listdir(\"ppp/open/datas\"))))+1\n",
    "os.mkdir(f'ppp/open/datas/data_{num}')\n",
    "\n",
    "np.save(f\"ppp/open/x_ml_{sh}_no_pca_min_max\",x)\n",
    "np.save(f\"ppp/open/y_ml_{sh}_no_pca_min_max\",y)\n",
    "\n",
    "mean123.to_csv(f\"ppp/open/datas/data_{num}/1118628_{sh}_no_pca_min_max_mean.csv\",encoding=\"utf-8-sig\",index=False)\n",
    "\n",
    "for i,j in zip([\"led\",\"led2\",\"hh\",\"tca\"],[led,led2_value,hh,tca]):\n",
    "    with open(f\"ppp/open/datas/data_{num}/all_{i}.pickle\",\"wb\") as fw:\n",
    "        pickle.dump(j,fw)"
   ]
  },
  {
   "cell_type": "code",
   "execution_count": 14,
   "id": "da0813d3",
   "metadata": {},
   "outputs": [],
   "source": [
    "del x,y"
   ]
  },
  {
   "cell_type": "markdown",
   "id": "c28e3b6d",
   "metadata": {},
   "source": [
    "## xgb모델 ㄱ"
   ]
  },
  {
   "cell_type": "code",
   "execution_count": null,
   "id": "4640712e",
   "metadata": {},
   "outputs": [],
   "source": [
    "\n",
    "#from sklearn.preprocessing import StandardScaler\n",
    "#tca=StandardScaler()\n",
    "#x=tca.fit_transform(x)\n",
    "#del x"
   ]
  },
  {
   "cell_type": "code",
   "execution_count": 13,
   "id": "f86a35e2",
   "metadata": {},
   "outputs": [
    {
     "data": {
      "text/plain": [
       "(array([0, 1, 2, 3, 4], dtype=int64),\n",
       " array([   972,    144, 120000, 240000, 600000], dtype=int64))"
      ]
     },
     "execution_count": 13,
     "metadata": {},
     "output_type": "execute_result"
    }
   ],
   "source": [
    "np.unique(y,return_counts=True)"
   ]
  },
  {
   "cell_type": "code",
   "execution_count": 17,
   "id": "988404fd",
   "metadata": {},
   "outputs": [
    {
     "data": {
      "text/plain": [
       "720"
      ]
     },
     "execution_count": 17,
     "metadata": {},
     "output_type": "execute_result"
    }
   ],
   "source": [
    "5*144"
   ]
  },
  {
   "cell_type": "code",
   "execution_count": 13,
   "id": "590cdae0",
   "metadata": {},
   "outputs": [
    {
     "name": "stderr",
     "output_type": "stream",
     "text": [
      "C:\\Users\\607-14\\anaconda3\\lib\\site-packages\\sklearn\\base.py:474: FutureWarning: `BaseEstimator._validate_data` is deprecated in 1.6 and will be removed in 1.7. Use `sklearn.utils.validation.validate_data` instead. This function becomes public and is part of the scikit-learn developer API.\n",
      "  warnings.warn(\n"
     ]
    }
   ],
   "source": [
    "from imblearn.over_sampling import SMOTE, ADASYN\n",
    "\n",
    "\n",
    "\n",
    "smote = ADASYN(sampling_strategy={0:1500,1:300}, random_state=0)\n",
    "x, y = smote.fit_resample(x, y)\n",
    "\n"
   ]
  },
  {
   "cell_type": "code",
   "execution_count": 14,
   "id": "78b15421",
   "metadata": {
    "scrolled": true
   },
   "outputs": [
    {
     "name": "stdout",
     "output_type": "stream",
     "text": [
      "[0]\ttrain-mlogloss:1.38656\teval-mlogloss:1.38669\n",
      "[30]\ttrain-mlogloss:0.42894\teval-mlogloss:0.43614\n",
      "[60]\ttrain-mlogloss:0.36231\teval-mlogloss:0.37460\n",
      "[90]\ttrain-mlogloss:0.33300\teval-mlogloss:0.34928\n",
      "[120]\ttrain-mlogloss:0.31301\teval-mlogloss:0.33300\n",
      "[150]\ttrain-mlogloss:0.29717\teval-mlogloss:0.32067\n",
      "[180]\ttrain-mlogloss:0.28424\teval-mlogloss:0.31096\n",
      "[210]\ttrain-mlogloss:0.27260\teval-mlogloss:0.30242\n",
      "[240]\ttrain-mlogloss:0.26211\teval-mlogloss:0.29494\n",
      "[270]\ttrain-mlogloss:0.25242\teval-mlogloss:0.28808\n",
      "[300]\ttrain-mlogloss:0.24353\teval-mlogloss:0.28192\n",
      "[330]\ttrain-mlogloss:0.23576\teval-mlogloss:0.27653\n",
      "[360]\ttrain-mlogloss:0.22814\teval-mlogloss:0.27147\n",
      "[390]\ttrain-mlogloss:0.22097\teval-mlogloss:0.26652\n",
      "[420]\ttrain-mlogloss:0.21436\teval-mlogloss:0.26207\n",
      "[450]\ttrain-mlogloss:0.20783\teval-mlogloss:0.25770\n",
      "[480]\ttrain-mlogloss:0.20212\teval-mlogloss:0.25400\n",
      "[510]\ttrain-mlogloss:0.19661\teval-mlogloss:0.25056\n",
      "[540]\ttrain-mlogloss:0.19108\teval-mlogloss:0.24692\n",
      "[570]\ttrain-mlogloss:0.18608\teval-mlogloss:0.24394\n",
      "[600]\ttrain-mlogloss:0.18109\teval-mlogloss:0.24076\n",
      "[630]\ttrain-mlogloss:0.17630\teval-mlogloss:0.23766\n",
      "[660]\ttrain-mlogloss:0.17175\teval-mlogloss:0.23476\n",
      "[690]\ttrain-mlogloss:0.16752\teval-mlogloss:0.23219\n",
      "[720]\ttrain-mlogloss:0.16327\teval-mlogloss:0.22945\n",
      "[750]\ttrain-mlogloss:0.15921\teval-mlogloss:0.22691\n",
      "[780]\ttrain-mlogloss:0.15541\teval-mlogloss:0.22453\n",
      "[810]\ttrain-mlogloss:0.15151\teval-mlogloss:0.22199\n",
      "[840]\ttrain-mlogloss:0.14786\teval-mlogloss:0.21973\n",
      "[870]\ttrain-mlogloss:0.14433\teval-mlogloss:0.21746\n",
      "[900]\ttrain-mlogloss:0.14085\teval-mlogloss:0.21520\n",
      "[930]\ttrain-mlogloss:0.13762\teval-mlogloss:0.21318\n",
      "[960]\ttrain-mlogloss:0.13445\teval-mlogloss:0.21122\n",
      "[990]\ttrain-mlogloss:0.13136\teval-mlogloss:0.20926\n",
      "[1020]\ttrain-mlogloss:0.12835\teval-mlogloss:0.20740\n",
      "[1050]\ttrain-mlogloss:0.12554\teval-mlogloss:0.20565\n",
      "[1080]\ttrain-mlogloss:0.12271\teval-mlogloss:0.20384\n",
      "[1110]\ttrain-mlogloss:0.11985\teval-mlogloss:0.20195\n",
      "[1140]\ttrain-mlogloss:0.11715\teval-mlogloss:0.20029\n",
      "[1170]\ttrain-mlogloss:0.11448\teval-mlogloss:0.19857\n",
      "[1200]\ttrain-mlogloss:0.11196\teval-mlogloss:0.19711\n",
      "[1230]\ttrain-mlogloss:0.10951\teval-mlogloss:0.19550\n",
      "[1260]\ttrain-mlogloss:0.10716\teval-mlogloss:0.19404\n",
      "[1290]\ttrain-mlogloss:0.10480\teval-mlogloss:0.19258\n",
      "[1320]\ttrain-mlogloss:0.10249\teval-mlogloss:0.19108\n",
      "[1350]\ttrain-mlogloss:0.10020\teval-mlogloss:0.18963\n",
      "[1380]\ttrain-mlogloss:0.09809\teval-mlogloss:0.18820\n",
      "[1410]\ttrain-mlogloss:0.09588\teval-mlogloss:0.18674\n",
      "[1440]\ttrain-mlogloss:0.09379\teval-mlogloss:0.18538\n",
      "[1470]\ttrain-mlogloss:0.09182\teval-mlogloss:0.18414\n",
      "[1500]\ttrain-mlogloss:0.08986\teval-mlogloss:0.18286\n",
      "[1530]\ttrain-mlogloss:0.08788\teval-mlogloss:0.18151\n",
      "[1560]\ttrain-mlogloss:0.08602\teval-mlogloss:0.18041\n",
      "[1590]\ttrain-mlogloss:0.08418\teval-mlogloss:0.17924\n",
      "[1620]\ttrain-mlogloss:0.08249\teval-mlogloss:0.17816\n",
      "[1650]\ttrain-mlogloss:0.08078\teval-mlogloss:0.17705\n",
      "[1680]\ttrain-mlogloss:0.07911\teval-mlogloss:0.17590\n",
      "[1710]\ttrain-mlogloss:0.07739\teval-mlogloss:0.17465\n",
      "[1740]\ttrain-mlogloss:0.07577\teval-mlogloss:0.17361\n",
      "[1770]\ttrain-mlogloss:0.07419\teval-mlogloss:0.17257\n",
      "[1800]\ttrain-mlogloss:0.07264\teval-mlogloss:0.17153\n",
      "[1830]\ttrain-mlogloss:0.07110\teval-mlogloss:0.17047\n",
      "[1860]\ttrain-mlogloss:0.06966\teval-mlogloss:0.16950\n",
      "[1890]\ttrain-mlogloss:0.06827\teval-mlogloss:0.16856\n",
      "[1920]\ttrain-mlogloss:0.06686\teval-mlogloss:0.16768\n",
      "[1950]\ttrain-mlogloss:0.06551\teval-mlogloss:0.16681\n",
      "[1980]\ttrain-mlogloss:0.06417\teval-mlogloss:0.16594\n",
      "[2010]\ttrain-mlogloss:0.06281\teval-mlogloss:0.16496\n",
      "[2040]\ttrain-mlogloss:0.06149\teval-mlogloss:0.16396\n",
      "[2070]\ttrain-mlogloss:0.06025\teval-mlogloss:0.16313\n",
      "[2100]\ttrain-mlogloss:0.05903\teval-mlogloss:0.16231\n",
      "[2130]\ttrain-mlogloss:0.05783\teval-mlogloss:0.16153\n",
      "[2160]\ttrain-mlogloss:0.05666\teval-mlogloss:0.16080\n",
      "[2190]\ttrain-mlogloss:0.05556\teval-mlogloss:0.16007\n",
      "[2220]\ttrain-mlogloss:0.05443\teval-mlogloss:0.15926\n",
      "[2250]\ttrain-mlogloss:0.05334\teval-mlogloss:0.15851\n",
      "[2280]\ttrain-mlogloss:0.05226\teval-mlogloss:0.15777\n",
      "[2310]\ttrain-mlogloss:0.05125\teval-mlogloss:0.15710\n",
      "[2340]\ttrain-mlogloss:0.05024\teval-mlogloss:0.15637\n",
      "[2370]\ttrain-mlogloss:0.04925\teval-mlogloss:0.15566\n",
      "[2400]\ttrain-mlogloss:0.04827\teval-mlogloss:0.15494\n",
      "[2430]\ttrain-mlogloss:0.04734\teval-mlogloss:0.15438\n",
      "[2460]\ttrain-mlogloss:0.04642\teval-mlogloss:0.15370\n",
      "[2490]\ttrain-mlogloss:0.04550\teval-mlogloss:0.15305\n",
      "[2520]\ttrain-mlogloss:0.04463\teval-mlogloss:0.15242\n",
      "[2550]\ttrain-mlogloss:0.04376\teval-mlogloss:0.15187\n",
      "[2580]\ttrain-mlogloss:0.04293\teval-mlogloss:0.15126\n",
      "[2610]\ttrain-mlogloss:0.04209\teval-mlogloss:0.15070\n",
      "[2640]\ttrain-mlogloss:0.04125\teval-mlogloss:0.15004\n",
      "[2670]\ttrain-mlogloss:0.04041\teval-mlogloss:0.14950\n",
      "[2700]\ttrain-mlogloss:0.03959\teval-mlogloss:0.14892\n",
      "[2730]\ttrain-mlogloss:0.03879\teval-mlogloss:0.14832\n",
      "[2760]\ttrain-mlogloss:0.03801\teval-mlogloss:0.14770\n",
      "[2790]\ttrain-mlogloss:0.03724\teval-mlogloss:0.14711\n",
      "[2820]\ttrain-mlogloss:0.03652\teval-mlogloss:0.14653\n",
      "[2850]\ttrain-mlogloss:0.03579\teval-mlogloss:0.14599\n",
      "[2880]\ttrain-mlogloss:0.03509\teval-mlogloss:0.14547\n",
      "[2910]\ttrain-mlogloss:0.03442\teval-mlogloss:0.14498\n",
      "[2940]\ttrain-mlogloss:0.03371\teval-mlogloss:0.14435\n",
      "[2970]\ttrain-mlogloss:0.03303\teval-mlogloss:0.14380\n",
      "[2999]\ttrain-mlogloss:0.03243\teval-mlogloss:0.14334\n",
      "0.938143783633268\n",
      "[0.94991364 0.93103448 0.91882607 0.92286193 0.96808278]\n",
      "[[   275      0     22      0      0]\n",
      " [     0     54      8      0      0]\n",
      " [     4      0  21665   2017    314]\n",
      " [     0      0   1139  56134   2727]\n",
      " [     3      0    324   3501 104172]]\n",
      "[0]\ttrain-mlogloss:1.38637\teval-mlogloss:1.38654\n",
      "[30]\ttrain-mlogloss:0.43069\teval-mlogloss:0.43374\n",
      "[60]\ttrain-mlogloss:0.36246\teval-mlogloss:0.37011\n",
      "[90]\ttrain-mlogloss:0.33397\teval-mlogloss:0.34569\n",
      "[120]\ttrain-mlogloss:0.31428\teval-mlogloss:0.32982\n",
      "[150]\ttrain-mlogloss:0.29821\teval-mlogloss:0.31727\n",
      "[180]\ttrain-mlogloss:0.28513\teval-mlogloss:0.30766\n",
      "[210]\ttrain-mlogloss:0.27366\teval-mlogloss:0.29923\n",
      "[240]\ttrain-mlogloss:0.26307\teval-mlogloss:0.29164\n",
      "[270]\ttrain-mlogloss:0.25316\teval-mlogloss:0.28469\n",
      "[300]\ttrain-mlogloss:0.24466\teval-mlogloss:0.27895\n",
      "[330]\ttrain-mlogloss:0.23650\teval-mlogloss:0.27327\n",
      "[360]\ttrain-mlogloss:0.22901\teval-mlogloss:0.26828\n",
      "[390]\ttrain-mlogloss:0.22198\teval-mlogloss:0.26371\n",
      "[420]\ttrain-mlogloss:0.21542\teval-mlogloss:0.25947\n",
      "[450]\ttrain-mlogloss:0.20918\teval-mlogloss:0.25548\n",
      "[480]\ttrain-mlogloss:0.20294\teval-mlogloss:0.25134\n",
      "[510]\ttrain-mlogloss:0.19748\teval-mlogloss:0.24785\n",
      "[540]\ttrain-mlogloss:0.19205\teval-mlogloss:0.24437\n",
      "[570]\ttrain-mlogloss:0.18677\teval-mlogloss:0.24098\n",
      "[600]\ttrain-mlogloss:0.18197\teval-mlogloss:0.23807\n",
      "[630]\ttrain-mlogloss:0.17726\teval-mlogloss:0.23515\n",
      "[660]\ttrain-mlogloss:0.17272\teval-mlogloss:0.23220\n",
      "[690]\ttrain-mlogloss:0.16826\teval-mlogloss:0.22938\n",
      "[720]\ttrain-mlogloss:0.16392\teval-mlogloss:0.22663\n",
      "[750]\ttrain-mlogloss:0.15991\teval-mlogloss:0.22412\n",
      "[780]\ttrain-mlogloss:0.15619\teval-mlogloss:0.22196\n",
      "[810]\ttrain-mlogloss:0.15228\teval-mlogloss:0.21957\n",
      "[840]\ttrain-mlogloss:0.14844\teval-mlogloss:0.21708\n",
      "[870]\ttrain-mlogloss:0.14493\teval-mlogloss:0.21493\n",
      "[900]\ttrain-mlogloss:0.14150\teval-mlogloss:0.21279\n",
      "[930]\ttrain-mlogloss:0.13823\teval-mlogloss:0.21069\n",
      "[960]\ttrain-mlogloss:0.13490\teval-mlogloss:0.20861\n",
      "[990]\ttrain-mlogloss:0.13176\teval-mlogloss:0.20657\n",
      "[1020]\ttrain-mlogloss:0.12880\teval-mlogloss:0.20469\n",
      "[1050]\ttrain-mlogloss:0.12588\teval-mlogloss:0.20279\n",
      "[1080]\ttrain-mlogloss:0.12299\teval-mlogloss:0.20091\n",
      "[1110]\ttrain-mlogloss:0.12024\teval-mlogloss:0.19921\n",
      "[1140]\ttrain-mlogloss:0.11771\teval-mlogloss:0.19771\n",
      "[1170]\ttrain-mlogloss:0.11502\teval-mlogloss:0.19604\n",
      "[1200]\ttrain-mlogloss:0.11242\teval-mlogloss:0.19436\n",
      "[1230]\ttrain-mlogloss:0.11000\teval-mlogloss:0.19286\n",
      "[1260]\ttrain-mlogloss:0.10765\teval-mlogloss:0.19142\n",
      "[1290]\ttrain-mlogloss:0.10539\teval-mlogloss:0.19001\n",
      "[1320]\ttrain-mlogloss:0.10302\teval-mlogloss:0.18848\n",
      "[1350]\ttrain-mlogloss:0.10076\teval-mlogloss:0.18699\n",
      "[1380]\ttrain-mlogloss:0.09866\teval-mlogloss:0.18569\n",
      "[1410]\ttrain-mlogloss:0.09669\teval-mlogloss:0.18451\n",
      "[1440]\ttrain-mlogloss:0.09466\teval-mlogloss:0.18319\n",
      "[1470]\ttrain-mlogloss:0.09265\teval-mlogloss:0.18197\n",
      "[1500]\ttrain-mlogloss:0.09067\teval-mlogloss:0.18073\n",
      "[1530]\ttrain-mlogloss:0.08874\teval-mlogloss:0.17949\n",
      "[1560]\ttrain-mlogloss:0.08696\teval-mlogloss:0.17837\n"
     ]
    },
    {
     "name": "stdout",
     "output_type": "stream",
     "text": [
      "[1590]\ttrain-mlogloss:0.08518\teval-mlogloss:0.17731\n",
      "[1620]\ttrain-mlogloss:0.08343\teval-mlogloss:0.17615\n",
      "[1650]\ttrain-mlogloss:0.08166\teval-mlogloss:0.17495\n",
      "[1680]\ttrain-mlogloss:0.07992\teval-mlogloss:0.17375\n",
      "[1710]\ttrain-mlogloss:0.07826\teval-mlogloss:0.17253\n",
      "[1740]\ttrain-mlogloss:0.07662\teval-mlogloss:0.17150\n",
      "[1770]\ttrain-mlogloss:0.07503\teval-mlogloss:0.17044\n",
      "[1800]\ttrain-mlogloss:0.07339\teval-mlogloss:0.16929\n",
      "[1830]\ttrain-mlogloss:0.07186\teval-mlogloss:0.16821\n",
      "[1860]\ttrain-mlogloss:0.07040\teval-mlogloss:0.16719\n",
      "[1890]\ttrain-mlogloss:0.06888\teval-mlogloss:0.16620\n",
      "[1920]\ttrain-mlogloss:0.06744\teval-mlogloss:0.16522\n",
      "[1950]\ttrain-mlogloss:0.06602\teval-mlogloss:0.16421\n",
      "[1980]\ttrain-mlogloss:0.06475\teval-mlogloss:0.16340\n",
      "[2010]\ttrain-mlogloss:0.06350\teval-mlogloss:0.16252\n",
      "[2040]\ttrain-mlogloss:0.06218\teval-mlogloss:0.16161\n",
      "[2070]\ttrain-mlogloss:0.06096\teval-mlogloss:0.16078\n",
      "[2100]\ttrain-mlogloss:0.05977\teval-mlogloss:0.16002\n",
      "[2130]\ttrain-mlogloss:0.05847\teval-mlogloss:0.15917\n",
      "[2160]\ttrain-mlogloss:0.05728\teval-mlogloss:0.15838\n",
      "[2190]\ttrain-mlogloss:0.05613\teval-mlogloss:0.15756\n",
      "[2220]\ttrain-mlogloss:0.05498\teval-mlogloss:0.15671\n",
      "[2250]\ttrain-mlogloss:0.05386\teval-mlogloss:0.15598\n",
      "[2280]\ttrain-mlogloss:0.05284\teval-mlogloss:0.15533\n",
      "[2310]\ttrain-mlogloss:0.05180\teval-mlogloss:0.15466\n",
      "[2340]\ttrain-mlogloss:0.05078\teval-mlogloss:0.15390\n",
      "[2370]\ttrain-mlogloss:0.04975\teval-mlogloss:0.15316\n",
      "[2400]\ttrain-mlogloss:0.04873\teval-mlogloss:0.15236\n",
      "[2430]\ttrain-mlogloss:0.04776\teval-mlogloss:0.15170\n",
      "[2460]\ttrain-mlogloss:0.04680\teval-mlogloss:0.15103\n",
      "[2490]\ttrain-mlogloss:0.04589\teval-mlogloss:0.15039\n",
      "[2520]\ttrain-mlogloss:0.04498\teval-mlogloss:0.14980\n",
      "[2550]\ttrain-mlogloss:0.04406\teval-mlogloss:0.14915\n",
      "[2580]\ttrain-mlogloss:0.04319\teval-mlogloss:0.14856\n",
      "[2610]\ttrain-mlogloss:0.04234\teval-mlogloss:0.14796\n",
      "[2640]\ttrain-mlogloss:0.04150\teval-mlogloss:0.14736\n",
      "[2670]\ttrain-mlogloss:0.04069\teval-mlogloss:0.14681\n",
      "[2700]\ttrain-mlogloss:0.03988\teval-mlogloss:0.14617\n",
      "[2730]\ttrain-mlogloss:0.03911\teval-mlogloss:0.14558\n",
      "[2760]\ttrain-mlogloss:0.03831\teval-mlogloss:0.14496\n",
      "[2790]\ttrain-mlogloss:0.03755\teval-mlogloss:0.14443\n",
      "[2820]\ttrain-mlogloss:0.03680\teval-mlogloss:0.14389\n",
      "[2850]\ttrain-mlogloss:0.03611\teval-mlogloss:0.14344\n",
      "[2880]\ttrain-mlogloss:0.03538\teval-mlogloss:0.14282\n",
      "[2910]\ttrain-mlogloss:0.03469\teval-mlogloss:0.14236\n",
      "[2940]\ttrain-mlogloss:0.03400\teval-mlogloss:0.14188\n",
      "[2970]\ttrain-mlogloss:0.03334\teval-mlogloss:0.14139\n",
      "[2999]\ttrain-mlogloss:0.03272\teval-mlogloss:0.14090\n",
      "0.9424067476702049\n",
      "[0.96068376 0.94117647 0.91930848 0.92266166 0.96820336]\n",
      "[[   281      0     15      0      0]\n",
      " [     0     56      7      0      0]\n",
      " [     6      0  21749   1959    286]\n",
      " [     1      0   1214  56060   2725]\n",
      " [     1      0    331   3499 104169]]\n",
      "[0]\ttrain-mlogloss:1.38641\teval-mlogloss:1.38656\n",
      "[30]\ttrain-mlogloss:0.42886\teval-mlogloss:0.43510\n",
      "[60]\ttrain-mlogloss:0.36229\teval-mlogloss:0.37335\n",
      "[90]\ttrain-mlogloss:0.33271\teval-mlogloss:0.34794\n",
      "[120]\ttrain-mlogloss:0.31307\teval-mlogloss:0.33185\n",
      "[150]\ttrain-mlogloss:0.29760\teval-mlogloss:0.32001\n",
      "[180]\ttrain-mlogloss:0.28415\teval-mlogloss:0.30979\n",
      "[210]\ttrain-mlogloss:0.27197\teval-mlogloss:0.30063\n",
      "[240]\ttrain-mlogloss:0.26134\teval-mlogloss:0.29301\n",
      "[270]\ttrain-mlogloss:0.25177\teval-mlogloss:0.28634\n",
      "[300]\ttrain-mlogloss:0.24314\teval-mlogloss:0.28040\n",
      "[330]\ttrain-mlogloss:0.23501\teval-mlogloss:0.27489\n",
      "[360]\ttrain-mlogloss:0.22772\teval-mlogloss:0.27005\n",
      "[390]\ttrain-mlogloss:0.22066\teval-mlogloss:0.26540\n",
      "[420]\ttrain-mlogloss:0.21420\teval-mlogloss:0.26138\n",
      "[450]\ttrain-mlogloss:0.20790\teval-mlogloss:0.25733\n",
      "[480]\ttrain-mlogloss:0.20206\teval-mlogloss:0.25359\n",
      "[510]\ttrain-mlogloss:0.19630\teval-mlogloss:0.24980\n",
      "[540]\ttrain-mlogloss:0.19085\teval-mlogloss:0.24631\n",
      "[570]\ttrain-mlogloss:0.18564\teval-mlogloss:0.24296\n",
      "[600]\ttrain-mlogloss:0.18094\teval-mlogloss:0.24010\n",
      "[630]\ttrain-mlogloss:0.17621\teval-mlogloss:0.23713\n",
      "[660]\ttrain-mlogloss:0.17174\teval-mlogloss:0.23434\n",
      "[690]\ttrain-mlogloss:0.16745\teval-mlogloss:0.23166\n",
      "[720]\ttrain-mlogloss:0.16325\teval-mlogloss:0.22903\n",
      "[750]\ttrain-mlogloss:0.15915\teval-mlogloss:0.22651\n",
      "[780]\ttrain-mlogloss:0.15522\teval-mlogloss:0.22402\n",
      "[810]\ttrain-mlogloss:0.15123\teval-mlogloss:0.22147\n",
      "[840]\ttrain-mlogloss:0.14762\teval-mlogloss:0.21925\n",
      "[870]\ttrain-mlogloss:0.14408\teval-mlogloss:0.21704\n",
      "[900]\ttrain-mlogloss:0.14074\teval-mlogloss:0.21504\n",
      "[930]\ttrain-mlogloss:0.13747\teval-mlogloss:0.21302\n",
      "[960]\ttrain-mlogloss:0.13430\teval-mlogloss:0.21099\n",
      "[990]\ttrain-mlogloss:0.13127\teval-mlogloss:0.20907\n",
      "[1020]\ttrain-mlogloss:0.12827\teval-mlogloss:0.20709\n",
      "[1050]\ttrain-mlogloss:0.12541\teval-mlogloss:0.20525\n",
      "[1080]\ttrain-mlogloss:0.12251\teval-mlogloss:0.20348\n",
      "[1110]\ttrain-mlogloss:0.11984\teval-mlogloss:0.20191\n",
      "[1140]\ttrain-mlogloss:0.11717\teval-mlogloss:0.20017\n",
      "[1170]\ttrain-mlogloss:0.11457\teval-mlogloss:0.19850\n",
      "[1200]\ttrain-mlogloss:0.11197\teval-mlogloss:0.19686\n",
      "[1230]\ttrain-mlogloss:0.10958\teval-mlogloss:0.19531\n",
      "[1260]\ttrain-mlogloss:0.10717\teval-mlogloss:0.19377\n",
      "[1290]\ttrain-mlogloss:0.10481\teval-mlogloss:0.19224\n",
      "[1320]\ttrain-mlogloss:0.10246\teval-mlogloss:0.19072\n",
      "[1350]\ttrain-mlogloss:0.10031\teval-mlogloss:0.18943\n",
      "[1380]\ttrain-mlogloss:0.09819\teval-mlogloss:0.18811\n",
      "[1410]\ttrain-mlogloss:0.09603\teval-mlogloss:0.18667\n",
      "[1440]\ttrain-mlogloss:0.09397\teval-mlogloss:0.18539\n",
      "[1470]\ttrain-mlogloss:0.09199\teval-mlogloss:0.18409\n",
      "[1500]\ttrain-mlogloss:0.09003\teval-mlogloss:0.18279\n",
      "[1530]\ttrain-mlogloss:0.08813\teval-mlogloss:0.18159\n",
      "[1560]\ttrain-mlogloss:0.08637\teval-mlogloss:0.18049\n",
      "[1590]\ttrain-mlogloss:0.08451\teval-mlogloss:0.17929\n",
      "[1620]\ttrain-mlogloss:0.08271\teval-mlogloss:0.17813\n",
      "[1650]\ttrain-mlogloss:0.08094\teval-mlogloss:0.17699\n"
     ]
    },
    {
     "ename": "KeyboardInterrupt",
     "evalue": "",
     "output_type": "error",
     "traceback": [
      "\u001b[1;31m---------------------------------------------------------------------------\u001b[0m",
      "\u001b[1;31mKeyboardInterrupt\u001b[0m                         Traceback (most recent call last)",
      "\u001b[1;32m~\\AppData\\Local\\Temp/ipykernel_8912/3006004897.py\u001b[0m in \u001b[0;36m<module>\u001b[1;34m\u001b[0m\n\u001b[0;32m     40\u001b[0m                             }\n\u001b[0;32m     41\u001b[0m \u001b[1;33m\u001b[0m\u001b[0m\n\u001b[1;32m---> 42\u001b[1;33m                         xgb_model = xgb.train(\n\u001b[0m\u001b[0;32m     43\u001b[0m                             \u001b[0mparams\u001b[0m\u001b[1;33m=\u001b[0m\u001b[0mparams\u001b[0m\u001b[1;33m,\u001b[0m\u001b[1;33m\u001b[0m\u001b[1;33m\u001b[0m\u001b[0m\n\u001b[0;32m     44\u001b[0m                             \u001b[0mdtrain\u001b[0m\u001b[1;33m=\u001b[0m\u001b[0mx_tr1\u001b[0m\u001b[1;33m,\u001b[0m\u001b[1;33m\u001b[0m\u001b[1;33m\u001b[0m\u001b[0m\n",
      "\u001b[1;32m~\\anaconda3\\lib\\site-packages\\xgboost\\core.py\u001b[0m in \u001b[0;36minner_f\u001b[1;34m(*args, **kwargs)\u001b[0m\n\u001b[0;32m    724\u001b[0m             \u001b[1;32mfor\u001b[0m \u001b[0mk\u001b[0m\u001b[1;33m,\u001b[0m \u001b[0marg\u001b[0m \u001b[1;32min\u001b[0m \u001b[0mzip\u001b[0m\u001b[1;33m(\u001b[0m\u001b[0msig\u001b[0m\u001b[1;33m.\u001b[0m\u001b[0mparameters\u001b[0m\u001b[1;33m,\u001b[0m \u001b[0margs\u001b[0m\u001b[1;33m)\u001b[0m\u001b[1;33m:\u001b[0m\u001b[1;33m\u001b[0m\u001b[1;33m\u001b[0m\u001b[0m\n\u001b[0;32m    725\u001b[0m                 \u001b[0mkwargs\u001b[0m\u001b[1;33m[\u001b[0m\u001b[0mk\u001b[0m\u001b[1;33m]\u001b[0m \u001b[1;33m=\u001b[0m \u001b[0marg\u001b[0m\u001b[1;33m\u001b[0m\u001b[1;33m\u001b[0m\u001b[0m\n\u001b[1;32m--> 726\u001b[1;33m             \u001b[1;32mreturn\u001b[0m \u001b[0mfunc\u001b[0m\u001b[1;33m(\u001b[0m\u001b[1;33m**\u001b[0m\u001b[0mkwargs\u001b[0m\u001b[1;33m)\u001b[0m\u001b[1;33m\u001b[0m\u001b[1;33m\u001b[0m\u001b[0m\n\u001b[0m\u001b[0;32m    727\u001b[0m \u001b[1;33m\u001b[0m\u001b[0m\n\u001b[0;32m    728\u001b[0m         \u001b[1;32mreturn\u001b[0m \u001b[0minner_f\u001b[0m\u001b[1;33m\u001b[0m\u001b[1;33m\u001b[0m\u001b[0m\n",
      "\u001b[1;32m~\\anaconda3\\lib\\site-packages\\xgboost\\training.py\u001b[0m in \u001b[0;36mtrain\u001b[1;34m(params, dtrain, num_boost_round, evals, obj, feval, maximize, early_stopping_rounds, evals_result, verbose_eval, xgb_model, callbacks, custom_metric)\u001b[0m\n\u001b[0;32m    179\u001b[0m         \u001b[1;32mif\u001b[0m \u001b[0mcb_container\u001b[0m\u001b[1;33m.\u001b[0m\u001b[0mbefore_iteration\u001b[0m\u001b[1;33m(\u001b[0m\u001b[0mbst\u001b[0m\u001b[1;33m,\u001b[0m \u001b[0mi\u001b[0m\u001b[1;33m,\u001b[0m \u001b[0mdtrain\u001b[0m\u001b[1;33m,\u001b[0m \u001b[0mevals\u001b[0m\u001b[1;33m)\u001b[0m\u001b[1;33m:\u001b[0m\u001b[1;33m\u001b[0m\u001b[1;33m\u001b[0m\u001b[0m\n\u001b[0;32m    180\u001b[0m             \u001b[1;32mbreak\u001b[0m\u001b[1;33m\u001b[0m\u001b[1;33m\u001b[0m\u001b[0m\n\u001b[1;32m--> 181\u001b[1;33m         \u001b[0mbst\u001b[0m\u001b[1;33m.\u001b[0m\u001b[0mupdate\u001b[0m\u001b[1;33m(\u001b[0m\u001b[0mdtrain\u001b[0m\u001b[1;33m,\u001b[0m \u001b[0miteration\u001b[0m\u001b[1;33m=\u001b[0m\u001b[0mi\u001b[0m\u001b[1;33m,\u001b[0m \u001b[0mfobj\u001b[0m\u001b[1;33m=\u001b[0m\u001b[0mobj\u001b[0m\u001b[1;33m)\u001b[0m\u001b[1;33m\u001b[0m\u001b[1;33m\u001b[0m\u001b[0m\n\u001b[0m\u001b[0;32m    182\u001b[0m         \u001b[1;32mif\u001b[0m \u001b[0mcb_container\u001b[0m\u001b[1;33m.\u001b[0m\u001b[0mafter_iteration\u001b[0m\u001b[1;33m(\u001b[0m\u001b[0mbst\u001b[0m\u001b[1;33m,\u001b[0m \u001b[0mi\u001b[0m\u001b[1;33m,\u001b[0m \u001b[0mdtrain\u001b[0m\u001b[1;33m,\u001b[0m \u001b[0mevals\u001b[0m\u001b[1;33m)\u001b[0m\u001b[1;33m:\u001b[0m\u001b[1;33m\u001b[0m\u001b[1;33m\u001b[0m\u001b[0m\n\u001b[0;32m    183\u001b[0m             \u001b[1;32mbreak\u001b[0m\u001b[1;33m\u001b[0m\u001b[1;33m\u001b[0m\u001b[0m\n",
      "\u001b[1;32m~\\anaconda3\\lib\\site-packages\\xgboost\\core.py\u001b[0m in \u001b[0;36mupdate\u001b[1;34m(self, dtrain, iteration, fobj)\u001b[0m\n\u001b[0;32m   2099\u001b[0m         \u001b[1;32mif\u001b[0m \u001b[0mfobj\u001b[0m \u001b[1;32mis\u001b[0m \u001b[1;32mNone\u001b[0m\u001b[1;33m:\u001b[0m\u001b[1;33m\u001b[0m\u001b[1;33m\u001b[0m\u001b[0m\n\u001b[0;32m   2100\u001b[0m             _check_call(\n\u001b[1;32m-> 2101\u001b[1;33m                 _LIB.XGBoosterUpdateOneIter(\n\u001b[0m\u001b[0;32m   2102\u001b[0m                     \u001b[0mself\u001b[0m\u001b[1;33m.\u001b[0m\u001b[0mhandle\u001b[0m\u001b[1;33m,\u001b[0m \u001b[0mctypes\u001b[0m\u001b[1;33m.\u001b[0m\u001b[0mc_int\u001b[0m\u001b[1;33m(\u001b[0m\u001b[0miteration\u001b[0m\u001b[1;33m)\u001b[0m\u001b[1;33m,\u001b[0m \u001b[0mdtrain\u001b[0m\u001b[1;33m.\u001b[0m\u001b[0mhandle\u001b[0m\u001b[1;33m\u001b[0m\u001b[1;33m\u001b[0m\u001b[0m\n\u001b[0;32m   2103\u001b[0m                 )\n",
      "\u001b[1;31mKeyboardInterrupt\u001b[0m: "
     ]
    }
   ],
   "source": [
    "from sklearn.model_selection import StratifiedKFold\n",
    "import xgboost as xgb\n",
    "import warnings\n",
    "warnings.filterwarnings(\"ignore\")\n",
    "from sklearn.model_selection import train_test_split\n",
    "import numpy as np\n",
    "from sklearn.metrics import accuracy_score,f1_score,confusion_matrix\n",
    "import datetime\n",
    "import time\n",
    "\n",
    "\n",
    "models = []\n",
    "fkn=0\n",
    "import os\n",
    "os.mkdir(\"ppp/open/models3_5_5_2\")\n",
    "for kfold_num in [5]:\n",
    "     \n",
    "    kf = StratifiedKFold(n_splits=kfold_num, shuffle=True, random_state=2025+fkn)\n",
    "    try:\n",
    "        for train_index, val_index in kf.split(x, y):\n",
    "\n",
    "            y_te1=y[val_index]\n",
    "            x_tr1 = xgb.DMatrix(x[train_index], label=y[train_index])\n",
    "            x_te1 = xgb.DMatrix(x[val_index], label=y_te1)\n",
    "            watchlist = [(x_tr1, 'train'), (x_te1, 'eval')]\n",
    "            for kima in [6]:\n",
    "                for subcol in [0.8]:\n",
    "\n",
    "                        params = {\n",
    "                                'objective': 'multi:softprob',\n",
    "                                'num_class': 5,\n",
    "                                'learning_rate': 0.25,\n",
    "                                'max_depth': kima,\n",
    "                                'random_state': 2025,\n",
    "                                'tree_method': 'hist',\n",
    "                                'device': 'cuda',\n",
    "                                'subsample': subcol,\n",
    "                                'colsample_bytree': subcol,\n",
    "                                'eval_metric': 'mlogloss'\n",
    "                            }\n",
    "\n",
    "                        xgb_model = xgb.train(\n",
    "                            params=params,\n",
    "                            dtrain=x_tr1,\n",
    "                            num_boost_round=3000,\n",
    "                            evals=watchlist,\n",
    "                            early_stopping_rounds=30,\n",
    "                            verbose_eval=30  \n",
    "                        )\n",
    "\n",
    "                        y_pred = xgb_model.predict(x_te1)\n",
    "                        y_pred = y_pred.argmax(axis=1)\n",
    "                        flflfl=f1_score(y_te1,y_pred ,average=\"macro\")\n",
    "                        print(f1_score(y_te1,y_pred ,average=\"macro\"))\n",
    "                        print(f1_score( y_te1,y_pred,average=None))\n",
    "                        print(confusion_matrix( y_te1,y_pred))\n",
    "\n",
    "                        xgb_model.save_model(f\"ppp/open/models3_5_5_2/xgb_an_{kfold_num}_{fkn}_{1000}_{25}_{kima}_{str(subcol).replace('.','')}_{str(flflfl).replace('.','')[:4]}.model\")\n",
    "                        # 모델 저장\n",
    "                        models.append(xgb_model)\n",
    "                        fkn+=1\n",
    "                        time.sleep(10)\n",
    "            del x_tr1, x_te1,y_pred,y_te1,flflfl\n",
    "    except Exception as e:\n",
    "        print(\"ERROR\",e)"
   ]
  },
  {
   "cell_type": "code",
   "execution_count": null,
   "id": "e1518a03",
   "metadata": {},
   "outputs": [],
   "source": []
  },
  {
   "cell_type": "code",
   "execution_count": null,
   "id": "313a253f",
   "metadata": {},
   "outputs": [],
   "source": []
  },
  {
   "cell_type": "code",
   "execution_count": 1,
   "id": "fda1966c",
   "metadata": {
    "scrolled": true
   },
   "outputs": [
    {
     "name": "stdout",
     "output_type": "stream",
     "text": [
      "load_data 1438956\n",
      "(384609, 987) (384609,)\n"
     ]
    },
    {
     "ename": "XGBoostError",
     "evalue": "[18:28:16] C:\\buildkite-agent\\builds\\buildkite-windows-cpu-autoscaling-group-i-08cbc0333d8d4aae1-1\\xgboost\\xgboost-ci-windows\\src\\data\\data.cc:508: Check failed: this->labels.Size() % this->num_row_ == 0 (231012 vs. 0) : Incorrect size for labels.",
     "output_type": "error",
     "traceback": [
      "\u001b[1;31m---------------------------------------------------------------------------\u001b[0m",
      "\u001b[1;31mXGBoostError\u001b[0m                              Traceback (most recent call last)",
      "\u001b[1;32m~\\AppData\\Local\\Temp/ipykernel_16916/3991979667.py\u001b[0m in \u001b[0;36m<module>\u001b[1;34m\u001b[0m\n\u001b[0;32m     80\u001b[0m \u001b[1;33m\u001b[0m\u001b[0m\n\u001b[0;32m     81\u001b[0m \u001b[1;33m\u001b[0m\u001b[0m\n\u001b[1;32m---> 82\u001b[1;33m                     \u001b[0mx_tr1\u001b[0m \u001b[1;33m=\u001b[0m \u001b[0mxgb\u001b[0m\u001b[1;33m.\u001b[0m\u001b[0mDMatrix\u001b[0m\u001b[1;33m(\u001b[0m\u001b[0mx_tr\u001b[0m\u001b[1;33m,\u001b[0m \u001b[0mlabel\u001b[0m\u001b[1;33m=\u001b[0m\u001b[0my_tr\u001b[0m\u001b[1;33m)\u001b[0m\u001b[1;33m\u001b[0m\u001b[1;33m\u001b[0m\u001b[0m\n\u001b[0m\u001b[0;32m     83\u001b[0m                     \u001b[0mx_te1\u001b[0m \u001b[1;33m=\u001b[0m \u001b[0mxgb\u001b[0m\u001b[1;33m.\u001b[0m\u001b[0mDMatrix\u001b[0m\u001b[1;33m(\u001b[0m\u001b[0mx_te\u001b[0m\u001b[1;33m,\u001b[0m \u001b[0mlabel\u001b[0m\u001b[1;33m=\u001b[0m\u001b[0my_te\u001b[0m\u001b[1;33m)\u001b[0m\u001b[1;33m\u001b[0m\u001b[1;33m\u001b[0m\u001b[0m\n\u001b[0;32m     84\u001b[0m                     \u001b[0mwatchlist\u001b[0m \u001b[1;33m=\u001b[0m \u001b[1;33m[\u001b[0m\u001b[1;33m(\u001b[0m\u001b[0mx_tr1\u001b[0m\u001b[1;33m,\u001b[0m \u001b[1;34m'train'\u001b[0m\u001b[1;33m)\u001b[0m\u001b[1;33m,\u001b[0m \u001b[1;33m(\u001b[0m\u001b[0mx_te1\u001b[0m\u001b[1;33m,\u001b[0m \u001b[1;34m'eval'\u001b[0m\u001b[1;33m)\u001b[0m\u001b[1;33m]\u001b[0m\u001b[1;33m\u001b[0m\u001b[1;33m\u001b[0m\u001b[0m\n",
      "\u001b[1;32m~\\anaconda3\\lib\\site-packages\\xgboost\\core.py\u001b[0m in \u001b[0;36minner_f\u001b[1;34m(*args, **kwargs)\u001b[0m\n\u001b[0;32m    724\u001b[0m             \u001b[1;32mfor\u001b[0m \u001b[0mk\u001b[0m\u001b[1;33m,\u001b[0m \u001b[0marg\u001b[0m \u001b[1;32min\u001b[0m \u001b[0mzip\u001b[0m\u001b[1;33m(\u001b[0m\u001b[0msig\u001b[0m\u001b[1;33m.\u001b[0m\u001b[0mparameters\u001b[0m\u001b[1;33m,\u001b[0m \u001b[0margs\u001b[0m\u001b[1;33m)\u001b[0m\u001b[1;33m:\u001b[0m\u001b[1;33m\u001b[0m\u001b[1;33m\u001b[0m\u001b[0m\n\u001b[0;32m    725\u001b[0m                 \u001b[0mkwargs\u001b[0m\u001b[1;33m[\u001b[0m\u001b[0mk\u001b[0m\u001b[1;33m]\u001b[0m \u001b[1;33m=\u001b[0m \u001b[0marg\u001b[0m\u001b[1;33m\u001b[0m\u001b[1;33m\u001b[0m\u001b[0m\n\u001b[1;32m--> 726\u001b[1;33m             \u001b[1;32mreturn\u001b[0m \u001b[0mfunc\u001b[0m\u001b[1;33m(\u001b[0m\u001b[1;33m**\u001b[0m\u001b[0mkwargs\u001b[0m\u001b[1;33m)\u001b[0m\u001b[1;33m\u001b[0m\u001b[1;33m\u001b[0m\u001b[0m\n\u001b[0m\u001b[0;32m    727\u001b[0m \u001b[1;33m\u001b[0m\u001b[0m\n\u001b[0;32m    728\u001b[0m         \u001b[1;32mreturn\u001b[0m \u001b[0minner_f\u001b[0m\u001b[1;33m\u001b[0m\u001b[1;33m\u001b[0m\u001b[0m\n",
      "\u001b[1;32m~\\anaconda3\\lib\\site-packages\\xgboost\\core.py\u001b[0m in \u001b[0;36m__init__\u001b[1;34m(self, data, label, weight, base_margin, missing, silent, feature_names, feature_types, nthread, group, qid, label_lower_bound, label_upper_bound, feature_weights, enable_categorical, data_split_mode)\u001b[0m\n\u001b[0;32m    888\u001b[0m         \u001b[0mself\u001b[0m\u001b[1;33m.\u001b[0m\u001b[0mhandle\u001b[0m \u001b[1;33m=\u001b[0m \u001b[0mhandle\u001b[0m\u001b[1;33m\u001b[0m\u001b[1;33m\u001b[0m\u001b[0m\n\u001b[0;32m    889\u001b[0m \u001b[1;33m\u001b[0m\u001b[0m\n\u001b[1;32m--> 890\u001b[1;33m         self.set_info(\n\u001b[0m\u001b[0;32m    891\u001b[0m             \u001b[0mlabel\u001b[0m\u001b[1;33m=\u001b[0m\u001b[0mlabel\u001b[0m\u001b[1;33m,\u001b[0m\u001b[1;33m\u001b[0m\u001b[1;33m\u001b[0m\u001b[0m\n\u001b[0;32m    892\u001b[0m             \u001b[0mweight\u001b[0m\u001b[1;33m=\u001b[0m\u001b[0mweight\u001b[0m\u001b[1;33m,\u001b[0m\u001b[1;33m\u001b[0m\u001b[1;33m\u001b[0m\u001b[0m\n",
      "\u001b[1;32m~\\anaconda3\\lib\\site-packages\\xgboost\\core.py\u001b[0m in \u001b[0;36minner_f\u001b[1;34m(*args, **kwargs)\u001b[0m\n\u001b[0;32m    724\u001b[0m             \u001b[1;32mfor\u001b[0m \u001b[0mk\u001b[0m\u001b[1;33m,\u001b[0m \u001b[0marg\u001b[0m \u001b[1;32min\u001b[0m \u001b[0mzip\u001b[0m\u001b[1;33m(\u001b[0m\u001b[0msig\u001b[0m\u001b[1;33m.\u001b[0m\u001b[0mparameters\u001b[0m\u001b[1;33m,\u001b[0m \u001b[0margs\u001b[0m\u001b[1;33m)\u001b[0m\u001b[1;33m:\u001b[0m\u001b[1;33m\u001b[0m\u001b[1;33m\u001b[0m\u001b[0m\n\u001b[0;32m    725\u001b[0m                 \u001b[0mkwargs\u001b[0m\u001b[1;33m[\u001b[0m\u001b[0mk\u001b[0m\u001b[1;33m]\u001b[0m \u001b[1;33m=\u001b[0m \u001b[0marg\u001b[0m\u001b[1;33m\u001b[0m\u001b[1;33m\u001b[0m\u001b[0m\n\u001b[1;32m--> 726\u001b[1;33m             \u001b[1;32mreturn\u001b[0m \u001b[0mfunc\u001b[0m\u001b[1;33m(\u001b[0m\u001b[1;33m**\u001b[0m\u001b[0mkwargs\u001b[0m\u001b[1;33m)\u001b[0m\u001b[1;33m\u001b[0m\u001b[1;33m\u001b[0m\u001b[0m\n\u001b[0m\u001b[0;32m    727\u001b[0m \u001b[1;33m\u001b[0m\u001b[0m\n\u001b[0;32m    728\u001b[0m         \u001b[1;32mreturn\u001b[0m \u001b[0minner_f\u001b[0m\u001b[1;33m\u001b[0m\u001b[1;33m\u001b[0m\u001b[0m\n",
      "\u001b[1;32m~\\anaconda3\\lib\\site-packages\\xgboost\\core.py\u001b[0m in \u001b[0;36mset_info\u001b[1;34m(self, label, weight, base_margin, group, qid, label_lower_bound, label_upper_bound, feature_names, feature_types, feature_weights)\u001b[0m\n\u001b[0;32m    952\u001b[0m \u001b[1;33m\u001b[0m\u001b[0m\n\u001b[0;32m    953\u001b[0m         \u001b[1;32mif\u001b[0m \u001b[0mlabel\u001b[0m \u001b[1;32mis\u001b[0m \u001b[1;32mnot\u001b[0m \u001b[1;32mNone\u001b[0m\u001b[1;33m:\u001b[0m\u001b[1;33m\u001b[0m\u001b[1;33m\u001b[0m\u001b[0m\n\u001b[1;32m--> 954\u001b[1;33m             \u001b[0mself\u001b[0m\u001b[1;33m.\u001b[0m\u001b[0mset_label\u001b[0m\u001b[1;33m(\u001b[0m\u001b[0mlabel\u001b[0m\u001b[1;33m)\u001b[0m\u001b[1;33m\u001b[0m\u001b[1;33m\u001b[0m\u001b[0m\n\u001b[0m\u001b[0;32m    955\u001b[0m         \u001b[1;32mif\u001b[0m \u001b[0mweight\u001b[0m \u001b[1;32mis\u001b[0m \u001b[1;32mnot\u001b[0m \u001b[1;32mNone\u001b[0m\u001b[1;33m:\u001b[0m\u001b[1;33m\u001b[0m\u001b[1;33m\u001b[0m\u001b[0m\n\u001b[0;32m    956\u001b[0m             \u001b[0mself\u001b[0m\u001b[1;33m.\u001b[0m\u001b[0mset_weight\u001b[0m\u001b[1;33m(\u001b[0m\u001b[0mweight\u001b[0m\u001b[1;33m)\u001b[0m\u001b[1;33m\u001b[0m\u001b[1;33m\u001b[0m\u001b[0m\n",
      "\u001b[1;32m~\\anaconda3\\lib\\site-packages\\xgboost\\core.py\u001b[0m in \u001b[0;36mset_label\u001b[1;34m(self, label)\u001b[0m\n\u001b[0;32m   1090\u001b[0m         \u001b[1;32mfrom\u001b[0m \u001b[1;33m.\u001b[0m\u001b[0mdata\u001b[0m \u001b[1;32mimport\u001b[0m \u001b[0mdispatch_meta_backend\u001b[0m\u001b[1;33m\u001b[0m\u001b[1;33m\u001b[0m\u001b[0m\n\u001b[0;32m   1091\u001b[0m \u001b[1;33m\u001b[0m\u001b[0m\n\u001b[1;32m-> 1092\u001b[1;33m         \u001b[0mdispatch_meta_backend\u001b[0m\u001b[1;33m(\u001b[0m\u001b[0mself\u001b[0m\u001b[1;33m,\u001b[0m \u001b[0mlabel\u001b[0m\u001b[1;33m,\u001b[0m \u001b[1;34m\"label\"\u001b[0m\u001b[1;33m,\u001b[0m \u001b[1;34m\"float\"\u001b[0m\u001b[1;33m)\u001b[0m\u001b[1;33m\u001b[0m\u001b[1;33m\u001b[0m\u001b[0m\n\u001b[0m\u001b[0;32m   1093\u001b[0m \u001b[1;33m\u001b[0m\u001b[0m\n\u001b[0;32m   1094\u001b[0m     \u001b[1;32mdef\u001b[0m \u001b[0mset_weight\u001b[0m\u001b[1;33m(\u001b[0m\u001b[0mself\u001b[0m\u001b[1;33m,\u001b[0m \u001b[0mweight\u001b[0m\u001b[1;33m:\u001b[0m \u001b[0mArrayLike\u001b[0m\u001b[1;33m)\u001b[0m \u001b[1;33m->\u001b[0m \u001b[1;32mNone\u001b[0m\u001b[1;33m:\u001b[0m\u001b[1;33m\u001b[0m\u001b[1;33m\u001b[0m\u001b[0m\n",
      "\u001b[1;32m~\\anaconda3\\lib\\site-packages\\xgboost\\data.py\u001b[0m in \u001b[0;36mdispatch_meta_backend\u001b[1;34m(matrix, data, name, dtype)\u001b[0m\n\u001b[0;32m   1336\u001b[0m         \u001b[1;32mreturn\u001b[0m\u001b[1;33m\u001b[0m\u001b[1;33m\u001b[0m\u001b[0m\n\u001b[0;32m   1337\u001b[0m     \u001b[1;32mif\u001b[0m \u001b[0m_is_np_array_like\u001b[0m\u001b[1;33m(\u001b[0m\u001b[0mdata\u001b[0m\u001b[1;33m)\u001b[0m\u001b[1;33m:\u001b[0m\u001b[1;33m\u001b[0m\u001b[1;33m\u001b[0m\u001b[0m\n\u001b[1;32m-> 1338\u001b[1;33m         \u001b[0m_meta_from_numpy\u001b[0m\u001b[1;33m(\u001b[0m\u001b[0mdata\u001b[0m\u001b[1;33m,\u001b[0m \u001b[0mname\u001b[0m\u001b[1;33m,\u001b[0m \u001b[0mdtype\u001b[0m\u001b[1;33m,\u001b[0m \u001b[0mhandle\u001b[0m\u001b[1;33m)\u001b[0m\u001b[1;33m\u001b[0m\u001b[1;33m\u001b[0m\u001b[0m\n\u001b[0m\u001b[0;32m   1339\u001b[0m         \u001b[1;32mreturn\u001b[0m\u001b[1;33m\u001b[0m\u001b[1;33m\u001b[0m\u001b[0m\n\u001b[0;32m   1340\u001b[0m     \u001b[1;32mif\u001b[0m \u001b[0m_is_arrow\u001b[0m\u001b[1;33m(\u001b[0m\u001b[0mdata\u001b[0m\u001b[1;33m)\u001b[0m\u001b[1;33m:\u001b[0m\u001b[1;33m\u001b[0m\u001b[1;33m\u001b[0m\u001b[0m\n",
      "\u001b[1;32m~\\anaconda3\\lib\\site-packages\\xgboost\\data.py\u001b[0m in \u001b[0;36m_meta_from_numpy\u001b[1;34m(data, field, dtype, handle)\u001b[0m\n\u001b[0;32m   1277\u001b[0m         \u001b[1;32mraise\u001b[0m \u001b[0mValueError\u001b[0m\u001b[1;33m(\u001b[0m\u001b[1;34m\"Masked array is not supported.\"\u001b[0m\u001b[1;33m)\u001b[0m\u001b[1;33m\u001b[0m\u001b[1;33m\u001b[0m\u001b[0m\n\u001b[0;32m   1278\u001b[0m     \u001b[0minterface_str\u001b[0m \u001b[1;33m=\u001b[0m \u001b[0m_array_interface\u001b[0m\u001b[1;33m(\u001b[0m\u001b[0mdata\u001b[0m\u001b[1;33m)\u001b[0m\u001b[1;33m\u001b[0m\u001b[1;33m\u001b[0m\u001b[0m\n\u001b[1;32m-> 1279\u001b[1;33m     \u001b[0m_check_call\u001b[0m\u001b[1;33m(\u001b[0m\u001b[0m_LIB\u001b[0m\u001b[1;33m.\u001b[0m\u001b[0mXGDMatrixSetInfoFromInterface\u001b[0m\u001b[1;33m(\u001b[0m\u001b[0mhandle\u001b[0m\u001b[1;33m,\u001b[0m \u001b[0mc_str\u001b[0m\u001b[1;33m(\u001b[0m\u001b[0mfield\u001b[0m\u001b[1;33m)\u001b[0m\u001b[1;33m,\u001b[0m \u001b[0minterface_str\u001b[0m\u001b[1;33m)\u001b[0m\u001b[1;33m)\u001b[0m\u001b[1;33m\u001b[0m\u001b[1;33m\u001b[0m\u001b[0m\n\u001b[0m\u001b[0;32m   1280\u001b[0m \u001b[1;33m\u001b[0m\u001b[0m\n\u001b[0;32m   1281\u001b[0m \u001b[1;33m\u001b[0m\u001b[0m\n",
      "\u001b[1;32m~\\anaconda3\\lib\\site-packages\\xgboost\\core.py\u001b[0m in \u001b[0;36m_check_call\u001b[1;34m(ret)\u001b[0m\n\u001b[0;32m    282\u001b[0m     \"\"\"\n\u001b[0;32m    283\u001b[0m     \u001b[1;32mif\u001b[0m \u001b[0mret\u001b[0m \u001b[1;33m!=\u001b[0m \u001b[1;36m0\u001b[0m\u001b[1;33m:\u001b[0m\u001b[1;33m\u001b[0m\u001b[1;33m\u001b[0m\u001b[0m\n\u001b[1;32m--> 284\u001b[1;33m         \u001b[1;32mraise\u001b[0m \u001b[0mXGBoostError\u001b[0m\u001b[1;33m(\u001b[0m\u001b[0mpy_str\u001b[0m\u001b[1;33m(\u001b[0m\u001b[0m_LIB\u001b[0m\u001b[1;33m.\u001b[0m\u001b[0mXGBGetLastError\u001b[0m\u001b[1;33m(\u001b[0m\u001b[1;33m)\u001b[0m\u001b[1;33m)\u001b[0m\u001b[1;33m)\u001b[0m\u001b[1;33m\u001b[0m\u001b[1;33m\u001b[0m\u001b[0m\n\u001b[0m\u001b[0;32m    285\u001b[0m \u001b[1;33m\u001b[0m\u001b[0m\n\u001b[0;32m    286\u001b[0m \u001b[1;33m\u001b[0m\u001b[0m\n",
      "\u001b[1;31mXGBoostError\u001b[0m: [18:28:16] C:\\buildkite-agent\\builds\\buildkite-windows-cpu-autoscaling-group-i-08cbc0333d8d4aae1-1\\xgboost\\xgboost-ci-windows\\src\\data\\data.cc:508: Check failed: this->labels.Size() % this->num_row_ == 0 (231012 vs. 0) : Incorrect size for labels."
     ]
    }
   ],
   "source": [
    "import pandas as pd\n",
    "import numpy as np\n",
    "from imblearn.over_sampling import SMOTE, ADASYN\n",
    "from sklearn.model_selection import StratifiedKFold\n",
    "import xgboost as xgb\n",
    "import warnings\n",
    "warnings.filterwarnings(\"ignore\")\n",
    "from sklearn.model_selection import train_test_split\n",
    "import numpy as np\n",
    "from sklearn.metrics import accuracy_score,f1_score,confusion_matrix\n",
    "import datetime\n",
    "import time\n",
    "import os\n",
    "\n",
    "\n",
    "\n",
    "\n",
    "# x , y , [1, 1, 0.5, 0.5, 0.5] , {0:1500,1:300} , 2025 \n",
    "def date_selecter(ns,samp,seed):\n",
    "\n",
    "    x=np.load(\"ppp/open/datas/data_31/x_ml_987_no_pca_min_max.npy\")\n",
    "    y=np.load(\"ppp/open/datas/data_31/y_ml_987_no_pca_min_max.npy\")\n",
    "    # 데이터 길이 07m~12m = 6 file \n",
    "    \n",
    "    lens = x.shape[0]\n",
    "    print(\"load_data\",lens)\n",
    "    ax=[]\n",
    "    ay=[] \n",
    "    for j in range(6):\n",
    "\n",
    "        dx=[]\n",
    "        dy=[]\n",
    "        # 1 file silec\n",
    "        nx = x[lens*j:lens*(j+1)]\n",
    "        ny = y[lens*j:lens*(j+1)]\n",
    "\n",
    "        for i in range(5):\n",
    "            np.random.seed(seed)\n",
    "\n",
    "            # class choice\n",
    "            idx=np.where(ny==i)[0]\n",
    "            \n",
    "            \n",
    "            idx1=np.random.choice(idx,size=int(len(idx)*ns[i]),replace=False,)\n",
    "            \n",
    "            dx.append(nx[idx1])\n",
    "            dy.append(ny[idx1])\n",
    "\n",
    "        # 1m\n",
    "        ax.append(np.vstack(dx))\n",
    "        ay.append(np.hstack(dy))\n",
    "        \n",
    "    adasyn = ADASYN(sampling_strategy=samp, random_state=0)  #{0:1500,1:300}\n",
    "    x , y= adasyn.fit_resample(np.vstack(ax), np.hstack(ay))\n",
    "    print(x.shape,y.shape)\n",
    "   \n",
    "    return  train_test_split(x,\n",
    "                              y,\n",
    "                              test_size=0.2, \n",
    "                              shuffle=True,\n",
    "                              stratify =y,\n",
    "                              random_state=seed)\n",
    "\n",
    "\n",
    "\n",
    "fkn=0\n",
    "if not os.path.exists(f\"ppp/open/models3_5_5_2\"):\n",
    "\n",
    "    os.mkdir(f\"ppp/open/models3_5_5_2\")\n",
    "\n",
    "\n",
    "for n4s in [0.2, 0.4, 0.6, 0.8, 1] :\n",
    "    for n3s in [ 0.4, 0.6, 0.8, 1 ]:\n",
    "        for n2s in [ 0.4, 0.6, 0.8, 1 ]:\n",
    "            for n1s in [0.8, 1]:\n",
    "                for n0s in [0.8, 1]:\n",
    "                    dsd={0:int(1800*n1s) ,1: int(455*n0s)}\n",
    "                    try:\n",
    "                        x_tr, x_te, y_tr, y_te = date_selecter([n0s, n1s, n2s, n3s, n4s], dsd, fkn)\n",
    "\n",
    "\n",
    "                        x_tr1 = xgb.DMatrix(x_tr, label=y_tr)\n",
    "                        x_te1 = xgb.DMatrix(x_te, label=y_te)\n",
    "                        watchlist = [(x_tr1, 'train'), (x_te1, 'eval')]\n",
    "                        for kima in [6]:\n",
    "                            for subcol in [0.8]:\n",
    "                                params = {\n",
    "                                        'objective': 'multi:softprob',\n",
    "                                        'num_class': 5,\n",
    "                                        'learning_rate': 0.25,\n",
    "                                        'max_depth': kima,\n",
    "                                        'random_state': 2025,\n",
    "                                        'tree_method': 'hist',\n",
    "                                        'device': 'cuda',\n",
    "                                        'subsample': subcol,\n",
    "                                        'colsample_bytree': subcol,\n",
    "                                        'eval_metric': 'mlogloss'\n",
    "                                    }\n",
    "\n",
    "                                xgb_model = xgb.train(\n",
    "                                    params=params,\n",
    "                                    dtrain=x_tr1,\n",
    "                                    num_boost_round=100,\n",
    "                                    evals=watchlist,\n",
    "                                    early_stopping_rounds=30,\n",
    "                                    verbose_eval=30  \n",
    "                                )\n",
    "\n",
    "                                y_pred = xgb_model.predict(x_te1)\n",
    "                                y_pred = y_pred.argmax(axis=1)\n",
    "                                flflfl=f1_score(y_te,y_pred ,average=\"macro\")\n",
    "                                print(f1_score(y_te,y_pred ,average=\"macro\"))\n",
    "                                print(f1_score( y_te,y_pred,average=None))\n",
    "                                print(confusion_matrix( y_te,y_pred))\n",
    "\n",
    "                                pq1=str(n4s)[-1]+str(n3s)[-1]+str(n2s)[-1]+str(n1s)[-1]+str(n0s)[-1]\n",
    "                                xgb_model.save_model(f\"ppp/open/models3_5_5_2/xgb_an_{fkn}_{25}_{pq1}_{kima}_{str(subcol).replace('.','')}_{str(flflfl).replace('.','')[:4]}.model\")\n",
    "                                # 모델 저장\n",
    "                                #models.append(xgb_model)\n",
    "                                fkn+=1\n",
    "                                \n",
    "                                print(datetime.datetime.now(),pq1)\n",
    "                        del x_tr1, x_te1,y_pred,flflfl,x_tr, y_tr, x_te, y_te\n",
    "                        time.sleep(2)\n",
    "                    except Exception as e:\n",
    "                        print(\"ERROR\",e)"
   ]
  },
  {
   "cell_type": "code",
   "execution_count": 3,
   "id": "d3dd06e0",
   "metadata": {},
   "outputs": [
    {
     "data": {
      "text/plain": [
       "((307687, 987), (76922, 987))"
      ]
     },
     "execution_count": 3,
     "metadata": {},
     "output_type": "execute_result"
    }
   ],
   "source": [
    "x_tr.shape,y_tr.shape"
   ]
  },
  {
   "cell_type": "code",
   "execution_count": null,
   "id": "743e001f",
   "metadata": {},
   "outputs": [],
   "source": []
  },
  {
   "cell_type": "code",
   "execution_count": 21,
   "id": "9a875481",
   "metadata": {
    "scrolled": true
   },
   "outputs": [
    {
     "name": "stdout",
     "output_type": "stream",
     "text": [
      "[0]\ttrain-mlogloss:1.21246\teval-mlogloss:1.21684\n",
      "[10]\ttrain-mlogloss:0.39563\teval-mlogloss:0.42937\n",
      "[20]\ttrain-mlogloss:0.27594\teval-mlogloss:0.32855\n",
      "[30]\ttrain-mlogloss:0.22374\teval-mlogloss:0.29002\n",
      "[40]\ttrain-mlogloss:0.19166\teval-mlogloss:0.26882\n",
      "[50]\ttrain-mlogloss:0.16814\teval-mlogloss:0.25317\n",
      "[60]\ttrain-mlogloss:0.14895\teval-mlogloss:0.24080\n",
      "[70]\ttrain-mlogloss:0.13352\teval-mlogloss:0.23118\n",
      "[80]\ttrain-mlogloss:0.11963\teval-mlogloss:0.22170\n",
      "[90]\ttrain-mlogloss:0.10752\teval-mlogloss:0.21305\n",
      "[100]\ttrain-mlogloss:0.09705\teval-mlogloss:0.20630\n",
      "[110]\ttrain-mlogloss:0.08846\teval-mlogloss:0.20012\n",
      "[120]\ttrain-mlogloss:0.08061\teval-mlogloss:0.19494\n",
      "[130]\ttrain-mlogloss:0.07333\teval-mlogloss:0.18990\n",
      "[140]\ttrain-mlogloss:0.06660\teval-mlogloss:0.18435\n",
      "[150]\ttrain-mlogloss:0.06110\teval-mlogloss:0.18039\n",
      "[160]\ttrain-mlogloss:0.05591\teval-mlogloss:0.17636\n",
      "[170]\ttrain-mlogloss:0.05118\teval-mlogloss:0.17277\n",
      "[180]\ttrain-mlogloss:0.04674\teval-mlogloss:0.16903\n",
      "[190]\ttrain-mlogloss:0.04294\teval-mlogloss:0.16569\n",
      "[200]\ttrain-mlogloss:0.03951\teval-mlogloss:0.16293\n",
      "[210]\ttrain-mlogloss:0.03647\teval-mlogloss:0.16026\n",
      "[220]\ttrain-mlogloss:0.03347\teval-mlogloss:0.15781\n",
      "[230]\ttrain-mlogloss:0.03079\teval-mlogloss:0.15560\n",
      "[240]\ttrain-mlogloss:0.02836\teval-mlogloss:0.15322\n",
      "[250]\ttrain-mlogloss:0.02615\teval-mlogloss:0.15116\n",
      "[260]\ttrain-mlogloss:0.02419\teval-mlogloss:0.14941\n",
      "[270]\ttrain-mlogloss:0.02224\teval-mlogloss:0.14716\n",
      "[280]\ttrain-mlogloss:0.02062\teval-mlogloss:0.14565\n",
      "[290]\ttrain-mlogloss:0.01899\teval-mlogloss:0.14386\n",
      "[300]\ttrain-mlogloss:0.01753\teval-mlogloss:0.14228\n",
      "[310]\ttrain-mlogloss:0.01626\teval-mlogloss:0.14058\n",
      "[320]\ttrain-mlogloss:0.01512\teval-mlogloss:0.13935\n",
      "[330]\ttrain-mlogloss:0.01413\teval-mlogloss:0.13819\n"
     ]
    },
    {
     "ename": "KeyboardInterrupt",
     "evalue": "",
     "output_type": "error",
     "traceback": [
      "\u001b[1;31m---------------------------------------------------------------------------\u001b[0m",
      "\u001b[1;31mKeyboardInterrupt\u001b[0m                         Traceback (most recent call last)",
      "\u001b[1;32m~\\AppData\\Local\\Temp/ipykernel_6596/3772195878.py\u001b[0m in \u001b[0;36m<module>\u001b[1;34m\u001b[0m\n\u001b[0;32m     31\u001b[0m         }\n\u001b[0;32m     32\u001b[0m     \u001b[0mwatchlist\u001b[0m \u001b[1;33m=\u001b[0m \u001b[1;33m[\u001b[0m\u001b[1;33m(\u001b[0m\u001b[0mx_tr1\u001b[0m\u001b[1;33m,\u001b[0m \u001b[1;34m'train'\u001b[0m\u001b[1;33m)\u001b[0m\u001b[1;33m,\u001b[0m \u001b[1;33m(\u001b[0m\u001b[0mx_te1\u001b[0m\u001b[1;33m,\u001b[0m \u001b[1;34m'eval'\u001b[0m\u001b[1;33m)\u001b[0m\u001b[1;33m]\u001b[0m\u001b[1;33m\u001b[0m\u001b[1;33m\u001b[0m\u001b[0m\n\u001b[1;32m---> 33\u001b[1;33m     xgb_model = xgb.train(\n\u001b[0m\u001b[0;32m     34\u001b[0m         \u001b[0mparams\u001b[0m\u001b[1;33m=\u001b[0m\u001b[0mparams\u001b[0m\u001b[1;33m,\u001b[0m\u001b[1;33m\u001b[0m\u001b[1;33m\u001b[0m\u001b[0m\n\u001b[0;32m     35\u001b[0m         \u001b[0mdtrain\u001b[0m\u001b[1;33m=\u001b[0m\u001b[0mx_tr1\u001b[0m\u001b[1;33m,\u001b[0m\u001b[1;33m\u001b[0m\u001b[1;33m\u001b[0m\u001b[0m\n",
      "\u001b[1;32m~\\anaconda3\\lib\\site-packages\\xgboost\\core.py\u001b[0m in \u001b[0;36minner_f\u001b[1;34m(*args, **kwargs)\u001b[0m\n\u001b[0;32m    724\u001b[0m             \u001b[1;32mfor\u001b[0m \u001b[0mk\u001b[0m\u001b[1;33m,\u001b[0m \u001b[0marg\u001b[0m \u001b[1;32min\u001b[0m \u001b[0mzip\u001b[0m\u001b[1;33m(\u001b[0m\u001b[0msig\u001b[0m\u001b[1;33m.\u001b[0m\u001b[0mparameters\u001b[0m\u001b[1;33m,\u001b[0m \u001b[0margs\u001b[0m\u001b[1;33m)\u001b[0m\u001b[1;33m:\u001b[0m\u001b[1;33m\u001b[0m\u001b[1;33m\u001b[0m\u001b[0m\n\u001b[0;32m    725\u001b[0m                 \u001b[0mkwargs\u001b[0m\u001b[1;33m[\u001b[0m\u001b[0mk\u001b[0m\u001b[1;33m]\u001b[0m \u001b[1;33m=\u001b[0m \u001b[0marg\u001b[0m\u001b[1;33m\u001b[0m\u001b[1;33m\u001b[0m\u001b[0m\n\u001b[1;32m--> 726\u001b[1;33m             \u001b[1;32mreturn\u001b[0m \u001b[0mfunc\u001b[0m\u001b[1;33m(\u001b[0m\u001b[1;33m**\u001b[0m\u001b[0mkwargs\u001b[0m\u001b[1;33m)\u001b[0m\u001b[1;33m\u001b[0m\u001b[1;33m\u001b[0m\u001b[0m\n\u001b[0m\u001b[0;32m    727\u001b[0m \u001b[1;33m\u001b[0m\u001b[0m\n\u001b[0;32m    728\u001b[0m         \u001b[1;32mreturn\u001b[0m \u001b[0minner_f\u001b[0m\u001b[1;33m\u001b[0m\u001b[1;33m\u001b[0m\u001b[0m\n",
      "\u001b[1;32m~\\anaconda3\\lib\\site-packages\\xgboost\\training.py\u001b[0m in \u001b[0;36mtrain\u001b[1;34m(params, dtrain, num_boost_round, evals, obj, feval, maximize, early_stopping_rounds, evals_result, verbose_eval, xgb_model, callbacks, custom_metric)\u001b[0m\n\u001b[0;32m    179\u001b[0m         \u001b[1;32mif\u001b[0m \u001b[0mcb_container\u001b[0m\u001b[1;33m.\u001b[0m\u001b[0mbefore_iteration\u001b[0m\u001b[1;33m(\u001b[0m\u001b[0mbst\u001b[0m\u001b[1;33m,\u001b[0m \u001b[0mi\u001b[0m\u001b[1;33m,\u001b[0m \u001b[0mdtrain\u001b[0m\u001b[1;33m,\u001b[0m \u001b[0mevals\u001b[0m\u001b[1;33m)\u001b[0m\u001b[1;33m:\u001b[0m\u001b[1;33m\u001b[0m\u001b[1;33m\u001b[0m\u001b[0m\n\u001b[0;32m    180\u001b[0m             \u001b[1;32mbreak\u001b[0m\u001b[1;33m\u001b[0m\u001b[1;33m\u001b[0m\u001b[0m\n\u001b[1;32m--> 181\u001b[1;33m         \u001b[0mbst\u001b[0m\u001b[1;33m.\u001b[0m\u001b[0mupdate\u001b[0m\u001b[1;33m(\u001b[0m\u001b[0mdtrain\u001b[0m\u001b[1;33m,\u001b[0m \u001b[0miteration\u001b[0m\u001b[1;33m=\u001b[0m\u001b[0mi\u001b[0m\u001b[1;33m,\u001b[0m \u001b[0mfobj\u001b[0m\u001b[1;33m=\u001b[0m\u001b[0mobj\u001b[0m\u001b[1;33m)\u001b[0m\u001b[1;33m\u001b[0m\u001b[1;33m\u001b[0m\u001b[0m\n\u001b[0m\u001b[0;32m    182\u001b[0m         \u001b[1;32mif\u001b[0m \u001b[0mcb_container\u001b[0m\u001b[1;33m.\u001b[0m\u001b[0mafter_iteration\u001b[0m\u001b[1;33m(\u001b[0m\u001b[0mbst\u001b[0m\u001b[1;33m,\u001b[0m \u001b[0mi\u001b[0m\u001b[1;33m,\u001b[0m \u001b[0mdtrain\u001b[0m\u001b[1;33m,\u001b[0m \u001b[0mevals\u001b[0m\u001b[1;33m)\u001b[0m\u001b[1;33m:\u001b[0m\u001b[1;33m\u001b[0m\u001b[1;33m\u001b[0m\u001b[0m\n\u001b[0;32m    183\u001b[0m             \u001b[1;32mbreak\u001b[0m\u001b[1;33m\u001b[0m\u001b[1;33m\u001b[0m\u001b[0m\n",
      "\u001b[1;32m~\\anaconda3\\lib\\site-packages\\xgboost\\core.py\u001b[0m in \u001b[0;36mupdate\u001b[1;34m(self, dtrain, iteration, fobj)\u001b[0m\n\u001b[0;32m   2099\u001b[0m         \u001b[1;32mif\u001b[0m \u001b[0mfobj\u001b[0m \u001b[1;32mis\u001b[0m \u001b[1;32mNone\u001b[0m\u001b[1;33m:\u001b[0m\u001b[1;33m\u001b[0m\u001b[1;33m\u001b[0m\u001b[0m\n\u001b[0;32m   2100\u001b[0m             _check_call(\n\u001b[1;32m-> 2101\u001b[1;33m                 _LIB.XGBoosterUpdateOneIter(\n\u001b[0m\u001b[0;32m   2102\u001b[0m                     \u001b[0mself\u001b[0m\u001b[1;33m.\u001b[0m\u001b[0mhandle\u001b[0m\u001b[1;33m,\u001b[0m \u001b[0mctypes\u001b[0m\u001b[1;33m.\u001b[0m\u001b[0mc_int\u001b[0m\u001b[1;33m(\u001b[0m\u001b[0miteration\u001b[0m\u001b[1;33m)\u001b[0m\u001b[1;33m,\u001b[0m \u001b[0mdtrain\u001b[0m\u001b[1;33m.\u001b[0m\u001b[0mhandle\u001b[0m\u001b[1;33m\u001b[0m\u001b[1;33m\u001b[0m\u001b[0m\n\u001b[0;32m   2103\u001b[0m                 )\n",
      "\u001b[1;31mKeyboardInterrupt\u001b[0m: "
     ]
    }
   ],
   "source": [
    "from sklearn.model_selection import StratifiedKFold\n",
    "import xgboost as xgb\n",
    "import warnings\n",
    "warnings.filterwarnings(\"ignore\")\n",
    "from sklearn.model_selection import train_test_split\n",
    "import numpy as np\n",
    "from sklearn.metrics import accuracy_score,f1_score,confusion_matrix\n",
    "import datetime\n",
    "\n",
    "fkn=0 \n",
    "kf = StratifiedKFold(n_splits=24, shuffle=True, random_state=2025)\n",
    "models = []\n",
    "\n",
    "for train_index, val_index in kf.split(x, y):\n",
    "    \n",
    "    y_te1=y[val_index]\n",
    "    x_tr1 = xgb.DMatrix(x[train_index], label=y[train_index])\n",
    "    x_te1 = xgb.DMatrix(x[val_index], label=y_te1)\n",
    "    \n",
    "    params = {\n",
    "            'objective': 'multi:softprob',\n",
    "            'num_class': 5,\n",
    "            'learning_rate': 0.25,\n",
    "            'max_depth': 10,\n",
    "            'random_state': 2025,\n",
    "            'tree_method': 'hist',\n",
    "            'device': 'cuda',\n",
    "            'subsample': 0.9,\n",
    "            'colsample_bytree': 0.9,\n",
    "            'eval_metric': 'mlogloss'\n",
    "        }\n",
    "    watchlist = [(x_tr1, 'train'), (x_te1, 'eval')]\n",
    "    xgb_model = xgb.train(\n",
    "        params=params,\n",
    "        dtrain=x_tr1,\n",
    "        num_boost_round=500,\n",
    "        evals=watchlist,\n",
    "        early_stopping_rounds=20,\n",
    "        verbose_eval=10  \n",
    "    )\n",
    "    del x_tr1\n",
    "    y_pred = xgb_model.predict(x_te1)\n",
    "    print(f1_score(y_te1,y_pred ,average=\"macro\"))\n",
    "    print(f1_score( y_te1,y_pred,average=None))\n",
    "    print(confusion_matrix( y_te1,y_pred))\n",
    "    \n",
    "    xgb_model.save_model(f\"ppp/open/models3/xgb_an{fkn}_{1000}_{25}_{10}.model\")\n",
    "    # 모델 저장\n",
    "    models.append(xgb_model)\n",
    "    fkn+=1"
   ]
  },
  {
   "cell_type": "code",
   "execution_count": 22,
   "id": "e360c58b",
   "metadata": {},
   "outputs": [
    {
     "ename": "NameError",
     "evalue": "name 'x' is not defined",
     "output_type": "error",
     "traceback": [
      "\u001b[1;31m---------------------------------------------------------------------------\u001b[0m",
      "\u001b[1;31mNameError\u001b[0m                                 Traceback (most recent call last)",
      "\u001b[1;32m~\\AppData\\Local\\Temp/ipykernel_8224/1336604734.py\u001b[0m in \u001b[0;36m<module>\u001b[1;34m\u001b[0m\n\u001b[1;32m----> 1\u001b[1;33m \u001b[1;32mdel\u001b[0m \u001b[0mx\u001b[0m\u001b[1;33m,\u001b[0m\u001b[0my\u001b[0m\u001b[1;33m\u001b[0m\u001b[1;33m\u001b[0m\u001b[0m\n\u001b[0m",
      "\u001b[1;31mNameError\u001b[0m: name 'x' is not defined"
     ]
    }
   ],
   "source": [
    "del x,y"
   ]
  },
  {
   "cell_type": "code",
   "execution_count": 23,
   "id": "f7c96215",
   "metadata": {},
   "outputs": [
    {
     "name": "stdout",
     "output_type": "stream",
     "text": [
      "division by zero\n"
     ]
    }
   ],
   "source": [
    "try:\n",
    "    print(1/0)\n",
    "except Exception as e:\n",
    "    print(e)"
   ]
  },
  {
   "cell_type": "code",
   "execution_count": 14,
   "id": "f49a567d",
   "metadata": {},
   "outputs": [
    {
     "ename": "NameError",
     "evalue": "name 'y_te1' is not defined",
     "output_type": "error",
     "traceback": [
      "\u001b[1;31m---------------------------------------------------------------------------\u001b[0m",
      "\u001b[1;31mNameError\u001b[0m                                 Traceback (most recent call last)",
      "\u001b[1;32m~\\AppData\\Local\\Temp/ipykernel_4212/3112697245.py\u001b[0m in \u001b[0;36m<module>\u001b[1;34m\u001b[0m\n\u001b[0;32m      1\u001b[0m \u001b[0my_pred\u001b[0m \u001b[1;33m=\u001b[0m \u001b[0mxgb_model\u001b[0m\u001b[1;33m.\u001b[0m\u001b[0mpredict\u001b[0m\u001b[1;33m(\u001b[0m\u001b[0mx_te1\u001b[0m\u001b[1;33m)\u001b[0m\u001b[1;33m\u001b[0m\u001b[1;33m\u001b[0m\u001b[0m\n\u001b[1;32m----> 2\u001b[1;33m \u001b[0mprint\u001b[0m\u001b[1;33m(\u001b[0m\u001b[0mf1_score\u001b[0m\u001b[1;33m(\u001b[0m\u001b[0my_te1\u001b[0m\u001b[1;33m,\u001b[0m\u001b[0my_pred\u001b[0m \u001b[1;33m,\u001b[0m\u001b[0maverage\u001b[0m\u001b[1;33m=\u001b[0m\u001b[1;34m\"macro\"\u001b[0m\u001b[1;33m)\u001b[0m\u001b[1;33m)\u001b[0m\u001b[1;33m\u001b[0m\u001b[1;33m\u001b[0m\u001b[0m\n\u001b[0m\u001b[0;32m      3\u001b[0m \u001b[0mprint\u001b[0m\u001b[1;33m(\u001b[0m\u001b[0mf1_score\u001b[0m\u001b[1;33m(\u001b[0m \u001b[0my_te1\u001b[0m\u001b[1;33m,\u001b[0m\u001b[0my_pred\u001b[0m\u001b[1;33m,\u001b[0m\u001b[0maverage\u001b[0m\u001b[1;33m=\u001b[0m\u001b[1;32mNone\u001b[0m\u001b[1;33m)\u001b[0m\u001b[1;33m)\u001b[0m\u001b[1;33m\u001b[0m\u001b[1;33m\u001b[0m\u001b[0m\n\u001b[0;32m      4\u001b[0m \u001b[0mprint\u001b[0m\u001b[1;33m(\u001b[0m\u001b[0mconfusion_matrix\u001b[0m\u001b[1;33m(\u001b[0m \u001b[0my_te1\u001b[0m\u001b[1;33m,\u001b[0m\u001b[0my_pred\u001b[0m\u001b[1;33m)\u001b[0m\u001b[1;33m)\u001b[0m\u001b[1;33m\u001b[0m\u001b[1;33m\u001b[0m\u001b[0m\n\u001b[0;32m      5\u001b[0m \u001b[1;33m\u001b[0m\u001b[0m\n",
      "\u001b[1;31mNameError\u001b[0m: name 'y_te1' is not defined"
     ]
    }
   ],
   "source": [
    "y_pred = xgb_model.predict(x_te1)\n",
    "print(f1_score(y_te1,y_pred ,average=\"macro\"))\n",
    "print(f1_score( y_te1,y_pred,average=None))\n",
    "print(confusion_matrix( y_te1,y_pred))\n",
    "\n",
    "xgb_model.save_model(f\"ppp/open/models3/xgb_an{fkn}_{1000}_{25}_{10}.model\")\n",
    "# 모델 저장\n",
    "models.append(xgb_model)\n",
    "fkn+=1"
   ]
  },
  {
   "cell_type": "code",
   "execution_count": null,
   "id": "b736c2f1",
   "metadata": {},
   "outputs": [],
   "source": [
    "from sklearn.model_selection import StratifiedKFold\n",
    "import xgboost as xgb\n",
    "import warnings\n",
    "warnings.filterwarnings(\"ignore\")\n",
    "from sklearn.model_selection import train_test_split\n",
    "import numpy as np\n",
    "from sklearn.metrics import accuracy_score,f1_score,confusion_matrix\n",
    "import datetime\n",
    "\n",
    "\n",
    "models = []\n",
    "for kfold_num in [24,12,6,3,2]:\n",
    "    fkn=0 \n",
    "    kf = StratifiedKFold(n_splits=kfold_num, shuffle=True, random_state=2025)\n",
    "    \n",
    "    for train_index, val_index in kf.split(x, y):\n",
    "\n",
    "        y_te1=y[val_index]\n",
    "        x_tr1 = xgb.DMatrix(x[train_index], label=y[train_index])\n",
    "        x_te1 = xgb.DMatrix(x[val_index], label=y_te1)\n",
    "\n",
    "        params = {\n",
    "                'objective': 'multi:softprob',\n",
    "                'num_class': 5,\n",
    "                'learning_rate': 0.25,\n",
    "                'max_depth': 10,\n",
    "                'random_state': 2025,\n",
    "                'tree_method': 'hist',\n",
    "                'device': 'cuda',\n",
    "                'subsample': 0.9,\n",
    "                'colsample_bytree': 0.9,\n",
    "                'eval_metric': 'mlogloss'\n",
    "            }\n",
    "        watchlist = [(x_tr1, 'train'), (x_te1, 'eval')]\n",
    "        xgb_model = xgb.train(\n",
    "            params=params,\n",
    "            dtrain=x_tr1,\n",
    "            num_boost_round=1000,\n",
    "            evals=watchlist,\n",
    "            early_stopping_rounds=50,\n",
    "            verbose_eval=10  \n",
    "        )\n",
    "        del x_tr1\n",
    "        y_pred = model.predict(x_te1)\n",
    "        print(f1_score(y_te1,y_pred ,average=\"macro\"))\n",
    "        print(f1_score( y_te1,y_pred,average=None))\n",
    "        print(confusion_matrix( y_te1,y_pred))\n",
    "        del x_te1,y_pred,y_te1\n",
    "        xgb_model.save_model(f\"ppp/open/models3/xgb_an_{kfold_num}_{fkn}_{1000}_{25}_{10}.model\")\n",
    "        # 모델 저장\n",
    "        models.append(xgb_model)\n",
    "        fkn+=1"
   ]
  },
  {
   "cell_type": "code",
   "execution_count": null,
   "id": "29da70d5",
   "metadata": {},
   "outputs": [],
   "source": []
  },
  {
   "cell_type": "code",
   "execution_count": 13,
   "id": "5b075e98",
   "metadata": {},
   "outputs": [],
   "source": [
    "x_tr=x[:trl]\n",
    "x_te=x[trl:]\n",
    "y_tr=y[:trl]\n",
    "y_te=y[trl:]"
   ]
  },
  {
   "cell_type": "code",
   "execution_count": 14,
   "id": "442929e0",
   "metadata": {},
   "outputs": [],
   "source": []
  },
  {
   "cell_type": "code",
   "execution_count": 15,
   "id": "f655bd53",
   "metadata": {
    "scrolled": true
   },
   "outputs": [
    {
     "name": "stdout",
     "output_type": "stream",
     "text": [
      "[0]\ttrain-mlogloss:1.08452\teval-mlogloss:1.12998\n",
      "[10]\ttrain-mlogloss:0.16008\teval-mlogloss:0.36787\n",
      "[20]\ttrain-mlogloss:0.05964\teval-mlogloss:0.29840\n",
      "[30]\ttrain-mlogloss:0.03102\teval-mlogloss:0.27937\n",
      "[40]\ttrain-mlogloss:0.01909\teval-mlogloss:0.27020\n",
      "[50]\ttrain-mlogloss:0.01283\teval-mlogloss:0.26455\n",
      "[60]\ttrain-mlogloss:0.00930\teval-mlogloss:0.25891\n",
      "[70]\ttrain-mlogloss:0.00713\teval-mlogloss:0.25745\n",
      "[80]\ttrain-mlogloss:0.00567\teval-mlogloss:0.25711\n",
      "[90]\ttrain-mlogloss:0.00464\teval-mlogloss:0.25647\n",
      "[100]\ttrain-mlogloss:0.00394\teval-mlogloss:0.25510\n",
      "[110]\ttrain-mlogloss:0.00340\teval-mlogloss:0.25405\n",
      "[120]\ttrain-mlogloss:0.00296\teval-mlogloss:0.25394\n",
      "[130]\ttrain-mlogloss:0.00263\teval-mlogloss:0.25235\n",
      "[140]\ttrain-mlogloss:0.00236\teval-mlogloss:0.25208\n",
      "[150]\ttrain-mlogloss:0.00213\teval-mlogloss:0.25150\n",
      "[160]\ttrain-mlogloss:0.00194\teval-mlogloss:0.25136\n",
      "[170]\ttrain-mlogloss:0.00178\teval-mlogloss:0.25025\n",
      "[180]\ttrain-mlogloss:0.00165\teval-mlogloss:0.25008\n",
      "[190]\ttrain-mlogloss:0.00153\teval-mlogloss:0.25037\n",
      "[200]\ttrain-mlogloss:0.00142\teval-mlogloss:0.25004\n",
      "[210]\ttrain-mlogloss:0.00133\teval-mlogloss:0.24934\n",
      "[220]\ttrain-mlogloss:0.00125\teval-mlogloss:0.24953\n",
      "[230]\ttrain-mlogloss:0.00118\teval-mlogloss:0.24954\n",
      "[240]\ttrain-mlogloss:0.00112\teval-mlogloss:0.24957\n",
      "[250]\ttrain-mlogloss:0.00106\teval-mlogloss:0.24907\n",
      "[260]\ttrain-mlogloss:0.00101\teval-mlogloss:0.24851\n",
      "[270]\ttrain-mlogloss:0.00096\teval-mlogloss:0.24841\n",
      "[280]\ttrain-mlogloss:0.00092\teval-mlogloss:0.24836\n",
      "[290]\ttrain-mlogloss:0.00088\teval-mlogloss:0.24846\n",
      "[300]\ttrain-mlogloss:0.00084\teval-mlogloss:0.24834\n",
      "[310]\ttrain-mlogloss:0.00080\teval-mlogloss:0.24777\n",
      "[320]\ttrain-mlogloss:0.00077\teval-mlogloss:0.24737\n",
      "[330]\ttrain-mlogloss:0.00074\teval-mlogloss:0.24697\n",
      "[340]\ttrain-mlogloss:0.00072\teval-mlogloss:0.24662\n",
      "[350]\ttrain-mlogloss:0.00069\teval-mlogloss:0.24623\n",
      "[360]\ttrain-mlogloss:0.00067\teval-mlogloss:0.24602\n",
      "[370]\ttrain-mlogloss:0.00065\teval-mlogloss:0.24620\n",
      "[380]\ttrain-mlogloss:0.00063\teval-mlogloss:0.24605\n",
      "[390]\ttrain-mlogloss:0.00061\teval-mlogloss:0.24587\n",
      "[400]\ttrain-mlogloss:0.00059\teval-mlogloss:0.24582\n",
      "[410]\ttrain-mlogloss:0.00057\teval-mlogloss:0.24560\n",
      "[420]\ttrain-mlogloss:0.00056\teval-mlogloss:0.24572\n",
      "[430]\ttrain-mlogloss:0.00054\teval-mlogloss:0.24587\n",
      "[440]\ttrain-mlogloss:0.00053\teval-mlogloss:0.24568\n",
      "[450]\ttrain-mlogloss:0.00051\teval-mlogloss:0.24572\n",
      "[460]\ttrain-mlogloss:0.00050\teval-mlogloss:0.24543\n",
      "[470]\ttrain-mlogloss:0.00049\teval-mlogloss:0.24519\n",
      "[480]\ttrain-mlogloss:0.00048\teval-mlogloss:0.24500\n",
      "[490]\ttrain-mlogloss:0.00047\teval-mlogloss:0.24539\n",
      "[500]\ttrain-mlogloss:0.00046\teval-mlogloss:0.24522\n",
      "[510]\ttrain-mlogloss:0.00045\teval-mlogloss:0.24510\n",
      "[520]\ttrain-mlogloss:0.00044\teval-mlogloss:0.24505\n",
      "[530]\ttrain-mlogloss:0.00043\teval-mlogloss:0.24487\n",
      "[540]\ttrain-mlogloss:0.00042\teval-mlogloss:0.24485\n",
      "[550]\ttrain-mlogloss:0.00041\teval-mlogloss:0.24467\n",
      "[560]\ttrain-mlogloss:0.00040\teval-mlogloss:0.24488\n",
      "[570]\ttrain-mlogloss:0.00039\teval-mlogloss:0.24502\n",
      "[580]\ttrain-mlogloss:0.00039\teval-mlogloss:0.24524\n",
      "[590]\ttrain-mlogloss:0.00038\teval-mlogloss:0.24536\n",
      "[600]\ttrain-mlogloss:0.00037\teval-mlogloss:0.24531\n",
      "2025-04-19 17:14:17.654338\n",
      "0번 , data: 0.01, n_estimators: 1000, learning_rate: 0.3, max_deps: 15, subsales: 0.7, colsale_byree: 0.7\n",
      "0.8315786280603952\n",
      "[0.83858268 0.68965517 0.86009296 0.82233165 0.94723069]\n",
      "[[   213      0     69      0      0]\n",
      " [     0     20     16      0      0]\n",
      " [     8      2  55144   3939   1663]\n",
      " [     3      0  10920  87677  17812]\n",
      " [     2      0   1323   5212 233463]]\n"
     ]
    }
   ],
   "source": [
    "import xgboost as xgb\n",
    "import warnings\n",
    "warnings.filterwarnings(\"ignore\")\n",
    "from sklearn.model_selection import train_test_split\n",
    "import numpy as np\n",
    "from sklearn.metrics import accuracy_score,f1_score,confusion_matrix\n",
    "import datetime\n",
    "def f1_eval(preds, dtrain):\n",
    "    labels = dtrain.get_label()  # 실제 레이블 가져오기\n",
    "    preds = [round(x) for x in preds]  # 예측값을 0 또는 1로 변환\n",
    "    f1 = f1_score(labels, preds, average='macro')  # macro F1 계산\n",
    "    return 'f1_macro', f1  # 이름과 값 반환\n",
    "x_te = xgb.DMatrix(x_te)\n",
    "\n",
    "test_ziets=[0.01]\n",
    "n_estis=[1000]\n",
    "lera=[0.3]\n",
    "max_deps=[15]\n",
    "subsales=[0.7]\n",
    "colsale_byree=[0.7]\n",
    "fkn=0\n",
    "import os\n",
    "gag=os.listdir(\"ppp/open/models3/\")\n",
    "for n_es in n_estis:\n",
    "    for tes in test_ziets:\n",
    "        for ler in lera:\n",
    "            for max_de in max_deps:\n",
    "                for subsa in subsales:\n",
    "                    for colsal in colsale_byree:\n",
    "                        '''\n",
    "                        if fkn<11:\n",
    "                            print(fkn)\n",
    "                            xgb_model=xgb.Booster()\n",
    "                            xgb_model.load_model(f\"ppp/open/models3/{gag[fkn]}\")\n",
    "                            y_pred = xgb_model.predict(x_te)\n",
    "                            if fkn==0:\n",
    "                                y_pred_all_max=y_pred\n",
    "                                y_pred_all_mean=y_pred\n",
    "                            else:\n",
    "                                y_pred_all_max=np.where(y_pred_all_max<y_pred,y_pred,y_pred_all_max)\n",
    "                                y_pred_all_mean=(y_pred_all_mean+y_pred)/2\n",
    "                                y_pred_all_max_p=y_pred_all_max.argmax(axis=1)\n",
    "                                y_pred_all_mean_p=y_pred_all_mean.argmax(axis=1)\n",
    "                                #################### al ###################################\n",
    "                                print(\"all\")\n",
    "                                print(f1_score(y_te,y_pred_all_max_p ,average=\"macro\"))\n",
    "                                print(f1_score( y_te,y_pred_all_max_p,average=None))\n",
    "                                print(confusion_matrix( y_te,y_pred_all_max_p))\n",
    "                                #################### mean ###################################\n",
    "                                print(\"mean\")\n",
    "                                print(f1_score(y_te,y_pred_all_mean_p ,average=\"macro\"))\n",
    "                                print(f1_score( y_te,y_pred_all_mean_p,average=None))\n",
    "                                print(confusion_matrix( y_te,y_pred_all_mean_p))\n",
    "                            fkn+=1\n",
    "                            continue\n",
    "                        '''\n",
    "                        # 파라미터 설정\n",
    "                        x_tr1, x_te1, y_tr1, y_te1 = train_test_split(x_tr,\n",
    "                                                                      y_tr,\n",
    "                                                                      test_size=tes, \n",
    "                                                                      shuffle=True,\n",
    "                                                                      stratify =y_tr,\n",
    "                                                                      random_state=4+fkn)\n",
    "                        x_tr1 = xgb.DMatrix(x_tr1, label=y_tr1)\n",
    "                        x_te1 = xgb.DMatrix(x_te1, label=y_te1)\n",
    "                        \n",
    "                        params = {\n",
    "                            'objective': 'multi:softprob',\n",
    "                            'num_class': 5,\n",
    "                            'learning_rate': ler,\n",
    "                            'max_depth': max_de,\n",
    "                            'random_state': 4+fkn,\n",
    "                            'tree_method': 'hist',\n",
    "                            'device': 'cuda',\n",
    "                            'subsample': subsa,\n",
    "                            'colsample_bytree': colsal,\n",
    "                            'eval_metric': 'mlogloss'\n",
    "                            #'gamma' : 2\n",
    "                        }\n",
    "\n",
    "\n",
    "                        watchlist = [(x_tr1, 'train'), (x_te1, 'eval')]\n",
    "\n",
    "\n",
    "                        xgb_model = xgb.train(\n",
    "                            params=params,\n",
    "                            dtrain=x_tr1,\n",
    "                            num_boost_round=n_es,\n",
    "                            evals=watchlist,\n",
    "                            feval=f1_eval,\n",
    "                            early_stopping_rounds=50,\n",
    "                            verbose_eval=10  \n",
    "                        )\n",
    "\n",
    "                        y_pred = xgb_model.predict(x_te)\n",
    "                        \n",
    "                        if fkn==0:\n",
    "                            y_pred_all_max=y_pred\n",
    "                            y_pred_all_mean=y_pred\n",
    "                        else:\n",
    "                            y_pred_all_max=np.where(y_pred_all_max<y_pred,y_pred,y_pred_all_max)\n",
    "                            y_pred_all_mean=(y_pred_all_mean+y_pred)/2\n",
    "                            y_pred_all_max_p=y_pred_all_max.argmax(axis=1)\n",
    "                            y_pred_all_mean_p=y_pred_all_mean.argmax(axis=1)\n",
    "                        \n",
    "                        y_pred=y_pred.argmax(axis=1)\n",
    "                        \n",
    "                        \n",
    "                        print(datetime.datetime.now())\n",
    "                        print(f\"{fkn}번 , data: {tes}, n_estimators: {n_es}, learning_rate: {ler}, max_deps: {max_de}, subsales: {subsa}, colsale_byree: {colsal}\")\n",
    "                        print(f1_score(y_te,y_pred ,average=\"macro\"))\n",
    "                        print(f1_score( y_te,y_pred,average=None))\n",
    "                        print(confusion_matrix( y_te,y_pred))\n",
    "                        #################### al ###################################\n",
    "#                         print(\"all\")\n",
    "#                         print(f1_score(y_te,y_pred_all_max_p ,average=\"macro\"))\n",
    "#                         print(f1_score( y_te,y_pred_all_max_p,average=None))\n",
    "#                         print(confusion_matrix( y_te,y_pred_all_max_p))\n",
    "#                         #################### mean ###################################\n",
    "#                         print(\"mean\")\n",
    "#                         print(f1_score(y_te,y_pred_all_mean_p ,average=\"macro\"))\n",
    "#                         print(f1_score( y_te,y_pred_all_mean_p,average=None))\n",
    "#                         print(confusion_matrix( y_te,y_pred_all_mean_p))\n",
    "                        \n",
    "                        xgb_model.save_model(f\"ppp/open/models3/xgb_an{fkn}_{n_es}_{25}_{max_de}.model\")\n",
    "                        fkn+=1\n"
   ]
  },
  {
   "cell_type": "code",
   "execution_count": null,
   "id": "1d1ccd1b",
   "metadata": {},
   "outputs": [],
   "source": [
    "0번 , data: 0.01, n_estimators: 1000, learning_rate: 0.3, max_deps: 15, subsales: 0.7, colsale_byree: 0.7\n",
    "0.8637253505510272\n",
    "[0.82421875 0.86153846 0.8601586  0.8246721  0.94803884]\n",
    "[[   211      0     71      0      0]\n",
    " [     0     28      8      0      0]\n",
    " [    17      1  55211   3848   1679]\n",
    " [     1      0  11015  88089  17307]\n",
    " [     1      0   1313   5285 233401]]\n",
    "\n",
    "0번 , data: 0.01, n_estimators: 1000, learning_rate: 0.4, max_deps: 10, subsales: 0.8, colsale_byree: 0.8\n",
    "0.8442956133789815\n",
    "[0.80311891 0.80645161 0.85040118 0.81530662 0.94619975]\n",
    "[[   206      0     76      0      0]\n",
    " [     0     25     11      0      0]\n",
    " [    22      1  54637   4446   1650]\n",
    " [     2      0  11643  87248  17519]\n",
    " [     1      0   1374   5919 232706]]\n",
    "\n",
    "0.8314542373149019  10 0.9 0.9 0.5 \n",
    "[0.7890625  0.75409836 0.85166549 0.8163786  0.94606624]\n",
    "[[   202      0     80      0      0]\n",
    " [     0     23     13      0      0]\n",
    " [    23      2  54754   4310   1667]\n",
    " [     4      0  11552  87357  17499]\n",
    " [     1      0   1426   5932 232641]]"
   ]
  },
  {
   "cell_type": "code",
   "execution_count": 50,
   "id": "7863db80",
   "metadata": {
    "scrolled": true
   },
   "outputs": [
    {
     "ename": "MemoryError",
     "evalue": "Unable to allocate 3.54 GiB for an array with shape (485071, 979) and data type float64",
     "output_type": "error",
     "traceback": [
      "\u001b[1;31m---------------------------------------------------------------------------\u001b[0m",
      "\u001b[1;31mMemoryError\u001b[0m                               Traceback (most recent call last)",
      "\u001b[1;32m~\\AppData\\Local\\Temp/ipykernel_10104/2378720583.py\u001b[0m in \u001b[0;36m<module>\u001b[1;34m\u001b[0m\n\u001b[0;32m     52\u001b[0m                         '''\n\u001b[0;32m     53\u001b[0m                         \u001b[1;31m# 파라미터 설정\u001b[0m\u001b[1;33m\u001b[0m\u001b[1;33m\u001b[0m\u001b[0m\n\u001b[1;32m---> 54\u001b[1;33m                         x_tr1, x_te1, y_tr1, y_te1 = train_test_split(x_tr,\n\u001b[0m\u001b[0;32m     55\u001b[0m                                                                       \u001b[0my_tr\u001b[0m\u001b[1;33m,\u001b[0m\u001b[1;33m\u001b[0m\u001b[1;33m\u001b[0m\u001b[0m\n\u001b[0;32m     56\u001b[0m                                                                       \u001b[0mtest_size\u001b[0m\u001b[1;33m=\u001b[0m\u001b[0mtes\u001b[0m\u001b[1;33m,\u001b[0m\u001b[1;33m\u001b[0m\u001b[1;33m\u001b[0m\u001b[0m\n",
      "\u001b[1;32m~\\anaconda3\\lib\\site-packages\\sklearn\\model_selection\\_split.py\u001b[0m in \u001b[0;36mtrain_test_split\u001b[1;34m(test_size, train_size, random_state, shuffle, stratify, *arrays)\u001b[0m\n\u001b[0;32m   2197\u001b[0m         \u001b[0mtrain\u001b[0m\u001b[1;33m,\u001b[0m \u001b[0mtest\u001b[0m \u001b[1;33m=\u001b[0m \u001b[0mnext\u001b[0m\u001b[1;33m(\u001b[0m\u001b[0mcv\u001b[0m\u001b[1;33m.\u001b[0m\u001b[0msplit\u001b[0m\u001b[1;33m(\u001b[0m\u001b[0mX\u001b[0m\u001b[1;33m=\u001b[0m\u001b[0marrays\u001b[0m\u001b[1;33m[\u001b[0m\u001b[1;36m0\u001b[0m\u001b[1;33m]\u001b[0m\u001b[1;33m,\u001b[0m \u001b[0my\u001b[0m\u001b[1;33m=\u001b[0m\u001b[0mstratify\u001b[0m\u001b[1;33m)\u001b[0m\u001b[1;33m)\u001b[0m\u001b[1;33m\u001b[0m\u001b[1;33m\u001b[0m\u001b[0m\n\u001b[0;32m   2198\u001b[0m \u001b[1;33m\u001b[0m\u001b[0m\n\u001b[1;32m-> 2199\u001b[1;33m     return list(chain.from_iterable((_safe_indexing(a, train),\n\u001b[0m\u001b[0;32m   2200\u001b[0m                                      _safe_indexing(a, test)) for a in arrays))\n\u001b[0;32m   2201\u001b[0m \u001b[1;33m\u001b[0m\u001b[0m\n",
      "\u001b[1;32m~\\anaconda3\\lib\\site-packages\\sklearn\\model_selection\\_split.py\u001b[0m in \u001b[0;36m<genexpr>\u001b[1;34m(.0)\u001b[0m\n\u001b[0;32m   2197\u001b[0m         \u001b[0mtrain\u001b[0m\u001b[1;33m,\u001b[0m \u001b[0mtest\u001b[0m \u001b[1;33m=\u001b[0m \u001b[0mnext\u001b[0m\u001b[1;33m(\u001b[0m\u001b[0mcv\u001b[0m\u001b[1;33m.\u001b[0m\u001b[0msplit\u001b[0m\u001b[1;33m(\u001b[0m\u001b[0mX\u001b[0m\u001b[1;33m=\u001b[0m\u001b[0marrays\u001b[0m\u001b[1;33m[\u001b[0m\u001b[1;36m0\u001b[0m\u001b[1;33m]\u001b[0m\u001b[1;33m,\u001b[0m \u001b[0my\u001b[0m\u001b[1;33m=\u001b[0m\u001b[0mstratify\u001b[0m\u001b[1;33m)\u001b[0m\u001b[1;33m)\u001b[0m\u001b[1;33m\u001b[0m\u001b[1;33m\u001b[0m\u001b[0m\n\u001b[0;32m   2198\u001b[0m \u001b[1;33m\u001b[0m\u001b[0m\n\u001b[1;32m-> 2199\u001b[1;33m     return list(chain.from_iterable((_safe_indexing(a, train),\n\u001b[0m\u001b[0;32m   2200\u001b[0m                                      _safe_indexing(a, test)) for a in arrays))\n\u001b[0;32m   2201\u001b[0m \u001b[1;33m\u001b[0m\u001b[0m\n",
      "\u001b[1;32m~\\anaconda3\\lib\\site-packages\\sklearn\\utils\\__init__.py\u001b[0m in \u001b[0;36m_safe_indexing\u001b[1;34m(X, indices, axis)\u001b[0m\n\u001b[0;32m    342\u001b[0m         \u001b[1;32mreturn\u001b[0m \u001b[0m_pandas_indexing\u001b[0m\u001b[1;33m(\u001b[0m\u001b[0mX\u001b[0m\u001b[1;33m,\u001b[0m \u001b[0mindices\u001b[0m\u001b[1;33m,\u001b[0m \u001b[0mindices_dtype\u001b[0m\u001b[1;33m,\u001b[0m \u001b[0maxis\u001b[0m\u001b[1;33m=\u001b[0m\u001b[0maxis\u001b[0m\u001b[1;33m)\u001b[0m\u001b[1;33m\u001b[0m\u001b[1;33m\u001b[0m\u001b[0m\n\u001b[0;32m    343\u001b[0m     \u001b[1;32melif\u001b[0m \u001b[0mhasattr\u001b[0m\u001b[1;33m(\u001b[0m\u001b[0mX\u001b[0m\u001b[1;33m,\u001b[0m \u001b[1;34m\"shape\"\u001b[0m\u001b[1;33m)\u001b[0m\u001b[1;33m:\u001b[0m\u001b[1;33m\u001b[0m\u001b[1;33m\u001b[0m\u001b[0m\n\u001b[1;32m--> 344\u001b[1;33m         \u001b[1;32mreturn\u001b[0m \u001b[0m_array_indexing\u001b[0m\u001b[1;33m(\u001b[0m\u001b[0mX\u001b[0m\u001b[1;33m,\u001b[0m \u001b[0mindices\u001b[0m\u001b[1;33m,\u001b[0m \u001b[0mindices_dtype\u001b[0m\u001b[1;33m,\u001b[0m \u001b[0maxis\u001b[0m\u001b[1;33m=\u001b[0m\u001b[0maxis\u001b[0m\u001b[1;33m)\u001b[0m\u001b[1;33m\u001b[0m\u001b[1;33m\u001b[0m\u001b[0m\n\u001b[0m\u001b[0;32m    345\u001b[0m     \u001b[1;32melse\u001b[0m\u001b[1;33m:\u001b[0m\u001b[1;33m\u001b[0m\u001b[1;33m\u001b[0m\u001b[0m\n\u001b[0;32m    346\u001b[0m         \u001b[1;32mreturn\u001b[0m \u001b[0m_list_indexing\u001b[0m\u001b[1;33m(\u001b[0m\u001b[0mX\u001b[0m\u001b[1;33m,\u001b[0m \u001b[0mindices\u001b[0m\u001b[1;33m,\u001b[0m \u001b[0mindices_dtype\u001b[0m\u001b[1;33m)\u001b[0m\u001b[1;33m\u001b[0m\u001b[1;33m\u001b[0m\u001b[0m\n",
      "\u001b[1;32m~\\anaconda3\\lib\\site-packages\\sklearn\\utils\\__init__.py\u001b[0m in \u001b[0;36m_array_indexing\u001b[1;34m(array, key, key_dtype, axis)\u001b[0m\n\u001b[0;32m    177\u001b[0m     \u001b[1;32mif\u001b[0m \u001b[0misinstance\u001b[0m\u001b[1;33m(\u001b[0m\u001b[0mkey\u001b[0m\u001b[1;33m,\u001b[0m \u001b[0mtuple\u001b[0m\u001b[1;33m)\u001b[0m\u001b[1;33m:\u001b[0m\u001b[1;33m\u001b[0m\u001b[1;33m\u001b[0m\u001b[0m\n\u001b[0;32m    178\u001b[0m         \u001b[0mkey\u001b[0m \u001b[1;33m=\u001b[0m \u001b[0mlist\u001b[0m\u001b[1;33m(\u001b[0m\u001b[0mkey\u001b[0m\u001b[1;33m)\u001b[0m\u001b[1;33m\u001b[0m\u001b[1;33m\u001b[0m\u001b[0m\n\u001b[1;32m--> 179\u001b[1;33m     \u001b[1;32mreturn\u001b[0m \u001b[0marray\u001b[0m\u001b[1;33m[\u001b[0m\u001b[0mkey\u001b[0m\u001b[1;33m]\u001b[0m \u001b[1;32mif\u001b[0m \u001b[0maxis\u001b[0m \u001b[1;33m==\u001b[0m \u001b[1;36m0\u001b[0m \u001b[1;32melse\u001b[0m \u001b[0marray\u001b[0m\u001b[1;33m[\u001b[0m\u001b[1;33m:\u001b[0m\u001b[1;33m,\u001b[0m \u001b[0mkey\u001b[0m\u001b[1;33m]\u001b[0m\u001b[1;33m\u001b[0m\u001b[1;33m\u001b[0m\u001b[0m\n\u001b[0m\u001b[0;32m    180\u001b[0m \u001b[1;33m\u001b[0m\u001b[0m\n\u001b[0;32m    181\u001b[0m \u001b[1;33m\u001b[0m\u001b[0m\n",
      "\u001b[1;31mMemoryError\u001b[0m: Unable to allocate 3.54 GiB for an array with shape (485071, 979) and data type float64"
     ]
    }
   ],
   "source": [
    "import xgboost as xgb\n",
    "import warnings\n",
    "warnings.filterwarnings(\"ignore\")\n",
    "from sklearn.model_selection import train_test_split\n",
    "import numpy as np\n",
    "from sklearn.metrics import accuracy_score,f1_score,confusion_matrix\n",
    "import datetime\n",
    "\n",
    "#x_te = xgb.DMatrix(x_te)\n",
    "\n",
    "test_ziets=[0.1,0.25,0.5,0.7]\n",
    "n_estis=[100,200,300,1000]\n",
    "lera=[0.1,0.2,0.3]\n",
    "max_deps=[6,10]\n",
    "subsales=[0.5,1]\n",
    "colsale_byree=[0.5,1]\n",
    "fkn=0\n",
    "import os\n",
    "gag=os.listdir(\"ppp/open/models3/\")\n",
    "for n_es in n_estis:\n",
    "    for tes in test_ziets:\n",
    "        for ler in lera:\n",
    "            for max_de in max_deps:\n",
    "                for subsa in subsales:\n",
    "                    for colsal in colsale_byree:\n",
    "                        '''\n",
    "                        if fkn<11:\n",
    "                            print(fkn)\n",
    "                            xgb_model=xgb.Booster()\n",
    "                            xgb_model.load_model(f\"ppp/open/models3/{gag[fkn]}\")\n",
    "                            y_pred = xgb_model.predict(x_te)\n",
    "                            if fkn==0:\n",
    "                                y_pred_all_max=y_pred\n",
    "                                y_pred_all_mean=y_pred\n",
    "                            else:\n",
    "                                y_pred_all_max=np.where(y_pred_all_max<y_pred,y_pred,y_pred_all_max)\n",
    "                                y_pred_all_mean=(y_pred_all_mean+y_pred)/2\n",
    "                                y_pred_all_max_p=y_pred_all_max.argmax(axis=1)\n",
    "                                y_pred_all_mean_p=y_pred_all_mean.argmax(axis=1)\n",
    "                                #################### al ###################################\n",
    "                                print(\"all\")\n",
    "                                print(f1_score(y_te,y_pred_all_max_p ,average=\"macro\"))\n",
    "                                print(f1_score( y_te,y_pred_all_max_p,average=None))\n",
    "                                print(confusion_matrix( y_te,y_pred_all_max_p))\n",
    "                                #################### mean ###################################\n",
    "                                print(\"mean\")\n",
    "                                print(f1_score(y_te,y_pred_all_mean_p ,average=\"macro\"))\n",
    "                                print(f1_score( y_te,y_pred_all_mean_p,average=None))\n",
    "                                print(confusion_matrix( y_te,y_pred_all_mean_p))\n",
    "                            fkn+=1\n",
    "                            continue\n",
    "                        '''\n",
    "                        # 파라미터 설정\n",
    "                        x_tr1, x_te1, y_tr1, y_te1 = train_test_split(x_tr,\n",
    "                                                                      y_tr,\n",
    "                                                                      test_size=tes, \n",
    "                                                                      shuffle=True,\n",
    "                                                                      stratify =y_tr,\n",
    "                                                                      random_state=2025+fkn)\n",
    "                        x_tr1 = xgb.DMatrix(x_tr1, label=y_tr1)\n",
    "                        x_te1 = xgb.DMatrix(x_te1, label=y_te1)\n",
    "                        \n",
    "                        params = {\n",
    "                            'objective': 'multi:softprob',\n",
    "                            'num_class': 5,\n",
    "                            'learning_rate': ler,\n",
    "                            'max_depth': max_de,\n",
    "                            'random_state': 312+fkn,\n",
    "                            'tree_method': 'hist',\n",
    "                            'device': 'cuda',\n",
    "                            'subsample': subsa,\n",
    "                            'colsample_bytree': colsal,\n",
    "                            'eval_metric': 'mlogloss'\n",
    "                        }\n",
    "\n",
    "\n",
    "                        watchlist = [(x_tr1, 'train'), (x_te1, 'eval')]\n",
    "\n",
    "\n",
    "                        xgb_model = xgb.train(\n",
    "                            params=params,\n",
    "                            dtrain=x_tr1,\n",
    "                            num_boost_round=n_es,\n",
    "                            evals=watchlist,\n",
    "                            early_stopping_rounds=20,\n",
    "                            verbose_eval=10  \n",
    "                        )\n",
    "\n",
    "                        y_pred = xgb_model.predict(x_te)\n",
    "                        \n",
    "                        if fkn==0:\n",
    "                            y_pred_all_max=y_pred\n",
    "                            y_pred_all_mean=y_pred\n",
    "                        else:\n",
    "                            y_pred_all_max=np.where(y_pred_all_max<y_pred,y_pred,y_pred_all_max)\n",
    "                            y_pred_all_mean=(y_pred_all_mean+y_pred)/2\n",
    "                            y_pred_all_max_p=y_pred_all_max.argmax(axis=1)\n",
    "                            y_pred_all_mean_p=y_pred_all_mean.argmax(axis=1)\n",
    "                        \n",
    "                        y_pred=y_pred.argmax(axis=1)\n",
    "                        \n",
    "                        \n",
    "                        print(datetime.datetime.now())\n",
    "                        print(f\"{fkn}번 , data: {tes}, n_estimators: {n_es}, learning_rate: {ler}, max_deps: {max_de}, subsales: {subsa}, colsale_byree: {colsal}\")\n",
    "                        print(f1_score(y_te,y_pred ,average=\"macro\"))\n",
    "                        print(f1_score( y_te,y_pred,average=None))\n",
    "                        print(confusion_matrix( y_te,y_pred))\n",
    "                        #################### al ###################################\n",
    "                        print(\"all\")\n",
    "                        print(f1_score(y_te,y_pred_all_max_p ,average=\"macro\"))\n",
    "                        print(f1_score( y_te,y_pred_all_max_p,average=None))\n",
    "                        print(confusion_matrix( y_te,y_pred_all_max_p))\n",
    "                        #################### mean ###################################\n",
    "                        print(\"mean\")\n",
    "                        print(f1_score(y_te,y_pred_all_mean_p ,average=\"macro\"))\n",
    "                        print(f1_score( y_te,y_pred_all_mean_p,average=None))\n",
    "                        print(confusion_matrix( y_te,y_pred_all_mean_p))\n",
    "                        \n",
    "                        xgb_model.save_model(f\"ppp/open/models3/xgb_an{fkn}_{n_es}_{25}_{max_de}.model\")\n",
    "                        fkn+=1\n"
   ]
  },
  {
   "cell_type": "code",
   "execution_count": 13,
   "id": "911d7afe",
   "metadata": {
    "scrolled": true
   },
   "outputs": [
    {
     "name": "stdout",
     "output_type": "stream",
     "text": [
      "xgb_an0_300_25_6.model\n"
     ]
    },
    {
     "ename": "ValueError",
     "evalue": "feature_names mismatch: ['CA이자율_할인전', 'CA한도금액', 'CL이자율_할인전', 'IB문의건수_BL_R6M', 'IB문의건수_CA_R6M', 'IB문의건수_CL_RV_B0M', 'IB문의건수_CL_RV_R6M', 'IB문의건수_CS_B0M', 'IB문의건수_CS_R6M', 'IB문의건수_SMS_R6M', 'IB문의건수_결제_R6M', 'IB문의건수_결제일변경_R6M', 'IB문의건수_부대서비스_R6M', 'IB문의건수_분실도난_R6M', 'IB문의건수_비밀번호_R6M', 'IB문의건수_사용승인내역_B0M', 'IB문의건수_사용승인내역_R6M', 'IB문의건수_선결제_B0M', 'IB문의건수_선결제_R6M', 'IB문의건수_정보변경_R6M', 'IB문의건수_카드발급_B0M', 'IB문의건수_카드발급_R6M', 'IB문의건수_포인트_R6M', 'IB문의건수_한도_R6M', 'IB문의건수_할부_R6M', 'RP건수_B0M', 'RP건수_가스_B0M', 'RP건수_교통_B0M', 'RP건수_렌탈_B0M', 'RP건수_보험_B0M', 'RP건수_아파트_B0M', 'RP건수_전기_B0M', 'RP건수_제휴사서비스직접판매_B0M', 'RP건수_통신_B0M', 'RP건수_학습비_B0M', 'RP금액_B0M', 'RP유형건수_B0M', 'RP후경과월', 'RP후경과월_가스', 'RP후경과월_교통', 'RP후경과월_렌탈', 'RP후경과월_보험', 'RP후경과월_아파트', 'RP후경과월_전기', 'RP후경과월_제휴사서비스직접판매', 'RP후경과월_통신', 'RP후경과월_학습비', 'RV_최대잔액_R12M', 'RV_최대잔액_R3M', 'RV_최대잔액_R6M', 'RV_평균잔액_R12M', 'RV_평균잔액_R3M', 'RV_평균잔액_R6M', 'RV신청일자', 'RV약정청구율', 'RV일시불이자율_할인전', 'RV최소결제비율', 'RV현금서비스이자율_할인전', '_1순위교통업종_이용금액', '_1순위납부업종_이용금액', '_1순위쇼핑업종_이용금액', '_1순위업종_이용금액', '_1순위여유업종_이용금액', '_1순위카드이용건수', '_1순위카드이용금액', '_2순위교통업종_이용금액', '_2순위납부업종_이용금액', '_2순위쇼핑업종_이용금액', '_2순위업종_이용금액', '_2순위여유업종_이용금액', '_2순위카드이용건수', '_2순위카드이용금액', '_3순위교통업종_이용금액', '_3순위납부업종_이용금액', '_3순위쇼핑업종_이용금액', '_3순위업종_이용금액', '_3순위여유업종_이용금액', 'rv최초시작후경과일', '가맹점매출금액_B1M', '가맹점매출금액_B2M', '강제한도감액금액_R12M', '강제한도감액횟수_R12M', '강제한도감액후경과월', '건수_할부전환_R3M', '건수_할부전환_R6M', '교통_버스지하철이용금액', '교통_정비이용금액', '교통_주유이용금액', '교통_철도버스이용금액', '교통_택시이용금액', '교통_통행료이용금액', '금액_할부전환_R3M', '금액_할부전환_R6M', '기본연회비_B0M', '남녀구분코드', '납부_가스전기료이용금액', '납부_관리비이용금액', '납부_기타이용금액', '납부_보험료이용금액', '납부_통신비이용금액', '당사멤버쉽_방문월수_R6M', '당사멤버쉽_방문횟수_B0M', '당사멤버쉽_방문횟수_R6M', '대표결제일', '동의여부_한도증액안내', '마일_이용포인트_R12M', '마일_이용포인트_R3M', '마일_잔여포인트_B0M', '마일_적립포인트_R12M', '마일_적립포인트_R3M', '마케팅동의여부', '방문월수_PC_R6M', '방문월수_모바일웹_R6M', '방문월수_앱_R6M', '방문일수_PC_B0M', '방문일수_모바일웹_B0M', '방문일수_모바일웹_R6M', '방문일수_앱_B0M', '방문일수_앱_R6M', '방문횟수_PC_B0M', '방문횟수_모바일웹_B0M', '방문횟수_모바일웹_R6M', '방문횟수_앱_B0M', '방문후경과월_PC_R6M', '방문후경과월_모바일웹_R6M', '방문후경과월_앱_R6M', '변동률_CA평잔', '변동률_RVCA평잔', '변동률_RV일시불평잔', '변동률_일시불평잔', '변동률_잔액_B1M', '변동률_잔액_CA_B1M', '변동률_잔액_일시불_B1M', '변동률_카드론평잔', '변동률_할부평잔', '보유여부_해외겸용_본인', '보유여부_해외겸용_신용_본인', '불만제기후경과월_R12M', '상담건수_B0M', '상담건수_R6M', '상향가능CA한도금액', '상향가능한도금액', '상환개월수_결제일_R3M', '상환개월수_결제일_R6M', '선결제건수_R3M', '선결제건수_R6M', '선입금원금_B0M', '선입금원금_B2M', '선입금원금_B5M', '소지여부_신용', '소지카드수_유효_신용', '소지카드수_이용가능_신용', '쇼핑_기타_이용금액', '쇼핑_도소매_이용금액', '쇼핑_마트_이용금액', '쇼핑_백화점_이용금액', '쇼핑_슈퍼마켓_이용금액', '쇼핑_아울렛_이용금액', '쇼핑_온라인_이용금액', '쇼핑_편의점_이용금액', '수신거부여부_DM', '수신거부여부_SMS', '수신거부여부_TM', '수신거부여부_메일', '승인거절건수_B0M', '승인거절건수_BL_B0M', '승인거절건수_BL_R3M', '승인거절건수_R3M', '승인거절건수_기타_R3M', '승인거절건수_입력오류_R3M', '승인거절건수_한도초과_B0M', '승인거절건수_한도초과_R3M', '시장단기연체여부_R3M', '시장단기연체여부_R6M', '신청건수_ATM_CA_B0', '신청건수_ATM_CA_R6M', '신청건수_ATM_CL_B0', '신청건수_ATM_CL_R6M', '여유_Pet이용금액', '여유_공연이용금액', '여유_공원이용금액', '여유_기타이용금액', '여유_숙박이용금액', '여유_운동이용금액', '여유_항공이용금액', '연속무실적개월수_기본_24M_카드', '연속유실적개월수_기본_24M_카드', '연체감액여부_R3M', '연체건수_R3M', '연체건수_R6M', '연체원금_B1M', '연체원금_B2M', '연체원금_최근', '연체일자_B0M', '연체입금원금_B0M', '연체입금원금_B2M', '연체입금원금_B5M', '연체잔액_B0M', '연체잔액_CA_B0M', '연체잔액_RV일시불_B0M', '연체잔액_일시불_B0M', '연체잔액_카드론_B0M', '연체잔액_할부_B0M', '연체잔액_현금서비스_B0M', '월상환론상향가능한도금액', '월상환론한도금액', '월중평잔', '월중평잔_CA', '월중평잔_CA_B0M', '월중평잔_RV일시불', '월중평잔_일시불', '월중평잔_일시불_B0M', '월중평잔_카드론', '월중평잔_할부', '월중평잔_할부_B0M', '유효카드수_신용', '유효카드수_신용_가족', '유효카드수_신용체크', '유효카드수_체크', '유효카드수_체크_가족', '이용가능여부_해외겸용_본인', '이용가능여부_해외겸용_신용_본인', '이용가능카드수_신용', '이용가능카드수_신용_가족', '이용가능카드수_신용체크', '이용가능카드수_체크', '이용가능카드수_체크_가족', '이용가맹점수', '이용개월수_A페이_R6M', '이용개월수_B페이_R6M', '이용개월수_CA_R12M', '이용개월수_CA_R3M', '이용개월수_CA_R6M', '이용개월수_C페이_R6M', '이용개월수_D페이_R6M', '이용개월수_간편결제_R6M', '이용개월수_결제일_R3M', '이용개월수_결제일_R6M', '이용개월수_당사기타_R6M', '이용개월수_부분무이자_R12M', '이용개월수_부분무이자_R3M', '이용개월수_부분무이자_R6M', '이용개월수_선결제_R6M', '이용개월수_신용_R12M', '이용개월수_신용_R3M', '이용개월수_신용_R6M', '이용개월수_신판_R12M', '이용개월수_신판_R3M', '이용개월수_신판_R6M', '이용개월수_오프라인_R6M', '이용개월수_온라인_R6M', '이용개월수_일시불_R12M', '이용개월수_일시불_R3M', '이용개월수_일시불_R6M', '이용개월수_전체_R3M', '이용개월수_전체_R6M', '이용개월수_체크_R12M', '이용개월수_체크_R3M', '이용개월수_체크_R6M', '이용개월수_카드론_R12M', '이용개월수_카드론_R3M', '이용개월수_카드론_R6M', '이용개월수_페이_오프라인_R6M', '이용개월수_페이_온라인_R6M', '이용개월수_할부_R12M', '이용개월수_할부_R3M', '이용개월수_할부_R6M', '이용개월수_할부_무이자_R12M', '이용개월수_할부_무이자_R3M', '이용개월수_할부_무이자_R6M', '이용개월수_할부_유이자_R12M', '이용개월수_할부_유이자_R3M', '이용개월수_할부_유이자_R6M', '이용거절여부_카드론', '이용건수_A페이_B0M', '이용건수_A페이_R3M', '이용건수_A페이_R6M', '이용건수_B페이_B0M', '이용건수_B페이_R3M', '이용건수_B페이_R6M', '이용건수_CA_B0M', '이용건수_CA_R12M', '이용건수_CA_R3M', '이용건수_CA_R6M', '이용건수_C페이_B0M', '이용건수_C페이_R3M', '이용건수_C페이_R6M', '이용건수_D페이_B0M', '이용건수_D페이_R3M', '이용건수_D페이_R6M', '이용건수_간편결제_B0M', '이용건수_간편결제_R3M', '이용건수_간편결제_R6M', '이용건수_부분무이자_R12M', '이용건수_부분무이자_R3M', '이용건수_부분무이자_R6M', '이용건수_선결제_B0M', '이용건수_선결제_R3M', '이용건수_선결제_R6M', '이용건수_신용_B0M', '이용건수_신용_R12M', '이용건수_신용_R3M', '이용건수_신용_R6M', '이용건수_신판_B0M', '이용건수_신판_R12M', '이용건수_신판_R3M', '이용건수_신판_R6M', '이용건수_오프라인_B0M', '이용건수_오프라인_R3M', '이용건수_오프라인_R6M', '이용건수_온라인_B0M', '이용건수_온라인_R3M', '이용건수_온라인_R6M', '이용건수_일시불_B0M', '이용건수_일시불_R12M', '이용건수_일시불_R3M', '이용건수_일시불_R6M', '이용건수_체크_B0M', '이용건수_체크_R12M', '이용건수_체크_R3M', '이용건수_체크_R6M', '이용건수_카드론_B0M', '이용건수_카드론_R12M', '이용건수_카드론_R3M', '이용건수_카드론_R6M', '이용건수_페이_오프라인_B0M', '이용건수_페이_오프라인_R3M', '이용건수_페이_오프라인_R6M', '이용건수_페이_온라인_B0M', '이용건수_페이_온라인_R3M', '이용건수_페이_온라인_R6M', '이용건수_할부_B0M', '이용건수_할부_R12M', '이용건수_할부_R3M', '이용건수_할부_R6M', '이용건수_할부_무이자_B0M', '이용건수_할부_무이자_R12M', '이용건수_할부_무이자_R3M', '이용건수_할부_무이자_R6M', '이용건수_할부_유이자_B0M', '이용건수_할부_유이자_R12M', '이용건수_할부_유이자_R3M', '이용건수_할부_유이자_R6M', '이용금액_A페이_B0M', '이용금액_A페이_R3M', '이용금액_A페이_R6M', '이용금액_B페이_B0M', '이용금액_B페이_R3M', '이용금액_B페이_R6M', '이용금액_CA_B0M', '이용금액_CA_R12M', '이용금액_CA_R3M', '이용금액_CA_R6M', '이용금액_C페이_B0M', '이용금액_C페이_R3M', '이용금액_C페이_R6M', '이용금액_D페이_B0M', '이용금액_D페이_R3M', '이용금액_D페이_R6M', '이용금액_R3M_신용', '이용금액_R3M_신용_가족', '이용금액_R3M_신용체크', '이용금액_R3M_체크', '이용금액_간편결제_B0M', '이용금액_간편결제_R3M', '이용금액_간편결제_R6M', '이용금액_부분무이자_R12M', '이용금액_부분무이자_R3M', '이용금액_부분무이자_R6M', '이용금액_선결제_B0M', '이용금액_선결제_R3M', '이용금액_선결제_R6M', '이용금액_연체_B0M', '이용금액_연체_R3M', '이용금액_연체_R6M', '이용금액_오프라인_B0M', '이용금액_오프라인_R3M', '이용금액_오프라인_R6M', '이용금액_온라인_B0M', '이용금액_온라인_R3M', '이용금액_온라인_R6M', '이용금액_일시불_B0M', '이용금액_일시불_R12M', '이용금액_일시불_R3M', '이용금액_일시불_R6M', '이용금액_체크_B0M', '이용금액_체크_R12M', '이용금액_체크_R3M', '이용금액_체크_R6M', '이용금액_카드론_B0M', '이용금액_카드론_R12M', '이용금액_카드론_R3M', '이용금액_카드론_R6M', '이용금액_페이_오프라인_B0M', '이용금액_페이_오프라인_R3M', '이용금액_페이_오프라인_R6M', '이용금액_페이_온라인_B0M', '이용금액_페이_온라인_R3M', '이용금액_페이_온라인_R6M', '이용금액_할부_B0M', '이용금액_할부_R12M', '이용금액_할부_R3M', '이용금액_할부_R6M', '이용금액_할부_무이자_B0M', '이용금액_할부_무이자_R12M', '이용금액_할부_무이자_R3M', '이용금액_할부_무이자_R6M', '이용금액_할부_유이자_B0M', '이용금액_할부_유이자_R12M', '이용금액_할부_유이자_R3M', '이용금액_할부_유이자_R6M', '이용금액_해외', '이용메뉴건수_ARS_B0M', '이용메뉴건수_IB_B0M', '이용메뉴건수_IB_R6M', '이용여부_3M_해외겸용_본인', '이용여부_3M_해외겸용_신용_본인', '이용카드수_신용', '이용카드수_신용_가족', '이용카드수_신용체크', '이용카드수_체크', '이용횟수_선결제_B0M', '이용횟수_선결제_R3M', '이용횟수_선결제_R6M', '이용횟수_연체_B0M', '이용횟수_연체_R3M', '이용횟수_연체_R6M', '이용후경과월_CA', '이용후경과월_부분무이자', '이용후경과월_신용', '이용후경과월_신판', '이용후경과월_일시불', '이용후경과월_체크', '이용후경과월_카드론', '이용후경과월_할부', '이용후경과월_할부_무이자', '이용후경과월_할부_유이자', '인입월수_ARS_R6M', '인입월수_IB_R6M', '인입일수_ARS_B0M', '인입일수_ARS_R6M', '인입일수_IB_B0M', '인입일수_IB_R6M', '인입횟수_ARS_B0M', '인입횟수_IB_B0M', '인입횟수_IB_R6M', '인입후경과월_ARS', '인입후경과월_IB_R6M', '일시불ONLY전환가능여부', '일시상환론한도금액', '입회경과개월수_신용', '입회일자_신용', '자발한도감액금액_R12M', '자발한도감액후경과월', '잔액_리볼빙CA이월_B0M', '잔액_리볼빙일시불이월_B0M', '잔액_신판ca최대한도소진율_r3m', '잔액_신판ca최대한도소진율_r6m', '잔액_신판ca평균한도소진율_r3m', '잔액_신판ca평균한도소진율_r6m', '잔액_신판최대한도소진율_r3m', '잔액_신판최대한도소진율_r6m', '잔액_신판평균한도소진율_r3m', '잔액_신판평균한도소진율_r6m', '잔액_일시불_B0M', '잔액_일시불_B1M', '잔액_일시불_B2M', '잔액_카드론_B0M', '잔액_카드론_B1M', '잔액_카드론_B2M', '잔액_카드론_B3M', '잔액_카드론_B4M', '잔액_카드론_B5M', '잔액_할부_B0M', '잔액_할부_B1M', '잔액_할부_B2M', '잔액_할부_무이자_B0M', '잔액_할부_유이자_B0M', '잔액_할부_해외_B0M', '잔액_현금서비스_B0M', '잔액_현금서비스_B1M', '잔액_현금서비스_B2M', '정상입금원금_B0M', '정상입금원금_B2M', '정상입금원금_B5M', '정상청구원금_B0M', '정상청구원금_B2M', '정상청구원금_B5M', '제휴연회비_B0M', '증감_RP건수_가스_전월', '증감_RP건수_교통_전월', '증감_RP건수_렌탈_전월', '증감_RP건수_보험_전월', '증감_RP건수_아파트_전월', '증감_RP건수_전기_전월', '증감_RP건수_전월', '증감_RP건수_제휴사서비스직접판매_전월', '증감_RP건수_통신_전월', '증감_RP건수_학습비_전월', '증감_RP유형건수_전월', '증감율_이용건수_CA_분기', '증감율_이용건수_CA_전월', '증감율_이용건수_신용_분기', '증감율_이용건수_신용_전월', '증감율_이용건수_신판_분기', '증감율_이용건수_신판_전월', '증감율_이용건수_일시불_분기', '증감율_이용건수_일시불_전월', '증감율_이용건수_체크_분기', '증감율_이용건수_체크_전월', '증감율_이용건수_카드론_분기', '증감율_이용건수_카드론_전월', '증감율_이용건수_할부_분기', '증감율_이용건수_할부_전월', '증감율_이용금액_CA_분기', '증감율_이용금액_CA_전월', '증감율_이용금액_신용_분기', '증감율_이용금액_신용_전월', '증감율_이용금액_신판_분기', '증감율_이용금액_신판_전월', '증감율_이용금액_일시불_분기', '증감율_이용금액_일시불_전월', '증감율_이용금액_체크_분기', '증감율_이용금액_체크_전월', '증감율_이용금액_카드론_분기', '증감율_이용금액_카드론_전월', '증감율_이용금액_할부_분기', '증감율_이용금액_할부_전월', '청구금액_B0', '청구금액_R3M', '청구금액_R6M', '청구금액_기본연회비_B0M', '청구금액_제휴연회비_B0M', '청구서발송여부_B0', '청구서발송여부_R3M', '청구서발송여부_R6M', '최대이용금액_CA_R12M', '최대이용금액_부분무이자_R12M', '최대이용금액_일시불_R12M', '최대이용금액_체크_R12M', '최대이용금액_카드론_R12M', '최대이용금액_할부_R12M', '최대이용금액_할부_무이자_R12M', '최대이용금액_할부_유이자_R12M', '최종유효년월_신용_이용', '최종유효년월_신용_이용가능', '최종이용일자_CA', '최종이용일자_기본', '최종이용일자_신판', '최종이용일자_일시불', '최종이용일자_체크', '최종이용일자_카드론', '최종이용일자_할부', '최종카드론_거치개월수', '최종카드론_금융상환방식코드', '최종카드론_대출금액', '최종카드론_대출월수', '최종카드론_대출이율', '최종카드론_대출일자', '최종카드론이용경과월', '최종카드발급경과월', '최종카드발급일자', '최종탈회후경과월', '최초카드론이용경과월', '최초한도금액', '카드론이용건수_누적', '카드론이용금액_누적', '카드론이용월수_누적', '카드신청건수', '카드이용한도금액', '카드이용한도금액_B1M', '카드이용한도금액_B2M', '컨택건수_CA_LMS_B0M', '컨택건수_CA_LMS_R6M', '컨택건수_CA_TM_R6M', '컨택건수_CA_청구서_B0M', '컨택건수_CA_청구서_R6M', '컨택건수_리볼빙_LMS_B0M', '컨택건수_리볼빙_LMS_R6M', '컨택건수_리볼빙_TM_B0M', '컨택건수_리볼빙_TM_R6M', '컨택건수_보험_TM_B0M', '컨택건수_보험_TM_R6M', '컨택건수_부대서비스_TM_R6M', '컨택건수_신용발급_TM_B0M', '컨택건수_신용발급_TM_R6M', '컨택건수_이용유도_EM_B0M', '컨택건수_이용유도_EM_R6M', '컨택건수_이용유도_LMS_B0M', '컨택건수_이용유도_LMS_R6M', '컨택건수_이용유도_TM_B0M', '컨택건수_이용유도_TM_R6M', '컨택건수_이용유도_당사앱_B0M', '컨택건수_이용유도_당사앱_R6M', '컨택건수_이용유도_인터넷_B0M', '컨택건수_이용유도_인터넷_R6M', '컨택건수_이용유도_청구서_B0M', '컨택건수_이용유도_청구서_R6M', '컨택건수_채권_B0M', '컨택건수_채권_R6M', '컨택건수_카드론_EM_B0M', '컨택건수_카드론_EM_R6M', '컨택건수_카드론_LMS_B0M', '컨택건수_카드론_LMS_R6M', '컨택건수_카드론_TM_B0M', '컨택건수_카드론_TM_R6M', '컨택건수_카드론_청구서_B0M', '컨택건수_카드론_청구서_R6M', '컨택건수_포인트소진_TM_R6M', '탈회횟수_누적', '탈회횟수_발급1년이내', '탈회횟수_발급6개월이내', '특별한도보유여부_R3M', '평잔_3M', '평잔_6M', '평잔_CA_3M', '평잔_CA_6M', '평잔_CA_해외_3M', '평잔_CA_해외_6M', '평잔_RV일시불_3M', '평잔_RV일시불_6M', '평잔_RV일시불_해외_3M', '평잔_RV일시불_해외_6M', '평잔_일시불_3M', '평잔_일시불_6M', '평잔_일시불_해외_3M', '평잔_일시불_해외_6M', '평잔_카드론_3M', '평잔_카드론_6M', '평잔_할부_3M', '평잔_할부_6M', '평잔_할부_해외_3M', '평잔_할부_해외_6M', '포인트_마일리지_건별_B0M', '포인트_마일리지_건별_R3M', '포인트_마일리지_월적립_B0M', '포인트_마일리지_월적립_R3M', '포인트_마일리지_환산_B0M', '포인트_이용포인트_R12M', '포인트_이용포인트_R3M', '포인트_잔여포인트_B0M', '포인트_적립포인트_R12M', '포인트_적립포인트_R3M', '포인트_포인트_건별_B0M', '포인트_포인트_건별_R3M', '포인트_포인트_월적립_B0M', '포인트_포인트_월적립_R3M', '한도심사거절후경과월', '한도심사요청후경과월', '한도요청거절건수', '한도증액금액_R12M', '한도증액후경과월', '할부건수_12M_R12M', '할부건수_14M_R12M', '할부건수_3M_R12M', '할부건수_6M_R12M', '할부건수_무이자_12M_R12M', '할부건수_무이자_3M_R12M', '할부건수_무이자_6M_R12M', '할부건수_부분_12M_R12M', '할부건수_유이자_12M_R12M', '할부건수_유이자_14M_R12M', '할부건수_유이자_3M_R12M', '할부건수_유이자_6M_R12M', '할부금액_12M_R12M', '할부금액_14M_R12M', '할부금액_3M_R12M', '할부금액_6M_R12M', '할부금액_무이자_12M_R12M', '할부금액_무이자_14M_R12M', '할부금액_무이자_3M_R12M', '할부금액_무이자_6M_R12M', '할부금액_부분_12M_R12M', '할부금액_부분_14M_R12M', '할부금액_부분_6M_R12M', '할부금액_유이자_12M_R12M', '할부금액_유이자_14M_R12M', '할부금액_유이자_3M_R12M', '할부금액_유이자_6M_R12M', '할인금액_B0M', '할인금액_R3M', '할인금액_청구서_B0M', '할인금액_청구서_R3M', '혜택수혜금액', '혜택수혜금액_R3M', '혜택수혜율_B0M', '혜택수혜율_R3M', '홈페이지_금융건수_R3M', '홈페이지_금융건수_R6M', '홈페이지_선결제건수_R3M', '홈페이지_선결제건수_R6M', '회원여부_연체', '회원여부_이용가능', '회원여부_이용가능_CA', '회원여부_이용가능_카드론', 'Life_Stage_자녀성장(1)', 'Life_Stage_자녀성장(2)', 'Life_Stage_노년생활', 'Life_Stage_자녀독립기', 'Life_Stage_자녀출산기', 'Life_Stage_독신', 'Life_Stage_가족구축기', 'OS구분코드_Android', 'OS구분코드_None', 'OS구분코드_IOS', 'RV전환가능여부_Z', 'RV전환가능여부_N', 'RV전환가능여부_None', '_1순위교통업종_주유', '_1순위교통업종_None', '_1순위교통업종_철도버스', '_1순위교통업종_택시', '_1순위교통업종_버스지하철', '_1순위교통업종_정비', '_1순위납부업종_납부기타', '_1순위납부업종_통신비', '_1순위납부업종_보험료', '_1순위납부업종_None', '_1순위납부업종_관리비', '_1순위납부업종_가스/전기료', '_1순위쇼핑업종_온라인', '_1순위쇼핑업종_도소매', '_1순위쇼핑업종_None', '_1순위쇼핑업종_마트', '_1순위쇼핑업종_쇼핑기타', '_1순위쇼핑업종_아울렛', '_1순위쇼핑업종_편의점', '_1순위쇼핑업종_슈퍼마켓', '_1순위쇼핑업종_백화점', '_1순위신용체크구분_신용', '_1순위신용체크구분_체크', '_1순위신용체크구분_None', '_1순위업종_쇼핑', '_1순위업종_교육', '_1순위업종_사교활동', '_1순위업종_납부', '_1순위업종_교통', '_1순위업종_의료', '_1순위업종_None', '_1순위업종_해외', '_1순위업종_여유생활', '_1순위업종_일상생활', '_1순위업종_요식', '_1순위여유업종_항공', '_1순위여유업종_None', '_1순위여유업종_Pet', '_1순위여유업종_운동', '_1순위여유업종_공연', '_1순위여유업종_숙박', '_1순위여유업종_여유기타', '_1순위여유업종_공원', '_2순위교통업종_정비', '_2순위교통업종_None', '_2순위교통업종_버스지하철', '_2순위교통업종_택시', '_2순위교통업종_철도버스', '_2순위교통업종_주유', '_2순위교통업종_통행료', '_2순위납부업종_None', '_2순위납부업종_납부기타', '_2순위납부업종_보험료', '_2순위납부업종_통신비', '_2순위납부업종_가스/전기료', '_2순위납부업종_관리비', '_2순위쇼핑업종_도소매', '_2순위쇼핑업종_온라인', '_2순위쇼핑업종_슈퍼마켓', '_2순위쇼핑업종_마트', '_2순위쇼핑업종_None', '_2순위쇼핑업종_편의점', '_2순위쇼핑업종_백화점', '_2순위쇼핑업종_쇼핑기타', '_2순위쇼핑업종_아울렛', '_2순위신용체크구분_신용', '_2순위신용체크구분_None', '_2순위신용체크구분_체크', '_2순위업종_사교활동', '_2순위업종_쇼핑', '_2순위업종_해외', '_2순위업종_의료', '_2순위업종_납부', '_2순위업종_None', '_2순위업종_교육', '_2순위업종_교통', '_2순위업종_일상생활', '_2순위업종_여유생활', '_2순위업종_요식', '_2순위여유업종_운동', '_2순위여유업종_None', '_2순위여유업종_여유기타', '_2순위여유업종_숙박', '_2순위여유업종_Pet', '_2순위여유업종_공연', '_2순위여유업종_공원', '_2순위여유업종_항공', '_3순위교통업종_버스지하철', '_3순위교통업종_None', '_3순위교통업종_택시', '_3순위교통업종_철도버스', '_3순위교통업종_정비', '_3순위교통업종_통행료', '_3순위납부업종_None', '_3순위납부업종_납부기타', '_3순위납부업종_가스/전기료', '_3순위납부업종_보험료', '_3순위납부업종_통신비', '_3순위쇼핑업종_마트', '_3순위쇼핑업종_백화점', '_3순위쇼핑업종_편의점', '_3순위쇼핑업종_None', '_3순위쇼핑업종_슈퍼마켓', '_3순위쇼핑업종_아울렛', '_3순위쇼핑업종_쇼핑기타', '_3순위쇼핑업종_온라인', '_3순위쇼핑업종_도소매', '_3순위업종_의료', '_3순위업종_사교활동', '_3순위업종_교육', '_3순위업종_교통', '_3순위업종_None', '_3순위업종_해외', '_3순위업종_납부', '_3순위업종_쇼핑', '_3순위업종_여유생활', '_3순위업종_요식', '_3순위업종_일상생활', '_3순위여유업종_숙박', '_3순위여유업종_None', '_3순위여유업종_공연', '_3순위여유업종_Pet', '_3순위여유업종_여유기타', '_3순위여유업종_공원', '_3순위여유업종_운동', '가입통신회사코드_S사', '가입통신회사코드_None', '가입통신회사코드_K사', '가입통신회사코드_L사', '거주시도명_서울', '거주시도명_경기', '거주시도명_부산', '거주시도명_대전', '거주시도명_충남', '거주시도명_인천', '거주시도명_울산', '거주시도명_경북', '거주시도명_충북', '거주시도명_경남', '거주시도명_대구', '거주시도명_강원', '거주시도명_전남', '거주시도명_광주', '거주시도명_전북', '거주시도명_제주', '거주시도명_세종', '대표청구서수령지구분코드_우편', '대표청구서수령지구분코드_이메일', '대표청구서수령지구분코드_당사페이앱+이메일', '대표청구서수령지구분코드_미수신', '대표청구서수령지구분코드_K톡명세서+이메일', '대표청구서수령지구분코드_당사멤버십+이메일', '대표청구지고객주소구분코드_주거지', '대표청구지고객주소구분코드_회사', '대표청구지고객주소구분코드_미확인', '방문일수_PC_R6M_1회 이상', '방문일수_PC_R6M_20회 이상', '방문일수_PC_R6M_10회 이상', '방문일수_PC_R6M_30회 이상', '방문횟수_PC_R6M_1회 이상', '방문횟수_PC_R6M_20회 이상', '방문횟수_PC_R6M_10회 이상', '방문횟수_PC_R6M_30회 이상', '방문횟수_PC_R6M_40회 이상', '방문횟수_앱_R6M_1회 이상', '방문횟수_앱_R6M_70회 이상', '방문횟수_앱_R6M_50회 이상', '방문횟수_앱_R6M_10회 이상', '방문횟수_앱_R6M_40회 이상', '방문횟수_앱_R6M_60회 이상', '방문횟수_앱_R6M_20회 이상', '방문횟수_앱_R6M_30회 이상', '방문횟수_앱_R6M_80회 이상', '연령_40대', '연령_50대', '연령_30대', '연령_70대이상', '연령_60대', '연령_20대', '연회비발생카드수_B0M_0개', '연회비발생카드수_B0M_1개이상', '이용금액대_01.100만원+', '이용금액대_02.50만원+', '이용금액대_05.10만원-', '이용금액대_09.미사용', '이용금액대_04.10만원+', '이용금액대_03.30만원+', '이용메뉴건수_ARS_R6M_1회 이상', '이용메뉴건수_ARS_R6M_10회 이상', '이용메뉴건수_ARS_R6M_20회 이상', '이용메뉴건수_ARS_R6M_30회 이상', '인입횟수_ARS_R6M_1회 이상', '인입횟수_ARS_R6M_10회 이상', '자발한도감액횟수_R12M_0회', '자발한도감액횟수_R12M_1회', '자발한도감액횟수_R12M_2회', '직장시도명_대전', '직장시도명_경기', '직장시도명_서울', '직장시도명_부산', '직장시도명_전북', '직장시도명_충남', '직장시도명_인천', '직장시도명_None', '직장시도명_경북', '직장시도명_충북', '직장시도명_경남', '직장시도명_울산', '직장시도명_강원', '직장시도명_전남', '직장시도명_광주', '직장시도명_대구', '직장시도명_세종', '직장시도명_제주', '청구서수령방법_우편', '청구서수령방법_이메일', '청구서수령방법_문자메세지', '청구서수령방법_미수령', '청구서수령방법_K톡', '청구서수령방법_당사멤버십', '최종카드론_신청경로코드_None', '최종카드론_신청경로코드_2', '최종카드론_신청경로코드_7', '최종카드론_신청경로코드_1', '최종카드론_신청경로코드_8', '최종카드론_신청경로코드_D', '카드론동의여부_Y', '카드론동의여부_N', '캠페인접촉건수_R12M_5회 이상', '캠페인접촉건수_R12M_1회 이상', '캠페인접촉건수_R12M_10회 이상', '캠페인접촉건수_R12M_15회 이상', '캠페인접촉건수_R12M_20회 이상', '캠페인접촉건수_R12M_25회 이상', '캠페인접촉일수_R12M_5일 이상', '캠페인접촉일수_R12M_1일 이상', '캠페인접촉일수_R12M_10일 이상', '캠페인접촉일수_R12M_15일 이상', '캠페인접촉일수_R12M_20일 이상', '한도심사요청건수_0회', '한도심사요청건수_1회이상', '한도증액횟수_R12M_1회이상', '한도증액횟수_R12M_0회', '할인건수_B0M_1회 이상', '할인건수_B0M_10회 이상', '할인건수_R3M_1회 이상', '할인건수_R3M_10회 이상', '할인건수_R3M_20회 이상', '할인건수_R3M_30회 이상', '할인건수_R3M_40회 이상', '연체일수_B2M_0', '연체일수_B2M_1', '연체일수_B1M_0', '연체일수_B1M_1', '연체일수_B1M_2', '최종연체회차_0', '최종연체회차_1', '연체일수_최근_0', '연체일수_최근_1', '연체일수_최근_2', 'rv최초시작후경과일_0', '최종카드론이용경과월_100', '최초카드론이용경과월_999', '최종이용일자_CA_0', '최종이용일자_기본_0', '최종이용일자_신판_0', '최종이용일자_일시불_0', '최종이용일자_체크_0', '최종이용일자_카드론_0', '최종이용일자_할부_0'] ['CA이자율_할인전', 'CA한도금액', 'CL이자율_할인전', 'IB문의건수_BL_R6M', 'IB문의건수_CA_R6M', 'IB문의건수_CL_RV_B0M', 'IB문의건수_CL_RV_R6M', 'IB문의건수_CS_B0M', 'IB문의건수_CS_R6M', 'IB문의건수_SMS_R6M', 'IB문의건수_결제_R6M', 'IB문의건수_결제일변경_R6M', 'IB문의건수_부대서비스_R6M', 'IB문의건수_분실도난_R6M', 'IB문의건수_비밀번호_R6M', 'IB문의건수_사용승인내역_B0M', 'IB문의건수_사용승인내역_R6M', 'IB문의건수_선결제_B0M', 'IB문의건수_선결제_R6M', 'IB문의건수_정보변경_R6M', 'IB문의건수_카드발급_B0M', 'IB문의건수_카드발급_R6M', 'IB문의건수_포인트_R6M', 'IB문의건수_한도_R6M', 'IB문의건수_할부_R6M', 'RP건수_B0M', 'RP건수_가스_B0M', 'RP건수_교통_B0M', 'RP건수_렌탈_B0M', 'RP건수_보험_B0M', 'RP건수_아파트_B0M', 'RP건수_전기_B0M', 'RP건수_제휴사서비스직접판매_B0M', 'RP건수_통신_B0M', 'RP건수_학습비_B0M', 'RP금액_B0M', 'RP유형건수_B0M', 'RP후경과월', 'RP후경과월_가스', 'RP후경과월_교통', 'RP후경과월_렌탈', 'RP후경과월_보험', 'RP후경과월_아파트', 'RP후경과월_전기', 'RP후경과월_제휴사서비스직접판매', 'RP후경과월_통신', 'RP후경과월_학습비', 'RV_최대잔액_R12M', 'RV_최대잔액_R3M', 'RV_최대잔액_R6M', 'RV_평균잔액_R12M', 'RV_평균잔액_R3M', 'RV_평균잔액_R6M', 'RV신청일자', 'RV약정청구율', 'RV일시불이자율_할인전', 'RV최소결제비율', 'RV현금서비스이자율_할인전', '_1순위교통업종_이용금액', '_1순위납부업종_이용금액', '_1순위쇼핑업종_이용금액', '_1순위업종_이용금액', '_1순위여유업종_이용금액', '_1순위카드이용건수', '_1순위카드이용금액', '_2순위교통업종_이용금액', '_2순위납부업종_이용금액', '_2순위쇼핑업종_이용금액', '_2순위업종_이용금액', '_2순위여유업종_이용금액', '_2순위카드이용건수', '_2순위카드이용금액', '_3순위교통업종_이용금액', '_3순위납부업종_이용금액', '_3순위쇼핑업종_이용금액', '_3순위업종_이용금액', '_3순위여유업종_이용금액', 'rv최초시작후경과일', '가맹점매출금액_B1M', '가맹점매출금액_B2M', '강제한도감액금액_R12M', '강제한도감액횟수_R12M', '강제한도감액후경과월', '건수_할부전환_R3M', '건수_할부전환_R6M', '교통_버스지하철이용금액', '교통_정비이용금액', '교통_주유이용금액', '교통_철도버스이용금액', '교통_택시이용금액', '교통_통행료이용금액', '금액_할부전환_R3M', '금액_할부전환_R6M', '기본연회비_B0M', '남녀구분코드', '납부_가스전기료이용금액', '납부_관리비이용금액', '납부_기타이용금액', '납부_보험료이용금액', '납부_통신비이용금액', '당사멤버쉽_방문월수_R6M', '당사멤버쉽_방문횟수_B0M', '당사멤버쉽_방문횟수_R6M', '대표결제일', '동의여부_한도증액안내', '마일_이용포인트_R12M', '마일_이용포인트_R3M', '마일_잔여포인트_B0M', '마일_적립포인트_R12M', '마일_적립포인트_R3M', '마케팅동의여부', '방문월수_PC_R6M', '방문월수_모바일웹_R6M', '방문월수_앱_R6M', '방문일수_PC_B0M', '방문일수_모바일웹_B0M', '방문일수_모바일웹_R6M', '방문일수_앱_B0M', '방문일수_앱_R6M', '방문횟수_PC_B0M', '방문횟수_모바일웹_B0M', '방문횟수_모바일웹_R6M', '방문횟수_앱_B0M', '방문후경과월_PC_R6M', '방문후경과월_모바일웹_R6M', '방문후경과월_앱_R6M', '변동률_CA평잔', '변동률_RVCA평잔', '변동률_RV일시불평잔', '변동률_일시불평잔', '변동률_잔액_B1M', '변동률_잔액_CA_B1M', '변동률_잔액_일시불_B1M', '변동률_카드론평잔', '변동률_할부평잔', '보유여부_해외겸용_본인', '보유여부_해외겸용_신용_본인', '불만제기후경과월_R12M', '상담건수_B0M', '상담건수_R6M', '상향가능CA한도금액', '상향가능한도금액', '상환개월수_결제일_R3M', '상환개월수_결제일_R6M', '선결제건수_R3M', '선결제건수_R6M', '선입금원금_B0M', '선입금원금_B2M', '선입금원금_B5M', '소지여부_신용', '소지카드수_유효_신용', '소지카드수_이용가능_신용', '쇼핑_기타_이용금액', '쇼핑_도소매_이용금액', '쇼핑_마트_이용금액', '쇼핑_백화점_이용금액', '쇼핑_슈퍼마켓_이용금액', '쇼핑_아울렛_이용금액', '쇼핑_온라인_이용금액', '쇼핑_편의점_이용금액', '수신거부여부_DM', '수신거부여부_SMS', '수신거부여부_TM', '수신거부여부_메일', '승인거절건수_B0M', '승인거절건수_BL_B0M', '승인거절건수_BL_R3M', '승인거절건수_R3M', '승인거절건수_기타_R3M', '승인거절건수_입력오류_R3M', '승인거절건수_한도초과_B0M', '승인거절건수_한도초과_R3M', '시장단기연체여부_R3M', '시장단기연체여부_R6M', '신청건수_ATM_CA_B0', '신청건수_ATM_CA_R6M', '신청건수_ATM_CL_B0', '신청건수_ATM_CL_R6M', '여유_Pet이용금액', '여유_공연이용금액', '여유_공원이용금액', '여유_기타이용금액', '여유_숙박이용금액', '여유_운동이용금액', '여유_항공이용금액', '연속무실적개월수_기본_24M_카드', '연속유실적개월수_기본_24M_카드', '연체감액여부_R3M', '연체건수_R3M', '연체건수_R6M', '연체원금_B1M', '연체원금_B2M', '연체원금_최근', '연체일자_B0M', '연체입금원금_B0M', '연체입금원금_B2M', '연체입금원금_B5M', '연체잔액_B0M', '연체잔액_CA_B0M', '연체잔액_RV일시불_B0M', '연체잔액_대환론_B0M', '연체잔액_일시불_B0M', '연체잔액_카드론_B0M', '연체잔액_할부_B0M', '연체잔액_현금서비스_B0M', '월상환론상향가능한도금액', '월상환론한도금액', '월중평잔', '월중평잔_CA', '월중평잔_CA_B0M', '월중평잔_RV일시불', '월중평잔_일시불', '월중평잔_일시불_B0M', '월중평잔_카드론', '월중평잔_할부', '월중평잔_할부_B0M', '유효카드수_신용', '유효카드수_신용_가족', '유효카드수_신용체크', '유효카드수_체크', '유효카드수_체크_가족', '이용가능여부_해외겸용_본인', '이용가능여부_해외겸용_신용_본인', '이용가능카드수_신용', '이용가능카드수_신용_가족', '이용가능카드수_신용체크', '이용가능카드수_체크', '이용가능카드수_체크_가족', '이용가맹점수', '이용개월수_A페이_R6M', '이용개월수_B페이_R6M', '이용개월수_CA_R12M', '이용개월수_CA_R3M', '이용개월수_CA_R6M', '이용개월수_C페이_R6M', '이용개월수_D페이_R6M', '이용개월수_간편결제_R6M', '이용개월수_결제일_R3M', '이용개월수_결제일_R6M', '이용개월수_당사기타_R6M', '이용개월수_부분무이자_R12M', '이용개월수_부분무이자_R3M', '이용개월수_부분무이자_R6M', '이용개월수_선결제_R6M', '이용개월수_신용_R12M', '이용개월수_신용_R3M', '이용개월수_신용_R6M', '이용개월수_신판_R12M', '이용개월수_신판_R3M', '이용개월수_신판_R6M', '이용개월수_오프라인_R6M', '이용개월수_온라인_R6M', '이용개월수_일시불_R12M', '이용개월수_일시불_R3M', '이용개월수_일시불_R6M', '이용개월수_전체_R3M', '이용개월수_전체_R6M', '이용개월수_체크_R12M', '이용개월수_체크_R3M', '이용개월수_체크_R6M', '이용개월수_카드론_R12M', '이용개월수_카드론_R3M', '이용개월수_카드론_R6M', '이용개월수_페이_오프라인_R6M', '이용개월수_페이_온라인_R6M', '이용개월수_할부_R12M', '이용개월수_할부_R3M', '이용개월수_할부_R6M', '이용개월수_할부_무이자_R12M', '이용개월수_할부_무이자_R3M', '이용개월수_할부_무이자_R6M', '이용개월수_할부_유이자_R12M', '이용개월수_할부_유이자_R3M', '이용개월수_할부_유이자_R6M', '이용거절여부_카드론', '이용건수_A페이_B0M', '이용건수_A페이_R3M', '이용건수_A페이_R6M', '이용건수_B페이_B0M', '이용건수_B페이_R3M', '이용건수_B페이_R6M', '이용건수_CA_B0M', '이용건수_CA_R12M', '이용건수_CA_R3M', '이용건수_CA_R6M', '이용건수_C페이_B0M', '이용건수_C페이_R3M', '이용건수_C페이_R6M', '이용건수_D페이_B0M', '이용건수_D페이_R3M', '이용건수_D페이_R6M', '이용건수_간편결제_B0M', '이용건수_간편결제_R3M', '이용건수_간편결제_R6M', '이용건수_부분무이자_R12M', '이용건수_부분무이자_R3M', '이용건수_부분무이자_R6M', '이용건수_선결제_B0M', '이용건수_선결제_R3M', '이용건수_선결제_R6M', '이용건수_신용_B0M', '이용건수_신용_R12M', '이용건수_신용_R3M', '이용건수_신용_R6M', '이용건수_신판_B0M', '이용건수_신판_R12M', '이용건수_신판_R3M', '이용건수_신판_R6M', '이용건수_오프라인_B0M', '이용건수_오프라인_R3M', '이용건수_오프라인_R6M', '이용건수_온라인_B0M', '이용건수_온라인_R3M', '이용건수_온라인_R6M', '이용건수_일시불_B0M', '이용건수_일시불_R12M', '이용건수_일시불_R3M', '이용건수_일시불_R6M', '이용건수_체크_B0M', '이용건수_체크_R12M', '이용건수_체크_R3M', '이용건수_체크_R6M', '이용건수_카드론_B0M', '이용건수_카드론_R12M', '이용건수_카드론_R3M', '이용건수_카드론_R6M', '이용건수_페이_오프라인_B0M', '이용건수_페이_오프라인_R3M', '이용건수_페이_오프라인_R6M', '이용건수_페이_온라인_B0M', '이용건수_페이_온라인_R3M', '이용건수_페이_온라인_R6M', '이용건수_할부_B0M', '이용건수_할부_R12M', '이용건수_할부_R3M', '이용건수_할부_R6M', '이용건수_할부_무이자_B0M', '이용건수_할부_무이자_R12M', '이용건수_할부_무이자_R3M', '이용건수_할부_무이자_R6M', '이용건수_할부_유이자_B0M', '이용건수_할부_유이자_R12M', '이용건수_할부_유이자_R3M', '이용건수_할부_유이자_R6M', '이용금액_A페이_B0M', '이용금액_A페이_R3M', '이용금액_A페이_R6M', '이용금액_B페이_B0M', '이용금액_B페이_R3M', '이용금액_B페이_R6M', '이용금액_CA_B0M', '이용금액_CA_R12M', '이용금액_CA_R3M', '이용금액_CA_R6M', '이용금액_C페이_B0M', '이용금액_C페이_R3M', '이용금액_C페이_R6M', '이용금액_D페이_B0M', '이용금액_D페이_R3M', '이용금액_D페이_R6M', '이용금액_R3M_신용', '이용금액_R3M_신용_가족', '이용금액_R3M_신용체크', '이용금액_R3M_체크', '이용금액_간편결제_B0M', '이용금액_간편결제_R3M', '이용금액_간편결제_R6M', '이용금액_부분무이자_R12M', '이용금액_부분무이자_R3M', '이용금액_부분무이자_R6M', '이용금액_선결제_B0M', '이용금액_선결제_R3M', '이용금액_선결제_R6M', '이용금액_연체_B0M', '이용금액_연체_R3M', '이용금액_연체_R6M', '이용금액_오프라인_B0M', '이용금액_오프라인_R3M', '이용금액_오프라인_R6M', '이용금액_온라인_B0M', '이용금액_온라인_R3M', '이용금액_온라인_R6M', '이용금액_일시불_B0M', '이용금액_일시불_R12M', '이용금액_일시불_R3M', '이용금액_일시불_R6M', '이용금액_체크_B0M', '이용금액_체크_R12M', '이용금액_체크_R3M', '이용금액_체크_R6M', '이용금액_카드론_B0M', '이용금액_카드론_R12M', '이용금액_카드론_R3M', '이용금액_카드론_R6M', '이용금액_페이_오프라인_B0M', '이용금액_페이_오프라인_R3M', '이용금액_페이_오프라인_R6M', '이용금액_페이_온라인_B0M', '이용금액_페이_온라인_R3M', '이용금액_페이_온라인_R6M', '이용금액_할부_B0M', '이용금액_할부_R12M', '이용금액_할부_R3M', '이용금액_할부_R6M', '이용금액_할부_무이자_B0M', '이용금액_할부_무이자_R12M', '이용금액_할부_무이자_R3M', '이용금액_할부_무이자_R6M', '이용금액_할부_유이자_B0M', '이용금액_할부_유이자_R12M', '이용금액_할부_유이자_R3M', '이용금액_할부_유이자_R6M', '이용금액_해외', '이용메뉴건수_ARS_B0M', '이용메뉴건수_IB_B0M', '이용메뉴건수_IB_R6M', '이용여부_3M_해외겸용_본인', '이용여부_3M_해외겸용_신용_본인', '이용카드수_신용', '이용카드수_신용_가족', '이용카드수_신용체크', '이용카드수_체크', '이용횟수_선결제_B0M', '이용횟수_선결제_R3M', '이용횟수_선결제_R6M', '이용횟수_연체_B0M', '이용횟수_연체_R3M', '이용횟수_연체_R6M', '이용후경과월_CA', '이용후경과월_부분무이자', '이용후경과월_신용', '이용후경과월_신판', '이용후경과월_일시불', '이용후경과월_체크', '이용후경과월_카드론', '이용후경과월_할부', '이용후경과월_할부_무이자', '이용후경과월_할부_유이자', '인입월수_ARS_R6M', '인입월수_IB_R6M', '인입일수_ARS_B0M', '인입일수_ARS_R6M', '인입일수_IB_B0M', '인입일수_IB_R6M', '인입횟수_ARS_B0M', '인입횟수_IB_B0M', '인입횟수_IB_R6M', '인입후경과월_ARS', '인입후경과월_IB_R6M', '일시불ONLY전환가능여부', '일시상환론한도금액', '입회경과개월수_신용', '입회일자_신용', '자발한도감액금액_R12M', '자발한도감액후경과월', '잔액_리볼빙CA이월_B0M', '잔액_리볼빙일시불이월_B0M', '잔액_신판ca최대한도소진율_r3m', '잔액_신판ca최대한도소진율_r6m', '잔액_신판ca평균한도소진율_r3m', '잔액_신판ca평균한도소진율_r6m', '잔액_신판최대한도소진율_r3m', '잔액_신판최대한도소진율_r6m', '잔액_신판평균한도소진율_r3m', '잔액_신판평균한도소진율_r6m', '잔액_일시불_B0M', '잔액_일시불_B1M', '잔액_일시불_B2M', '잔액_카드론_B0M', '잔액_카드론_B1M', '잔액_카드론_B2M', '잔액_카드론_B3M', '잔액_카드론_B4M', '잔액_카드론_B5M', '잔액_할부_B0M', '잔액_할부_B1M', '잔액_할부_B2M', '잔액_할부_무이자_B0M', '잔액_할부_유이자_B0M', '잔액_할부_해외_B0M', '잔액_현금서비스_B0M', '잔액_현금서비스_B1M', '잔액_현금서비스_B2M', '정상입금원금_B0M', '정상입금원금_B2M', '정상입금원금_B5M', '정상청구원금_B0M', '정상청구원금_B2M', '정상청구원금_B5M', '제휴연회비_B0M', '증감_RP건수_가스_전월', '증감_RP건수_교통_전월', '증감_RP건수_렌탈_전월', '증감_RP건수_보험_전월', '증감_RP건수_아파트_전월', '증감_RP건수_전기_전월', '증감_RP건수_전월', '증감_RP건수_제휴사서비스직접판매_전월', '증감_RP건수_통신_전월', '증감_RP건수_학습비_전월', '증감_RP유형건수_전월', '증감율_이용건수_CA_분기', '증감율_이용건수_CA_전월', '증감율_이용건수_신용_분기', '증감율_이용건수_신용_전월', '증감율_이용건수_신판_분기', '증감율_이용건수_신판_전월', '증감율_이용건수_일시불_분기', '증감율_이용건수_일시불_전월', '증감율_이용건수_체크_분기', '증감율_이용건수_체크_전월', '증감율_이용건수_카드론_분기', '증감율_이용건수_카드론_전월', '증감율_이용건수_할부_분기', '증감율_이용건수_할부_전월', '증감율_이용금액_CA_분기', '증감율_이용금액_CA_전월', '증감율_이용금액_신용_분기', '증감율_이용금액_신용_전월', '증감율_이용금액_신판_분기', '증감율_이용금액_신판_전월', '증감율_이용금액_일시불_분기', '증감율_이용금액_일시불_전월', '증감율_이용금액_체크_분기', '증감율_이용금액_체크_전월', '증감율_이용금액_카드론_분기', '증감율_이용금액_카드론_전월', '증감율_이용금액_할부_분기', '증감율_이용금액_할부_전월', '청구금액_B0', '청구금액_R3M', '청구금액_R6M', '청구금액_기본연회비_B0M', '청구금액_제휴연회비_B0M', '청구서발송여부_B0', '청구서발송여부_R3M', '청구서발송여부_R6M', '최대이용금액_CA_R12M', '최대이용금액_부분무이자_R12M', '최대이용금액_일시불_R12M', '최대이용금액_체크_R12M', '최대이용금액_카드론_R12M', '최대이용금액_할부_R12M', '최대이용금액_할부_무이자_R12M', '최대이용금액_할부_유이자_R12M', '최종유효년월_신용_이용', '최종유효년월_신용_이용가능', '최종이용일자_CA', '최종이용일자_기본', '최종이용일자_신판', '최종이용일자_일시불', '최종이용일자_체크', '최종이용일자_카드론', '최종이용일자_할부', '최종카드론_거치개월수', '최종카드론_금융상환방식코드', '최종카드론_대출금액', '최종카드론_대출월수', '최종카드론_대출이율', '최종카드론_대출일자', '최종카드론이용경과월', '최종카드발급경과월', '최종카드발급일자', '최종탈회후경과월', '최초카드론이용경과월', '최초한도금액', '카드론이용건수_누적', '카드론이용금액_누적', '카드론이용월수_누적', '카드신청건수', '카드이용한도금액', '카드이용한도금액_B1M', '카드이용한도금액_B2M', '컨택건수_CA_LMS_B0M', '컨택건수_CA_LMS_R6M', '컨택건수_CA_TM_R6M', '컨택건수_CA_청구서_B0M', '컨택건수_CA_청구서_R6M', '컨택건수_리볼빙_LMS_B0M', '컨택건수_리볼빙_LMS_R6M', '컨택건수_리볼빙_TM_B0M', '컨택건수_리볼빙_TM_R6M', '컨택건수_보험_TM_B0M', '컨택건수_보험_TM_R6M', '컨택건수_부대서비스_TM_R6M', '컨택건수_신용발급_TM_B0M', '컨택건수_신용발급_TM_R6M', '컨택건수_이용유도_EM_B0M', '컨택건수_이용유도_EM_R6M', '컨택건수_이용유도_LMS_B0M', '컨택건수_이용유도_LMS_R6M', '컨택건수_이용유도_TM_B0M', '컨택건수_이용유도_TM_R6M', '컨택건수_이용유도_당사앱_B0M', '컨택건수_이용유도_당사앱_R6M', '컨택건수_이용유도_인터넷_B0M', '컨택건수_이용유도_인터넷_R6M', '컨택건수_이용유도_청구서_B0M', '컨택건수_이용유도_청구서_R6M', '컨택건수_채권_B0M', '컨택건수_채권_R6M', '컨택건수_카드론_EM_B0M', '컨택건수_카드론_EM_R6M', '컨택건수_카드론_LMS_B0M', '컨택건수_카드론_LMS_R6M', '컨택건수_카드론_TM_B0M', '컨택건수_카드론_TM_R6M', '컨택건수_카드론_청구서_B0M', '컨택건수_카드론_청구서_R6M', '컨택건수_포인트소진_TM_R6M', '탈회횟수_누적', '탈회횟수_발급1년이내', '탈회횟수_발급6개월이내', '특별한도보유여부_R3M', '평잔_3M', '평잔_6M', '평잔_CA_3M', '평잔_CA_6M', '평잔_CA_해외_3M', '평잔_CA_해외_6M', '평잔_RV일시불_3M', '평잔_RV일시불_6M', '평잔_RV일시불_해외_3M', '평잔_RV일시불_해외_6M', '평잔_일시불_3M', '평잔_일시불_6M', '평잔_일시불_해외_3M', '평잔_일시불_해외_6M', '평잔_카드론_3M', '평잔_카드론_6M', '평잔_할부_3M', '평잔_할부_6M', '평잔_할부_해외_3M', '평잔_할부_해외_6M', '포인트_마일리지_건별_B0M', '포인트_마일리지_건별_R3M', '포인트_마일리지_월적립_B0M', '포인트_마일리지_월적립_R3M', '포인트_마일리지_환산_B0M', '포인트_이용포인트_R12M', '포인트_이용포인트_R3M', '포인트_잔여포인트_B0M', '포인트_적립포인트_R12M', '포인트_적립포인트_R3M', '포인트_포인트_건별_B0M', '포인트_포인트_건별_R3M', '포인트_포인트_월적립_B0M', '포인트_포인트_월적립_R3M', '한도심사거절후경과월', '한도심사요청후경과월', '한도요청거절건수', '한도증액금액_R12M', '한도증액후경과월', '할부건수_12M_R12M', '할부건수_14M_R12M', '할부건수_3M_R12M', '할부건수_6M_R12M', '할부건수_무이자_12M_R12M', '할부건수_무이자_3M_R12M', '할부건수_무이자_6M_R12M', '할부건수_부분_12M_R12M', '할부건수_유이자_12M_R12M', '할부건수_유이자_14M_R12M', '할부건수_유이자_3M_R12M', '할부건수_유이자_6M_R12M', '할부금액_12M_R12M', '할부금액_14M_R12M', '할부금액_3M_R12M', '할부금액_6M_R12M', '할부금액_무이자_12M_R12M', '할부금액_무이자_14M_R12M', '할부금액_무이자_3M_R12M', '할부금액_무이자_6M_R12M', '할부금액_부분_12M_R12M', '할부금액_부분_14M_R12M', '할부금액_유이자_12M_R12M', '할부금액_유이자_14M_R12M', '할부금액_유이자_3M_R12M', '할부금액_유이자_6M_R12M', '할인금액_B0M', '할인금액_R3M', '할인금액_청구서_B0M', '할인금액_청구서_R3M', '혜택수혜금액', '혜택수혜금액_R3M', '혜택수혜율_B0M', '혜택수혜율_R3M', '홈페이지_금융건수_R3M', '홈페이지_금융건수_R6M', '홈페이지_선결제건수_R3M', '홈페이지_선결제건수_R6M', '회원여부_연체', '회원여부_이용가능', '회원여부_이용가능_CA', '회원여부_이용가능_카드론', 'Life_Stage_자녀성장(1)', 'Life_Stage_자녀성장(2)', 'Life_Stage_노년생활', 'Life_Stage_자녀독립기', 'Life_Stage_자녀출산기', 'Life_Stage_독신', 'Life_Stage_가족구축기', 'OS구분코드_Android', 'OS구분코드_None', 'OS구분코드_IOS', 'RV전환가능여부_Z', 'RV전환가능여부_N', 'RV전환가능여부_None', '_1순위교통업종_주유', '_1순위교통업종_None', '_1순위교통업종_철도버스', '_1순위교통업종_택시', '_1순위교통업종_버스지하철', '_1순위교통업종_정비', '_1순위납부업종_납부기타', '_1순위납부업종_통신비', '_1순위납부업종_보험료', '_1순위납부업종_None', '_1순위납부업종_관리비', '_1순위납부업종_가스/전기료', '_1순위쇼핑업종_온라인', '_1순위쇼핑업종_도소매', '_1순위쇼핑업종_None', '_1순위쇼핑업종_마트', '_1순위쇼핑업종_쇼핑기타', '_1순위쇼핑업종_편의점', '_1순위쇼핑업종_슈퍼마켓', '_1순위쇼핑업종_아울렛', '_1순위쇼핑업종_백화점', '_1순위신용체크구분_신용', '_1순위신용체크구분_체크', '_1순위신용체크구분_None', '_1순위업종_쇼핑', '_1순위업종_교육', '_1순위업종_사교활동', '_1순위업종_납부', '_1순위업종_교통', '_1순위업종_의료', '_1순위업종_None', '_1순위업종_해외', '_1순위업종_여유생활', '_1순위업종_일상생활', '_1순위업종_요식', '_1순위여유업종_항공', '_1순위여유업종_None', '_1순위여유업종_Pet', '_1순위여유업종_운동', '_1순위여유업종_공연', '_1순위여유업종_숙박', '_1순위여유업종_여유기타', '_1순위여유업종_공원', '_2순위교통업종_정비', '_2순위교통업종_None', '_2순위교통업종_버스지하철', '_2순위교통업종_택시', '_2순위교통업종_철도버스', '_2순위교통업종_주유', '_2순위교통업종_통행료', '_2순위납부업종_None', '_2순위납부업종_납부기타', '_2순위납부업종_보험료', '_2순위납부업종_통신비', '_2순위납부업종_가스/전기료', '_2순위납부업종_관리비', '_2순위쇼핑업종_도소매', '_2순위쇼핑업종_온라인', '_2순위쇼핑업종_슈퍼마켓', '_2순위쇼핑업종_마트', '_2순위쇼핑업종_None', '_2순위쇼핑업종_편의점', '_2순위쇼핑업종_백화점', '_2순위쇼핑업종_쇼핑기타', '_2순위쇼핑업종_아울렛', '_2순위신용체크구분_신용', '_2순위신용체크구분_None', '_2순위신용체크구분_체크', '_2순위업종_사교활동', '_2순위업종_쇼핑', '_2순위업종_해외', '_2순위업종_의료', '_2순위업종_납부', '_2순위업종_None', '_2순위업종_교육', '_2순위업종_교통', '_2순위업종_일상생활', '_2순위업종_여유생활', '_2순위업종_요식', '_2순위여유업종_운동', '_2순위여유업종_None', '_2순위여유업종_여유기타', '_2순위여유업종_숙박', '_2순위여유업종_Pet', '_2순위여유업종_공연', '_2순위여유업종_공원', '_2순위여유업종_항공', '_3순위교통업종_버스지하철', '_3순위교통업종_None', '_3순위교통업종_택시', '_3순위교통업종_철도버스', '_3순위교통업종_정비', '_3순위교통업종_통행료', '_3순위납부업종_None', '_3순위납부업종_납부기타', '_3순위납부업종_가스/전기료', '_3순위납부업종_보험료', '_3순위납부업종_통신비', '_3순위쇼핑업종_마트', '_3순위쇼핑업종_백화점', '_3순위쇼핑업종_편의점', '_3순위쇼핑업종_None', '_3순위쇼핑업종_슈퍼마켓', '_3순위쇼핑업종_아울렛', '_3순위쇼핑업종_쇼핑기타', '_3순위쇼핑업종_온라인', '_3순위쇼핑업종_도소매', '_3순위업종_의료', '_3순위업종_사교활동', '_3순위업종_교육', '_3순위업종_교통', '_3순위업종_None', '_3순위업종_해외', '_3순위업종_납부', '_3순위업종_쇼핑', '_3순위업종_여유생활', '_3순위업종_요식', '_3순위업종_일상생활', '_3순위여유업종_숙박', '_3순위여유업종_None', '_3순위여유업종_공연', '_3순위여유업종_Pet', '_3순위여유업종_여유기타', '_3순위여유업종_공원', '가입통신회사코드_S사', '가입통신회사코드_None', '가입통신회사코드_K사', '가입통신회사코드_L사', '거주시도명_서울', '거주시도명_경기', '거주시도명_부산', '거주시도명_대전', '거주시도명_충남', '거주시도명_인천', '거주시도명_울산', '거주시도명_경북', '거주시도명_충북', '거주시도명_경남', '거주시도명_대구', '거주시도명_강원', '거주시도명_광주', '거주시도명_전남', '거주시도명_전북', '거주시도명_제주', '거주시도명_세종', '대표청구서수령지구분코드_우편', '대표청구서수령지구분코드_이메일', '대표청구서수령지구분코드_당사페이앱+이메일', '대표청구서수령지구분코드_미수신', '대표청구서수령지구분코드_K톡명세서+이메일', '대표청구서수령지구분코드_당사멤버십+이메일', '대표청구지고객주소구분코드_주거지', '대표청구지고객주소구분코드_회사', '대표청구지고객주소구분코드_미확인', '방문일수_PC_R6M_1회 이상', '방문일수_PC_R6M_20회 이상', '방문일수_PC_R6M_10회 이상', '방문일수_PC_R6M_30회 이상', '방문횟수_PC_R6M_1회 이상', '방문횟수_PC_R6M_20회 이상', '방문횟수_PC_R6M_10회 이상', '방문횟수_PC_R6M_30회 이상', '방문횟수_PC_R6M_40회 이상', '방문횟수_앱_R6M_1회 이상', '방문횟수_앱_R6M_70회 이상', '방문횟수_앱_R6M_50회 이상', '방문횟수_앱_R6M_10회 이상', '방문횟수_앱_R6M_40회 이상', '방문횟수_앱_R6M_60회 이상', '방문횟수_앱_R6M_20회 이상', '방문횟수_앱_R6M_30회 이상', '방문횟수_앱_R6M_80회 이상', '연령_40대', '연령_50대', '연령_30대', '연령_70대이상', '연령_60대', '연령_20대', '연회비발생카드수_B0M_0개', '연회비발생카드수_B0M_1개이상', '이용금액대_01.100만원+', '이용금액대_02.50만원+', '이용금액대_05.10만원-', '이용금액대_09.미사용', '이용금액대_04.10만원+', '이용금액대_03.30만원+', '이용메뉴건수_ARS_R6M_1회 이상', '이용메뉴건수_ARS_R6M_10회 이상', '이용메뉴건수_ARS_R6M_20회 이상', '이용메뉴건수_ARS_R6M_30회 이상', '인입횟수_ARS_R6M_1회 이상', '인입횟수_ARS_R6M_10회 이상', '자발한도감액횟수_R12M_0회', '자발한도감액횟수_R12M_1회', '자발한도감액횟수_R12M_2회', '직장시도명_대전', '직장시도명_경기', '직장시도명_서울', '직장시도명_부산', '직장시도명_전북', '직장시도명_충남', '직장시도명_인천', '직장시도명_None', '직장시도명_경북', '직장시도명_충북', '직장시도명_경남', '직장시도명_울산', '직장시도명_강원', '직장시도명_광주', '직장시도명_전남', '직장시도명_제주', '직장시도명_대구', '직장시도명_세종', '청구서수령방법_우편', '청구서수령방법_이메일', '청구서수령방법_문자메세지', '청구서수령방법_미수령', '청구서수령방법_K톡', '청구서수령방법_당사멤버십', '최종카드론_신청경로코드_None', '최종카드론_신청경로코드_2', '최종카드론_신청경로코드_7', '최종카드론_신청경로코드_1', '최종카드론_신청경로코드_8', '최종카드론_신청경로코드_D', '카드론동의여부_Y', '카드론동의여부_N', '캠페인접촉건수_R12M_5회 이상', '캠페인접촉건수_R12M_1회 이상', '캠페인접촉건수_R12M_10회 이상', '캠페인접촉건수_R12M_15회 이상', '캠페인접촉건수_R12M_20회 이상', '캠페인접촉건수_R12M_25회 이상', '캠페인접촉일수_R12M_5일 이상', '캠페인접촉일수_R12M_1일 이상', '캠페인접촉일수_R12M_10일 이상', '캠페인접촉일수_R12M_15일 이상', '캠페인접촉일수_R12M_20일 이상', '한도심사요청건수_0회', '한도심사요청건수_1회이상', '한도증액횟수_R12M_1회이상', '한도증액횟수_R12M_0회', '할인건수_B0M_1회 이상', '할인건수_B0M_10회 이상', '할인건수_R3M_1회 이상', '할인건수_R3M_10회 이상', '할인건수_R3M_20회 이상', '할인건수_R3M_30회 이상', '할인건수_R3M_40회 이상', '연체일수_B2M_0', '연체일수_B2M_1', '연체일수_B1M_0', '연체일수_B1M_1', '연체일수_B1M_2', '최종연체회차_0', '최종연체회차_1', '연체일수_최근_0', '연체일수_최근_1', '연체일수_최근_2', 'rv최초시작후경과일_0', '최종카드론이용경과월_100', '최초카드론이용경과월_999', '최종이용일자_CA_0', '최종이용일자_기본_0', '최종이용일자_신판_0', '최종이용일자_일시불_0', '최종이용일자_체크_0', '최종이용일자_카드론_0', '최종이용일자_할부_0']\nexpected _3순위여유업종_운동, 할부금액_부분_6M_R12M in input data\ntraining data did not have the following fields: 연체잔액_대환론_B0M",
     "output_type": "error",
     "traceback": [
      "\u001b[1;31m---------------------------------------------------------------------------\u001b[0m",
      "\u001b[1;31mValueError\u001b[0m                                Traceback (most recent call last)",
      "\u001b[1;32m~\\AppData\\Local\\Temp/ipykernel_8244/1852751628.py\u001b[0m in \u001b[0;36m<module>\u001b[1;34m\u001b[0m\n\u001b[0;32m     14\u001b[0m     \u001b[0mxgb_model\u001b[0m\u001b[1;33m=\u001b[0m\u001b[0mxgb\u001b[0m\u001b[1;33m.\u001b[0m\u001b[0mBooster\u001b[0m\u001b[1;33m(\u001b[0m\u001b[1;33m)\u001b[0m\u001b[1;33m\u001b[0m\u001b[1;33m\u001b[0m\u001b[0m\n\u001b[0;32m     15\u001b[0m     \u001b[0mxgb_model\u001b[0m\u001b[1;33m.\u001b[0m\u001b[0mload_model\u001b[0m\u001b[1;33m(\u001b[0m\u001b[1;34mf\"ppp/open/models4_up/{i}\"\u001b[0m\u001b[1;33m)\u001b[0m\u001b[1;33m\u001b[0m\u001b[1;33m\u001b[0m\u001b[0m\n\u001b[1;32m---> 16\u001b[1;33m     \u001b[0my_pred\u001b[0m \u001b[1;33m=\u001b[0m \u001b[0mxgb_model\u001b[0m\u001b[1;33m.\u001b[0m\u001b[0mpredict\u001b[0m\u001b[1;33m(\u001b[0m\u001b[0mx_te\u001b[0m\u001b[1;33m)\u001b[0m\u001b[1;33m\u001b[0m\u001b[1;33m\u001b[0m\u001b[0m\n\u001b[0m\u001b[0;32m     17\u001b[0m     \u001b[0mprint\u001b[0m\u001b[1;33m(\u001b[0m\u001b[0my_pred\u001b[0m\u001b[1;33m.\u001b[0m\u001b[0mmax\u001b[0m\u001b[1;33m(\u001b[0m\u001b[0maxis\u001b[0m\u001b[1;33m=\u001b[0m\u001b[1;36m0\u001b[0m\u001b[1;33m)\u001b[0m\u001b[1;33m)\u001b[0m\u001b[1;33m\u001b[0m\u001b[1;33m\u001b[0m\u001b[0m\n\u001b[0;32m     18\u001b[0m     \u001b[0my_pred\u001b[0m\u001b[1;33m=\u001b[0m\u001b[0my_pred\u001b[0m\u001b[1;33m.\u001b[0m\u001b[0margmax\u001b[0m\u001b[1;33m(\u001b[0m\u001b[0maxis\u001b[0m\u001b[1;33m=\u001b[0m\u001b[1;36m1\u001b[0m\u001b[1;33m)\u001b[0m\u001b[1;33m\u001b[0m\u001b[1;33m\u001b[0m\u001b[0m\n",
      "\u001b[1;32m~\\anaconda3\\lib\\site-packages\\xgboost\\core.py\u001b[0m in \u001b[0;36mpredict\u001b[1;34m(self, data, output_margin, pred_leaf, pred_contribs, approx_contribs, pred_interactions, validate_features, training, iteration_range, strict_shape)\u001b[0m\n\u001b[0;32m   2357\u001b[0m         \u001b[1;32mif\u001b[0m \u001b[0mvalidate_features\u001b[0m\u001b[1;33m:\u001b[0m\u001b[1;33m\u001b[0m\u001b[1;33m\u001b[0m\u001b[0m\n\u001b[0;32m   2358\u001b[0m             \u001b[0mfn\u001b[0m \u001b[1;33m=\u001b[0m \u001b[0mdata\u001b[0m\u001b[1;33m.\u001b[0m\u001b[0mfeature_names\u001b[0m\u001b[1;33m\u001b[0m\u001b[1;33m\u001b[0m\u001b[0m\n\u001b[1;32m-> 2359\u001b[1;33m             \u001b[0mself\u001b[0m\u001b[1;33m.\u001b[0m\u001b[0m_validate_features\u001b[0m\u001b[1;33m(\u001b[0m\u001b[0mfn\u001b[0m\u001b[1;33m)\u001b[0m\u001b[1;33m\u001b[0m\u001b[1;33m\u001b[0m\u001b[0m\n\u001b[0m\u001b[0;32m   2360\u001b[0m         args = {\n\u001b[0;32m   2361\u001b[0m             \u001b[1;34m\"type\"\u001b[0m\u001b[1;33m:\u001b[0m \u001b[1;36m0\u001b[0m\u001b[1;33m,\u001b[0m\u001b[1;33m\u001b[0m\u001b[1;33m\u001b[0m\u001b[0m\n",
      "\u001b[1;32m~\\anaconda3\\lib\\site-packages\\xgboost\\core.py\u001b[0m in \u001b[0;36m_validate_features\u001b[1;34m(self, feature_names)\u001b[0m\n\u001b[0;32m   3077\u001b[0m                 )\n\u001b[0;32m   3078\u001b[0m \u001b[1;33m\u001b[0m\u001b[0m\n\u001b[1;32m-> 3079\u001b[1;33m             \u001b[1;32mraise\u001b[0m \u001b[0mValueError\u001b[0m\u001b[1;33m(\u001b[0m\u001b[0mmsg\u001b[0m\u001b[1;33m.\u001b[0m\u001b[0mformat\u001b[0m\u001b[1;33m(\u001b[0m\u001b[0mself\u001b[0m\u001b[1;33m.\u001b[0m\u001b[0mfeature_names\u001b[0m\u001b[1;33m,\u001b[0m \u001b[0mfeature_names\u001b[0m\u001b[1;33m)\u001b[0m\u001b[1;33m)\u001b[0m\u001b[1;33m\u001b[0m\u001b[1;33m\u001b[0m\u001b[0m\n\u001b[0m\u001b[0;32m   3080\u001b[0m \u001b[1;33m\u001b[0m\u001b[0m\n\u001b[0;32m   3081\u001b[0m     def get_split_value_histogram(\n",
      "\u001b[1;31mValueError\u001b[0m: feature_names mismatch: ['CA이자율_할인전', 'CA한도금액', 'CL이자율_할인전', 'IB문의건수_BL_R6M', 'IB문의건수_CA_R6M', 'IB문의건수_CL_RV_B0M', 'IB문의건수_CL_RV_R6M', 'IB문의건수_CS_B0M', 'IB문의건수_CS_R6M', 'IB문의건수_SMS_R6M', 'IB문의건수_결제_R6M', 'IB문의건수_결제일변경_R6M', 'IB문의건수_부대서비스_R6M', 'IB문의건수_분실도난_R6M', 'IB문의건수_비밀번호_R6M', 'IB문의건수_사용승인내역_B0M', 'IB문의건수_사용승인내역_R6M', 'IB문의건수_선결제_B0M', 'IB문의건수_선결제_R6M', 'IB문의건수_정보변경_R6M', 'IB문의건수_카드발급_B0M', 'IB문의건수_카드발급_R6M', 'IB문의건수_포인트_R6M', 'IB문의건수_한도_R6M', 'IB문의건수_할부_R6M', 'RP건수_B0M', 'RP건수_가스_B0M', 'RP건수_교통_B0M', 'RP건수_렌탈_B0M', 'RP건수_보험_B0M', 'RP건수_아파트_B0M', 'RP건수_전기_B0M', 'RP건수_제휴사서비스직접판매_B0M', 'RP건수_통신_B0M', 'RP건수_학습비_B0M', 'RP금액_B0M', 'RP유형건수_B0M', 'RP후경과월', 'RP후경과월_가스', 'RP후경과월_교통', 'RP후경과월_렌탈', 'RP후경과월_보험', 'RP후경과월_아파트', 'RP후경과월_전기', 'RP후경과월_제휴사서비스직접판매', 'RP후경과월_통신', 'RP후경과월_학습비', 'RV_최대잔액_R12M', 'RV_최대잔액_R3M', 'RV_최대잔액_R6M', 'RV_평균잔액_R12M', 'RV_평균잔액_R3M', 'RV_평균잔액_R6M', 'RV신청일자', 'RV약정청구율', 'RV일시불이자율_할인전', 'RV최소결제비율', 'RV현금서비스이자율_할인전', '_1순위교통업종_이용금액', '_1순위납부업종_이용금액', '_1순위쇼핑업종_이용금액', '_1순위업종_이용금액', '_1순위여유업종_이용금액', '_1순위카드이용건수', '_1순위카드이용금액', '_2순위교통업종_이용금액', '_2순위납부업종_이용금액', '_2순위쇼핑업종_이용금액', '_2순위업종_이용금액', '_2순위여유업종_이용금액', '_2순위카드이용건수', '_2순위카드이용금액', '_3순위교통업종_이용금액', '_3순위납부업종_이용금액', '_3순위쇼핑업종_이용금액', '_3순위업종_이용금액', '_3순위여유업종_이용금액', 'rv최초시작후경과일', '가맹점매출금액_B1M', '가맹점매출금액_B2M', '강제한도감액금액_R12M', '강제한도감액횟수_R12M', '강제한도감액후경과월', '건수_할부전환_R3M', '건수_할부전환_R6M', '교통_버스지하철이용금액', '교통_정비이용금액', '교통_주유이용금액', '교통_철도버스이용금액', '교통_택시이용금액', '교통_통행료이용금액', '금액_할부전환_R3M', '금액_할부전환_R6M', '기본연회비_B0M', '남녀구분코드', '납부_가스전기료이용금액', '납부_관리비이용금액', '납부_기타이용금액', '납부_보험료이용금액', '납부_통신비이용금액', '당사멤버쉽_방문월수_R6M', '당사멤버쉽_방문횟수_B0M', '당사멤버쉽_방문횟수_R6M', '대표결제일', '동의여부_한도증액안내', '마일_이용포인트_R12M', '마일_이용포인트_R3M', '마일_잔여포인트_B0M', '마일_적립포인트_R12M', '마일_적립포인트_R3M', '마케팅동의여부', '방문월수_PC_R6M', '방문월수_모바일웹_R6M', '방문월수_앱_R6M', '방문일수_PC_B0M', '방문일수_모바일웹_B0M', '방문일수_모바일웹_R6M', '방문일수_앱_B0M', '방문일수_앱_R6M', '방문횟수_PC_B0M', '방문횟수_모바일웹_B0M', '방문횟수_모바일웹_R6M', '방문횟수_앱_B0M', '방문후경과월_PC_R6M', '방문후경과월_모바일웹_R6M', '방문후경과월_앱_R6M', '변동률_CA평잔', '변동률_RVCA평잔', '변동률_RV일시불평잔', '변동률_일시불평잔', '변동률_잔액_B1M', '변동률_잔액_CA_B1M', '변동률_잔액_일시불_B1M', '변동률_카드론평잔', '변동률_할부평잔', '보유여부_해외겸용_본인', '보유여부_해외겸용_신용_본인', '불만제기후경과월_R12M', '상담건수_B0M', '상담건수_R6M', '상향가능CA한도금액', '상향가능한도금액', '상환개월수_결제일_R3M', '상환개월수_결제일_R6M', '선결제건수_R3M', '선결제건수_R6M', '선입금원금_B0M', '선입금원금_B2M', '선입금원금_B5M', '소지여부_신용', '소지카드수_유효_신용', '소지카드수_이용가능_신용', '쇼핑_기타_이용금액', '쇼핑_도소매_이용금액', '쇼핑_마트_이용금액', '쇼핑_백화점_이용금액', '쇼핑_슈퍼마켓_이용금액', '쇼핑_아울렛_이용금액', '쇼핑_온라인_이용금액', '쇼핑_편의점_이용금액', '수신거부여부_DM', '수신거부여부_SMS', '수신거부여부_TM', '수신거부여부_메일', '승인거절건수_B0M', '승인거절건수_BL_B0M', '승인거절건수_BL_R3M', '승인거절건수_R3M', '승인거절건수_기타_R3M', '승인거절건수_입력오류_R3M', '승인거절건수_한도초과_B0M', '승인거절건수_한도초과_R3M', '시장단기연체여부_R3M', '시장단기연체여부_R6M', '신청건수_ATM_CA_B0', '신청건수_ATM_CA_R6M', '신청건수_ATM_CL_B0', '신청건수_ATM_CL_R6M', '여유_Pet이용금액', '여유_공연이용금액', '여유_공원이용금액', '여유_기타이용금액', '여유_숙박이용금액', '여유_운동이용금액', '여유_항공이용금액', '연속무실적개월수_기본_24M_카드', '연속유실적개월수_기본_24M_카드', '연체감액여부_R3M', '연체건수_R3M', '연체건수_R6M', '연체원금_B1M', '연체원금_B2M', '연체원금_최근', '연체일자_B0M', '연체입금원금_B0M', '연체입금원금_B2M', '연체입금원금_B5M', '연체잔액_B0M', '연체잔액_CA_B0M', '연체잔액_RV일시불_B0M', '연체잔액_일시불_B0M', '연체잔액_카드론_B0M', '연체잔액_할부_B0M', '연체잔액_현금서비스_B0M', '월상환론상향가능한도금액', '월상환론한도금액', '월중평잔', '월중평잔_CA', '월중평잔_CA_B0M', '월중평잔_RV일시불', '월중평잔_일시불', '월중평잔_일시불_B0M', '월중평잔_카드론', '월중평잔_할부', '월중평잔_할부_B0M', '유효카드수_신용', '유효카드수_신용_가족', '유효카드수_신용체크', '유효카드수_체크', '유효카드수_체크_가족', '이용가능여부_해외겸용_본인', '이용가능여부_해외겸용_신용_본인', '이용가능카드수_신용', '이용가능카드수_신용_가족', '이용가능카드수_신용체크', '이용가능카드수_체크', '이용가능카드수_체크_가족', '이용가맹점수', '이용개월수_A페이_R6M', '이용개월수_B페이_R6M', '이용개월수_CA_R12M', '이용개월수_CA_R3M', '이용개월수_CA_R6M', '이용개월수_C페이_R6M', '이용개월수_D페이_R6M', '이용개월수_간편결제_R6M', '이용개월수_결제일_R3M', '이용개월수_결제일_R6M', '이용개월수_당사기타_R6M', '이용개월수_부분무이자_R12M', '이용개월수_부분무이자_R3M', '이용개월수_부분무이자_R6M', '이용개월수_선결제_R6M', '이용개월수_신용_R12M', '이용개월수_신용_R3M', '이용개월수_신용_R6M', '이용개월수_신판_R12M', '이용개월수_신판_R3M', '이용개월수_신판_R6M', '이용개월수_오프라인_R6M', '이용개월수_온라인_R6M', '이용개월수_일시불_R12M', '이용개월수_일시불_R3M', '이용개월수_일시불_R6M', '이용개월수_전체_R3M', '이용개월수_전체_R6M', '이용개월수_체크_R12M', '이용개월수_체크_R3M', '이용개월수_체크_R6M', '이용개월수_카드론_R12M', '이용개월수_카드론_R3M', '이용개월수_카드론_R6M', '이용개월수_페이_오프라인_R6M', '이용개월수_페이_온라인_R6M', '이용개월수_할부_R12M', '이용개월수_할부_R3M', '이용개월수_할부_R6M', '이용개월수_할부_무이자_R12M', '이용개월수_할부_무이자_R3M', '이용개월수_할부_무이자_R6M', '이용개월수_할부_유이자_R12M', '이용개월수_할부_유이자_R3M', '이용개월수_할부_유이자_R6M', '이용거절여부_카드론', '이용건수_A페이_B0M', '이용건수_A페이_R3M', '이용건수_A페이_R6M', '이용건수_B페이_B0M', '이용건수_B페이_R3M', '이용건수_B페이_R6M', '이용건수_CA_B0M', '이용건수_CA_R12M', '이용건수_CA_R3M', '이용건수_CA_R6M', '이용건수_C페이_B0M', '이용건수_C페이_R3M', '이용건수_C페이_R6M', '이용건수_D페이_B0M', '이용건수_D페이_R3M', '이용건수_D페이_R6M', '이용건수_간편결제_B0M', '이용건수_간편결제_R3M', '이용건수_간편결제_R6M', '이용건수_부분무이자_R12M', '이용건수_부분무이자_R3M', '이용건수_부분무이자_R6M', '이용건수_선결제_B0M', '이용건수_선결제_R3M', '이용건수_선결제_R6M', '이용건수_신용_B0M', '이용건수_신용_R12M', '이용건수_신용_R3M', '이용건수_신용_R6M', '이용건수_신판_B0M', '이용건수_신판_R12M', '이용건수_신판_R3M', '이용건수_신판_R6M', '이용건수_오프라인_B0M', '이용건수_오프라인_R3M', '이용건수_오프라인_R6M', '이용건수_온라인_B0M', '이용건수_온라인_R3M', '이용건수_온라인_R6M', '이용건수_일시불_B0M', '이용건수_일시불_R12M', '이용건수_일시불_R3M', '이용건수_일시불_R6M', '이용건수_체크_B0M', '이용건수_체크_R12M', '이용건수_체크_R3M', '이용건수_체크_R6M', '이용건수_카드론_B0M', '이용건수_카드론_R12M', '이용건수_카드론_R3M', '이용건수_카드론_R6M', '이용건수_페이_오프라인_B0M', '이용건수_페이_오프라인_R3M', '이용건수_페이_오프라인_R6M', '이용건수_페이_온라인_B0M', '이용건수_페이_온라인_R3M', '이용건수_페이_온라인_R6M', '이용건수_할부_B0M', '이용건수_할부_R12M', '이용건수_할부_R3M', '이용건수_할부_R6M', '이용건수_할부_무이자_B0M', '이용건수_할부_무이자_R12M', '이용건수_할부_무이자_R3M', '이용건수_할부_무이자_R6M', '이용건수_할부_유이자_B0M', '이용건수_할부_유이자_R12M', '이용건수_할부_유이자_R3M', '이용건수_할부_유이자_R6M', '이용금액_A페이_B0M', '이용금액_A페이_R3M', '이용금액_A페이_R6M', '이용금액_B페이_B0M', '이용금액_B페이_R3M', '이용금액_B페이_R6M', '이용금액_CA_B0M', '이용금액_CA_R12M', '이용금액_CA_R3M', '이용금액_CA_R6M', '이용금액_C페이_B0M', '이용금액_C페이_R3M', '이용금액_C페이_R6M', '이용금액_D페이_B0M', '이용금액_D페이_R3M', '이용금액_D페이_R6M', '이용금액_R3M_신용', '이용금액_R3M_신용_가족', '이용금액_R3M_신용체크', '이용금액_R3M_체크', '이용금액_간편결제_B0M', '이용금액_간편결제_R3M', '이용금액_간편결제_R6M', '이용금액_부분무이자_R12M', '이용금액_부분무이자_R3M', '이용금액_부분무이자_R6M', '이용금액_선결제_B0M', '이용금액_선결제_R3M', '이용금액_선결제_R6M', '이용금액_연체_B0M', '이용금액_연체_R3M', '이용금액_연체_R6M', '이용금액_오프라인_B0M', '이용금액_오프라인_R3M', '이용금액_오프라인_R6M', '이용금액_온라인_B0M', '이용금액_온라인_R3M', '이용금액_온라인_R6M', '이용금액_일시불_B0M', '이용금액_일시불_R12M', '이용금액_일시불_R3M', '이용금액_일시불_R6M', '이용금액_체크_B0M', '이용금액_체크_R12M', '이용금액_체크_R3M', '이용금액_체크_R6M', '이용금액_카드론_B0M', '이용금액_카드론_R12M', '이용금액_카드론_R3M', '이용금액_카드론_R6M', '이용금액_페이_오프라인_B0M', '이용금액_페이_오프라인_R3M', '이용금액_페이_오프라인_R6M', '이용금액_페이_온라인_B0M', '이용금액_페이_온라인_R3M', '이용금액_페이_온라인_R6M', '이용금액_할부_B0M', '이용금액_할부_R12M', '이용금액_할부_R3M', '이용금액_할부_R6M', '이용금액_할부_무이자_B0M', '이용금액_할부_무이자_R12M', '이용금액_할부_무이자_R3M', '이용금액_할부_무이자_R6M', '이용금액_할부_유이자_B0M', '이용금액_할부_유이자_R12M', '이용금액_할부_유이자_R3M', '이용금액_할부_유이자_R6M', '이용금액_해외', '이용메뉴건수_ARS_B0M', '이용메뉴건수_IB_B0M', '이용메뉴건수_IB_R6M', '이용여부_3M_해외겸용_본인', '이용여부_3M_해외겸용_신용_본인', '이용카드수_신용', '이용카드수_신용_가족', '이용카드수_신용체크', '이용카드수_체크', '이용횟수_선결제_B0M', '이용횟수_선결제_R3M', '이용횟수_선결제_R6M', '이용횟수_연체_B0M', '이용횟수_연체_R3M', '이용횟수_연체_R6M', '이용후경과월_CA', '이용후경과월_부분무이자', '이용후경과월_신용', '이용후경과월_신판', '이용후경과월_일시불', '이용후경과월_체크', '이용후경과월_카드론', '이용후경과월_할부', '이용후경과월_할부_무이자', '이용후경과월_할부_유이자', '인입월수_ARS_R6M', '인입월수_IB_R6M', '인입일수_ARS_B0M', '인입일수_ARS_R6M', '인입일수_IB_B0M', '인입일수_IB_R6M', '인입횟수_ARS_B0M', '인입횟수_IB_B0M', '인입횟수_IB_R6M', '인입후경과월_ARS', '인입후경과월_IB_R6M', '일시불ONLY전환가능여부', '일시상환론한도금액', '입회경과개월수_신용', '입회일자_신용', '자발한도감액금액_R12M', '자발한도감액후경과월', '잔액_리볼빙CA이월_B0M', '잔액_리볼빙일시불이월_B0M', '잔액_신판ca최대한도소진율_r3m', '잔액_신판ca최대한도소진율_r6m', '잔액_신판ca평균한도소진율_r3m', '잔액_신판ca평균한도소진율_r6m', '잔액_신판최대한도소진율_r3m', '잔액_신판최대한도소진율_r6m', '잔액_신판평균한도소진율_r3m', '잔액_신판평균한도소진율_r6m', '잔액_일시불_B0M', '잔액_일시불_B1M', '잔액_일시불_B2M', '잔액_카드론_B0M', '잔액_카드론_B1M', '잔액_카드론_B2M', '잔액_카드론_B3M', '잔액_카드론_B4M', '잔액_카드론_B5M', '잔액_할부_B0M', '잔액_할부_B1M', '잔액_할부_B2M', '잔액_할부_무이자_B0M', '잔액_할부_유이자_B0M', '잔액_할부_해외_B0M', '잔액_현금서비스_B0M', '잔액_현금서비스_B1M', '잔액_현금서비스_B2M', '정상입금원금_B0M', '정상입금원금_B2M', '정상입금원금_B5M', '정상청구원금_B0M', '정상청구원금_B2M', '정상청구원금_B5M', '제휴연회비_B0M', '증감_RP건수_가스_전월', '증감_RP건수_교통_전월', '증감_RP건수_렌탈_전월', '증감_RP건수_보험_전월', '증감_RP건수_아파트_전월', '증감_RP건수_전기_전월', '증감_RP건수_전월', '증감_RP건수_제휴사서비스직접판매_전월', '증감_RP건수_통신_전월', '증감_RP건수_학습비_전월', '증감_RP유형건수_전월', '증감율_이용건수_CA_분기', '증감율_이용건수_CA_전월', '증감율_이용건수_신용_분기', '증감율_이용건수_신용_전월', '증감율_이용건수_신판_분기', '증감율_이용건수_신판_전월', '증감율_이용건수_일시불_분기', '증감율_이용건수_일시불_전월', '증감율_이용건수_체크_분기', '증감율_이용건수_체크_전월', '증감율_이용건수_카드론_분기', '증감율_이용건수_카드론_전월', '증감율_이용건수_할부_분기', '증감율_이용건수_할부_전월', '증감율_이용금액_CA_분기', '증감율_이용금액_CA_전월', '증감율_이용금액_신용_분기', '증감율_이용금액_신용_전월', '증감율_이용금액_신판_분기', '증감율_이용금액_신판_전월', '증감율_이용금액_일시불_분기', '증감율_이용금액_일시불_전월', '증감율_이용금액_체크_분기', '증감율_이용금액_체크_전월', '증감율_이용금액_카드론_분기', '증감율_이용금액_카드론_전월', '증감율_이용금액_할부_분기', '증감율_이용금액_할부_전월', '청구금액_B0', '청구금액_R3M', '청구금액_R6M', '청구금액_기본연회비_B0M', '청구금액_제휴연회비_B0M', '청구서발송여부_B0', '청구서발송여부_R3M', '청구서발송여부_R6M', '최대이용금액_CA_R12M', '최대이용금액_부분무이자_R12M', '최대이용금액_일시불_R12M', '최대이용금액_체크_R12M', '최대이용금액_카드론_R12M', '최대이용금액_할부_R12M', '최대이용금액_할부_무이자_R12M', '최대이용금액_할부_유이자_R12M', '최종유효년월_신용_이용', '최종유효년월_신용_이용가능', '최종이용일자_CA', '최종이용일자_기본', '최종이용일자_신판', '최종이용일자_일시불', '최종이용일자_체크', '최종이용일자_카드론', '최종이용일자_할부', '최종카드론_거치개월수', '최종카드론_금융상환방식코드', '최종카드론_대출금액', '최종카드론_대출월수', '최종카드론_대출이율', '최종카드론_대출일자', '최종카드론이용경과월', '최종카드발급경과월', '최종카드발급일자', '최종탈회후경과월', '최초카드론이용경과월', '최초한도금액', '카드론이용건수_누적', '카드론이용금액_누적', '카드론이용월수_누적', '카드신청건수', '카드이용한도금액', '카드이용한도금액_B1M', '카드이용한도금액_B2M', '컨택건수_CA_LMS_B0M', '컨택건수_CA_LMS_R6M', '컨택건수_CA_TM_R6M', '컨택건수_CA_청구서_B0M', '컨택건수_CA_청구서_R6M', '컨택건수_리볼빙_LMS_B0M', '컨택건수_리볼빙_LMS_R6M', '컨택건수_리볼빙_TM_B0M', '컨택건수_리볼빙_TM_R6M', '컨택건수_보험_TM_B0M', '컨택건수_보험_TM_R6M', '컨택건수_부대서비스_TM_R6M', '컨택건수_신용발급_TM_B0M', '컨택건수_신용발급_TM_R6M', '컨택건수_이용유도_EM_B0M', '컨택건수_이용유도_EM_R6M', '컨택건수_이용유도_LMS_B0M', '컨택건수_이용유도_LMS_R6M', '컨택건수_이용유도_TM_B0M', '컨택건수_이용유도_TM_R6M', '컨택건수_이용유도_당사앱_B0M', '컨택건수_이용유도_당사앱_R6M', '컨택건수_이용유도_인터넷_B0M', '컨택건수_이용유도_인터넷_R6M', '컨택건수_이용유도_청구서_B0M', '컨택건수_이용유도_청구서_R6M', '컨택건수_채권_B0M', '컨택건수_채권_R6M', '컨택건수_카드론_EM_B0M', '컨택건수_카드론_EM_R6M', '컨택건수_카드론_LMS_B0M', '컨택건수_카드론_LMS_R6M', '컨택건수_카드론_TM_B0M', '컨택건수_카드론_TM_R6M', '컨택건수_카드론_청구서_B0M', '컨택건수_카드론_청구서_R6M', '컨택건수_포인트소진_TM_R6M', '탈회횟수_누적', '탈회횟수_발급1년이내', '탈회횟수_발급6개월이내', '특별한도보유여부_R3M', '평잔_3M', '평잔_6M', '평잔_CA_3M', '평잔_CA_6M', '평잔_CA_해외_3M', '평잔_CA_해외_6M', '평잔_RV일시불_3M', '평잔_RV일시불_6M', '평잔_RV일시불_해외_3M', '평잔_RV일시불_해외_6M', '평잔_일시불_3M', '평잔_일시불_6M', '평잔_일시불_해외_3M', '평잔_일시불_해외_6M', '평잔_카드론_3M', '평잔_카드론_6M', '평잔_할부_3M', '평잔_할부_6M', '평잔_할부_해외_3M', '평잔_할부_해외_6M', '포인트_마일리지_건별_B0M', '포인트_마일리지_건별_R3M', '포인트_마일리지_월적립_B0M', '포인트_마일리지_월적립_R3M', '포인트_마일리지_환산_B0M', '포인트_이용포인트_R12M', '포인트_이용포인트_R3M', '포인트_잔여포인트_B0M', '포인트_적립포인트_R12M', '포인트_적립포인트_R3M', '포인트_포인트_건별_B0M', '포인트_포인트_건별_R3M', '포인트_포인트_월적립_B0M', '포인트_포인트_월적립_R3M', '한도심사거절후경과월', '한도심사요청후경과월', '한도요청거절건수', '한도증액금액_R12M', '한도증액후경과월', '할부건수_12M_R12M', '할부건수_14M_R12M', '할부건수_3M_R12M', '할부건수_6M_R12M', '할부건수_무이자_12M_R12M', '할부건수_무이자_3M_R12M', '할부건수_무이자_6M_R12M', '할부건수_부분_12M_R12M', '할부건수_유이자_12M_R12M', '할부건수_유이자_14M_R12M', '할부건수_유이자_3M_R12M', '할부건수_유이자_6M_R12M', '할부금액_12M_R12M', '할부금액_14M_R12M', '할부금액_3M_R12M', '할부금액_6M_R12M', '할부금액_무이자_12M_R12M', '할부금액_무이자_14M_R12M', '할부금액_무이자_3M_R12M', '할부금액_무이자_6M_R12M', '할부금액_부분_12M_R12M', '할부금액_부분_14M_R12M', '할부금액_부분_6M_R12M', '할부금액_유이자_12M_R12M', '할부금액_유이자_14M_R12M', '할부금액_유이자_3M_R12M', '할부금액_유이자_6M_R12M', '할인금액_B0M', '할인금액_R3M', '할인금액_청구서_B0M', '할인금액_청구서_R3M', '혜택수혜금액', '혜택수혜금액_R3M', '혜택수혜율_B0M', '혜택수혜율_R3M', '홈페이지_금융건수_R3M', '홈페이지_금융건수_R6M', '홈페이지_선결제건수_R3M', '홈페이지_선결제건수_R6M', '회원여부_연체', '회원여부_이용가능', '회원여부_이용가능_CA', '회원여부_이용가능_카드론', 'Life_Stage_자녀성장(1)', 'Life_Stage_자녀성장(2)', 'Life_Stage_노년생활', 'Life_Stage_자녀독립기', 'Life_Stage_자녀출산기', 'Life_Stage_독신', 'Life_Stage_가족구축기', 'OS구분코드_Android', 'OS구분코드_None', 'OS구분코드_IOS', 'RV전환가능여부_Z', 'RV전환가능여부_N', 'RV전환가능여부_None', '_1순위교통업종_주유', '_1순위교통업종_None', '_1순위교통업종_철도버스', '_1순위교통업종_택시', '_1순위교통업종_버스지하철', '_1순위교통업종_정비', '_1순위납부업종_납부기타', '_1순위납부업종_통신비', '_1순위납부업종_보험료', '_1순위납부업종_None', '_1순위납부업종_관리비', '_1순위납부업종_가스/전기료', '_1순위쇼핑업종_온라인', '_1순위쇼핑업종_도소매', '_1순위쇼핑업종_None', '_1순위쇼핑업종_마트', '_1순위쇼핑업종_쇼핑기타', '_1순위쇼핑업종_아울렛', '_1순위쇼핑업종_편의점', '_1순위쇼핑업종_슈퍼마켓', '_1순위쇼핑업종_백화점', '_1순위신용체크구분_신용', '_1순위신용체크구분_체크', '_1순위신용체크구분_None', '_1순위업종_쇼핑', '_1순위업종_교육', '_1순위업종_사교활동', '_1순위업종_납부', '_1순위업종_교통', '_1순위업종_의료', '_1순위업종_None', '_1순위업종_해외', '_1순위업종_여유생활', '_1순위업종_일상생활', '_1순위업종_요식', '_1순위여유업종_항공', '_1순위여유업종_None', '_1순위여유업종_Pet', '_1순위여유업종_운동', '_1순위여유업종_공연', '_1순위여유업종_숙박', '_1순위여유업종_여유기타', '_1순위여유업종_공원', '_2순위교통업종_정비', '_2순위교통업종_None', '_2순위교통업종_버스지하철', '_2순위교통업종_택시', '_2순위교통업종_철도버스', '_2순위교통업종_주유', '_2순위교통업종_통행료', '_2순위납부업종_None', '_2순위납부업종_납부기타', '_2순위납부업종_보험료', '_2순위납부업종_통신비', '_2순위납부업종_가스/전기료', '_2순위납부업종_관리비', '_2순위쇼핑업종_도소매', '_2순위쇼핑업종_온라인', '_2순위쇼핑업종_슈퍼마켓', '_2순위쇼핑업종_마트', '_2순위쇼핑업종_None', '_2순위쇼핑업종_편의점', '_2순위쇼핑업종_백화점', '_2순위쇼핑업종_쇼핑기타', '_2순위쇼핑업종_아울렛', '_2순위신용체크구분_신용', '_2순위신용체크구분_None', '_2순위신용체크구분_체크', '_2순위업종_사교활동', '_2순위업종_쇼핑', '_2순위업종_해외', '_2순위업종_의료', '_2순위업종_납부', '_2순위업종_None', '_2순위업종_교육', '_2순위업종_교통', '_2순위업종_일상생활', '_2순위업종_여유생활', '_2순위업종_요식', '_2순위여유업종_운동', '_2순위여유업종_None', '_2순위여유업종_여유기타', '_2순위여유업종_숙박', '_2순위여유업종_Pet', '_2순위여유업종_공연', '_2순위여유업종_공원', '_2순위여유업종_항공', '_3순위교통업종_버스지하철', '_3순위교통업종_None', '_3순위교통업종_택시', '_3순위교통업종_철도버스', '_3순위교통업종_정비', '_3순위교통업종_통행료', '_3순위납부업종_None', '_3순위납부업종_납부기타', '_3순위납부업종_가스/전기료', '_3순위납부업종_보험료', '_3순위납부업종_통신비', '_3순위쇼핑업종_마트', '_3순위쇼핑업종_백화점', '_3순위쇼핑업종_편의점', '_3순위쇼핑업종_None', '_3순위쇼핑업종_슈퍼마켓', '_3순위쇼핑업종_아울렛', '_3순위쇼핑업종_쇼핑기타', '_3순위쇼핑업종_온라인', '_3순위쇼핑업종_도소매', '_3순위업종_의료', '_3순위업종_사교활동', '_3순위업종_교육', '_3순위업종_교통', '_3순위업종_None', '_3순위업종_해외', '_3순위업종_납부', '_3순위업종_쇼핑', '_3순위업종_여유생활', '_3순위업종_요식', '_3순위업종_일상생활', '_3순위여유업종_숙박', '_3순위여유업종_None', '_3순위여유업종_공연', '_3순위여유업종_Pet', '_3순위여유업종_여유기타', '_3순위여유업종_공원', '_3순위여유업종_운동', '가입통신회사코드_S사', '가입통신회사코드_None', '가입통신회사코드_K사', '가입통신회사코드_L사', '거주시도명_서울', '거주시도명_경기', '거주시도명_부산', '거주시도명_대전', '거주시도명_충남', '거주시도명_인천', '거주시도명_울산', '거주시도명_경북', '거주시도명_충북', '거주시도명_경남', '거주시도명_대구', '거주시도명_강원', '거주시도명_전남', '거주시도명_광주', '거주시도명_전북', '거주시도명_제주', '거주시도명_세종', '대표청구서수령지구분코드_우편', '대표청구서수령지구분코드_이메일', '대표청구서수령지구분코드_당사페이앱+이메일', '대표청구서수령지구분코드_미수신', '대표청구서수령지구분코드_K톡명세서+이메일', '대표청구서수령지구분코드_당사멤버십+이메일', '대표청구지고객주소구분코드_주거지', '대표청구지고객주소구분코드_회사', '대표청구지고객주소구분코드_미확인', '방문일수_PC_R6M_1회 이상', '방문일수_PC_R6M_20회 이상', '방문일수_PC_R6M_10회 이상', '방문일수_PC_R6M_30회 이상', '방문횟수_PC_R6M_1회 이상', '방문횟수_PC_R6M_20회 이상', '방문횟수_PC_R6M_10회 이상', '방문횟수_PC_R6M_30회 이상', '방문횟수_PC_R6M_40회 이상', '방문횟수_앱_R6M_1회 이상', '방문횟수_앱_R6M_70회 이상', '방문횟수_앱_R6M_50회 이상', '방문횟수_앱_R6M_10회 이상', '방문횟수_앱_R6M_40회 이상', '방문횟수_앱_R6M_60회 이상', '방문횟수_앱_R6M_20회 이상', '방문횟수_앱_R6M_30회 이상', '방문횟수_앱_R6M_80회 이상', '연령_40대', '연령_50대', '연령_30대', '연령_70대이상', '연령_60대', '연령_20대', '연회비발생카드수_B0M_0개', '연회비발생카드수_B0M_1개이상', '이용금액대_01.100만원+', '이용금액대_02.50만원+', '이용금액대_05.10만원-', '이용금액대_09.미사용', '이용금액대_04.10만원+', '이용금액대_03.30만원+', '이용메뉴건수_ARS_R6M_1회 이상', '이용메뉴건수_ARS_R6M_10회 이상', '이용메뉴건수_ARS_R6M_20회 이상', '이용메뉴건수_ARS_R6M_30회 이상', '인입횟수_ARS_R6M_1회 이상', '인입횟수_ARS_R6M_10회 이상', '자발한도감액횟수_R12M_0회', '자발한도감액횟수_R12M_1회', '자발한도감액횟수_R12M_2회', '직장시도명_대전', '직장시도명_경기', '직장시도명_서울', '직장시도명_부산', '직장시도명_전북', '직장시도명_충남', '직장시도명_인천', '직장시도명_None', '직장시도명_경북', '직장시도명_충북', '직장시도명_경남', '직장시도명_울산', '직장시도명_강원', '직장시도명_전남', '직장시도명_광주', '직장시도명_대구', '직장시도명_세종', '직장시도명_제주', '청구서수령방법_우편', '청구서수령방법_이메일', '청구서수령방법_문자메세지', '청구서수령방법_미수령', '청구서수령방법_K톡', '청구서수령방법_당사멤버십', '최종카드론_신청경로코드_None', '최종카드론_신청경로코드_2', '최종카드론_신청경로코드_7', '최종카드론_신청경로코드_1', '최종카드론_신청경로코드_8', '최종카드론_신청경로코드_D', '카드론동의여부_Y', '카드론동의여부_N', '캠페인접촉건수_R12M_5회 이상', '캠페인접촉건수_R12M_1회 이상', '캠페인접촉건수_R12M_10회 이상', '캠페인접촉건수_R12M_15회 이상', '캠페인접촉건수_R12M_20회 이상', '캠페인접촉건수_R12M_25회 이상', '캠페인접촉일수_R12M_5일 이상', '캠페인접촉일수_R12M_1일 이상', '캠페인접촉일수_R12M_10일 이상', '캠페인접촉일수_R12M_15일 이상', '캠페인접촉일수_R12M_20일 이상', '한도심사요청건수_0회', '한도심사요청건수_1회이상', '한도증액횟수_R12M_1회이상', '한도증액횟수_R12M_0회', '할인건수_B0M_1회 이상', '할인건수_B0M_10회 이상', '할인건수_R3M_1회 이상', '할인건수_R3M_10회 이상', '할인건수_R3M_20회 이상', '할인건수_R3M_30회 이상', '할인건수_R3M_40회 이상', '연체일수_B2M_0', '연체일수_B2M_1', '연체일수_B1M_0', '연체일수_B1M_1', '연체일수_B1M_2', '최종연체회차_0', '최종연체회차_1', '연체일수_최근_0', '연체일수_최근_1', '연체일수_최근_2', 'rv최초시작후경과일_0', '최종카드론이용경과월_100', '최초카드론이용경과월_999', '최종이용일자_CA_0', '최종이용일자_기본_0', '최종이용일자_신판_0', '최종이용일자_일시불_0', '최종이용일자_체크_0', '최종이용일자_카드론_0', '최종이용일자_할부_0'] ['CA이자율_할인전', 'CA한도금액', 'CL이자율_할인전', 'IB문의건수_BL_R6M', 'IB문의건수_CA_R6M', 'IB문의건수_CL_RV_B0M', 'IB문의건수_CL_RV_R6M', 'IB문의건수_CS_B0M', 'IB문의건수_CS_R6M', 'IB문의건수_SMS_R6M', 'IB문의건수_결제_R6M', 'IB문의건수_결제일변경_R6M', 'IB문의건수_부대서비스_R6M', 'IB문의건수_분실도난_R6M', 'IB문의건수_비밀번호_R6M', 'IB문의건수_사용승인내역_B0M', 'IB문의건수_사용승인내역_R6M', 'IB문의건수_선결제_B0M', 'IB문의건수_선결제_R6M', 'IB문의건수_정보변경_R6M', 'IB문의건수_카드발급_B0M', 'IB문의건수_카드발급_R6M', 'IB문의건수_포인트_R6M', 'IB문의건수_한도_R6M', 'IB문의건수_할부_R6M', 'RP건수_B0M', 'RP건수_가스_B0M', 'RP건수_교통_B0M', 'RP건수_렌탈_B0M', 'RP건수_보험_B0M', 'RP건수_아파트_B0M', 'RP건수_전기_B0M', 'RP건수_제휴사서비스직접판매_B0M', 'RP건수_통신_B0M', 'RP건수_학습비_B0M', 'RP금액_B0M', 'RP유형건수_B0M', 'RP후경과월', 'RP후경과월_가스', 'RP후경과월_교통', 'RP후경과월_렌탈', 'RP후경과월_보험', 'RP후경과월_아파트', 'RP후경과월_전기', 'RP후경과월_제휴사서비스직접판매', 'RP후경과월_통신', 'RP후경과월_학습비', 'RV_최대잔액_R12M', 'RV_최대잔액_R3M', 'RV_최대잔액_R6M', 'RV_평균잔액_R12M', 'RV_평균잔액_R3M', 'RV_평균잔액_R6M', 'RV신청일자', 'RV약정청구율', 'RV일시불이자율_할인전', 'RV최소결제비율', 'RV현금서비스이자율_할인전', '_1순위교통업종_이용금액', '_1순위납부업종_이용금액', '_1순위쇼핑업종_이용금액', '_1순위업종_이용금액', '_1순위여유업종_이용금액', '_1순위카드이용건수', '_1순위카드이용금액', '_2순위교통업종_이용금액', '_2순위납부업종_이용금액', '_2순위쇼핑업종_이용금액', '_2순위업종_이용금액', '_2순위여유업종_이용금액', '_2순위카드이용건수', '_2순위카드이용금액', '_3순위교통업종_이용금액', '_3순위납부업종_이용금액', '_3순위쇼핑업종_이용금액', '_3순위업종_이용금액', '_3순위여유업종_이용금액', 'rv최초시작후경과일', '가맹점매출금액_B1M', '가맹점매출금액_B2M', '강제한도감액금액_R12M', '강제한도감액횟수_R12M', '강제한도감액후경과월', '건수_할부전환_R3M', '건수_할부전환_R6M', '교통_버스지하철이용금액', '교통_정비이용금액', '교통_주유이용금액', '교통_철도버스이용금액', '교통_택시이용금액', '교통_통행료이용금액', '금액_할부전환_R3M', '금액_할부전환_R6M', '기본연회비_B0M', '남녀구분코드', '납부_가스전기료이용금액', '납부_관리비이용금액', '납부_기타이용금액', '납부_보험료이용금액', '납부_통신비이용금액', '당사멤버쉽_방문월수_R6M', '당사멤버쉽_방문횟수_B0M', '당사멤버쉽_방문횟수_R6M', '대표결제일', '동의여부_한도증액안내', '마일_이용포인트_R12M', '마일_이용포인트_R3M', '마일_잔여포인트_B0M', '마일_적립포인트_R12M', '마일_적립포인트_R3M', '마케팅동의여부', '방문월수_PC_R6M', '방문월수_모바일웹_R6M', '방문월수_앱_R6M', '방문일수_PC_B0M', '방문일수_모바일웹_B0M', '방문일수_모바일웹_R6M', '방문일수_앱_B0M', '방문일수_앱_R6M', '방문횟수_PC_B0M', '방문횟수_모바일웹_B0M', '방문횟수_모바일웹_R6M', '방문횟수_앱_B0M', '방문후경과월_PC_R6M', '방문후경과월_모바일웹_R6M', '방문후경과월_앱_R6M', '변동률_CA평잔', '변동률_RVCA평잔', '변동률_RV일시불평잔', '변동률_일시불평잔', '변동률_잔액_B1M', '변동률_잔액_CA_B1M', '변동률_잔액_일시불_B1M', '변동률_카드론평잔', '변동률_할부평잔', '보유여부_해외겸용_본인', '보유여부_해외겸용_신용_본인', '불만제기후경과월_R12M', '상담건수_B0M', '상담건수_R6M', '상향가능CA한도금액', '상향가능한도금액', '상환개월수_결제일_R3M', '상환개월수_결제일_R6M', '선결제건수_R3M', '선결제건수_R6M', '선입금원금_B0M', '선입금원금_B2M', '선입금원금_B5M', '소지여부_신용', '소지카드수_유효_신용', '소지카드수_이용가능_신용', '쇼핑_기타_이용금액', '쇼핑_도소매_이용금액', '쇼핑_마트_이용금액', '쇼핑_백화점_이용금액', '쇼핑_슈퍼마켓_이용금액', '쇼핑_아울렛_이용금액', '쇼핑_온라인_이용금액', '쇼핑_편의점_이용금액', '수신거부여부_DM', '수신거부여부_SMS', '수신거부여부_TM', '수신거부여부_메일', '승인거절건수_B0M', '승인거절건수_BL_B0M', '승인거절건수_BL_R3M', '승인거절건수_R3M', '승인거절건수_기타_R3M', '승인거절건수_입력오류_R3M', '승인거절건수_한도초과_B0M', '승인거절건수_한도초과_R3M', '시장단기연체여부_R3M', '시장단기연체여부_R6M', '신청건수_ATM_CA_B0', '신청건수_ATM_CA_R6M', '신청건수_ATM_CL_B0', '신청건수_ATM_CL_R6M', '여유_Pet이용금액', '여유_공연이용금액', '여유_공원이용금액', '여유_기타이용금액', '여유_숙박이용금액', '여유_운동이용금액', '여유_항공이용금액', '연속무실적개월수_기본_24M_카드', '연속유실적개월수_기본_24M_카드', '연체감액여부_R3M', '연체건수_R3M', '연체건수_R6M', '연체원금_B1M', '연체원금_B2M', '연체원금_최근', '연체일자_B0M', '연체입금원금_B0M', '연체입금원금_B2M', '연체입금원금_B5M', '연체잔액_B0M', '연체잔액_CA_B0M', '연체잔액_RV일시불_B0M', '연체잔액_대환론_B0M', '연체잔액_일시불_B0M', '연체잔액_카드론_B0M', '연체잔액_할부_B0M', '연체잔액_현금서비스_B0M', '월상환론상향가능한도금액', '월상환론한도금액', '월중평잔', '월중평잔_CA', '월중평잔_CA_B0M', '월중평잔_RV일시불', '월중평잔_일시불', '월중평잔_일시불_B0M', '월중평잔_카드론', '월중평잔_할부', '월중평잔_할부_B0M', '유효카드수_신용', '유효카드수_신용_가족', '유효카드수_신용체크', '유효카드수_체크', '유효카드수_체크_가족', '이용가능여부_해외겸용_본인', '이용가능여부_해외겸용_신용_본인', '이용가능카드수_신용', '이용가능카드수_신용_가족', '이용가능카드수_신용체크', '이용가능카드수_체크', '이용가능카드수_체크_가족', '이용가맹점수', '이용개월수_A페이_R6M', '이용개월수_B페이_R6M', '이용개월수_CA_R12M', '이용개월수_CA_R3M', '이용개월수_CA_R6M', '이용개월수_C페이_R6M', '이용개월수_D페이_R6M', '이용개월수_간편결제_R6M', '이용개월수_결제일_R3M', '이용개월수_결제일_R6M', '이용개월수_당사기타_R6M', '이용개월수_부분무이자_R12M', '이용개월수_부분무이자_R3M', '이용개월수_부분무이자_R6M', '이용개월수_선결제_R6M', '이용개월수_신용_R12M', '이용개월수_신용_R3M', '이용개월수_신용_R6M', '이용개월수_신판_R12M', '이용개월수_신판_R3M', '이용개월수_신판_R6M', '이용개월수_오프라인_R6M', '이용개월수_온라인_R6M', '이용개월수_일시불_R12M', '이용개월수_일시불_R3M', '이용개월수_일시불_R6M', '이용개월수_전체_R3M', '이용개월수_전체_R6M', '이용개월수_체크_R12M', '이용개월수_체크_R3M', '이용개월수_체크_R6M', '이용개월수_카드론_R12M', '이용개월수_카드론_R3M', '이용개월수_카드론_R6M', '이용개월수_페이_오프라인_R6M', '이용개월수_페이_온라인_R6M', '이용개월수_할부_R12M', '이용개월수_할부_R3M', '이용개월수_할부_R6M', '이용개월수_할부_무이자_R12M', '이용개월수_할부_무이자_R3M', '이용개월수_할부_무이자_R6M', '이용개월수_할부_유이자_R12M', '이용개월수_할부_유이자_R3M', '이용개월수_할부_유이자_R6M', '이용거절여부_카드론', '이용건수_A페이_B0M', '이용건수_A페이_R3M', '이용건수_A페이_R6M', '이용건수_B페이_B0M', '이용건수_B페이_R3M', '이용건수_B페이_R6M', '이용건수_CA_B0M', '이용건수_CA_R12M', '이용건수_CA_R3M', '이용건수_CA_R6M', '이용건수_C페이_B0M', '이용건수_C페이_R3M', '이용건수_C페이_R6M', '이용건수_D페이_B0M', '이용건수_D페이_R3M', '이용건수_D페이_R6M', '이용건수_간편결제_B0M', '이용건수_간편결제_R3M', '이용건수_간편결제_R6M', '이용건수_부분무이자_R12M', '이용건수_부분무이자_R3M', '이용건수_부분무이자_R6M', '이용건수_선결제_B0M', '이용건수_선결제_R3M', '이용건수_선결제_R6M', '이용건수_신용_B0M', '이용건수_신용_R12M', '이용건수_신용_R3M', '이용건수_신용_R6M', '이용건수_신판_B0M', '이용건수_신판_R12M', '이용건수_신판_R3M', '이용건수_신판_R6M', '이용건수_오프라인_B0M', '이용건수_오프라인_R3M', '이용건수_오프라인_R6M', '이용건수_온라인_B0M', '이용건수_온라인_R3M', '이용건수_온라인_R6M', '이용건수_일시불_B0M', '이용건수_일시불_R12M', '이용건수_일시불_R3M', '이용건수_일시불_R6M', '이용건수_체크_B0M', '이용건수_체크_R12M', '이용건수_체크_R3M', '이용건수_체크_R6M', '이용건수_카드론_B0M', '이용건수_카드론_R12M', '이용건수_카드론_R3M', '이용건수_카드론_R6M', '이용건수_페이_오프라인_B0M', '이용건수_페이_오프라인_R3M', '이용건수_페이_오프라인_R6M', '이용건수_페이_온라인_B0M', '이용건수_페이_온라인_R3M', '이용건수_페이_온라인_R6M', '이용건수_할부_B0M', '이용건수_할부_R12M', '이용건수_할부_R3M', '이용건수_할부_R6M', '이용건수_할부_무이자_B0M', '이용건수_할부_무이자_R12M', '이용건수_할부_무이자_R3M', '이용건수_할부_무이자_R6M', '이용건수_할부_유이자_B0M', '이용건수_할부_유이자_R12M', '이용건수_할부_유이자_R3M', '이용건수_할부_유이자_R6M', '이용금액_A페이_B0M', '이용금액_A페이_R3M', '이용금액_A페이_R6M', '이용금액_B페이_B0M', '이용금액_B페이_R3M', '이용금액_B페이_R6M', '이용금액_CA_B0M', '이용금액_CA_R12M', '이용금액_CA_R3M', '이용금액_CA_R6M', '이용금액_C페이_B0M', '이용금액_C페이_R3M', '이용금액_C페이_R6M', '이용금액_D페이_B0M', '이용금액_D페이_R3M', '이용금액_D페이_R6M', '이용금액_R3M_신용', '이용금액_R3M_신용_가족', '이용금액_R3M_신용체크', '이용금액_R3M_체크', '이용금액_간편결제_B0M', '이용금액_간편결제_R3M', '이용금액_간편결제_R6M', '이용금액_부분무이자_R12M', '이용금액_부분무이자_R3M', '이용금액_부분무이자_R6M', '이용금액_선결제_B0M', '이용금액_선결제_R3M', '이용금액_선결제_R6M', '이용금액_연체_B0M', '이용금액_연체_R3M', '이용금액_연체_R6M', '이용금액_오프라인_B0M', '이용금액_오프라인_R3M', '이용금액_오프라인_R6M', '이용금액_온라인_B0M', '이용금액_온라인_R3M', '이용금액_온라인_R6M', '이용금액_일시불_B0M', '이용금액_일시불_R12M', '이용금액_일시불_R3M', '이용금액_일시불_R6M', '이용금액_체크_B0M', '이용금액_체크_R12M', '이용금액_체크_R3M', '이용금액_체크_R6M', '이용금액_카드론_B0M', '이용금액_카드론_R12M', '이용금액_카드론_R3M', '이용금액_카드론_R6M', '이용금액_페이_오프라인_B0M', '이용금액_페이_오프라인_R3M', '이용금액_페이_오프라인_R6M', '이용금액_페이_온라인_B0M', '이용금액_페이_온라인_R3M', '이용금액_페이_온라인_R6M', '이용금액_할부_B0M', '이용금액_할부_R12M', '이용금액_할부_R3M', '이용금액_할부_R6M', '이용금액_할부_무이자_B0M', '이용금액_할부_무이자_R12M', '이용금액_할부_무이자_R3M', '이용금액_할부_무이자_R6M', '이용금액_할부_유이자_B0M', '이용금액_할부_유이자_R12M', '이용금액_할부_유이자_R3M', '이용금액_할부_유이자_R6M', '이용금액_해외', '이용메뉴건수_ARS_B0M', '이용메뉴건수_IB_B0M', '이용메뉴건수_IB_R6M', '이용여부_3M_해외겸용_본인', '이용여부_3M_해외겸용_신용_본인', '이용카드수_신용', '이용카드수_신용_가족', '이용카드수_신용체크', '이용카드수_체크', '이용횟수_선결제_B0M', '이용횟수_선결제_R3M', '이용횟수_선결제_R6M', '이용횟수_연체_B0M', '이용횟수_연체_R3M', '이용횟수_연체_R6M', '이용후경과월_CA', '이용후경과월_부분무이자', '이용후경과월_신용', '이용후경과월_신판', '이용후경과월_일시불', '이용후경과월_체크', '이용후경과월_카드론', '이용후경과월_할부', '이용후경과월_할부_무이자', '이용후경과월_할부_유이자', '인입월수_ARS_R6M', '인입월수_IB_R6M', '인입일수_ARS_B0M', '인입일수_ARS_R6M', '인입일수_IB_B0M', '인입일수_IB_R6M', '인입횟수_ARS_B0M', '인입횟수_IB_B0M', '인입횟수_IB_R6M', '인입후경과월_ARS', '인입후경과월_IB_R6M', '일시불ONLY전환가능여부', '일시상환론한도금액', '입회경과개월수_신용', '입회일자_신용', '자발한도감액금액_R12M', '자발한도감액후경과월', '잔액_리볼빙CA이월_B0M', '잔액_리볼빙일시불이월_B0M', '잔액_신판ca최대한도소진율_r3m', '잔액_신판ca최대한도소진율_r6m', '잔액_신판ca평균한도소진율_r3m', '잔액_신판ca평균한도소진율_r6m', '잔액_신판최대한도소진율_r3m', '잔액_신판최대한도소진율_r6m', '잔액_신판평균한도소진율_r3m', '잔액_신판평균한도소진율_r6m', '잔액_일시불_B0M', '잔액_일시불_B1M', '잔액_일시불_B2M', '잔액_카드론_B0M', '잔액_카드론_B1M', '잔액_카드론_B2M', '잔액_카드론_B3M', '잔액_카드론_B4M', '잔액_카드론_B5M', '잔액_할부_B0M', '잔액_할부_B1M', '잔액_할부_B2M', '잔액_할부_무이자_B0M', '잔액_할부_유이자_B0M', '잔액_할부_해외_B0M', '잔액_현금서비스_B0M', '잔액_현금서비스_B1M', '잔액_현금서비스_B2M', '정상입금원금_B0M', '정상입금원금_B2M', '정상입금원금_B5M', '정상청구원금_B0M', '정상청구원금_B2M', '정상청구원금_B5M', '제휴연회비_B0M', '증감_RP건수_가스_전월', '증감_RP건수_교통_전월', '증감_RP건수_렌탈_전월', '증감_RP건수_보험_전월', '증감_RP건수_아파트_전월', '증감_RP건수_전기_전월', '증감_RP건수_전월', '증감_RP건수_제휴사서비스직접판매_전월', '증감_RP건수_통신_전월', '증감_RP건수_학습비_전월', '증감_RP유형건수_전월', '증감율_이용건수_CA_분기', '증감율_이용건수_CA_전월', '증감율_이용건수_신용_분기', '증감율_이용건수_신용_전월', '증감율_이용건수_신판_분기', '증감율_이용건수_신판_전월', '증감율_이용건수_일시불_분기', '증감율_이용건수_일시불_전월', '증감율_이용건수_체크_분기', '증감율_이용건수_체크_전월', '증감율_이용건수_카드론_분기', '증감율_이용건수_카드론_전월', '증감율_이용건수_할부_분기', '증감율_이용건수_할부_전월', '증감율_이용금액_CA_분기', '증감율_이용금액_CA_전월', '증감율_이용금액_신용_분기', '증감율_이용금액_신용_전월', '증감율_이용금액_신판_분기', '증감율_이용금액_신판_전월', '증감율_이용금액_일시불_분기', '증감율_이용금액_일시불_전월', '증감율_이용금액_체크_분기', '증감율_이용금액_체크_전월', '증감율_이용금액_카드론_분기', '증감율_이용금액_카드론_전월', '증감율_이용금액_할부_분기', '증감율_이용금액_할부_전월', '청구금액_B0', '청구금액_R3M', '청구금액_R6M', '청구금액_기본연회비_B0M', '청구금액_제휴연회비_B0M', '청구서발송여부_B0', '청구서발송여부_R3M', '청구서발송여부_R6M', '최대이용금액_CA_R12M', '최대이용금액_부분무이자_R12M', '최대이용금액_일시불_R12M', '최대이용금액_체크_R12M', '최대이용금액_카드론_R12M', '최대이용금액_할부_R12M', '최대이용금액_할부_무이자_R12M', '최대이용금액_할부_유이자_R12M', '최종유효년월_신용_이용', '최종유효년월_신용_이용가능', '최종이용일자_CA', '최종이용일자_기본', '최종이용일자_신판', '최종이용일자_일시불', '최종이용일자_체크', '최종이용일자_카드론', '최종이용일자_할부', '최종카드론_거치개월수', '최종카드론_금융상환방식코드', '최종카드론_대출금액', '최종카드론_대출월수', '최종카드론_대출이율', '최종카드론_대출일자', '최종카드론이용경과월', '최종카드발급경과월', '최종카드발급일자', '최종탈회후경과월', '최초카드론이용경과월', '최초한도금액', '카드론이용건수_누적', '카드론이용금액_누적', '카드론이용월수_누적', '카드신청건수', '카드이용한도금액', '카드이용한도금액_B1M', '카드이용한도금액_B2M', '컨택건수_CA_LMS_B0M', '컨택건수_CA_LMS_R6M', '컨택건수_CA_TM_R6M', '컨택건수_CA_청구서_B0M', '컨택건수_CA_청구서_R6M', '컨택건수_리볼빙_LMS_B0M', '컨택건수_리볼빙_LMS_R6M', '컨택건수_리볼빙_TM_B0M', '컨택건수_리볼빙_TM_R6M', '컨택건수_보험_TM_B0M', '컨택건수_보험_TM_R6M', '컨택건수_부대서비스_TM_R6M', '컨택건수_신용발급_TM_B0M', '컨택건수_신용발급_TM_R6M', '컨택건수_이용유도_EM_B0M', '컨택건수_이용유도_EM_R6M', '컨택건수_이용유도_LMS_B0M', '컨택건수_이용유도_LMS_R6M', '컨택건수_이용유도_TM_B0M', '컨택건수_이용유도_TM_R6M', '컨택건수_이용유도_당사앱_B0M', '컨택건수_이용유도_당사앱_R6M', '컨택건수_이용유도_인터넷_B0M', '컨택건수_이용유도_인터넷_R6M', '컨택건수_이용유도_청구서_B0M', '컨택건수_이용유도_청구서_R6M', '컨택건수_채권_B0M', '컨택건수_채권_R6M', '컨택건수_카드론_EM_B0M', '컨택건수_카드론_EM_R6M', '컨택건수_카드론_LMS_B0M', '컨택건수_카드론_LMS_R6M', '컨택건수_카드론_TM_B0M', '컨택건수_카드론_TM_R6M', '컨택건수_카드론_청구서_B0M', '컨택건수_카드론_청구서_R6M', '컨택건수_포인트소진_TM_R6M', '탈회횟수_누적', '탈회횟수_발급1년이내', '탈회횟수_발급6개월이내', '특별한도보유여부_R3M', '평잔_3M', '평잔_6M', '평잔_CA_3M', '평잔_CA_6M', '평잔_CA_해외_3M', '평잔_CA_해외_6M', '평잔_RV일시불_3M', '평잔_RV일시불_6M', '평잔_RV일시불_해외_3M', '평잔_RV일시불_해외_6M', '평잔_일시불_3M', '평잔_일시불_6M', '평잔_일시불_해외_3M', '평잔_일시불_해외_6M', '평잔_카드론_3M', '평잔_카드론_6M', '평잔_할부_3M', '평잔_할부_6M', '평잔_할부_해외_3M', '평잔_할부_해외_6M', '포인트_마일리지_건별_B0M', '포인트_마일리지_건별_R3M', '포인트_마일리지_월적립_B0M', '포인트_마일리지_월적립_R3M', '포인트_마일리지_환산_B0M', '포인트_이용포인트_R12M', '포인트_이용포인트_R3M', '포인트_잔여포인트_B0M', '포인트_적립포인트_R12M', '포인트_적립포인트_R3M', '포인트_포인트_건별_B0M', '포인트_포인트_건별_R3M', '포인트_포인트_월적립_B0M', '포인트_포인트_월적립_R3M', '한도심사거절후경과월', '한도심사요청후경과월', '한도요청거절건수', '한도증액금액_R12M', '한도증액후경과월', '할부건수_12M_R12M', '할부건수_14M_R12M', '할부건수_3M_R12M', '할부건수_6M_R12M', '할부건수_무이자_12M_R12M', '할부건수_무이자_3M_R12M', '할부건수_무이자_6M_R12M', '할부건수_부분_12M_R12M', '할부건수_유이자_12M_R12M', '할부건수_유이자_14M_R12M', '할부건수_유이자_3M_R12M', '할부건수_유이자_6M_R12M', '할부금액_12M_R12M', '할부금액_14M_R12M', '할부금액_3M_R12M', '할부금액_6M_R12M', '할부금액_무이자_12M_R12M', '할부금액_무이자_14M_R12M', '할부금액_무이자_3M_R12M', '할부금액_무이자_6M_R12M', '할부금액_부분_12M_R12M', '할부금액_부분_14M_R12M', '할부금액_유이자_12M_R12M', '할부금액_유이자_14M_R12M', '할부금액_유이자_3M_R12M', '할부금액_유이자_6M_R12M', '할인금액_B0M', '할인금액_R3M', '할인금액_청구서_B0M', '할인금액_청구서_R3M', '혜택수혜금액', '혜택수혜금액_R3M', '혜택수혜율_B0M', '혜택수혜율_R3M', '홈페이지_금융건수_R3M', '홈페이지_금융건수_R6M', '홈페이지_선결제건수_R3M', '홈페이지_선결제건수_R6M', '회원여부_연체', '회원여부_이용가능', '회원여부_이용가능_CA', '회원여부_이용가능_카드론', 'Life_Stage_자녀성장(1)', 'Life_Stage_자녀성장(2)', 'Life_Stage_노년생활', 'Life_Stage_자녀독립기', 'Life_Stage_자녀출산기', 'Life_Stage_독신', 'Life_Stage_가족구축기', 'OS구분코드_Android', 'OS구분코드_None', 'OS구분코드_IOS', 'RV전환가능여부_Z', 'RV전환가능여부_N', 'RV전환가능여부_None', '_1순위교통업종_주유', '_1순위교통업종_None', '_1순위교통업종_철도버스', '_1순위교통업종_택시', '_1순위교통업종_버스지하철', '_1순위교통업종_정비', '_1순위납부업종_납부기타', '_1순위납부업종_통신비', '_1순위납부업종_보험료', '_1순위납부업종_None', '_1순위납부업종_관리비', '_1순위납부업종_가스/전기료', '_1순위쇼핑업종_온라인', '_1순위쇼핑업종_도소매', '_1순위쇼핑업종_None', '_1순위쇼핑업종_마트', '_1순위쇼핑업종_쇼핑기타', '_1순위쇼핑업종_편의점', '_1순위쇼핑업종_슈퍼마켓', '_1순위쇼핑업종_아울렛', '_1순위쇼핑업종_백화점', '_1순위신용체크구분_신용', '_1순위신용체크구분_체크', '_1순위신용체크구분_None', '_1순위업종_쇼핑', '_1순위업종_교육', '_1순위업종_사교활동', '_1순위업종_납부', '_1순위업종_교통', '_1순위업종_의료', '_1순위업종_None', '_1순위업종_해외', '_1순위업종_여유생활', '_1순위업종_일상생활', '_1순위업종_요식', '_1순위여유업종_항공', '_1순위여유업종_None', '_1순위여유업종_Pet', '_1순위여유업종_운동', '_1순위여유업종_공연', '_1순위여유업종_숙박', '_1순위여유업종_여유기타', '_1순위여유업종_공원', '_2순위교통업종_정비', '_2순위교통업종_None', '_2순위교통업종_버스지하철', '_2순위교통업종_택시', '_2순위교통업종_철도버스', '_2순위교통업종_주유', '_2순위교통업종_통행료', '_2순위납부업종_None', '_2순위납부업종_납부기타', '_2순위납부업종_보험료', '_2순위납부업종_통신비', '_2순위납부업종_가스/전기료', '_2순위납부업종_관리비', '_2순위쇼핑업종_도소매', '_2순위쇼핑업종_온라인', '_2순위쇼핑업종_슈퍼마켓', '_2순위쇼핑업종_마트', '_2순위쇼핑업종_None', '_2순위쇼핑업종_편의점', '_2순위쇼핑업종_백화점', '_2순위쇼핑업종_쇼핑기타', '_2순위쇼핑업종_아울렛', '_2순위신용체크구분_신용', '_2순위신용체크구분_None', '_2순위신용체크구분_체크', '_2순위업종_사교활동', '_2순위업종_쇼핑', '_2순위업종_해외', '_2순위업종_의료', '_2순위업종_납부', '_2순위업종_None', '_2순위업종_교육', '_2순위업종_교통', '_2순위업종_일상생활', '_2순위업종_여유생활', '_2순위업종_요식', '_2순위여유업종_운동', '_2순위여유업종_None', '_2순위여유업종_여유기타', '_2순위여유업종_숙박', '_2순위여유업종_Pet', '_2순위여유업종_공연', '_2순위여유업종_공원', '_2순위여유업종_항공', '_3순위교통업종_버스지하철', '_3순위교통업종_None', '_3순위교통업종_택시', '_3순위교통업종_철도버스', '_3순위교통업종_정비', '_3순위교통업종_통행료', '_3순위납부업종_None', '_3순위납부업종_납부기타', '_3순위납부업종_가스/전기료', '_3순위납부업종_보험료', '_3순위납부업종_통신비', '_3순위쇼핑업종_마트', '_3순위쇼핑업종_백화점', '_3순위쇼핑업종_편의점', '_3순위쇼핑업종_None', '_3순위쇼핑업종_슈퍼마켓', '_3순위쇼핑업종_아울렛', '_3순위쇼핑업종_쇼핑기타', '_3순위쇼핑업종_온라인', '_3순위쇼핑업종_도소매', '_3순위업종_의료', '_3순위업종_사교활동', '_3순위업종_교육', '_3순위업종_교통', '_3순위업종_None', '_3순위업종_해외', '_3순위업종_납부', '_3순위업종_쇼핑', '_3순위업종_여유생활', '_3순위업종_요식', '_3순위업종_일상생활', '_3순위여유업종_숙박', '_3순위여유업종_None', '_3순위여유업종_공연', '_3순위여유업종_Pet', '_3순위여유업종_여유기타', '_3순위여유업종_공원', '가입통신회사코드_S사', '가입통신회사코드_None', '가입통신회사코드_K사', '가입통신회사코드_L사', '거주시도명_서울', '거주시도명_경기', '거주시도명_부산', '거주시도명_대전', '거주시도명_충남', '거주시도명_인천', '거주시도명_울산', '거주시도명_경북', '거주시도명_충북', '거주시도명_경남', '거주시도명_대구', '거주시도명_강원', '거주시도명_광주', '거주시도명_전남', '거주시도명_전북', '거주시도명_제주', '거주시도명_세종', '대표청구서수령지구분코드_우편', '대표청구서수령지구분코드_이메일', '대표청구서수령지구분코드_당사페이앱+이메일', '대표청구서수령지구분코드_미수신', '대표청구서수령지구분코드_K톡명세서+이메일', '대표청구서수령지구분코드_당사멤버십+이메일', '대표청구지고객주소구분코드_주거지', '대표청구지고객주소구분코드_회사', '대표청구지고객주소구분코드_미확인', '방문일수_PC_R6M_1회 이상', '방문일수_PC_R6M_20회 이상', '방문일수_PC_R6M_10회 이상', '방문일수_PC_R6M_30회 이상', '방문횟수_PC_R6M_1회 이상', '방문횟수_PC_R6M_20회 이상', '방문횟수_PC_R6M_10회 이상', '방문횟수_PC_R6M_30회 이상', '방문횟수_PC_R6M_40회 이상', '방문횟수_앱_R6M_1회 이상', '방문횟수_앱_R6M_70회 이상', '방문횟수_앱_R6M_50회 이상', '방문횟수_앱_R6M_10회 이상', '방문횟수_앱_R6M_40회 이상', '방문횟수_앱_R6M_60회 이상', '방문횟수_앱_R6M_20회 이상', '방문횟수_앱_R6M_30회 이상', '방문횟수_앱_R6M_80회 이상', '연령_40대', '연령_50대', '연령_30대', '연령_70대이상', '연령_60대', '연령_20대', '연회비발생카드수_B0M_0개', '연회비발생카드수_B0M_1개이상', '이용금액대_01.100만원+', '이용금액대_02.50만원+', '이용금액대_05.10만원-', '이용금액대_09.미사용', '이용금액대_04.10만원+', '이용금액대_03.30만원+', '이용메뉴건수_ARS_R6M_1회 이상', '이용메뉴건수_ARS_R6M_10회 이상', '이용메뉴건수_ARS_R6M_20회 이상', '이용메뉴건수_ARS_R6M_30회 이상', '인입횟수_ARS_R6M_1회 이상', '인입횟수_ARS_R6M_10회 이상', '자발한도감액횟수_R12M_0회', '자발한도감액횟수_R12M_1회', '자발한도감액횟수_R12M_2회', '직장시도명_대전', '직장시도명_경기', '직장시도명_서울', '직장시도명_부산', '직장시도명_전북', '직장시도명_충남', '직장시도명_인천', '직장시도명_None', '직장시도명_경북', '직장시도명_충북', '직장시도명_경남', '직장시도명_울산', '직장시도명_강원', '직장시도명_광주', '직장시도명_전남', '직장시도명_제주', '직장시도명_대구', '직장시도명_세종', '청구서수령방법_우편', '청구서수령방법_이메일', '청구서수령방법_문자메세지', '청구서수령방법_미수령', '청구서수령방법_K톡', '청구서수령방법_당사멤버십', '최종카드론_신청경로코드_None', '최종카드론_신청경로코드_2', '최종카드론_신청경로코드_7', '최종카드론_신청경로코드_1', '최종카드론_신청경로코드_8', '최종카드론_신청경로코드_D', '카드론동의여부_Y', '카드론동의여부_N', '캠페인접촉건수_R12M_5회 이상', '캠페인접촉건수_R12M_1회 이상', '캠페인접촉건수_R12M_10회 이상', '캠페인접촉건수_R12M_15회 이상', '캠페인접촉건수_R12M_20회 이상', '캠페인접촉건수_R12M_25회 이상', '캠페인접촉일수_R12M_5일 이상', '캠페인접촉일수_R12M_1일 이상', '캠페인접촉일수_R12M_10일 이상', '캠페인접촉일수_R12M_15일 이상', '캠페인접촉일수_R12M_20일 이상', '한도심사요청건수_0회', '한도심사요청건수_1회이상', '한도증액횟수_R12M_1회이상', '한도증액횟수_R12M_0회', '할인건수_B0M_1회 이상', '할인건수_B0M_10회 이상', '할인건수_R3M_1회 이상', '할인건수_R3M_10회 이상', '할인건수_R3M_20회 이상', '할인건수_R3M_30회 이상', '할인건수_R3M_40회 이상', '연체일수_B2M_0', '연체일수_B2M_1', '연체일수_B1M_0', '연체일수_B1M_1', '연체일수_B1M_2', '최종연체회차_0', '최종연체회차_1', '연체일수_최근_0', '연체일수_최근_1', '연체일수_최근_2', 'rv최초시작후경과일_0', '최종카드론이용경과월_100', '최초카드론이용경과월_999', '최종이용일자_CA_0', '최종이용일자_기본_0', '최종이용일자_신판_0', '최종이용일자_일시불_0', '최종이용일자_체크_0', '최종이용일자_카드론_0', '최종이용일자_할부_0']\nexpected _3순위여유업종_운동, 할부금액_부분_6M_R12M in input data\ntraining data did not have the following fields: 연체잔액_대환론_B0M"
     ]
    }
   ],
   "source": [
    "import os\n",
    "import xgboost as xgb\n",
    "import warnings\n",
    "warnings.filterwarnings(\"ignore\")\n",
    "from sklearn.model_selection import train_test_split\n",
    "import numpy as np\n",
    "from sklearn.metrics import accuracy_score,f1_score,confusion_matrix\n",
    "import datetime\n",
    "x_te = xgb.DMatrix(x_te)\n",
    "model_list=os.listdir(\"ppp/open/models4_up\")\n",
    "t1a=[]\n",
    "for i in model_list:\n",
    "    print(i)\n",
    "    xgb_model=xgb.Booster()\n",
    "    xgb_model.load_model(f\"ppp/open/models4_up/{i}\")\n",
    "    y_pred = xgb_model.predict(x_te)\n",
    "    print(y_pred.max(axis=0))\n",
    "    y_pred=y_pred.argmax(axis=1)\n",
    "    score = f1_score( y_te,y_pred,average=None)\n",
    "    t1a.append([xgb_model,score])\n",
    "    print(score)"
   ]
  },
  {
   "cell_type": "code",
   "execution_count": 14,
   "id": "a5b08daf",
   "metadata": {},
   "outputs": [
    {
     "data": {
      "text/plain": [
       "<xgboost.core.DMatrix at 0x2a682eb0880>"
      ]
     },
     "execution_count": 14,
     "metadata": {},
     "output_type": "execute_result"
    }
   ],
   "source": [
    "x_te"
   ]
  },
  {
   "cell_type": "code",
   "execution_count": 17,
   "id": "87697a15",
   "metadata": {},
   "outputs": [],
   "source": [
    "del x_tr"
   ]
  },
  {
   "cell_type": "code",
   "execution_count": 16,
   "id": "e3235a76",
   "metadata": {
    "scrolled": true
   },
   "outputs": [],
   "source": [
    "models_05=[]\n",
    "for i in range(5):\n",
    "    models_05.append(list(map(lambda x:x[0],sorted(t1a,key=lambda x : x[1][i] ,reverse=True))))"
   ]
  },
  {
   "cell_type": "code",
   "execution_count": 41,
   "id": "ee3d2261",
   "metadata": {},
   "outputs": [
    {
     "data": {
      "text/plain": [
       "(5, 417486)"
      ]
     },
     "execution_count": 41,
     "metadata": {},
     "output_type": "execute_result"
    }
   ],
   "source": [
    "#x14=x14.fillna(mean123)\n",
    "#x14 = xgb.DMatrix(x14)\n",
    "ans_pro_l=[]\n",
    "for k1qw in range(5):\n",
    "    for iin,i in enumerate(models_05[k1qw]):\n",
    "        pred13=i.predict(x_te)\n",
    "        if iin==0:\n",
    "            pred44=pred13\n",
    "        else:\n",
    "            pred44 = np.where(pred44<pred13,pred13,pred44)\n",
    "    pred13=pred44[:,k1qw]\n",
    "    ans_pro_l.append(pred13)\n",
    "preds13=np.array(ans_pro_l)\n",
    "preds13.shape"
   ]
  },
  {
   "cell_type": "code",
   "execution_count": 43,
   "id": "6fcc592e",
   "metadata": {},
   "outputs": [
    {
     "data": {
      "text/plain": [
       "<matplotlib.collections.PathCollection at 0x1f92003f910>"
      ]
     },
     "execution_count": 43,
     "metadata": {},
     "output_type": "execute_result"
    }
   ],
   "source": [
    "import matplotlib.pyplot as plt\n",
    "%matplotlib qt5\n",
    "\n",
    "for i in np.where(y_te.values[preds13.T[:,0].argsort()]==0)[0]:\n",
    "    plt.plot([i,i],[0,1])\n",
    "plt.scatter(range(len(np.sort(preds13.T[:,0]))),np.sort(preds13.T[:,0]))"
   ]
  },
  {
   "cell_type": "code",
   "execution_count": 47,
   "id": "0e172668",
   "metadata": {},
   "outputs": [
    {
     "data": {
      "text/plain": [
       "array([[1.0242145e-01, 2.6647444e-03, 9.3661177e-01, 6.0345840e-02,\n",
       "        2.8116014e-02],\n",
       "       [1.3927941e-01, 1.5367181e-03, 8.4543693e-01, 1.6173382e-01,\n",
       "        1.9371040e-02],\n",
       "       [8.2693505e-01, 5.5852327e-03, 1.8261866e-01, 1.0231121e-02,\n",
       "        6.1690994e-03],\n",
       "       ...,\n",
       "       [5.9741625e-04, 5.7576923e-04, 9.9319458e-01, 4.7551412e-02,\n",
       "        5.4420922e-03],\n",
       "       [7.8613753e-04, 7.8441435e-04, 5.8040106e-01, 5.8901930e-01,\n",
       "        2.3834951e-02],\n",
       "       [1.1179731e-03, 1.1177225e-03, 5.1634785e-02, 1.0295060e-01,\n",
       "        9.8360014e-01]], dtype=float32)"
      ]
     },
     "execution_count": 47,
     "metadata": {},
     "output_type": "execute_result"
    }
   ],
   "source": [
    "y_pred_all_max=np.where(y_pred_all_max<y_pred,y_pred,y_pred_all_max)\n",
    "y_pred_all_max"
   ]
  },
  {
   "cell_type": "code",
   "execution_count": 14,
   "id": "0bd9c3b7",
   "metadata": {},
   "outputs": [
    {
     "name": "stderr",
     "output_type": "stream",
     "text": [
      "C:\\Users\\607-14\\anaconda3\\lib\\site-packages\\xgboost\\core.py:158: UserWarning: [18:11:31] WARNING: C:\\buildkite-agent\\builds\\buildkite-windows-cpu-autoscaling-group-i-08cbc0333d8d4aae1-1\\xgboost\\xgboost-ci-windows\\src\\c_api\\c_api.cc:1374: Saving model in the UBJSON format as default.  You can use file extension: `json`, `ubj` or `deprecated` to choose between formats.\n",
      "  warnings.warn(smsg, UserWarning)\n"
     ]
    }
   ],
   "source": [
    "model.save_model(f\"ppp/open/models2/118_978_no_pca_min_max_all_data_all{300}_{30}_{10}.model\")\n"
   ]
  },
  {
   "cell_type": "code",
   "execution_count": 14,
   "id": "87dd9037",
   "metadata": {},
   "outputs": [
    {
     "data": {
      "text/html": [
       "<div>\n",
       "<style scoped>\n",
       "    .dataframe tbody tr th:only-of-type {\n",
       "        vertical-align: middle;\n",
       "    }\n",
       "\n",
       "    .dataframe tbody tr th {\n",
       "        vertical-align: top;\n",
       "    }\n",
       "\n",
       "    .dataframe thead th {\n",
       "        text-align: right;\n",
       "    }\n",
       "</style>\n",
       "<table border=\"1\" class=\"dataframe\">\n",
       "  <thead>\n",
       "    <tr style=\"text-align: right;\">\n",
       "      <th></th>\n",
       "      <th>0</th>\n",
       "    </tr>\n",
       "  </thead>\n",
       "  <tbody>\n",
       "    <tr>\n",
       "      <th>남녀구분코드</th>\n",
       "      <td>0.000018</td>\n",
       "    </tr>\n",
       "    <tr>\n",
       "      <th>연령</th>\n",
       "      <td>0.000299</td>\n",
       "    </tr>\n",
       "    <tr>\n",
       "      <th>회원여부_이용가능</th>\n",
       "      <td>0.000009</td>\n",
       "    </tr>\n",
       "    <tr>\n",
       "      <th>회원여부_이용가능_CA</th>\n",
       "      <td>0.000039</td>\n",
       "    </tr>\n",
       "    <tr>\n",
       "      <th>회원여부_이용가능_카드론</th>\n",
       "      <td>0.000035</td>\n",
       "    </tr>\n",
       "    <tr>\n",
       "      <th>...</th>\n",
       "      <td>...</td>\n",
       "    </tr>\n",
       "    <tr>\n",
       "      <th>변동률_잔액_B1M</th>\n",
       "      <td>0.000248</td>\n",
       "    </tr>\n",
       "    <tr>\n",
       "      <th>변동률_잔액_일시불_B1M</th>\n",
       "      <td>0.000272</td>\n",
       "    </tr>\n",
       "    <tr>\n",
       "      <th>변동률_잔액_CA_B1M</th>\n",
       "      <td>0.000120</td>\n",
       "    </tr>\n",
       "    <tr>\n",
       "      <th>혜택수혜율_R3M</th>\n",
       "      <td>0.000244</td>\n",
       "    </tr>\n",
       "    <tr>\n",
       "      <th>혜택수혜율_B0M</th>\n",
       "      <td>0.000202</td>\n",
       "    </tr>\n",
       "  </tbody>\n",
       "</table>\n",
       "<p>855 rows × 1 columns</p>\n",
       "</div>"
      ],
      "text/plain": [
       "                       0\n",
       "남녀구분코드          0.000018\n",
       "연령              0.000299\n",
       "회원여부_이용가능       0.000009\n",
       "회원여부_이용가능_CA    0.000039\n",
       "회원여부_이용가능_카드론   0.000035\n",
       "...                  ...\n",
       "변동률_잔액_B1M      0.000248\n",
       "변동률_잔액_일시불_B1M  0.000272\n",
       "변동률_잔액_CA_B1M   0.000120\n",
       "혜택수혜율_R3M       0.000244\n",
       "혜택수혜율_B0M       0.000202\n",
       "\n",
       "[855 rows x 1 columns]"
      ]
     },
     "execution_count": 14,
     "metadata": {},
     "output_type": "execute_result"
    }
   ],
   "source": [
    "pd.DataFrame(model.feature_importances_,x_tr.columns)"
   ]
  },
  {
   "cell_type": "code",
   "execution_count": 20,
   "id": "cd671b0d",
   "metadata": {},
   "outputs": [],
   "source": [
    "import matplotlib.pyplot as plt\n",
    "import pandas as pd\n",
    "import seaborn as sns\n",
    "import statsmodels.api as sm\n",
    "from statsmodels.stats.outliers_influence import variance_inflation_factor\n"
   ]
  },
  {
   "cell_type": "code",
   "execution_count": 22,
   "id": "36960ab6",
   "metadata": {},
   "outputs": [
    {
     "data": {
      "text/html": [
       "<div>\n",
       "<style scoped>\n",
       "    .dataframe tbody tr th:only-of-type {\n",
       "        vertical-align: middle;\n",
       "    }\n",
       "\n",
       "    .dataframe tbody tr th {\n",
       "        vertical-align: top;\n",
       "    }\n",
       "\n",
       "    .dataframe thead th {\n",
       "        text-align: right;\n",
       "    }\n",
       "</style>\n",
       "<table border=\"1\" class=\"dataframe\">\n",
       "  <thead>\n",
       "    <tr style=\"text-align: right;\">\n",
       "      <th></th>\n",
       "      <th>CA이자율_할인전</th>\n",
       "      <th>CA한도금액</th>\n",
       "      <th>CL이자율_할인전</th>\n",
       "      <th>IB문의건수_BL_R6M</th>\n",
       "      <th>IB문의건수_CA_R6M</th>\n",
       "      <th>IB문의건수_CL_RV_B0M</th>\n",
       "      <th>IB문의건수_CL_RV_R6M</th>\n",
       "      <th>IB문의건수_CS_B0M</th>\n",
       "      <th>IB문의건수_CS_R6M</th>\n",
       "      <th>IB문의건수_SMS_R6M</th>\n",
       "      <th>...</th>\n",
       "      <th>rv최초시작후경과일_0</th>\n",
       "      <th>최종카드론이용경과월_100</th>\n",
       "      <th>최초카드론이용경과월_999</th>\n",
       "      <th>최종이용일자_CA_0</th>\n",
       "      <th>최종이용일자_기본_0</th>\n",
       "      <th>최종이용일자_신판_0</th>\n",
       "      <th>최종이용일자_일시불_0</th>\n",
       "      <th>최종이용일자_체크_0</th>\n",
       "      <th>최종이용일자_카드론_0</th>\n",
       "      <th>최종이용일자_할부_0</th>\n",
       "    </tr>\n",
       "  </thead>\n",
       "  <tbody>\n",
       "    <tr>\n",
       "      <th>301160</th>\n",
       "      <td>14.611353</td>\n",
       "      <td>55012.0</td>\n",
       "      <td>14.833936</td>\n",
       "      <td>0.0</td>\n",
       "      <td>0.0</td>\n",
       "      <td>0.0</td>\n",
       "      <td>0.0</td>\n",
       "      <td>0.0</td>\n",
       "      <td>0.0</td>\n",
       "      <td>0.0</td>\n",
       "      <td>...</td>\n",
       "      <td>1.0</td>\n",
       "      <td>1.0</td>\n",
       "      <td>1.0</td>\n",
       "      <td>0.0</td>\n",
       "      <td>0.0</td>\n",
       "      <td>0.0</td>\n",
       "      <td>0.0</td>\n",
       "      <td>1.0</td>\n",
       "      <td>1.0</td>\n",
       "      <td>0.0</td>\n",
       "    </tr>\n",
       "    <tr>\n",
       "      <th>42909</th>\n",
       "      <td>22.001406</td>\n",
       "      <td>51955.0</td>\n",
       "      <td>17.844288</td>\n",
       "      <td>0.0</td>\n",
       "      <td>0.0</td>\n",
       "      <td>0.0</td>\n",
       "      <td>0.0</td>\n",
       "      <td>0.0</td>\n",
       "      <td>0.0</td>\n",
       "      <td>0.0</td>\n",
       "      <td>...</td>\n",
       "      <td>0.0</td>\n",
       "      <td>0.0</td>\n",
       "      <td>0.0</td>\n",
       "      <td>0.0</td>\n",
       "      <td>0.0</td>\n",
       "      <td>0.0</td>\n",
       "      <td>0.0</td>\n",
       "      <td>1.0</td>\n",
       "      <td>0.0</td>\n",
       "      <td>0.0</td>\n",
       "    </tr>\n",
       "    <tr>\n",
       "      <th>49631</th>\n",
       "      <td>14.221057</td>\n",
       "      <td>58716.0</td>\n",
       "      <td>14.868122</td>\n",
       "      <td>0.0</td>\n",
       "      <td>0.0</td>\n",
       "      <td>0.0</td>\n",
       "      <td>0.0</td>\n",
       "      <td>0.0</td>\n",
       "      <td>0.0</td>\n",
       "      <td>0.0</td>\n",
       "      <td>...</td>\n",
       "      <td>1.0</td>\n",
       "      <td>1.0</td>\n",
       "      <td>1.0</td>\n",
       "      <td>1.0</td>\n",
       "      <td>0.0</td>\n",
       "      <td>0.0</td>\n",
       "      <td>0.0</td>\n",
       "      <td>1.0</td>\n",
       "      <td>1.0</td>\n",
       "      <td>0.0</td>\n",
       "    </tr>\n",
       "    <tr>\n",
       "      <th>288676</th>\n",
       "      <td>21.886489</td>\n",
       "      <td>51119.0</td>\n",
       "      <td>17.427597</td>\n",
       "      <td>0.0</td>\n",
       "      <td>0.0</td>\n",
       "      <td>0.0</td>\n",
       "      <td>0.0</td>\n",
       "      <td>0.0</td>\n",
       "      <td>0.0</td>\n",
       "      <td>0.0</td>\n",
       "      <td>...</td>\n",
       "      <td>1.0</td>\n",
       "      <td>0.0</td>\n",
       "      <td>0.0</td>\n",
       "      <td>0.0</td>\n",
       "      <td>0.0</td>\n",
       "      <td>0.0</td>\n",
       "      <td>0.0</td>\n",
       "      <td>0.0</td>\n",
       "      <td>0.0</td>\n",
       "      <td>0.0</td>\n",
       "    </tr>\n",
       "    <tr>\n",
       "      <th>5253</th>\n",
       "      <td>16.939709</td>\n",
       "      <td>53971.0</td>\n",
       "      <td>15.579195</td>\n",
       "      <td>0.0</td>\n",
       "      <td>0.0</td>\n",
       "      <td>0.0</td>\n",
       "      <td>0.0</td>\n",
       "      <td>0.0</td>\n",
       "      <td>0.0</td>\n",
       "      <td>0.0</td>\n",
       "      <td>...</td>\n",
       "      <td>1.0</td>\n",
       "      <td>0.0</td>\n",
       "      <td>0.0</td>\n",
       "      <td>0.0</td>\n",
       "      <td>0.0</td>\n",
       "      <td>0.0</td>\n",
       "      <td>0.0</td>\n",
       "      <td>1.0</td>\n",
       "      <td>0.0</td>\n",
       "      <td>0.0</td>\n",
       "    </tr>\n",
       "    <tr>\n",
       "      <th>...</th>\n",
       "      <td>...</td>\n",
       "      <td>...</td>\n",
       "      <td>...</td>\n",
       "      <td>...</td>\n",
       "      <td>...</td>\n",
       "      <td>...</td>\n",
       "      <td>...</td>\n",
       "      <td>...</td>\n",
       "      <td>...</td>\n",
       "      <td>...</td>\n",
       "      <td>...</td>\n",
       "      <td>...</td>\n",
       "      <td>...</td>\n",
       "      <td>...</td>\n",
       "      <td>...</td>\n",
       "      <td>...</td>\n",
       "      <td>...</td>\n",
       "      <td>...</td>\n",
       "      <td>...</td>\n",
       "      <td>...</td>\n",
       "      <td>...</td>\n",
       "    </tr>\n",
       "    <tr>\n",
       "      <th>399391</th>\n",
       "      <td>21.985734</td>\n",
       "      <td>31916.0</td>\n",
       "      <td>18.686949</td>\n",
       "      <td>0.0</td>\n",
       "      <td>0.0</td>\n",
       "      <td>0.0</td>\n",
       "      <td>0.0</td>\n",
       "      <td>0.0</td>\n",
       "      <td>0.0</td>\n",
       "      <td>0.0</td>\n",
       "      <td>...</td>\n",
       "      <td>1.0</td>\n",
       "      <td>0.0</td>\n",
       "      <td>0.0</td>\n",
       "      <td>0.0</td>\n",
       "      <td>0.0</td>\n",
       "      <td>0.0</td>\n",
       "      <td>0.0</td>\n",
       "      <td>1.0</td>\n",
       "      <td>0.0</td>\n",
       "      <td>0.0</td>\n",
       "    </tr>\n",
       "    <tr>\n",
       "      <th>315619</th>\n",
       "      <td>15.291350</td>\n",
       "      <td>6516.0</td>\n",
       "      <td>16.291362</td>\n",
       "      <td>0.0</td>\n",
       "      <td>0.0</td>\n",
       "      <td>0.0</td>\n",
       "      <td>0.0</td>\n",
       "      <td>0.0</td>\n",
       "      <td>0.0</td>\n",
       "      <td>0.0</td>\n",
       "      <td>...</td>\n",
       "      <td>0.0</td>\n",
       "      <td>1.0</td>\n",
       "      <td>1.0</td>\n",
       "      <td>1.0</td>\n",
       "      <td>0.0</td>\n",
       "      <td>0.0</td>\n",
       "      <td>0.0</td>\n",
       "      <td>0.0</td>\n",
       "      <td>1.0</td>\n",
       "      <td>0.0</td>\n",
       "    </tr>\n",
       "    <tr>\n",
       "      <th>67231</th>\n",
       "      <td>18.218832</td>\n",
       "      <td>3169.0</td>\n",
       "      <td>15.635970</td>\n",
       "      <td>0.0</td>\n",
       "      <td>0.0</td>\n",
       "      <td>0.0</td>\n",
       "      <td>0.0</td>\n",
       "      <td>0.0</td>\n",
       "      <td>0.0</td>\n",
       "      <td>0.0</td>\n",
       "      <td>...</td>\n",
       "      <td>1.0</td>\n",
       "      <td>1.0</td>\n",
       "      <td>1.0</td>\n",
       "      <td>0.0</td>\n",
       "      <td>0.0</td>\n",
       "      <td>0.0</td>\n",
       "      <td>0.0</td>\n",
       "      <td>0.0</td>\n",
       "      <td>1.0</td>\n",
       "      <td>0.0</td>\n",
       "    </tr>\n",
       "    <tr>\n",
       "      <th>379629</th>\n",
       "      <td>14.656130</td>\n",
       "      <td>0.0</td>\n",
       "      <td>11.897793</td>\n",
       "      <td>0.0</td>\n",
       "      <td>0.0</td>\n",
       "      <td>0.0</td>\n",
       "      <td>0.0</td>\n",
       "      <td>0.0</td>\n",
       "      <td>0.0</td>\n",
       "      <td>0.0</td>\n",
       "      <td>...</td>\n",
       "      <td>0.0</td>\n",
       "      <td>1.0</td>\n",
       "      <td>1.0</td>\n",
       "      <td>1.0</td>\n",
       "      <td>0.0</td>\n",
       "      <td>0.0</td>\n",
       "      <td>0.0</td>\n",
       "      <td>1.0</td>\n",
       "      <td>1.0</td>\n",
       "      <td>1.0</td>\n",
       "    </tr>\n",
       "    <tr>\n",
       "      <th>306713</th>\n",
       "      <td>22.136028</td>\n",
       "      <td>8192.0</td>\n",
       "      <td>18.092937</td>\n",
       "      <td>0.0</td>\n",
       "      <td>0.0</td>\n",
       "      <td>0.0</td>\n",
       "      <td>0.0</td>\n",
       "      <td>0.0</td>\n",
       "      <td>0.0</td>\n",
       "      <td>0.0</td>\n",
       "      <td>...</td>\n",
       "      <td>1.0</td>\n",
       "      <td>1.0</td>\n",
       "      <td>1.0</td>\n",
       "      <td>0.0</td>\n",
       "      <td>0.0</td>\n",
       "      <td>0.0</td>\n",
       "      <td>0.0</td>\n",
       "      <td>0.0</td>\n",
       "      <td>1.0</td>\n",
       "      <td>0.0</td>\n",
       "    </tr>\n",
       "  </tbody>\n",
       "</table>\n",
       "<p>168180 rows × 968 columns</p>\n",
       "</div>"
      ],
      "text/plain": [
       "        CA이자율_할인전   CA한도금액  CL이자율_할인전  IB문의건수_BL_R6M  IB문의건수_CA_R6M  \\\n",
       "301160  14.611353  55012.0  14.833936            0.0            0.0   \n",
       "42909   22.001406  51955.0  17.844288            0.0            0.0   \n",
       "49631   14.221057  58716.0  14.868122            0.0            0.0   \n",
       "288676  21.886489  51119.0  17.427597            0.0            0.0   \n",
       "5253    16.939709  53971.0  15.579195            0.0            0.0   \n",
       "...           ...      ...        ...            ...            ...   \n",
       "399391  21.985734  31916.0  18.686949            0.0            0.0   \n",
       "315619  15.291350   6516.0  16.291362            0.0            0.0   \n",
       "67231   18.218832   3169.0  15.635970            0.0            0.0   \n",
       "379629  14.656130      0.0  11.897793            0.0            0.0   \n",
       "306713  22.136028   8192.0  18.092937            0.0            0.0   \n",
       "\n",
       "        IB문의건수_CL_RV_B0M  IB문의건수_CL_RV_R6M  IB문의건수_CS_B0M  IB문의건수_CS_R6M  \\\n",
       "301160               0.0               0.0            0.0            0.0   \n",
       "42909                0.0               0.0            0.0            0.0   \n",
       "49631                0.0               0.0            0.0            0.0   \n",
       "288676               0.0               0.0            0.0            0.0   \n",
       "5253                 0.0               0.0            0.0            0.0   \n",
       "...                  ...               ...            ...            ...   \n",
       "399391               0.0               0.0            0.0            0.0   \n",
       "315619               0.0               0.0            0.0            0.0   \n",
       "67231                0.0               0.0            0.0            0.0   \n",
       "379629               0.0               0.0            0.0            0.0   \n",
       "306713               0.0               0.0            0.0            0.0   \n",
       "\n",
       "        IB문의건수_SMS_R6M  ...  rv최초시작후경과일_0  최종카드론이용경과월_100  최초카드론이용경과월_999  \\\n",
       "301160             0.0  ...           1.0             1.0             1.0   \n",
       "42909              0.0  ...           0.0             0.0             0.0   \n",
       "49631              0.0  ...           1.0             1.0             1.0   \n",
       "288676             0.0  ...           1.0             0.0             0.0   \n",
       "5253               0.0  ...           1.0             0.0             0.0   \n",
       "...                ...  ...           ...             ...             ...   \n",
       "399391             0.0  ...           1.0             0.0             0.0   \n",
       "315619             0.0  ...           0.0             1.0             1.0   \n",
       "67231              0.0  ...           1.0             1.0             1.0   \n",
       "379629             0.0  ...           0.0             1.0             1.0   \n",
       "306713             0.0  ...           1.0             1.0             1.0   \n",
       "\n",
       "        최종이용일자_CA_0  최종이용일자_기본_0  최종이용일자_신판_0  최종이용일자_일시불_0  최종이용일자_체크_0  \\\n",
       "301160          0.0          0.0          0.0           0.0          1.0   \n",
       "42909           0.0          0.0          0.0           0.0          1.0   \n",
       "49631           1.0          0.0          0.0           0.0          1.0   \n",
       "288676          0.0          0.0          0.0           0.0          0.0   \n",
       "5253            0.0          0.0          0.0           0.0          1.0   \n",
       "...             ...          ...          ...           ...          ...   \n",
       "399391          0.0          0.0          0.0           0.0          1.0   \n",
       "315619          1.0          0.0          0.0           0.0          0.0   \n",
       "67231           0.0          0.0          0.0           0.0          0.0   \n",
       "379629          1.0          0.0          0.0           0.0          1.0   \n",
       "306713          0.0          0.0          0.0           0.0          0.0   \n",
       "\n",
       "        최종이용일자_카드론_0  최종이용일자_할부_0  \n",
       "301160           1.0          0.0  \n",
       "42909            0.0          0.0  \n",
       "49631            1.0          0.0  \n",
       "288676           0.0          0.0  \n",
       "5253             0.0          0.0  \n",
       "...              ...          ...  \n",
       "399391           0.0          0.0  \n",
       "315619           1.0          0.0  \n",
       "67231            1.0          0.0  \n",
       "379629           1.0          1.0  \n",
       "306713           1.0          0.0  \n",
       "\n",
       "[168180 rows x 968 columns]"
      ]
     },
     "execution_count": 22,
     "metadata": {},
     "output_type": "execute_result"
    }
   ],
   "source": [
    "x"
   ]
  },
  {
   "cell_type": "code",
   "execution_count": 30,
   "id": "c4e61392",
   "metadata": {},
   "outputs": [],
   "source": [
    "xp=x_tr.values"
   ]
  },
  {
   "cell_type": "code",
   "execution_count": 39,
   "id": "00fa8e84",
   "metadata": {},
   "outputs": [],
   "source": [
    "#del x_te\n",
    "del x"
   ]
  },
  {
   "cell_type": "code",
   "execution_count": 35,
   "id": "9df468bf",
   "metadata": {},
   "outputs": [
    {
     "data": {
      "text/plain": [
       "{'CA이자율_할인전': 16.13038792638384,\n",
       " 'CA한도금액': 10.977657458238783,\n",
       " 'CL이자율_할인전': 3.664368479367896}"
      ]
     },
     "execution_count": 35,
     "metadata": {},
     "output_type": "execute_result"
    }
   ],
   "source": [
    "ppq"
   ]
  },
  {
   "cell_type": "code",
   "execution_count": 42,
   "id": "961f6a1f",
   "metadata": {
    "scrolled": true
   },
   "outputs": [
    {
     "name": "stdout",
     "output_type": "stream",
     "text": [
      "IB문의건수_BL_R6M 16.13038792638384\n",
      "IB문의건수_CA_R6M 10.977657458238783\n",
      "IB문의건수_CL_RV_B0M 3.664368479367896\n",
      "IB문의건수_CL_RV_R6M 1.0522678136464236\n",
      "IB문의건수_CS_B0M 1.0501948517208586\n",
      "IB문의건수_CS_R6M 1.330794973653068\n",
      "IB문의건수_SMS_R6M 2.0656161847676633\n",
      "IB문의건수_결제_R6M 1.2448616628471183\n",
      "IB문의건수_결제일변경_R6M 1.3252354297856648\n",
      "IB문의건수_부대서비스_R6M 1.0464443003142716\n",
      "IB문의건수_분실도난_R6M 1.1448422986154048\n",
      "IB문의건수_비밀번호_R6M 1.098845344908749\n",
      "IB문의건수_사용승인내역_B0M 1.0102684674756977\n",
      "IB문의건수_사용승인내역_R6M 1.0843601909230047\n",
      "IB문의건수_선결제_B0M 1.0307498113912057\n",
      "IB문의건수_선결제_R6M 1.0275421621530192\n",
      "IB문의건수_정보변경_R6M 1.4513172275979616\n",
      "IB문의건수_카드발급_R6M 1.3457761004604798\n",
      "IB문의건수_포인트_R6M 2.9003539719002576\n",
      "IB문의건수_한도_R6M 1.1254135696655154\n",
      "IB문의건수_할부_R6M 1.2111628935714729\n",
      "RP건수_B0M 1.0219908957158674\n",
      "RP건수_가스_B0M 1.1519993558484307\n",
      "RP건수_교통_B0M 1.0943310499117933\n"
     ]
    },
    {
     "name": "stderr",
     "output_type": "stream",
     "text": [
      "C:\\Users\\607-14\\anaconda3\\lib\\site-packages\\statsmodels\\stats\\outliers_influence.py:193: RuntimeWarning: divide by zero encountered in double_scalars\n",
      "  vif = 1. / (1. - r_squared_i)\n"
     ]
    },
    {
     "name": "stdout",
     "output_type": "stream",
     "text": [
      "RP건수_렌탈_B0M inf\n",
      "RP건수_보험_B0M inf\n",
      "RP건수_아파트_B0M inf\n",
      "RP건수_전기_B0M inf\n",
      "RP건수_제휴사서비스직접판매_B0M inf\n",
      "RP건수_통신_B0M inf\n",
      "RP건수_학습비_B0M inf\n",
      "RP금액_B0M inf\n",
      "RP유형건수_B0M inf\n",
      "RP후경과월 inf\n",
      "RP후경과월_가스 5.254219087176102\n",
      "RP후경과월_교통 10.782046797269368\n",
      "RP후경과월_렌탈 6.485154527748872\n",
      "RP후경과월_보험 10.168427682454478\n",
      "RP후경과월_아파트 10.869259323555472\n",
      "RP후경과월_전기 5.471438967608883\n",
      "RP후경과월_제휴사서비스직접판매 7.100171244949392\n",
      "RP후경과월_통신 235.0432514134447\n",
      "RP후경과월_학습비 6.511930493567021\n",
      "RV_최대잔액_R12M 186.2170942652075\n",
      "RV_최대잔액_R3M 27.614251105831546\n",
      "RV_최대잔액_R6M 3.434926598797536\n",
      "RV_평균잔액_R12M 41.9219494401701\n",
      "RV_평균잔액_R3M 67.72833927157782\n",
      "RV_평균잔액_R6M 71.28097616365443\n",
      "RV신청일자 28.095293515161472\n",
      "RV약정청구율 81.99868244106273\n",
      "RV일시불이자율_할인전 44.82770803604903\n",
      "RV최소결제비율 11.983994352707088\n",
      "RV현금서비스이자율_할인전 29.75534549121533\n",
      "_1순위교통업종_이용금액 17.25021537321505\n",
      "_1순위납부업종_이용금액 3.4437223683675646\n",
      "_1순위쇼핑업종_이용금액 13.47747189958621\n",
      "_1순위업종_이용금액 665.2347377554524\n",
      "_1순위여유업종_이용금액 4832.384536000017\n",
      "_1순위카드이용건수 698.3825790467595\n",
      "_1순위카드이용금액 13.072127358791873\n",
      "_2순위교통업종_이용금액 4623.924908033269\n",
      "_2순위납부업종_이용금액 126.96915388193605\n",
      "_2순위쇼핑업종_이용금액 121.45939195747192\n",
      "_2순위업종_이용금액 46.9741804478276\n",
      "_2순위여유업종_이용금액 885.4727040281176\n",
      "_2순위카드이용건수 26.691028487346248\n",
      "_2순위카드이용금액 9.583027341919161\n",
      "_3순위교통업종_이용금액 265.73131428170853\n",
      "_3순위납부업종_이용금액 22.06803407546136\n",
      "_3순위쇼핑업종_이용금액 39.210021863149485\n"
     ]
    },
    {
     "ename": "KeyboardInterrupt",
     "evalue": "",
     "output_type": "error",
     "traceback": [
      "\u001b[1;31m---------------------------------------------------------------------------\u001b[0m",
      "\u001b[1;31mKeyboardInterrupt\u001b[0m                         Traceback (most recent call last)",
      "\u001b[1;32m~\\AppData\\Local\\Temp/ipykernel_8928/1669649088.py\u001b[0m in \u001b[0;36m<module>\u001b[1;34m\u001b[0m\n\u001b[0;32m      1\u001b[0m \u001b[1;31m#ppq={}\u001b[0m\u001b[1;33m\u001b[0m\u001b[1;33m\u001b[0m\u001b[0m\n\u001b[0;32m      2\u001b[0m \u001b[1;32mfor\u001b[0m \u001b[0mi\u001b[0m\u001b[1;33m,\u001b[0m\u001b[0mname\u001b[0m \u001b[1;32min\u001b[0m \u001b[0menumerate\u001b[0m\u001b[1;33m(\u001b[0m\u001b[0mx_tr\u001b[0m\u001b[1;33m.\u001b[0m\u001b[0mcolumns\u001b[0m\u001b[1;33m[\u001b[0m\u001b[1;36m3\u001b[0m\u001b[1;33m:\u001b[0m\u001b[1;33m]\u001b[0m\u001b[1;33m)\u001b[0m\u001b[1;33m:\u001b[0m\u001b[1;33m\u001b[0m\u001b[1;33m\u001b[0m\u001b[0m\n\u001b[1;32m----> 3\u001b[1;33m     \u001b[0mppq\u001b[0m\u001b[1;33m[\u001b[0m\u001b[0mname\u001b[0m\u001b[1;33m]\u001b[0m \u001b[1;33m=\u001b[0m \u001b[0mvariance_inflation_factor\u001b[0m\u001b[1;33m(\u001b[0m\u001b[0mxp\u001b[0m\u001b[1;33m,\u001b[0m \u001b[0mi\u001b[0m\u001b[1;33m)\u001b[0m\u001b[1;33m\u001b[0m\u001b[1;33m\u001b[0m\u001b[0m\n\u001b[0m\u001b[0;32m      4\u001b[0m     \u001b[0mprint\u001b[0m\u001b[1;33m(\u001b[0m\u001b[0mname\u001b[0m\u001b[1;33m,\u001b[0m\u001b[0mppq\u001b[0m\u001b[1;33m[\u001b[0m\u001b[0mname\u001b[0m\u001b[1;33m]\u001b[0m\u001b[1;33m)\u001b[0m\u001b[1;33m\u001b[0m\u001b[1;33m\u001b[0m\u001b[0m\n",
      "\u001b[1;32m~\\anaconda3\\lib\\site-packages\\statsmodels\\stats\\outliers_influence.py\u001b[0m in \u001b[0;36mvariance_inflation_factor\u001b[1;34m(exog, exog_idx)\u001b[0m\n\u001b[0;32m    190\u001b[0m     \u001b[0mmask\u001b[0m \u001b[1;33m=\u001b[0m \u001b[0mnp\u001b[0m\u001b[1;33m.\u001b[0m\u001b[0marange\u001b[0m\u001b[1;33m(\u001b[0m\u001b[0mk_vars\u001b[0m\u001b[1;33m)\u001b[0m \u001b[1;33m!=\u001b[0m \u001b[0mexog_idx\u001b[0m\u001b[1;33m\u001b[0m\u001b[1;33m\u001b[0m\u001b[0m\n\u001b[0;32m    191\u001b[0m     \u001b[0mx_noti\u001b[0m \u001b[1;33m=\u001b[0m \u001b[0mexog\u001b[0m\u001b[1;33m[\u001b[0m\u001b[1;33m:\u001b[0m\u001b[1;33m,\u001b[0m \u001b[0mmask\u001b[0m\u001b[1;33m]\u001b[0m\u001b[1;33m\u001b[0m\u001b[1;33m\u001b[0m\u001b[0m\n\u001b[1;32m--> 192\u001b[1;33m     \u001b[0mr_squared_i\u001b[0m \u001b[1;33m=\u001b[0m \u001b[0mOLS\u001b[0m\u001b[1;33m(\u001b[0m\u001b[0mx_i\u001b[0m\u001b[1;33m,\u001b[0m \u001b[0mx_noti\u001b[0m\u001b[1;33m)\u001b[0m\u001b[1;33m.\u001b[0m\u001b[0mfit\u001b[0m\u001b[1;33m(\u001b[0m\u001b[1;33m)\u001b[0m\u001b[1;33m.\u001b[0m\u001b[0mrsquared\u001b[0m\u001b[1;33m\u001b[0m\u001b[1;33m\u001b[0m\u001b[0m\n\u001b[0m\u001b[0;32m    193\u001b[0m     \u001b[0mvif\u001b[0m \u001b[1;33m=\u001b[0m \u001b[1;36m1.\u001b[0m \u001b[1;33m/\u001b[0m \u001b[1;33m(\u001b[0m\u001b[1;36m1.\u001b[0m \u001b[1;33m-\u001b[0m \u001b[0mr_squared_i\u001b[0m\u001b[1;33m)\u001b[0m\u001b[1;33m\u001b[0m\u001b[1;33m\u001b[0m\u001b[0m\n\u001b[0;32m    194\u001b[0m     \u001b[1;32mreturn\u001b[0m \u001b[0mvif\u001b[0m\u001b[1;33m\u001b[0m\u001b[1;33m\u001b[0m\u001b[0m\n",
      "\u001b[1;32m~\\anaconda3\\lib\\site-packages\\statsmodels\\regression\\linear_model.py\u001b[0m in \u001b[0;36mfit\u001b[1;34m(self, method, cov_type, cov_kwds, use_t, **kwargs)\u001b[0m\n\u001b[0;32m    303\u001b[0m                     hasattr(self, 'rank')):\n\u001b[0;32m    304\u001b[0m \u001b[1;33m\u001b[0m\u001b[0m\n\u001b[1;32m--> 305\u001b[1;33m                 \u001b[0mself\u001b[0m\u001b[1;33m.\u001b[0m\u001b[0mpinv_wexog\u001b[0m\u001b[1;33m,\u001b[0m \u001b[0msingular_values\u001b[0m \u001b[1;33m=\u001b[0m \u001b[0mpinv_extended\u001b[0m\u001b[1;33m(\u001b[0m\u001b[0mself\u001b[0m\u001b[1;33m.\u001b[0m\u001b[0mwexog\u001b[0m\u001b[1;33m)\u001b[0m\u001b[1;33m\u001b[0m\u001b[1;33m\u001b[0m\u001b[0m\n\u001b[0m\u001b[0;32m    306\u001b[0m                 self.normalized_cov_params = np.dot(\n\u001b[0;32m    307\u001b[0m                     self.pinv_wexog, np.transpose(self.pinv_wexog))\n",
      "\u001b[1;32m~\\anaconda3\\lib\\site-packages\\statsmodels\\tools\\tools.py\u001b[0m in \u001b[0;36mpinv_extended\u001b[1;34m(x, rcond)\u001b[0m\n\u001b[0;32m    405\u001b[0m     \u001b[0mx\u001b[0m \u001b[1;33m=\u001b[0m \u001b[0mnp\u001b[0m\u001b[1;33m.\u001b[0m\u001b[0masarray\u001b[0m\u001b[1;33m(\u001b[0m\u001b[0mx\u001b[0m\u001b[1;33m)\u001b[0m\u001b[1;33m\u001b[0m\u001b[1;33m\u001b[0m\u001b[0m\n\u001b[0;32m    406\u001b[0m     \u001b[0mx\u001b[0m \u001b[1;33m=\u001b[0m \u001b[0mx\u001b[0m\u001b[1;33m.\u001b[0m\u001b[0mconjugate\u001b[0m\u001b[1;33m(\u001b[0m\u001b[1;33m)\u001b[0m\u001b[1;33m\u001b[0m\u001b[1;33m\u001b[0m\u001b[0m\n\u001b[1;32m--> 407\u001b[1;33m     \u001b[0mu\u001b[0m\u001b[1;33m,\u001b[0m \u001b[0ms\u001b[0m\u001b[1;33m,\u001b[0m \u001b[0mvt\u001b[0m \u001b[1;33m=\u001b[0m \u001b[0mnp\u001b[0m\u001b[1;33m.\u001b[0m\u001b[0mlinalg\u001b[0m\u001b[1;33m.\u001b[0m\u001b[0msvd\u001b[0m\u001b[1;33m(\u001b[0m\u001b[0mx\u001b[0m\u001b[1;33m,\u001b[0m \u001b[1;32mFalse\u001b[0m\u001b[1;33m)\u001b[0m\u001b[1;33m\u001b[0m\u001b[1;33m\u001b[0m\u001b[0m\n\u001b[0m\u001b[0;32m    408\u001b[0m     \u001b[0ms_orig\u001b[0m \u001b[1;33m=\u001b[0m \u001b[0mnp\u001b[0m\u001b[1;33m.\u001b[0m\u001b[0mcopy\u001b[0m\u001b[1;33m(\u001b[0m\u001b[0ms\u001b[0m\u001b[1;33m)\u001b[0m\u001b[1;33m\u001b[0m\u001b[1;33m\u001b[0m\u001b[0m\n\u001b[0;32m    409\u001b[0m     \u001b[0mm\u001b[0m \u001b[1;33m=\u001b[0m \u001b[0mu\u001b[0m\u001b[1;33m.\u001b[0m\u001b[0mshape\u001b[0m\u001b[1;33m[\u001b[0m\u001b[1;36m0\u001b[0m\u001b[1;33m]\u001b[0m\u001b[1;33m\u001b[0m\u001b[1;33m\u001b[0m\u001b[0m\n",
      "\u001b[1;32m~\\anaconda3\\lib\\site-packages\\numpy\\core\\overrides.py\u001b[0m in \u001b[0;36msvd\u001b[1;34m(*args, **kwargs)\u001b[0m\n",
      "\u001b[1;32m~\\anaconda3\\lib\\site-packages\\numpy\\linalg\\linalg.py\u001b[0m in \u001b[0;36msvd\u001b[1;34m(a, full_matrices, compute_uv, hermitian)\u001b[0m\n\u001b[0;32m   1646\u001b[0m \u001b[1;33m\u001b[0m\u001b[0m\n\u001b[0;32m   1647\u001b[0m         \u001b[0msignature\u001b[0m \u001b[1;33m=\u001b[0m \u001b[1;34m'D->DdD'\u001b[0m \u001b[1;32mif\u001b[0m \u001b[0misComplexType\u001b[0m\u001b[1;33m(\u001b[0m\u001b[0mt\u001b[0m\u001b[1;33m)\u001b[0m \u001b[1;32melse\u001b[0m \u001b[1;34m'd->ddd'\u001b[0m\u001b[1;33m\u001b[0m\u001b[1;33m\u001b[0m\u001b[0m\n\u001b[1;32m-> 1648\u001b[1;33m         \u001b[0mu\u001b[0m\u001b[1;33m,\u001b[0m \u001b[0ms\u001b[0m\u001b[1;33m,\u001b[0m \u001b[0mvh\u001b[0m \u001b[1;33m=\u001b[0m \u001b[0mgufunc\u001b[0m\u001b[1;33m(\u001b[0m\u001b[0ma\u001b[0m\u001b[1;33m,\u001b[0m \u001b[0msignature\u001b[0m\u001b[1;33m=\u001b[0m\u001b[0msignature\u001b[0m\u001b[1;33m,\u001b[0m \u001b[0mextobj\u001b[0m\u001b[1;33m=\u001b[0m\u001b[0mextobj\u001b[0m\u001b[1;33m)\u001b[0m\u001b[1;33m\u001b[0m\u001b[1;33m\u001b[0m\u001b[0m\n\u001b[0m\u001b[0;32m   1649\u001b[0m         \u001b[0mu\u001b[0m \u001b[1;33m=\u001b[0m \u001b[0mu\u001b[0m\u001b[1;33m.\u001b[0m\u001b[0mastype\u001b[0m\u001b[1;33m(\u001b[0m\u001b[0mresult_t\u001b[0m\u001b[1;33m,\u001b[0m \u001b[0mcopy\u001b[0m\u001b[1;33m=\u001b[0m\u001b[1;32mFalse\u001b[0m\u001b[1;33m)\u001b[0m\u001b[1;33m\u001b[0m\u001b[1;33m\u001b[0m\u001b[0m\n\u001b[0;32m   1650\u001b[0m         \u001b[0ms\u001b[0m \u001b[1;33m=\u001b[0m \u001b[0ms\u001b[0m\u001b[1;33m.\u001b[0m\u001b[0mastype\u001b[0m\u001b[1;33m(\u001b[0m\u001b[0m_realType\u001b[0m\u001b[1;33m(\u001b[0m\u001b[0mresult_t\u001b[0m\u001b[1;33m)\u001b[0m\u001b[1;33m,\u001b[0m \u001b[0mcopy\u001b[0m\u001b[1;33m=\u001b[0m\u001b[1;32mFalse\u001b[0m\u001b[1;33m)\u001b[0m\u001b[1;33m\u001b[0m\u001b[1;33m\u001b[0m\u001b[0m\n",
      "\u001b[1;31mKeyboardInterrupt\u001b[0m: "
     ]
    }
   ],
   "source": [
    "#ppq={}\n",
    "for i,name in enumerate(x_tr.columns[3:]):\n",
    "    ppq[name] = variance_inflation_factor(xp, i)\n",
    "    print(name,ppq[name])"
   ]
  },
  {
   "cell_type": "code",
   "execution_count": 27,
   "id": "205a0db1",
   "metadata": {},
   "outputs": [
    {
     "data": {
      "text/plain": [
       "array([[1.46113532e+01, 5.50120000e+04, 1.48339361e+01, ...,\n",
       "        1.00000000e+00, 1.00000000e+00, 0.00000000e+00],\n",
       "       [2.20014056e+01, 5.19550000e+04, 1.78442877e+01, ...,\n",
       "        1.00000000e+00, 0.00000000e+00, 0.00000000e+00],\n",
       "       [1.42210567e+01, 5.87160000e+04, 1.48681216e+01, ...,\n",
       "        1.00000000e+00, 1.00000000e+00, 0.00000000e+00],\n",
       "       ...,\n",
       "       [1.82188319e+01, 3.16900000e+03, 1.56359702e+01, ...,\n",
       "        0.00000000e+00, 1.00000000e+00, 0.00000000e+00],\n",
       "       [1.46561297e+01, 0.00000000e+00, 1.18977930e+01, ...,\n",
       "        1.00000000e+00, 1.00000000e+00, 1.00000000e+00],\n",
       "       [2.21360281e+01, 8.19200000e+03, 1.80929374e+01, ...,\n",
       "        0.00000000e+00, 1.00000000e+00, 0.00000000e+00]])"
      ]
     },
     "execution_count": 27,
     "metadata": {},
     "output_type": "execute_result"
    }
   ],
   "source": [
    "xp.co"
   ]
  },
  {
   "cell_type": "code",
   "execution_count": 14,
   "id": "b0a1cd57",
   "metadata": {},
   "outputs": [
    {
     "name": "stderr",
     "output_type": "stream",
     "text": [
      "C:\\Users\\607-14\\anaconda3\\lib\\site-packages\\xgboost\\core.py:158: UserWarning: [21:00:52] WARNING: C:\\buildkite-agent\\builds\\buildkite-windows-cpu-autoscaling-group-i-08cbc0333d8d4aae1-1\\xgboost\\xgboost-ci-windows\\src\\c_api\\c_api.cc:1374: Saving model in the UBJSON format as default.  You can use file extension: `json`, `ubj` or `deprecated` to choose between formats.\n",
      "  warnings.warn(smsg, UserWarning)\n"
     ]
    }
   ],
   "source": [
    "model.save_model(f\"ppp/open/models2/118_974_no_pca_min_max_all_data_all{200}_{2}_{15}_down_sample.model\")\n"
   ]
  },
  {
   "cell_type": "code",
   "execution_count": null,
   "id": "7eb89bd9",
   "metadata": {},
   "outputs": [],
   "source": []
  },
  {
   "cell_type": "code",
   "execution_count": null,
   "id": "f002f2c2",
   "metadata": {},
   "outputs": [],
   "source": []
  },
  {
   "cell_type": "code",
   "execution_count": 17,
   "id": "86750314",
   "metadata": {},
   "outputs": [
    {
     "ename": "ModuleNotFoundError",
     "evalue": "No module named 'lightgbm'",
     "output_type": "error",
     "traceback": [
      "\u001b[1;31m---------------------------------------------------------------------------\u001b[0m",
      "\u001b[1;31mModuleNotFoundError\u001b[0m                       Traceback (most recent call last)",
      "\u001b[1;32m~\\AppData\\Local\\Temp/ipykernel_3120/2036603988.py\u001b[0m in \u001b[0;36m<module>\u001b[1;34m\u001b[0m\n\u001b[1;32m----> 1\u001b[1;33m \u001b[1;32mimport\u001b[0m \u001b[0mlightgbm\u001b[0m \u001b[1;32mas\u001b[0m \u001b[0mlgb\u001b[0m\u001b[1;33m\u001b[0m\u001b[1;33m\u001b[0m\u001b[0m\n\u001b[0m\u001b[0;32m      2\u001b[0m \u001b[1;32mfrom\u001b[0m \u001b[0msklearn\u001b[0m\u001b[1;33m.\u001b[0m\u001b[0mmodel_selection\u001b[0m \u001b[1;32mimport\u001b[0m \u001b[0mtrain_test_split\u001b[0m\u001b[1;33m\u001b[0m\u001b[1;33m\u001b[0m\u001b[0m\n\u001b[0;32m      3\u001b[0m \u001b[1;32mfrom\u001b[0m \u001b[0msklearn\u001b[0m\u001b[1;33m.\u001b[0m\u001b[0mdatasets\u001b[0m \u001b[1;32mimport\u001b[0m \u001b[0mload_breast_cancer\u001b[0m\u001b[1;33m\u001b[0m\u001b[1;33m\u001b[0m\u001b[0m\n\u001b[0;32m      4\u001b[0m \u001b[1;32mfrom\u001b[0m \u001b[0msklearn\u001b[0m\u001b[1;33m.\u001b[0m\u001b[0mmetrics\u001b[0m \u001b[1;32mimport\u001b[0m \u001b[0maccuracy_score\u001b[0m\u001b[1;33m\u001b[0m\u001b[1;33m\u001b[0m\u001b[0m\n\u001b[0;32m      5\u001b[0m \u001b[1;33m\u001b[0m\u001b[0m\n",
      "\u001b[1;31mModuleNotFoundError\u001b[0m: No module named 'lightgbm'"
     ]
    }
   ],
   "source": [
    "import lightgbm as lgb\n",
    "from sklearn.model_selection import train_test_split\n",
    "from sklearn.datasets import load_breast_cancer\n",
    "from sklearn.metrics import accuracy_score\n",
    "\n",
    "# 데이터 로드 (예시: 유방암 데이터셋)\n",
    "\n",
    "\n",
    "# 학습 데이터와 테스트 데이터 분리\n",
    "#X_train, X_test, y_train, y_test = train_test_split(X, y, test_size=0.2, random_state=42)\n",
    "\n",
    "# LightGBM 데이터셋 객체 생성\n",
    "train_data = lgb.Dataset(x_tr, label=y_tr)\n",
    "test_data = lgb.Dataset(x_te, label=y_te, reference=train_data)\n",
    "\n",
    "# LightGBM 파라미터 설정\n",
    "params = {\n",
    "    'objective': 'multiclass',  # 다중 분류\n",
    "    'metric': 'multi_logloss',  # 다중 클래스 로그 손실\n",
    "    'num_class': 5,  # 클래스 수 (아이리스 데이터셋은 3개 클래스)\n",
    "    'boosting_type': 'gbdt',  # Gradient Boosting 방식\n",
    "    'num_leaves': 31,  # 트리의 최대 잎사귀 수\n",
    "    'learning_rate': 0.05,  # 학습률\n",
    "    'feature_fraction': 0.9,  # 각 트리에서 사용할 feature 비율\n",
    "}\n",
    "\n",
    "\n",
    "# 모델 학습\n",
    "num_round = 100  # 부스팅 round 수\n",
    "bst = lgb.train(params, train_data, num_round, valid_sets=[test_data], early_stopping_rounds=10)\n",
    "\n",
    "# 예측\n",
    "y_pred = bst.predict(x_te, num_iteration=bst.best_iteration)\n",
    "y_pred_label = (y_pred > 0.5).astype(int)  # 확률을 0.5 기준으로 이진화\n",
    "\n",
    "# 정확도 평가\n",
    "accuracy = accuracy_score(y_test, y_pred_label)\n",
    "print(f\"Accuracy: {accuracy:.4f}\")\n"
   ]
  },
  {
   "cell_type": "code",
   "execution_count": null,
   "id": "08079871",
   "metadata": {},
   "outputs": [],
   "source": []
  },
  {
   "cell_type": "code",
   "execution_count": 19,
   "id": "43c2aaa7",
   "metadata": {},
   "outputs": [
    {
     "data": {
      "text/html": [
       "<div>\n",
       "<style scoped>\n",
       "    .dataframe tbody tr th:only-of-type {\n",
       "        vertical-align: middle;\n",
       "    }\n",
       "\n",
       "    .dataframe tbody tr th {\n",
       "        vertical-align: top;\n",
       "    }\n",
       "\n",
       "    .dataframe thead th {\n",
       "        text-align: right;\n",
       "    }\n",
       "</style>\n",
       "<table border=\"1\" class=\"dataframe\">\n",
       "  <thead>\n",
       "    <tr style=\"text-align: right;\">\n",
       "      <th></th>\n",
       "      <th>CA이자율_할인전</th>\n",
       "      <th>CA한도금액</th>\n",
       "      <th>CL이자율_할인전</th>\n",
       "      <th>IB문의건수_BL_R6M</th>\n",
       "      <th>IB문의건수_CA_R6M</th>\n",
       "      <th>IB문의건수_CL_RV_B0M</th>\n",
       "      <th>IB문의건수_CL_RV_R6M</th>\n",
       "      <th>IB문의건수_CS_B0M</th>\n",
       "      <th>IB문의건수_CS_R6M</th>\n",
       "      <th>IB문의건수_SMS_R6M</th>\n",
       "      <th>...</th>\n",
       "      <th>rv최초시작후경과일_0</th>\n",
       "      <th>최종카드론이용경과월_100</th>\n",
       "      <th>최초카드론이용경과월_999</th>\n",
       "      <th>최종이용일자_CA_0</th>\n",
       "      <th>최종이용일자_기본_0</th>\n",
       "      <th>최종이용일자_신판_0</th>\n",
       "      <th>최종이용일자_일시불_0</th>\n",
       "      <th>최종이용일자_체크_0</th>\n",
       "      <th>최종이용일자_카드론_0</th>\n",
       "      <th>최종이용일자_할부_0</th>\n",
       "    </tr>\n",
       "  </thead>\n",
       "  <tbody>\n",
       "    <tr>\n",
       "      <th>301160</th>\n",
       "      <td>14.611353</td>\n",
       "      <td>55012.0</td>\n",
       "      <td>14.833936</td>\n",
       "      <td>0.0</td>\n",
       "      <td>0.0</td>\n",
       "      <td>0.0</td>\n",
       "      <td>0.0</td>\n",
       "      <td>0.0</td>\n",
       "      <td>0.0</td>\n",
       "      <td>0.0</td>\n",
       "      <td>...</td>\n",
       "      <td>1.0</td>\n",
       "      <td>1.0</td>\n",
       "      <td>1.0</td>\n",
       "      <td>0.0</td>\n",
       "      <td>0.0</td>\n",
       "      <td>0.0</td>\n",
       "      <td>0.0</td>\n",
       "      <td>1.0</td>\n",
       "      <td>1.0</td>\n",
       "      <td>0.0</td>\n",
       "    </tr>\n",
       "    <tr>\n",
       "      <th>42909</th>\n",
       "      <td>22.001406</td>\n",
       "      <td>51955.0</td>\n",
       "      <td>17.844288</td>\n",
       "      <td>0.0</td>\n",
       "      <td>0.0</td>\n",
       "      <td>0.0</td>\n",
       "      <td>0.0</td>\n",
       "      <td>0.0</td>\n",
       "      <td>0.0</td>\n",
       "      <td>0.0</td>\n",
       "      <td>...</td>\n",
       "      <td>0.0</td>\n",
       "      <td>0.0</td>\n",
       "      <td>0.0</td>\n",
       "      <td>0.0</td>\n",
       "      <td>0.0</td>\n",
       "      <td>0.0</td>\n",
       "      <td>0.0</td>\n",
       "      <td>1.0</td>\n",
       "      <td>0.0</td>\n",
       "      <td>0.0</td>\n",
       "    </tr>\n",
       "    <tr>\n",
       "      <th>49631</th>\n",
       "      <td>14.221057</td>\n",
       "      <td>58716.0</td>\n",
       "      <td>14.868122</td>\n",
       "      <td>0.0</td>\n",
       "      <td>0.0</td>\n",
       "      <td>0.0</td>\n",
       "      <td>0.0</td>\n",
       "      <td>0.0</td>\n",
       "      <td>0.0</td>\n",
       "      <td>0.0</td>\n",
       "      <td>...</td>\n",
       "      <td>1.0</td>\n",
       "      <td>1.0</td>\n",
       "      <td>1.0</td>\n",
       "      <td>1.0</td>\n",
       "      <td>0.0</td>\n",
       "      <td>0.0</td>\n",
       "      <td>0.0</td>\n",
       "      <td>1.0</td>\n",
       "      <td>1.0</td>\n",
       "      <td>0.0</td>\n",
       "    </tr>\n",
       "    <tr>\n",
       "      <th>288676</th>\n",
       "      <td>21.886489</td>\n",
       "      <td>51119.0</td>\n",
       "      <td>17.427597</td>\n",
       "      <td>0.0</td>\n",
       "      <td>0.0</td>\n",
       "      <td>0.0</td>\n",
       "      <td>0.0</td>\n",
       "      <td>0.0</td>\n",
       "      <td>0.0</td>\n",
       "      <td>0.0</td>\n",
       "      <td>...</td>\n",
       "      <td>1.0</td>\n",
       "      <td>0.0</td>\n",
       "      <td>0.0</td>\n",
       "      <td>0.0</td>\n",
       "      <td>0.0</td>\n",
       "      <td>0.0</td>\n",
       "      <td>0.0</td>\n",
       "      <td>0.0</td>\n",
       "      <td>0.0</td>\n",
       "      <td>0.0</td>\n",
       "    </tr>\n",
       "    <tr>\n",
       "      <th>5253</th>\n",
       "      <td>16.939709</td>\n",
       "      <td>53971.0</td>\n",
       "      <td>15.579195</td>\n",
       "      <td>0.0</td>\n",
       "      <td>0.0</td>\n",
       "      <td>0.0</td>\n",
       "      <td>0.0</td>\n",
       "      <td>0.0</td>\n",
       "      <td>0.0</td>\n",
       "      <td>0.0</td>\n",
       "      <td>...</td>\n",
       "      <td>1.0</td>\n",
       "      <td>0.0</td>\n",
       "      <td>0.0</td>\n",
       "      <td>0.0</td>\n",
       "      <td>0.0</td>\n",
       "      <td>0.0</td>\n",
       "      <td>0.0</td>\n",
       "      <td>1.0</td>\n",
       "      <td>0.0</td>\n",
       "      <td>0.0</td>\n",
       "    </tr>\n",
       "    <tr>\n",
       "      <th>...</th>\n",
       "      <td>...</td>\n",
       "      <td>...</td>\n",
       "      <td>...</td>\n",
       "      <td>...</td>\n",
       "      <td>...</td>\n",
       "      <td>...</td>\n",
       "      <td>...</td>\n",
       "      <td>...</td>\n",
       "      <td>...</td>\n",
       "      <td>...</td>\n",
       "      <td>...</td>\n",
       "      <td>...</td>\n",
       "      <td>...</td>\n",
       "      <td>...</td>\n",
       "      <td>...</td>\n",
       "      <td>...</td>\n",
       "      <td>...</td>\n",
       "      <td>...</td>\n",
       "      <td>...</td>\n",
       "      <td>...</td>\n",
       "      <td>...</td>\n",
       "    </tr>\n",
       "    <tr>\n",
       "      <th>172940</th>\n",
       "      <td>15.173385</td>\n",
       "      <td>10072.0</td>\n",
       "      <td>10.899721</td>\n",
       "      <td>0.0</td>\n",
       "      <td>0.0</td>\n",
       "      <td>0.0</td>\n",
       "      <td>0.0</td>\n",
       "      <td>0.0</td>\n",
       "      <td>0.0</td>\n",
       "      <td>0.0</td>\n",
       "      <td>...</td>\n",
       "      <td>1.0</td>\n",
       "      <td>1.0</td>\n",
       "      <td>1.0</td>\n",
       "      <td>1.0</td>\n",
       "      <td>0.0</td>\n",
       "      <td>0.0</td>\n",
       "      <td>0.0</td>\n",
       "      <td>0.0</td>\n",
       "      <td>1.0</td>\n",
       "      <td>1.0</td>\n",
       "    </tr>\n",
       "    <tr>\n",
       "      <th>243584</th>\n",
       "      <td>15.165950</td>\n",
       "      <td>48969.0</td>\n",
       "      <td>15.700772</td>\n",
       "      <td>0.0</td>\n",
       "      <td>0.0</td>\n",
       "      <td>0.0</td>\n",
       "      <td>0.0</td>\n",
       "      <td>0.0</td>\n",
       "      <td>0.0</td>\n",
       "      <td>0.0</td>\n",
       "      <td>...</td>\n",
       "      <td>1.0</td>\n",
       "      <td>0.0</td>\n",
       "      <td>0.0</td>\n",
       "      <td>1.0</td>\n",
       "      <td>0.0</td>\n",
       "      <td>0.0</td>\n",
       "      <td>0.0</td>\n",
       "      <td>1.0</td>\n",
       "      <td>0.0</td>\n",
       "      <td>0.0</td>\n",
       "    </tr>\n",
       "    <tr>\n",
       "      <th>272833</th>\n",
       "      <td>14.691017</td>\n",
       "      <td>29426.0</td>\n",
       "      <td>10.898123</td>\n",
       "      <td>0.0</td>\n",
       "      <td>0.0</td>\n",
       "      <td>0.0</td>\n",
       "      <td>0.0</td>\n",
       "      <td>0.0</td>\n",
       "      <td>0.0</td>\n",
       "      <td>0.0</td>\n",
       "      <td>...</td>\n",
       "      <td>1.0</td>\n",
       "      <td>1.0</td>\n",
       "      <td>1.0</td>\n",
       "      <td>1.0</td>\n",
       "      <td>0.0</td>\n",
       "      <td>0.0</td>\n",
       "      <td>0.0</td>\n",
       "      <td>0.0</td>\n",
       "      <td>1.0</td>\n",
       "      <td>0.0</td>\n",
       "    </tr>\n",
       "    <tr>\n",
       "      <th>364885</th>\n",
       "      <td>14.219972</td>\n",
       "      <td>59359.0</td>\n",
       "      <td>10.900092</td>\n",
       "      <td>0.0</td>\n",
       "      <td>0.0</td>\n",
       "      <td>0.0</td>\n",
       "      <td>0.0</td>\n",
       "      <td>0.0</td>\n",
       "      <td>0.0</td>\n",
       "      <td>0.0</td>\n",
       "      <td>...</td>\n",
       "      <td>1.0</td>\n",
       "      <td>1.0</td>\n",
       "      <td>1.0</td>\n",
       "      <td>0.0</td>\n",
       "      <td>0.0</td>\n",
       "      <td>0.0</td>\n",
       "      <td>0.0</td>\n",
       "      <td>0.0</td>\n",
       "      <td>1.0</td>\n",
       "      <td>0.0</td>\n",
       "    </tr>\n",
       "    <tr>\n",
       "      <th>260142</th>\n",
       "      <td>15.192480</td>\n",
       "      <td>54831.0</td>\n",
       "      <td>15.302500</td>\n",
       "      <td>0.0</td>\n",
       "      <td>0.0</td>\n",
       "      <td>0.0</td>\n",
       "      <td>0.0</td>\n",
       "      <td>0.0</td>\n",
       "      <td>0.0</td>\n",
       "      <td>0.0</td>\n",
       "      <td>...</td>\n",
       "      <td>1.0</td>\n",
       "      <td>1.0</td>\n",
       "      <td>1.0</td>\n",
       "      <td>1.0</td>\n",
       "      <td>0.0</td>\n",
       "      <td>0.0</td>\n",
       "      <td>0.0</td>\n",
       "      <td>1.0</td>\n",
       "      <td>1.0</td>\n",
       "      <td>0.0</td>\n",
       "    </tr>\n",
       "  </tbody>\n",
       "</table>\n",
       "<p>180606 rows × 975 columns</p>\n",
       "</div>"
      ],
      "text/plain": [
       "        CA이자율_할인전   CA한도금액  CL이자율_할인전  IB문의건수_BL_R6M  IB문의건수_CA_R6M  \\\n",
       "301160  14.611353  55012.0  14.833936            0.0            0.0   \n",
       "42909   22.001406  51955.0  17.844288            0.0            0.0   \n",
       "49631   14.221057  58716.0  14.868122            0.0            0.0   \n",
       "288676  21.886489  51119.0  17.427597            0.0            0.0   \n",
       "5253    16.939709  53971.0  15.579195            0.0            0.0   \n",
       "...           ...      ...        ...            ...            ...   \n",
       "172940  15.173385  10072.0  10.899721            0.0            0.0   \n",
       "243584  15.165950  48969.0  15.700772            0.0            0.0   \n",
       "272833  14.691017  29426.0  10.898123            0.0            0.0   \n",
       "364885  14.219972  59359.0  10.900092            0.0            0.0   \n",
       "260142  15.192480  54831.0  15.302500            0.0            0.0   \n",
       "\n",
       "        IB문의건수_CL_RV_B0M  IB문의건수_CL_RV_R6M  IB문의건수_CS_B0M  IB문의건수_CS_R6M  \\\n",
       "301160               0.0               0.0            0.0            0.0   \n",
       "42909                0.0               0.0            0.0            0.0   \n",
       "49631                0.0               0.0            0.0            0.0   \n",
       "288676               0.0               0.0            0.0            0.0   \n",
       "5253                 0.0               0.0            0.0            0.0   \n",
       "...                  ...               ...            ...            ...   \n",
       "172940               0.0               0.0            0.0            0.0   \n",
       "243584               0.0               0.0            0.0            0.0   \n",
       "272833               0.0               0.0            0.0            0.0   \n",
       "364885               0.0               0.0            0.0            0.0   \n",
       "260142               0.0               0.0            0.0            0.0   \n",
       "\n",
       "        IB문의건수_SMS_R6M  ...  rv최초시작후경과일_0  최종카드론이용경과월_100  최초카드론이용경과월_999  \\\n",
       "301160             0.0  ...           1.0             1.0             1.0   \n",
       "42909              0.0  ...           0.0             0.0             0.0   \n",
       "49631              0.0  ...           1.0             1.0             1.0   \n",
       "288676             0.0  ...           1.0             0.0             0.0   \n",
       "5253               0.0  ...           1.0             0.0             0.0   \n",
       "...                ...  ...           ...             ...             ...   \n",
       "172940             0.0  ...           1.0             1.0             1.0   \n",
       "243584             0.0  ...           1.0             0.0             0.0   \n",
       "272833             0.0  ...           1.0             1.0             1.0   \n",
       "364885             0.0  ...           1.0             1.0             1.0   \n",
       "260142             0.0  ...           1.0             1.0             1.0   \n",
       "\n",
       "        최종이용일자_CA_0  최종이용일자_기본_0  최종이용일자_신판_0  최종이용일자_일시불_0  최종이용일자_체크_0  \\\n",
       "301160          0.0          0.0          0.0           0.0          1.0   \n",
       "42909           0.0          0.0          0.0           0.0          1.0   \n",
       "49631           1.0          0.0          0.0           0.0          1.0   \n",
       "288676          0.0          0.0          0.0           0.0          0.0   \n",
       "5253            0.0          0.0          0.0           0.0          1.0   \n",
       "...             ...          ...          ...           ...          ...   \n",
       "172940          1.0          0.0          0.0           0.0          0.0   \n",
       "243584          1.0          0.0          0.0           0.0          1.0   \n",
       "272833          1.0          0.0          0.0           0.0          0.0   \n",
       "364885          0.0          0.0          0.0           0.0          0.0   \n",
       "260142          1.0          0.0          0.0           0.0          1.0   \n",
       "\n",
       "        최종이용일자_카드론_0  최종이용일자_할부_0  \n",
       "301160           1.0          0.0  \n",
       "42909            0.0          0.0  \n",
       "49631            1.0          0.0  \n",
       "288676           0.0          0.0  \n",
       "5253             0.0          0.0  \n",
       "...              ...          ...  \n",
       "172940           1.0          1.0  \n",
       "243584           0.0          0.0  \n",
       "272833           1.0          0.0  \n",
       "364885           1.0          0.0  \n",
       "260142           1.0          0.0  \n",
       "\n",
       "[180606 rows x 975 columns]"
      ]
     },
     "execution_count": 19,
     "metadata": {},
     "output_type": "execute_result"
    }
   ],
   "source": [
    "x_tr"
   ]
  },
  {
   "cell_type": "code",
   "execution_count": 22,
   "id": "665d70b9",
   "metadata": {},
   "outputs": [
    {
     "data": {
      "text/html": [
       "<div>\n",
       "<style scoped>\n",
       "    .dataframe tbody tr th:only-of-type {\n",
       "        vertical-align: middle;\n",
       "    }\n",
       "\n",
       "    .dataframe tbody tr th {\n",
       "        vertical-align: top;\n",
       "    }\n",
       "\n",
       "    .dataframe thead th {\n",
       "        text-align: right;\n",
       "    }\n",
       "</style>\n",
       "<table border=\"1\" class=\"dataframe\">\n",
       "  <thead>\n",
       "    <tr style=\"text-align: right;\">\n",
       "      <th></th>\n",
       "      <th>CA이자율_할인전</th>\n",
       "      <th>IB문의건수_BL_R6M</th>\n",
       "      <th>IB문의건수_CL_RV_R6M</th>\n",
       "      <th>IB문의건수_결제일변경_R6M</th>\n",
       "      <th>IB문의건수_분실도난_R6M</th>\n",
       "      <th>IB문의건수_선결제_B0M</th>\n",
       "      <th>IB문의건수_선결제_R6M</th>\n",
       "      <th>IB문의건수_한도_R6M</th>\n",
       "      <th>IB문의건수_할부_R6M</th>\n",
       "      <th>RP건수_가스_B0M</th>\n",
       "      <th>...</th>\n",
       "      <th>직장시도명_울산</th>\n",
       "      <th>직장시도명_세종</th>\n",
       "      <th>직장시도명_제주</th>\n",
       "      <th>최종카드론_신청경로코드_2</th>\n",
       "      <th>캠페인접촉일수_R12M_15일 이상</th>\n",
       "      <th>한도증액횟수_R12M_1회이상</th>\n",
       "      <th>할인건수_B0M_1회 이상</th>\n",
       "      <th>할인건수_R3M_20회 이상</th>\n",
       "      <th>연체일수_최근_1</th>\n",
       "      <th>최종이용일자_CA_0</th>\n",
       "    </tr>\n",
       "  </thead>\n",
       "  <tbody>\n",
       "    <tr>\n",
       "      <th>301160</th>\n",
       "      <td>14.611353</td>\n",
       "      <td>0.0</td>\n",
       "      <td>0.0</td>\n",
       "      <td>0.0</td>\n",
       "      <td>0.0</td>\n",
       "      <td>0.0</td>\n",
       "      <td>0.0</td>\n",
       "      <td>0.0</td>\n",
       "      <td>0.0</td>\n",
       "      <td>0.0</td>\n",
       "      <td>...</td>\n",
       "      <td>0.0</td>\n",
       "      <td>0.0</td>\n",
       "      <td>0.0</td>\n",
       "      <td>0.0</td>\n",
       "      <td>0.0</td>\n",
       "      <td>1.0</td>\n",
       "      <td>1.0</td>\n",
       "      <td>0.0</td>\n",
       "      <td>0.0</td>\n",
       "      <td>0.0</td>\n",
       "    </tr>\n",
       "    <tr>\n",
       "      <th>42909</th>\n",
       "      <td>22.001406</td>\n",
       "      <td>0.0</td>\n",
       "      <td>0.0</td>\n",
       "      <td>0.0</td>\n",
       "      <td>0.0</td>\n",
       "      <td>0.0</td>\n",
       "      <td>0.0</td>\n",
       "      <td>0.0</td>\n",
       "      <td>0.0</td>\n",
       "      <td>0.0</td>\n",
       "      <td>...</td>\n",
       "      <td>0.0</td>\n",
       "      <td>0.0</td>\n",
       "      <td>0.0</td>\n",
       "      <td>1.0</td>\n",
       "      <td>0.0</td>\n",
       "      <td>0.0</td>\n",
       "      <td>1.0</td>\n",
       "      <td>0.0</td>\n",
       "      <td>0.0</td>\n",
       "      <td>0.0</td>\n",
       "    </tr>\n",
       "    <tr>\n",
       "      <th>49631</th>\n",
       "      <td>14.221057</td>\n",
       "      <td>0.0</td>\n",
       "      <td>0.0</td>\n",
       "      <td>0.0</td>\n",
       "      <td>0.0</td>\n",
       "      <td>0.0</td>\n",
       "      <td>0.0</td>\n",
       "      <td>0.0</td>\n",
       "      <td>0.0</td>\n",
       "      <td>0.0</td>\n",
       "      <td>...</td>\n",
       "      <td>0.0</td>\n",
       "      <td>0.0</td>\n",
       "      <td>0.0</td>\n",
       "      <td>0.0</td>\n",
       "      <td>0.0</td>\n",
       "      <td>0.0</td>\n",
       "      <td>1.0</td>\n",
       "      <td>0.0</td>\n",
       "      <td>0.0</td>\n",
       "      <td>1.0</td>\n",
       "    </tr>\n",
       "    <tr>\n",
       "      <th>288676</th>\n",
       "      <td>21.886489</td>\n",
       "      <td>0.0</td>\n",
       "      <td>0.0</td>\n",
       "      <td>0.0</td>\n",
       "      <td>0.0</td>\n",
       "      <td>0.0</td>\n",
       "      <td>0.0</td>\n",
       "      <td>0.0</td>\n",
       "      <td>0.0</td>\n",
       "      <td>0.0</td>\n",
       "      <td>...</td>\n",
       "      <td>0.0</td>\n",
       "      <td>0.0</td>\n",
       "      <td>0.0</td>\n",
       "      <td>0.0</td>\n",
       "      <td>0.0</td>\n",
       "      <td>0.0</td>\n",
       "      <td>1.0</td>\n",
       "      <td>0.0</td>\n",
       "      <td>0.0</td>\n",
       "      <td>0.0</td>\n",
       "    </tr>\n",
       "    <tr>\n",
       "      <th>5253</th>\n",
       "      <td>16.939709</td>\n",
       "      <td>0.0</td>\n",
       "      <td>0.0</td>\n",
       "      <td>0.0</td>\n",
       "      <td>0.0</td>\n",
       "      <td>0.0</td>\n",
       "      <td>0.0</td>\n",
       "      <td>0.0</td>\n",
       "      <td>0.0</td>\n",
       "      <td>0.0</td>\n",
       "      <td>...</td>\n",
       "      <td>0.0</td>\n",
       "      <td>0.0</td>\n",
       "      <td>0.0</td>\n",
       "      <td>0.0</td>\n",
       "      <td>0.0</td>\n",
       "      <td>0.0</td>\n",
       "      <td>1.0</td>\n",
       "      <td>0.0</td>\n",
       "      <td>0.0</td>\n",
       "      <td>0.0</td>\n",
       "    </tr>\n",
       "    <tr>\n",
       "      <th>...</th>\n",
       "      <td>...</td>\n",
       "      <td>...</td>\n",
       "      <td>...</td>\n",
       "      <td>...</td>\n",
       "      <td>...</td>\n",
       "      <td>...</td>\n",
       "      <td>...</td>\n",
       "      <td>...</td>\n",
       "      <td>...</td>\n",
       "      <td>...</td>\n",
       "      <td>...</td>\n",
       "      <td>...</td>\n",
       "      <td>...</td>\n",
       "      <td>...</td>\n",
       "      <td>...</td>\n",
       "      <td>...</td>\n",
       "      <td>...</td>\n",
       "      <td>...</td>\n",
       "      <td>...</td>\n",
       "      <td>...</td>\n",
       "      <td>...</td>\n",
       "    </tr>\n",
       "    <tr>\n",
       "      <th>172940</th>\n",
       "      <td>15.173385</td>\n",
       "      <td>0.0</td>\n",
       "      <td>0.0</td>\n",
       "      <td>0.0</td>\n",
       "      <td>0.0</td>\n",
       "      <td>0.0</td>\n",
       "      <td>0.0</td>\n",
       "      <td>0.0</td>\n",
       "      <td>0.0</td>\n",
       "      <td>0.0</td>\n",
       "      <td>...</td>\n",
       "      <td>0.0</td>\n",
       "      <td>0.0</td>\n",
       "      <td>0.0</td>\n",
       "      <td>0.0</td>\n",
       "      <td>0.0</td>\n",
       "      <td>0.0</td>\n",
       "      <td>1.0</td>\n",
       "      <td>0.0</td>\n",
       "      <td>0.0</td>\n",
       "      <td>1.0</td>\n",
       "    </tr>\n",
       "    <tr>\n",
       "      <th>243584</th>\n",
       "      <td>15.165950</td>\n",
       "      <td>0.0</td>\n",
       "      <td>0.0</td>\n",
       "      <td>0.0</td>\n",
       "      <td>0.0</td>\n",
       "      <td>0.0</td>\n",
       "      <td>0.0</td>\n",
       "      <td>0.0</td>\n",
       "      <td>0.0</td>\n",
       "      <td>0.0</td>\n",
       "      <td>...</td>\n",
       "      <td>0.0</td>\n",
       "      <td>0.0</td>\n",
       "      <td>0.0</td>\n",
       "      <td>0.0</td>\n",
       "      <td>0.0</td>\n",
       "      <td>0.0</td>\n",
       "      <td>1.0</td>\n",
       "      <td>0.0</td>\n",
       "      <td>0.0</td>\n",
       "      <td>1.0</td>\n",
       "    </tr>\n",
       "    <tr>\n",
       "      <th>272833</th>\n",
       "      <td>14.691017</td>\n",
       "      <td>0.0</td>\n",
       "      <td>0.0</td>\n",
       "      <td>0.0</td>\n",
       "      <td>0.0</td>\n",
       "      <td>0.0</td>\n",
       "      <td>0.0</td>\n",
       "      <td>0.0</td>\n",
       "      <td>0.0</td>\n",
       "      <td>0.0</td>\n",
       "      <td>...</td>\n",
       "      <td>0.0</td>\n",
       "      <td>0.0</td>\n",
       "      <td>0.0</td>\n",
       "      <td>0.0</td>\n",
       "      <td>0.0</td>\n",
       "      <td>0.0</td>\n",
       "      <td>1.0</td>\n",
       "      <td>0.0</td>\n",
       "      <td>0.0</td>\n",
       "      <td>1.0</td>\n",
       "    </tr>\n",
       "    <tr>\n",
       "      <th>364885</th>\n",
       "      <td>14.219972</td>\n",
       "      <td>0.0</td>\n",
       "      <td>0.0</td>\n",
       "      <td>0.0</td>\n",
       "      <td>0.0</td>\n",
       "      <td>0.0</td>\n",
       "      <td>0.0</td>\n",
       "      <td>0.0</td>\n",
       "      <td>0.0</td>\n",
       "      <td>0.0</td>\n",
       "      <td>...</td>\n",
       "      <td>0.0</td>\n",
       "      <td>0.0</td>\n",
       "      <td>0.0</td>\n",
       "      <td>0.0</td>\n",
       "      <td>0.0</td>\n",
       "      <td>0.0</td>\n",
       "      <td>1.0</td>\n",
       "      <td>0.0</td>\n",
       "      <td>0.0</td>\n",
       "      <td>0.0</td>\n",
       "    </tr>\n",
       "    <tr>\n",
       "      <th>260142</th>\n",
       "      <td>15.192480</td>\n",
       "      <td>0.0</td>\n",
       "      <td>0.0</td>\n",
       "      <td>0.0</td>\n",
       "      <td>0.0</td>\n",
       "      <td>0.0</td>\n",
       "      <td>0.0</td>\n",
       "      <td>0.0</td>\n",
       "      <td>0.0</td>\n",
       "      <td>0.0</td>\n",
       "      <td>...</td>\n",
       "      <td>0.0</td>\n",
       "      <td>0.0</td>\n",
       "      <td>0.0</td>\n",
       "      <td>0.0</td>\n",
       "      <td>0.0</td>\n",
       "      <td>0.0</td>\n",
       "      <td>1.0</td>\n",
       "      <td>0.0</td>\n",
       "      <td>0.0</td>\n",
       "      <td>1.0</td>\n",
       "    </tr>\n",
       "  </tbody>\n",
       "</table>\n",
       "<p>180606 rows × 278 columns</p>\n",
       "</div>"
      ],
      "text/plain": [
       "        CA이자율_할인전  IB문의건수_BL_R6M  IB문의건수_CL_RV_R6M  IB문의건수_결제일변경_R6M  \\\n",
       "301160  14.611353            0.0               0.0               0.0   \n",
       "42909   22.001406            0.0               0.0               0.0   \n",
       "49631   14.221057            0.0               0.0               0.0   \n",
       "288676  21.886489            0.0               0.0               0.0   \n",
       "5253    16.939709            0.0               0.0               0.0   \n",
       "...           ...            ...               ...               ...   \n",
       "172940  15.173385            0.0               0.0               0.0   \n",
       "243584  15.165950            0.0               0.0               0.0   \n",
       "272833  14.691017            0.0               0.0               0.0   \n",
       "364885  14.219972            0.0               0.0               0.0   \n",
       "260142  15.192480            0.0               0.0               0.0   \n",
       "\n",
       "        IB문의건수_분실도난_R6M  IB문의건수_선결제_B0M  IB문의건수_선결제_R6M  IB문의건수_한도_R6M  \\\n",
       "301160              0.0             0.0             0.0            0.0   \n",
       "42909               0.0             0.0             0.0            0.0   \n",
       "49631               0.0             0.0             0.0            0.0   \n",
       "288676              0.0             0.0             0.0            0.0   \n",
       "5253                0.0             0.0             0.0            0.0   \n",
       "...                 ...             ...             ...            ...   \n",
       "172940              0.0             0.0             0.0            0.0   \n",
       "243584              0.0             0.0             0.0            0.0   \n",
       "272833              0.0             0.0             0.0            0.0   \n",
       "364885              0.0             0.0             0.0            0.0   \n",
       "260142              0.0             0.0             0.0            0.0   \n",
       "\n",
       "        IB문의건수_할부_R6M  RP건수_가스_B0M  ...  직장시도명_울산  직장시도명_세종  직장시도명_제주  \\\n",
       "301160            0.0          0.0  ...       0.0       0.0       0.0   \n",
       "42909             0.0          0.0  ...       0.0       0.0       0.0   \n",
       "49631             0.0          0.0  ...       0.0       0.0       0.0   \n",
       "288676            0.0          0.0  ...       0.0       0.0       0.0   \n",
       "5253              0.0          0.0  ...       0.0       0.0       0.0   \n",
       "...               ...          ...  ...       ...       ...       ...   \n",
       "172940            0.0          0.0  ...       0.0       0.0       0.0   \n",
       "243584            0.0          0.0  ...       0.0       0.0       0.0   \n",
       "272833            0.0          0.0  ...       0.0       0.0       0.0   \n",
       "364885            0.0          0.0  ...       0.0       0.0       0.0   \n",
       "260142            0.0          0.0  ...       0.0       0.0       0.0   \n",
       "\n",
       "        최종카드론_신청경로코드_2  캠페인접촉일수_R12M_15일 이상  한도증액횟수_R12M_1회이상  할인건수_B0M_1회 이상  \\\n",
       "301160             0.0                  0.0               1.0             1.0   \n",
       "42909              1.0                  0.0               0.0             1.0   \n",
       "49631              0.0                  0.0               0.0             1.0   \n",
       "288676             0.0                  0.0               0.0             1.0   \n",
       "5253               0.0                  0.0               0.0             1.0   \n",
       "...                ...                  ...               ...             ...   \n",
       "172940             0.0                  0.0               0.0             1.0   \n",
       "243584             0.0                  0.0               0.0             1.0   \n",
       "272833             0.0                  0.0               0.0             1.0   \n",
       "364885             0.0                  0.0               0.0             1.0   \n",
       "260142             0.0                  0.0               0.0             1.0   \n",
       "\n",
       "        할인건수_R3M_20회 이상  연체일수_최근_1  최종이용일자_CA_0  \n",
       "301160              0.0        0.0          0.0  \n",
       "42909               0.0        0.0          0.0  \n",
       "49631               0.0        0.0          1.0  \n",
       "288676              0.0        0.0          0.0  \n",
       "5253                0.0        0.0          0.0  \n",
       "...                 ...        ...          ...  \n",
       "172940              0.0        0.0          1.0  \n",
       "243584              0.0        0.0          1.0  \n",
       "272833              0.0        0.0          1.0  \n",
       "364885              0.0        0.0          0.0  \n",
       "260142              0.0        0.0          1.0  \n",
       "\n",
       "[180606 rows x 278 columns]"
      ]
     },
     "execution_count": 22,
     "metadata": {},
     "output_type": "execute_result"
    }
   ],
   "source": [
    "x_tr.iloc[:,np.where(model.feature_importances_>0.001)[0]]"
   ]
  },
  {
   "cell_type": "code",
   "execution_count": null,
   "id": "94d4e29e",
   "metadata": {},
   "outputs": [],
   "source": [
    "#model.feature_importances_.shape\n",
    "ll12345=pd.Series(data=model.feature_importances_,index=x.columns).sort_values()\n",
    "ll12345[ll12345>0].sort_values().to_csv(\"ppp/open/model_feature_import_1_1_2.csv\",encoding=\"utf-8-sig\",index=True)"
   ]
  },
  {
   "cell_type": "code",
   "execution_count": 16,
   "id": "4a87da21",
   "metadata": {},
   "outputs": [
    {
     "data": {
      "text/plain": [
       "0.6973775799999999"
      ]
     },
     "execution_count": 16,
     "metadata": {},
     "output_type": "execute_result"
    }
   ],
   "source": [
    "(0.56217582+ 0.60153017+ 0.92842675)/3"
   ]
  },
  {
   "cell_type": "code",
   "execution_count": null,
   "id": "5a224b68",
   "metadata": {},
   "outputs": [],
   "source": []
  },
  {
   "cell_type": "code",
   "execution_count": 26,
   "id": "6ed94e2f",
   "metadata": {},
   "outputs": [
    {
     "data": {
      "text/plain": [
       "(XGBClassifier(base_score=None, booster=None, callbacks=None,\n",
       "               colsample_bylevel=None, colsample_bynode=None,\n",
       "               colsample_bytree=None, device='cuda', early_stopping_rounds=None,\n",
       "               enable_categorical=False, eval_metric=None, feature_types=None,\n",
       "               gamma=None, grow_policy=None, importance_type=None,\n",
       "               interaction_constraints=None, learning_rate=0.25, max_bin=None,\n",
       "               max_cat_threshold=None, max_cat_to_onehot=None,\n",
       "               max_delta_step=None, max_depth=6, max_leaves=None,\n",
       "               min_child_weight=None, missing=nan, monotone_constraints=None,\n",
       "               multi_strategy=None, n_estimators=100, n_jobs=None,\n",
       "               num_parallel_tree=None, random_state=312, ...),)"
      ]
     },
     "execution_count": 26,
     "metadata": {},
     "output_type": "execute_result"
    }
   ],
   "source": [
    "0.8316578463287587\n",
    "[0.82591093 0.88888889 0.69206893 0.81048478 0.9409357 ]\n",
    "[[  102     0    28     0     0]\n",
    " [    0    24     5     0     0]\n",
    " [   12     1  3233  1644   213]\n",
    " [    3     0   852 14378  2228]\n",
    " [    0     0   122  1997 36322]]"
   ]
  },
  {
   "cell_type": "code",
   "execution_count": 12,
   "id": "06ea4276",
   "metadata": {},
   "outputs": [
    {
     "name": "stderr",
     "output_type": "stream",
     "text": [
      "C:\\Users\\607-14\\anaconda3\\lib\\site-packages\\xgboost\\core.py:158: UserWarning: [16:58:43] WARNING: C:\\buildkite-agent\\builds\\buildkite-windows-cpu-autoscaling-group-i-08cbc0333d8d4aae1-1\\xgboost\\xgboost-ci-windows\\src\\c_api\\c_api.cc:1374: Saving model in the UBJSON format as default.  You can use file extension: `json`, `ubj` or `deprecated` to choose between formats.\n",
      "  warnings.warn(smsg, UserWarning)\n"
     ]
    }
   ],
   "source": [
    "model.save_model(f\"ppp/open/models2/118_982_no_pca_min_max_all_data_all{200}_{3}_{20}_15_2_3.model\")\n"
   ]
  },
  {
   "cell_type": "code",
   "execution_count": 12,
   "id": "326dd29f",
   "metadata": {},
   "outputs": [],
   "source": [
    "x110=x\n",
    "y110=y"
   ]
  },
  {
   "cell_type": "code",
   "execution_count": 12,
   "id": "1be273b4",
   "metadata": {},
   "outputs": [
    {
     "name": "stdout",
     "output_type": "stream",
     "text": [
      "0.3995126306408998\n",
      "[0.         0.         0.5059816  0.56767149 0.92391007]\n",
      "[[    0     0    96     1     0]\n",
      " [    0     0    14     0     0]\n",
      " [    0     0  3299  3709  1498]\n",
      " [    0     0   927 11958 10398]\n",
      " [    0     0   198  3179 92725]]\n"
     ]
    }
   ],
   "source": [
    "model1=RandomForestClassifier(n_estimators=150,max_depth=6,)\n",
    "\n",
    "model1.fit(x_rt, y_tr)\n",
    "#model.fit(x, y)\n",
    "\n",
    "\n",
    "\n",
    "\n",
    "y_pred=model.predict(x_te)\n",
    "#print(i,j,k,l,m)\n",
    "print(f1_score(y_te,y_pred ,average=\"macro\"))\n",
    "print(f1_score( y_te,y_pred,average=None))\n",
    "print(confusion_matrix( y_te,y_pred))"
   ]
  },
  {
   "cell_type": "code",
   "execution_count": 35,
   "id": "b033ef68",
   "metadata": {},
   "outputs": [
    {
     "name": "stderr",
     "output_type": "stream",
     "text": [
      "C:\\Users\\607-14\\anaconda3\\lib\\site-packages\\xgboost\\core.py:158: UserWarning: [14:46:21] WARNING: C:\\buildkite-agent\\builds\\buildkite-windows-cpu-autoscaling-group-i-08cbc0333d8d4aae1-1\\xgboost\\xgboost-ci-windows\\src\\c_api\\c_api.cc:1374: Saving model in the UBJSON format as default.  You can use file extension: `json`, `ubj` or `deprecated` to choose between formats.\n",
      "  warnings.warn(smsg, UserWarning)\n"
     ]
    }
   ],
   "source": [
    "model.save_model(f\"ppp/open/models2/118_967_no_pca_min_max_all_data_all{200}_{25}_{9}_1185.model\")"
   ]
  },
  {
   "cell_type": "code",
   "execution_count": 50,
   "id": "5f62d61a",
   "metadata": {},
   "outputs": [],
   "source": [
    "x=np.load(\"ppp/open/x_1118628_967_no_pca_min_max.npy\")\n",
    "y=np.load(\"ppp/open/y_1118628_967_no_pca_min_max.npy\")\n",
    "#y=np.load(\"ppp/open/y_1118628_970_no_pca_min_max.npy\")\n",
    "\n",
    "x_rt,x_te,y_tr,y_te=train_test_split(x,y,test_size=0.2,shuffle=True,stratify =y,random_state=2025)"
   ]
  },
  {
   "cell_type": "code",
   "execution_count": 51,
   "id": "9b44474b",
   "metadata": {},
   "outputs": [
    {
     "data": {
      "text/html": [
       "<div>\n",
       "<style scoped>\n",
       "    .dataframe tbody tr th:only-of-type {\n",
       "        vertical-align: middle;\n",
       "    }\n",
       "\n",
       "    .dataframe tbody tr th {\n",
       "        vertical-align: top;\n",
       "    }\n",
       "\n",
       "    .dataframe thead th {\n",
       "        text-align: right;\n",
       "    }\n",
       "</style>\n",
       "<table border=\"1\" class=\"dataframe\">\n",
       "  <thead>\n",
       "    <tr style=\"text-align: right;\">\n",
       "      <th></th>\n",
       "      <th>0</th>\n",
       "      <th>1</th>\n",
       "      <th>2</th>\n",
       "      <th>3</th>\n",
       "      <th>4</th>\n",
       "    </tr>\n",
       "  </thead>\n",
       "  <tbody>\n",
       "    <tr>\n",
       "      <th>0</th>\n",
       "      <td>1.290591e-08</td>\n",
       "      <td>3.359812e-08</td>\n",
       "      <td>2.792199e-06</td>\n",
       "      <td>4.691591e-05</td>\n",
       "      <td>0.999950</td>\n",
       "    </tr>\n",
       "    <tr>\n",
       "      <th>1</th>\n",
       "      <td>4.587109e-08</td>\n",
       "      <td>7.775419e-08</td>\n",
       "      <td>1.321099e-05</td>\n",
       "      <td>9.998355e-01</td>\n",
       "      <td>0.000151</td>\n",
       "    </tr>\n",
       "    <tr>\n",
       "      <th>2</th>\n",
       "      <td>1.368379e-06</td>\n",
       "      <td>3.307840e-06</td>\n",
       "      <td>4.667499e-04</td>\n",
       "      <td>4.149318e-01</td>\n",
       "      <td>0.584597</td>\n",
       "    </tr>\n",
       "    <tr>\n",
       "      <th>3</th>\n",
       "      <td>1.034552e-09</td>\n",
       "      <td>2.634686e-09</td>\n",
       "      <td>4.201419e-08</td>\n",
       "      <td>2.012376e-07</td>\n",
       "      <td>1.000000</td>\n",
       "    </tr>\n",
       "    <tr>\n",
       "      <th>4</th>\n",
       "      <td>4.580206e-09</td>\n",
       "      <td>1.052394e-08</td>\n",
       "      <td>1.033844e-07</td>\n",
       "      <td>2.891686e-06</td>\n",
       "      <td>0.999997</td>\n",
       "    </tr>\n",
       "    <tr>\n",
       "      <th>...</th>\n",
       "      <td>...</td>\n",
       "      <td>...</td>\n",
       "      <td>...</td>\n",
       "      <td>...</td>\n",
       "      <td>...</td>\n",
       "    </tr>\n",
       "    <tr>\n",
       "      <th>88127</th>\n",
       "      <td>1.098245e-07</td>\n",
       "      <td>2.681386e-07</td>\n",
       "      <td>2.194057e-05</td>\n",
       "      <td>1.735952e-02</td>\n",
       "      <td>0.982618</td>\n",
       "    </tr>\n",
       "    <tr>\n",
       "      <th>88128</th>\n",
       "      <td>6.191855e-09</td>\n",
       "      <td>1.280920e-08</td>\n",
       "      <td>1.813319e-07</td>\n",
       "      <td>2.677131e-06</td>\n",
       "      <td>0.999997</td>\n",
       "    </tr>\n",
       "    <tr>\n",
       "      <th>88129</th>\n",
       "      <td>2.575834e-08</td>\n",
       "      <td>4.478085e-08</td>\n",
       "      <td>1.112504e-05</td>\n",
       "      <td>1.692096e-04</td>\n",
       "      <td>0.999820</td>\n",
       "    </tr>\n",
       "    <tr>\n",
       "      <th>88130</th>\n",
       "      <td>1.710259e-07</td>\n",
       "      <td>5.050642e-07</td>\n",
       "      <td>3.004726e-05</td>\n",
       "      <td>4.102564e-02</td>\n",
       "      <td>0.958944</td>\n",
       "    </tr>\n",
       "    <tr>\n",
       "      <th>88131</th>\n",
       "      <td>8.393693e-09</td>\n",
       "      <td>2.577561e-08</td>\n",
       "      <td>2.077846e-07</td>\n",
       "      <td>9.374648e-06</td>\n",
       "      <td>0.999990</td>\n",
       "    </tr>\n",
       "  </tbody>\n",
       "</table>\n",
       "<p>88132 rows × 5 columns</p>\n",
       "</div>"
      ],
      "text/plain": [
       "                  0             1             2             3         4\n",
       "0      1.290591e-08  3.359812e-08  2.792199e-06  4.691591e-05  0.999950\n",
       "1      4.587109e-08  7.775419e-08  1.321099e-05  9.998355e-01  0.000151\n",
       "2      1.368379e-06  3.307840e-06  4.667499e-04  4.149318e-01  0.584597\n",
       "3      1.034552e-09  2.634686e-09  4.201419e-08  2.012376e-07  1.000000\n",
       "4      4.580206e-09  1.052394e-08  1.033844e-07  2.891686e-06  0.999997\n",
       "...             ...           ...           ...           ...       ...\n",
       "88127  1.098245e-07  2.681386e-07  2.194057e-05  1.735952e-02  0.982618\n",
       "88128  6.191855e-09  1.280920e-08  1.813319e-07  2.677131e-06  0.999997\n",
       "88129  2.575834e-08  4.478085e-08  1.112504e-05  1.692096e-04  0.999820\n",
       "88130  1.710259e-07  5.050642e-07  3.004726e-05  4.102564e-02  0.958944\n",
       "88131  8.393693e-09  2.577561e-08  2.077846e-07  9.374648e-06  0.999990\n",
       "\n",
       "[88132 rows x 5 columns]"
      ]
     },
     "execution_count": 51,
     "metadata": {},
     "output_type": "execute_result"
    }
   ],
   "source": [
    "lha=pd.DataFrame(model.predict_proba(x_te))\n",
    "lha"
   ]
  },
  {
   "cell_type": "code",
   "execution_count": 43,
   "id": "a269ed1c",
   "metadata": {},
   "outputs": [
    {
     "data": {
      "text/plain": [
       "{6031, 24363, 40802, 82626}"
      ]
     },
     "execution_count": 43,
     "metadata": {},
     "output_type": "execute_result"
    }
   ],
   "source": [
    "set(np.where(y_te.values==1)[0])-set(lk1[lk1[1]>0.46].index)"
   ]
  },
  {
   "cell_type": "code",
   "execution_count": 44,
   "id": "03c91bb6",
   "metadata": {},
   "outputs": [
    {
     "data": {
      "text/html": [
       "<div>\n",
       "<style scoped>\n",
       "    .dataframe tbody tr th:only-of-type {\n",
       "        vertical-align: middle;\n",
       "    }\n",
       "\n",
       "    .dataframe tbody tr th {\n",
       "        vertical-align: top;\n",
       "    }\n",
       "\n",
       "    .dataframe thead th {\n",
       "        text-align: right;\n",
       "    }\n",
       "</style>\n",
       "<table border=\"1\" class=\"dataframe\">\n",
       "  <thead>\n",
       "    <tr style=\"text-align: right;\">\n",
       "      <th></th>\n",
       "      <th>0</th>\n",
       "      <th>1</th>\n",
       "      <th>2</th>\n",
       "      <th>3</th>\n",
       "      <th>4</th>\n",
       "    </tr>\n",
       "  </thead>\n",
       "  <tbody>\n",
       "    <tr>\n",
       "      <th>6031</th>\n",
       "      <td>0.003621</td>\n",
       "      <td>0.452484</td>\n",
       "      <td>0.532525</td>\n",
       "      <td>0.006992</td>\n",
       "      <td>0.004378</td>\n",
       "    </tr>\n",
       "    <tr>\n",
       "      <th>24363</th>\n",
       "      <td>0.000658</td>\n",
       "      <td>0.077396</td>\n",
       "      <td>0.858366</td>\n",
       "      <td>0.057721</td>\n",
       "      <td>0.005859</td>\n",
       "    </tr>\n",
       "    <tr>\n",
       "      <th>40802</th>\n",
       "      <td>0.366238</td>\n",
       "      <td>0.208554</td>\n",
       "      <td>0.360748</td>\n",
       "      <td>0.043978</td>\n",
       "      <td>0.020482</td>\n",
       "    </tr>\n",
       "    <tr>\n",
       "      <th>82626</th>\n",
       "      <td>0.004187</td>\n",
       "      <td>0.009026</td>\n",
       "      <td>0.974965</td>\n",
       "      <td>0.008965</td>\n",
       "      <td>0.002857</td>\n",
       "    </tr>\n",
       "  </tbody>\n",
       "</table>\n",
       "</div>"
      ],
      "text/plain": [
       "              0         1         2         3         4\n",
       "6031   0.003621  0.452484  0.532525  0.006992  0.004378\n",
       "24363  0.000658  0.077396  0.858366  0.057721  0.005859\n",
       "40802  0.366238  0.208554  0.360748  0.043978  0.020482\n",
       "82626  0.004187  0.009026  0.974965  0.008965  0.002857"
      ]
     },
     "execution_count": 44,
     "metadata": {},
     "output_type": "execute_result"
    }
   ],
   "source": [
    "lk1.loc[[6031, 24363, 40802, 82626]]"
   ]
  },
  {
   "cell_type": "code",
   "execution_count": 24,
   "id": "4e8c8a44",
   "metadata": {},
   "outputs": [
    {
     "data": {
      "text/plain": [
       "set()"
      ]
     },
     "execution_count": 24,
     "metadata": {},
     "output_type": "execute_result"
    }
   ],
   "source": [
    "set(y_te[y_te==1].index)"
   ]
  },
  {
   "cell_type": "markdown",
   "id": "1f58a84a",
   "metadata": {},
   "source": [
    "## 모데ㅐㄹ저장"
   ]
  },
  {
   "cell_type": "code",
   "execution_count": 2,
   "id": "54a898b4",
   "metadata": {},
   "outputs": [
    {
     "name": "stderr",
     "output_type": "stream",
     "text": [
      "C:\\Users\\607-14\\anaconda3\\lib\\site-packages\\xgboost\\core.py:158: UserWarning: [10:16:03] WARNING: C:\\buildkite-agent\\builds\\buildkite-windows-cpu-autoscaling-group-i-08cbc0333d8d4aae1-1\\xgboost\\xgboost-ci-windows\\src\\c_api\\c_api.cc:1374: Saving model in the UBJSON format as default.  You can use file extension: `json`, `ubj` or `deprecated` to choose between formats.\n",
      "  warnings.warn(smsg, UserWarning)\n"
     ]
    }
   ],
   "source": [
    "model.save_model(f\"ppp/open/models2/118_973_no_pca_min_max_all_data_{200}_{25}_{20}.model\")"
   ]
  },
  {
   "cell_type": "markdown",
   "id": "4747d333",
   "metadata": {},
   "source": [
    "## 모델 가져오기"
   ]
  },
  {
   "cell_type": "code",
   "execution_count": 24,
   "id": "b16192de",
   "metadata": {},
   "outputs": [],
   "source": [
    "from xgboost import XGBClassifier\n",
    "model = XGBClassifier(n_estimators=200, learning_rate=0.2, max_depth=20, random_state = 312,tree_method=\"hist\", device=\"cuda\" ,)#verbose = True, verbosity\n",
    "model.load_model(f\"ppp/open/models3/xgb_an0_100_25_10.model\")"
   ]
  },
  {
   "cell_type": "markdown",
   "id": "26578052",
   "metadata": {},
   "source": [
    "## 저장된값들 가져오기"
   ]
  },
  {
   "cell_type": "code",
   "execution_count": 15,
   "id": "c0be4e51",
   "metadata": {},
   "outputs": [
    {
     "data": {
      "text/plain": [
       "745"
      ]
     },
     "execution_count": 15,
     "metadata": {},
     "output_type": "execute_result"
    }
   ],
   "source": [
    "np.sum(np.sort(model.feature_importances_)>0)"
   ]
  },
  {
   "cell_type": "code",
   "execution_count": 15,
   "id": "c7bb33c0",
   "metadata": {},
   "outputs": [],
   "source": [
    "#model.feature_importances_.shape\n",
    "ll12345=pd.Series(data=model.feature_importances_,index=x.columns).sort_values()\n",
    "ll12345[ll12345>0].sort_values().to_csv(\"ppp/open/model_feature_import_1_1_2.csv\",encoding=\"utf-8-sig\",index=True)"
   ]
  },
  {
   "cell_type": "code",
   "execution_count": null,
   "id": "9b41f806",
   "metadata": {},
   "outputs": [],
   "source": []
  },
  {
   "cell_type": "code",
   "execution_count": null,
   "id": "8a94cc9f",
   "metadata": {},
   "outputs": [],
   "source": []
  },
  {
   "cell_type": "code",
   "execution_count": 16,
   "id": "c256df17",
   "metadata": {},
   "outputs": [
    {
     "ename": "ValueError",
     "evalue": "y contains previously unseen labels: '통행료'",
     "output_type": "error",
     "traceback": [
      "\u001b[1;31m---------------------------------------------------------------------------\u001b[0m",
      "\u001b[1;31mKeyError\u001b[0m                                  Traceback (most recent call last)",
      "\u001b[1;32m~\\anaconda3\\lib\\site-packages\\sklearn\\utils\\_encode.py\u001b[0m in \u001b[0;36m_encode\u001b[1;34m(values, uniques, check_unknown)\u001b[0m\n\u001b[0;32m    177\u001b[0m         \u001b[1;32mtry\u001b[0m\u001b[1;33m:\u001b[0m\u001b[1;33m\u001b[0m\u001b[1;33m\u001b[0m\u001b[0m\n\u001b[1;32m--> 178\u001b[1;33m             \u001b[1;32mreturn\u001b[0m \u001b[0m_map_to_integer\u001b[0m\u001b[1;33m(\u001b[0m\u001b[0mvalues\u001b[0m\u001b[1;33m,\u001b[0m \u001b[0muniques\u001b[0m\u001b[1;33m)\u001b[0m\u001b[1;33m\u001b[0m\u001b[1;33m\u001b[0m\u001b[0m\n\u001b[0m\u001b[0;32m    179\u001b[0m         \u001b[1;32mexcept\u001b[0m \u001b[0mKeyError\u001b[0m \u001b[1;32mas\u001b[0m \u001b[0me\u001b[0m\u001b[1;33m:\u001b[0m\u001b[1;33m\u001b[0m\u001b[1;33m\u001b[0m\u001b[0m\n",
      "\u001b[1;32m~\\anaconda3\\lib\\site-packages\\sklearn\\utils\\_encode.py\u001b[0m in \u001b[0;36m_map_to_integer\u001b[1;34m(values, uniques)\u001b[0m\n\u001b[0;32m    122\u001b[0m     \u001b[0mtable\u001b[0m \u001b[1;33m=\u001b[0m \u001b[0m_nandict\u001b[0m\u001b[1;33m(\u001b[0m\u001b[1;33m{\u001b[0m\u001b[0mval\u001b[0m\u001b[1;33m:\u001b[0m \u001b[0mi\u001b[0m \u001b[1;32mfor\u001b[0m \u001b[0mi\u001b[0m\u001b[1;33m,\u001b[0m \u001b[0mval\u001b[0m \u001b[1;32min\u001b[0m \u001b[0menumerate\u001b[0m\u001b[1;33m(\u001b[0m\u001b[0muniques\u001b[0m\u001b[1;33m)\u001b[0m\u001b[1;33m}\u001b[0m\u001b[1;33m)\u001b[0m\u001b[1;33m\u001b[0m\u001b[1;33m\u001b[0m\u001b[0m\n\u001b[1;32m--> 123\u001b[1;33m     \u001b[1;32mreturn\u001b[0m \u001b[0mnp\u001b[0m\u001b[1;33m.\u001b[0m\u001b[0marray\u001b[0m\u001b[1;33m(\u001b[0m\u001b[1;33m[\u001b[0m\u001b[0mtable\u001b[0m\u001b[1;33m[\u001b[0m\u001b[0mv\u001b[0m\u001b[1;33m]\u001b[0m \u001b[1;32mfor\u001b[0m \u001b[0mv\u001b[0m \u001b[1;32min\u001b[0m \u001b[0mvalues\u001b[0m\u001b[1;33m]\u001b[0m\u001b[1;33m)\u001b[0m\u001b[1;33m\u001b[0m\u001b[1;33m\u001b[0m\u001b[0m\n\u001b[0m\u001b[0;32m    124\u001b[0m \u001b[1;33m\u001b[0m\u001b[0m\n",
      "\u001b[1;32m~\\anaconda3\\lib\\site-packages\\sklearn\\utils\\_encode.py\u001b[0m in \u001b[0;36m<listcomp>\u001b[1;34m(.0)\u001b[0m\n\u001b[0;32m    122\u001b[0m     \u001b[0mtable\u001b[0m \u001b[1;33m=\u001b[0m \u001b[0m_nandict\u001b[0m\u001b[1;33m(\u001b[0m\u001b[1;33m{\u001b[0m\u001b[0mval\u001b[0m\u001b[1;33m:\u001b[0m \u001b[0mi\u001b[0m \u001b[1;32mfor\u001b[0m \u001b[0mi\u001b[0m\u001b[1;33m,\u001b[0m \u001b[0mval\u001b[0m \u001b[1;32min\u001b[0m \u001b[0menumerate\u001b[0m\u001b[1;33m(\u001b[0m\u001b[0muniques\u001b[0m\u001b[1;33m)\u001b[0m\u001b[1;33m}\u001b[0m\u001b[1;33m)\u001b[0m\u001b[1;33m\u001b[0m\u001b[1;33m\u001b[0m\u001b[0m\n\u001b[1;32m--> 123\u001b[1;33m     \u001b[1;32mreturn\u001b[0m \u001b[0mnp\u001b[0m\u001b[1;33m.\u001b[0m\u001b[0marray\u001b[0m\u001b[1;33m(\u001b[0m\u001b[1;33m[\u001b[0m\u001b[0mtable\u001b[0m\u001b[1;33m[\u001b[0m\u001b[0mv\u001b[0m\u001b[1;33m]\u001b[0m \u001b[1;32mfor\u001b[0m \u001b[0mv\u001b[0m \u001b[1;32min\u001b[0m \u001b[0mvalues\u001b[0m\u001b[1;33m]\u001b[0m\u001b[1;33m)\u001b[0m\u001b[1;33m\u001b[0m\u001b[1;33m\u001b[0m\u001b[0m\n\u001b[0m\u001b[0;32m    124\u001b[0m \u001b[1;33m\u001b[0m\u001b[0m\n",
      "\u001b[1;32m~\\anaconda3\\lib\\site-packages\\sklearn\\utils\\_encode.py\u001b[0m in \u001b[0;36m__missing__\u001b[1;34m(self, key)\u001b[0m\n\u001b[0;32m    116\u001b[0m             \u001b[1;32mreturn\u001b[0m \u001b[0mself\u001b[0m\u001b[1;33m.\u001b[0m\u001b[0mnan_value\u001b[0m\u001b[1;33m\u001b[0m\u001b[1;33m\u001b[0m\u001b[0m\n\u001b[1;32m--> 117\u001b[1;33m         \u001b[1;32mraise\u001b[0m \u001b[0mKeyError\u001b[0m\u001b[1;33m(\u001b[0m\u001b[0mkey\u001b[0m\u001b[1;33m)\u001b[0m\u001b[1;33m\u001b[0m\u001b[1;33m\u001b[0m\u001b[0m\n\u001b[0m\u001b[0;32m    118\u001b[0m \u001b[1;33m\u001b[0m\u001b[0m\n",
      "\u001b[1;31mKeyError\u001b[0m: '통행료'",
      "\nDuring handling of the above exception, another exception occurred:\n",
      "\u001b[1;31mValueError\u001b[0m                                Traceback (most recent call last)",
      "\u001b[1;32m~\\AppData\\Local\\Temp/ipykernel_7616/2063141863.py\u001b[0m in \u001b[0;36m<module>\u001b[1;34m\u001b[0m\n\u001b[0;32m     31\u001b[0m         \u001b[1;31m#le = LabelEncoder()\u001b[0m\u001b[1;33m\u001b[0m\u001b[1;33m\u001b[0m\u001b[0m\n\u001b[0;32m     32\u001b[0m         \u001b[1;32mif\u001b[0m \u001b[0mdata\u001b[0m\u001b[1;33m[\u001b[0m\u001b[0mi\u001b[0m\u001b[1;33m]\u001b[0m\u001b[1;33m.\u001b[0m\u001b[0mdtype\u001b[0m\u001b[1;33m==\u001b[0m\u001b[1;34m'O'\u001b[0m\u001b[1;33m:\u001b[0m\u001b[1;33m\u001b[0m\u001b[1;33m\u001b[0m\u001b[0m\n\u001b[1;32m---> 33\u001b[1;33m             \u001b[0mdata\u001b[0m\u001b[1;33m[\u001b[0m\u001b[0mi\u001b[0m\u001b[1;33m]\u001b[0m\u001b[1;33m=\u001b[0m\u001b[0mled\u001b[0m\u001b[1;33m[\u001b[0m\u001b[0mi\u001b[0m\u001b[1;33m]\u001b[0m\u001b[1;33m.\u001b[0m\u001b[0mtransform\u001b[0m\u001b[1;33m(\u001b[0m\u001b[0mdata\u001b[0m\u001b[1;33m[\u001b[0m\u001b[0mi\u001b[0m\u001b[1;33m]\u001b[0m\u001b[1;33m)\u001b[0m\u001b[1;33m\u001b[0m\u001b[1;33m\u001b[0m\u001b[0m\n\u001b[0m\u001b[0;32m     34\u001b[0m     \u001b[1;31m#y=data[\"Segment\"]\u001b[0m\u001b[1;33m\u001b[0m\u001b[1;33m\u001b[0m\u001b[0m\n\u001b[0;32m     35\u001b[0m \u001b[1;33m\u001b[0m\u001b[0m\n",
      "\u001b[1;32m~\\anaconda3\\lib\\site-packages\\sklearn\\preprocessing\\_label.py\u001b[0m in \u001b[0;36mtransform\u001b[1;34m(self, y)\u001b[0m\n\u001b[0;32m    136\u001b[0m             \u001b[1;32mreturn\u001b[0m \u001b[0mnp\u001b[0m\u001b[1;33m.\u001b[0m\u001b[0marray\u001b[0m\u001b[1;33m(\u001b[0m\u001b[1;33m[\u001b[0m\u001b[1;33m]\u001b[0m\u001b[1;33m)\u001b[0m\u001b[1;33m\u001b[0m\u001b[1;33m\u001b[0m\u001b[0m\n\u001b[0;32m    137\u001b[0m \u001b[1;33m\u001b[0m\u001b[0m\n\u001b[1;32m--> 138\u001b[1;33m         \u001b[1;32mreturn\u001b[0m \u001b[0m_encode\u001b[0m\u001b[1;33m(\u001b[0m\u001b[0my\u001b[0m\u001b[1;33m,\u001b[0m \u001b[0muniques\u001b[0m\u001b[1;33m=\u001b[0m\u001b[0mself\u001b[0m\u001b[1;33m.\u001b[0m\u001b[0mclasses_\u001b[0m\u001b[1;33m)\u001b[0m\u001b[1;33m\u001b[0m\u001b[1;33m\u001b[0m\u001b[0m\n\u001b[0m\u001b[0;32m    139\u001b[0m \u001b[1;33m\u001b[0m\u001b[0m\n\u001b[0;32m    140\u001b[0m     \u001b[1;32mdef\u001b[0m \u001b[0minverse_transform\u001b[0m\u001b[1;33m(\u001b[0m\u001b[0mself\u001b[0m\u001b[1;33m,\u001b[0m \u001b[0my\u001b[0m\u001b[1;33m)\u001b[0m\u001b[1;33m:\u001b[0m\u001b[1;33m\u001b[0m\u001b[1;33m\u001b[0m\u001b[0m\n",
      "\u001b[1;32m~\\anaconda3\\lib\\site-packages\\sklearn\\utils\\_encode.py\u001b[0m in \u001b[0;36m_encode\u001b[1;34m(values, uniques, check_unknown)\u001b[0m\n\u001b[0;32m    178\u001b[0m             \u001b[1;32mreturn\u001b[0m \u001b[0m_map_to_integer\u001b[0m\u001b[1;33m(\u001b[0m\u001b[0mvalues\u001b[0m\u001b[1;33m,\u001b[0m \u001b[0muniques\u001b[0m\u001b[1;33m)\u001b[0m\u001b[1;33m\u001b[0m\u001b[1;33m\u001b[0m\u001b[0m\n\u001b[0;32m    179\u001b[0m         \u001b[1;32mexcept\u001b[0m \u001b[0mKeyError\u001b[0m \u001b[1;32mas\u001b[0m \u001b[0me\u001b[0m\u001b[1;33m:\u001b[0m\u001b[1;33m\u001b[0m\u001b[1;33m\u001b[0m\u001b[0m\n\u001b[1;32m--> 180\u001b[1;33m             \u001b[1;32mraise\u001b[0m \u001b[0mValueError\u001b[0m\u001b[1;33m(\u001b[0m\u001b[1;34mf\"y contains previously unseen labels: {str(e)}\"\u001b[0m\u001b[1;33m)\u001b[0m\u001b[1;33m\u001b[0m\u001b[1;33m\u001b[0m\u001b[0m\n\u001b[0m\u001b[0;32m    181\u001b[0m     \u001b[1;32melse\u001b[0m\u001b[1;33m:\u001b[0m\u001b[1;33m\u001b[0m\u001b[1;33m\u001b[0m\u001b[0m\n\u001b[0;32m    182\u001b[0m         \u001b[1;32mif\u001b[0m \u001b[0mcheck_unknown\u001b[0m\u001b[1;33m:\u001b[0m\u001b[1;33m\u001b[0m\u001b[1;33m\u001b[0m\u001b[0m\n",
      "\u001b[1;31mValueError\u001b[0m: y contains previously unseen labels: '통행료'"
     ]
    }
   ],
   "source": [
    "import pandas as pd\n",
    "import os\n",
    "import matplotlib.pyplot as plt\n",
    "import matplotlib.pyplot as plt\n",
    "import datetime \n",
    "\n",
    "path1=os.listdir(\"ppp/open/test/\")\n",
    "\n",
    "data=1\n",
    "ll441=[]\n",
    "ll442=[]\n",
    "\n",
    "for num in range(6):\n",
    "    for j in path1:\n",
    "        a=os.listdir(f\"ppp/open/test/{j}\")\n",
    "        p=[]\n",
    "        for i in a[num:num+1]:\n",
    "            p=pd.read_parquet(f\"ppp/open/test/{j}/{i}\").drop(\"기준년월\",axis=1)\n",
    "            data=pd.merge(data,p,on=\"ID\",how=\"inner\") if j!=\"1.회원정보\" else p\n",
    "\n",
    "            #print(j,i)\n",
    "\n",
    "    # 열버리기\n",
    "    #data=data.drop([\"ID\"],axis=1)\n",
    "    #print(data['연회비발생카드수_B0M'])\n",
    "    #from sklearn.preprocessing import LabelEncoder\n",
    "    #data[\"Segment\"]=data[\"Segment\"].apply(lambda x: 1 if x==\"B\" else 0)\n",
    "    #led={}\n",
    "    data=data.drop([\"ID\"],axis=1)\n",
    "    for i in data.columns:\n",
    "        #le = LabelEncoder()\n",
    "        if data[i].dtype=='O':\n",
    "            data[i]=led[i].transform(data[i])\n",
    "    #y=data[\"Segment\"]\n",
    "\n",
    "    \n",
    "    #x=x.dropna(axis=1)\n",
    "    x14=x14.fillna(x.mean())\n",
    "\n",
    "    \n",
    "\n",
    "    pred=model.predict(x14)\n",
    "    ll441.append(model.predict(x14))\n",
    "    ll442.append(model.predict_proba(x14))\n",
    "    print(np.unique(pred,return_counts=True))\n",
    "    print(np.where(pred==1))\n",
    "    #dp=pd.DataFrame(model.predict_proba(x))\n",
    "        #print(dp[dp[1]>0.5])"
   ]
  },
  {
   "cell_type": "code",
   "execution_count": null,
   "id": "4c8661da",
   "metadata": {},
   "outputs": [],
   "source": []
  },
  {
   "cell_type": "code",
   "execution_count": null,
   "id": "03f43dff",
   "metadata": {},
   "outputs": [],
   "source": []
  },
  {
   "cell_type": "code",
   "execution_count": 2,
   "id": "219da4fc",
   "metadata": {},
   "outputs": [],
   "source": [
    "import os\n",
    "import pickle\n",
    "from sklearn.model_selection import train_test_split\n",
    "import numpy as np\n",
    "import pandas as pd\n",
    "import os\n",
    "import pickle\n",
    "\n",
    "num=31#max(list(map(lambda x: int(x.split(\"_\")[-1]),os.listdir(\"ppp/open/datas20\"))))\n",
    "\n",
    "mean123=pd.read_csv(f\"ppp/open/datas/data_31/1118628_987_no_pca_min_max_mean.csv\")\n",
    "\n",
    "with open(f\"ppp/open/datas/data_{num}/all_led.pickle\", 'rb') as f: \n",
    "    led = pickle.load(f)\n",
    "with open(f\"ppp/open/datas/data_{num}/all_led2.pickle\", 'rb') as f: \n",
    "    led2_value = pickle.load(f)\n",
    "with open(f\"ppp/open/datas/data_{num}/all_hh.pickle\", 'rb') as f: \n",
    "    hh = pickle.load(f)\n",
    "with open(f\"ppp/open/datas/data_{num}/all_tca.pickle\", 'rb') as f: \n",
    "    tca = pickle.load(f)"
   ]
  },
  {
   "cell_type": "markdown",
   "id": "9e8bf1d8",
   "metadata": {},
   "source": [
    "## 테스트 데이터 로드 + 전처리"
   ]
  },
  {
   "cell_type": "code",
   "execution_count": 13,
   "id": "df944781",
   "metadata": {},
   "outputs": [],
   "source": [
    "del x,y"
   ]
  },
  {
   "cell_type": "code",
   "execution_count": 57,
   "id": "fd8afc57",
   "metadata": {
    "scrolled": true
   },
   "outputs": [
    {
     "name": "stdout",
     "output_type": "stream",
     "text": [
      "xgb_an_100_0_25_56811_6_09_0910.model\n"
     ]
    }
   ],
   "source": [
    "import os\n",
    "import xgboost as xgb\n",
    "import warnings\n",
    "warnings.filterwarnings(\"ignore\")\n",
    "from sklearn.model_selection import train_test_split\n",
    "import numpy as np\n",
    "from sklearn.metrics import accuracy_score,f1_score,confusion_matrix\n",
    "import datetime\n",
    "#model_list=list(filter(lambda x : x.split(\"_\")[2]==\"113\",os.listdir(\"ppp/open/models3_5_5_2\")))\n",
    "model_list=os.listdir(\"ppp/open/max_dtal_1_model2/\")\n",
    "t1a=[]\n",
    "for i in model_list:\n",
    "    print(i)\n",
    "    xgb_model=xgb.Booster()\n",
    "    xgb_model.load_model(f\"ppp/open/71_model/xgb_an_0_25_11111_6_09_0873.model\")\n",
    "    t1a.append(xgb_model)\n",
    "    break"
   ]
  },
  {
   "cell_type": "code",
   "execution_count": 5,
   "id": "ed4269eb",
   "metadata": {},
   "outputs": [],
   "source": [
    "import os\n",
    "import xgboost as xgb\n",
    "import warnings\n",
    "warnings.filterwarnings(\"ignore\")\n",
    "from sklearn.model_selection import train_test_split\n",
    "import numpy as np\n",
    "from sklearn.metrics import accuracy_score,f1_score,confusion_matrix\n",
    "import datetime\n",
    "t1a=[]\n",
    "xgb_model=xgb.Booster()\n",
    "xgb_model.load_model(f\"ppp/open/models3_5_5_all/\")\n",
    "t1a.append(xgb_model)\n",
    "\n"
   ]
  },
  {
   "cell_type": "code",
   "execution_count": 15,
   "id": "9b13855c",
   "metadata": {},
   "outputs": [],
   "source": [
    "t1a=models"
   ]
  },
  {
   "cell_type": "code",
   "execution_count": 58,
   "id": "1d308e57",
   "metadata": {
    "scrolled": true
   },
   "outputs": [
    {
     "name": "stdout",
     "output_type": "stream",
     "text": [
      "(100000, 745)\n",
      "(array([0, 1, 2, 3, 4], dtype=int64), array([   25,     2,  5230, 15622, 79121], dtype=int64))\n",
      "(array([14256, 47520], dtype=int64),)\n",
      "(array([0, 1, 2, 3, 4], dtype=int64), array([   25,     2,  5230, 15622, 79121], dtype=int64))\n",
      "(array([14256, 47520], dtype=int64),)\n",
      "(array([0, 1, 2, 3, 4], dtype=int64), array([   25,     2,  5230, 15622, 79121], dtype=int64))\n",
      "(array([14256, 47520], dtype=int64),)\n",
      "(100000, 745)\n",
      "(array([0, 1, 2, 3, 4], dtype=int64), array([   20,     1,  5160, 15683, 79136], dtype=int64))\n",
      "(array([14256], dtype=int64),)\n",
      "(array([0, 1, 2, 3, 4], dtype=int64), array([   20,     1,  5160, 15683, 79136], dtype=int64))\n",
      "(array([14256], dtype=int64),)\n",
      "(array([0, 1, 2, 3, 4], dtype=int64), array([   20,     1,  5160, 15683, 79136], dtype=int64))\n",
      "(array([14256], dtype=int64),)\n",
      "(100000, 745)\n",
      "(array([0, 1, 2, 3, 4], dtype=int64), array([   18,     2,  5135, 15569, 79276], dtype=int64))\n",
      "(array([14256, 47520], dtype=int64),)\n",
      "(array([0, 1, 2, 3, 4], dtype=int64), array([   18,     2,  5135, 15569, 79276], dtype=int64))\n",
      "(array([14256, 47520], dtype=int64),)\n",
      "(array([0, 1, 2, 3, 4], dtype=int64), array([   18,     2,  5135, 15569, 79276], dtype=int64))\n",
      "(array([14256, 47520], dtype=int64),)\n",
      "(100000, 745)\n",
      "(array([0, 1, 2, 3, 4], dtype=int64), array([   17,     1,  5124, 15643, 79215], dtype=int64))\n",
      "(array([14256], dtype=int64),)\n",
      "(array([0, 1, 2, 3, 4], dtype=int64), array([   17,     1,  5124, 15643, 79215], dtype=int64))\n",
      "(array([14256], dtype=int64),)\n",
      "(array([0, 1, 2, 3, 4], dtype=int64), array([   17,     1,  5124, 15643, 79215], dtype=int64))\n",
      "(array([14256], dtype=int64),)\n",
      "(100000, 745)\n",
      "(array([0, 1, 2, 3, 4], dtype=int64), array([   15,     1,  5041, 15708, 79235], dtype=int64))\n",
      "(array([22442], dtype=int64),)\n",
      "(array([0, 1, 2, 3, 4], dtype=int64), array([   15,     1,  5041, 15708, 79235], dtype=int64))\n",
      "(array([22442], dtype=int64),)\n",
      "(array([0, 1, 2, 3, 4], dtype=int64), array([   15,     1,  5041, 15708, 79235], dtype=int64))\n",
      "(array([22442], dtype=int64),)\n",
      "(100000, 745)\n",
      "(array([0, 1, 2, 3, 4], dtype=int64), array([   19,     1,  4979, 15790, 79211], dtype=int64))\n",
      "(array([47520], dtype=int64),)\n",
      "(array([0, 1, 2, 3, 4], dtype=int64), array([   19,     1,  4979, 15790, 79211], dtype=int64))\n",
      "(array([47520], dtype=int64),)\n",
      "(array([0, 1, 2, 3, 4], dtype=int64), array([   19,     1,  4979, 15790, 79211], dtype=int64))\n",
      "(array([47520], dtype=int64),)\n"
     ]
    }
   ],
   "source": [
    "import pandas as pd\n",
    "import os\n",
    "import matplotlib.pyplot as plt\n",
    "import matplotlib.pyplot as plt\n",
    "import datetime \n",
    "hjk = {\"연체일수_B2M\" :[0, 1],\n",
    "\"연체일수_B1M\" :[0, 1, 2],\n",
    "\"최종연체회차\" :[0, 1],\n",
    "\"연체일수_최근\" :[0, 1, 2]}\n",
    "hjk2={\"rv최초시작후경과일\":[0],\n",
    "    \"최종카드론이용경과월\":[100],\n",
    "\"최초카드론이용경과월\":[999],\n",
    " }\n",
    "\n",
    "#x10101= dict(zip(x10101,[[10101]]*len(x10101)))\n",
    "\n",
    "x10101 ={ '최종이용일자_CA' :[0],\n",
    "'최종이용일자_기본' :[0],\n",
    "'최종이용일자_신판' :[0],\n",
    "'최종이용일자_일시불' :[0],\n",
    "'최종이용일자_체크' :[0],\n",
    "'최종이용일자_카드론': [0],\n",
    "'최종이용일자_할부' :[0]}\n",
    "\n",
    "if \"ID\" in led:\n",
    "    led.remove(\"ID\")\n",
    "    led.remove(\"Segment\")\n",
    "# 날짜 변환함수\n",
    "def day(x):\n",
    "    if not pd.isna(x):\n",
    "        x=str(int(x))\n",
    "        if len(x)>5:\n",
    "            if len(x)>7:\n",
    "                return (datetime.datetime.strptime(\"20250414\",\"%Y%m%d\")-datetime.datetime.strptime(x,\"%Y%m%d\")).days\n",
    "            else:\n",
    "                return (datetime.datetime.strptime(\"202504\",\"%Y%m\")-datetime.datetime.strptime(x,\"%Y%m\")).days\n",
    "        return 0#10101\n",
    "    return np.nan\n",
    "\n",
    "# 데이터 가져오기 \n",
    "path1=os.listdir(\"ppp/open/test/\")\n",
    "\n",
    "data=1\n",
    "ll441=[]\n",
    "ll442=[]\n",
    "ll443=[]\n",
    "for num in range(6):\n",
    "    for j in path1:\n",
    "        a=os.listdir(f\"ppp/open/test/{j}\")\n",
    "        p=[]\n",
    "        for i in a[num:num+1]:\n",
    "            p=pd.read_parquet(f\"ppp/open/test/{j}/{i}\").drop(\"기준년월\",axis=1)\n",
    "            data=pd.merge(data,p,on=\"ID\",how=\"inner\") if j!=\"1.회원정보\" else p\n",
    "\n",
    "            #print(j,i)\n",
    "\n",
    "    # 열버리기\n",
    "    data=data.drop([\"ID\"],axis=1)\n",
    "    data[\"month\"]=f\"{7+num}\"\n",
    "    #print(data['연회비발생카드수_B0M'])\n",
    "    \n",
    "\n",
    "    x14=data[led]\n",
    "    print(x14.shape)\n",
    "\n",
    "    # 문자열 변화\n",
    "    for i in led2_value.keys():\n",
    "        for j in led2_value[i]:\n",
    "            x14[f\"{i}_{j}\"]=(x14[i]==j)\n",
    "            #print(i,j)\n",
    "    x14.drop(led2_value.keys(),inplace=True,axis=1)\n",
    "    # 날자변경\n",
    "    for i in x14.columns:\n",
    "        for j in [\"일자\",\"년월\"]:\n",
    "            if j in i:\n",
    "                #print(i,x[i][0])\n",
    "                x14[i]=x14[i].apply(day)\n",
    "    # 문자열 변화 2 \n",
    "    for i in hh.keys():\n",
    "        x14[i][x14[i]==hh[i][0]]=hh[i][1]\n",
    "        #print(i,sorted(x[i].unique()))\n",
    "\n",
    "    for i in hjk.keys():\n",
    "        for j in hjk[i]:\n",
    "            x14[f\"{i}_{j}\"]=(x14[i]==j)\n",
    "            #print(i,j)\n",
    "    for i in hjk2.keys():\n",
    "        for j in hjk2[i]:\n",
    "            x14[f\"{i}_{j}\"]=(x14[i]==j)\n",
    "   \n",
    "    for i in x10101.keys():\n",
    "        for j in x10101[i]:\n",
    "            x14[f\"{i}_{j}\"]=(x14[i]==j)\n",
    "            \n",
    "    x14.drop(hjk.keys(),inplace=True,axis=1)\n",
    "    # 결측 \n",
    "    x14=x14.fillna(mean123)\n",
    "    x14=tca.transform(x14)\n",
    "    x14 = xgb.DMatrix(x14)\n",
    "    \n",
    "    ans_pro_l=[]\n",
    "    for xgmon,x_modex in enumerate(t1a):\n",
    "        '''\n",
    "        if xgmon<8:\n",
    "            dfaq13=1\n",
    "        elif xgmon<20:\n",
    "            dfaq13=8/12\n",
    "        elif xgmon<36:\n",
    "            dfaq13=8/16\n",
    "        else:\n",
    "            dfaq13=8/20\n",
    "        ''' \n",
    "        pred=x_modex.predict(x14)#*dfaq13\n",
    "        #ll443.append(pred.argmax(axis=1))\n",
    "        if xgmon==0:\n",
    "            pred_max=pred\n",
    "            pred_mean=pred\n",
    "        else:\n",
    "            pred_max=np.where(pred_max<pred,pred,pred_max)\n",
    "            pred_mean=(pred+pred_mean)\n",
    "            \n",
    "            \n",
    "   # preds=np.array(ans_pro_l)\n",
    "    ll442.append(pred_mean)\n",
    "    ll441.append(pred_max)\n",
    "    predst = (pred).argmax(axis=1)\n",
    "    pred_max = (pred_max).argmax(axis=1)\n",
    "    pred_mean = (pred_mean).argmax(axis=1)\n",
    "    #ll441.append(pred_max)\n",
    "    print(np.unique(predst,return_counts=True))\n",
    "    print(np.where(predst==1))\n",
    "    print(np.unique(pred_max,return_counts=True))\n",
    "    print(np.where(pred_max==1))\n",
    "    print(np.unique(pred_mean,return_counts=True))\n",
    "    print(np.where(pred_mean==1))\n",
    "    #print(np.unique(pred,return_counts=True))\n",
    "    #print(np.where(pred==1))\n",
    "    #dp=pd.DataFrame(model.predict_proba(x))\n",
    "        #print(dp[dp[1]>0.5])"
   ]
  },
  {
   "cell_type": "code",
   "execution_count": 67,
   "id": "fa4b21f6",
   "metadata": {},
   "outputs": [
    {
     "name": "stdout",
     "output_type": "stream",
     "text": [
      "(array([0, 1, 2, 3, 4], dtype=int64), array([   15,     1,  4997, 15464, 79523], dtype=int64))\n"
     ]
    }
   ],
   "source": [
    "print(np.unique(np.array(ll442).mean(axis=0).argmax(axis=1),return_counts=True))\n",
    "\n",
    "flp2=np.array(ll442).mean(axis=0).argmax(axis=1)"
   ]
  },
  {
   "cell_type": "code",
   "execution_count": 59,
   "id": "403c2c4e",
   "metadata": {},
   "outputs": [
    {
     "name": "stdout",
     "output_type": "stream",
     "text": [
      "(array([0, 1, 2, 3, 4], dtype=int64), array([   16,     1,  5026, 15332, 79625], dtype=int64))\n",
      "(array([    7,    13,    15, ..., 99996, 99997, 99999], dtype=int64), array([4, 4, 4, ..., 4, 4, 4], dtype=int64))\n"
     ]
    }
   ],
   "source": [
    "print(np.unique(np.hstack(ll442[:]).argmax(axis=1)%5,return_counts=True))\n",
    "print(np.where(pred==1))\n",
    "preds=np.hstack(ll442).argmax(axis=1)%5"
   ]
  },
  {
   "cell_type": "code",
   "execution_count": 8,
   "id": "70e08176",
   "metadata": {},
   "outputs": [],
   "source": [
    "flp=ll442[0].argmax(axis=1)#%5"
   ]
  },
  {
   "cell_type": "code",
   "execution_count": 39,
   "id": "23e82c73",
   "metadata": {},
   "outputs": [],
   "source": [
    "flp2=np.hstack(ll442[:]).argmax(axis=1)%5"
   ]
  },
  {
   "cell_type": "code",
   "execution_count": 68,
   "id": "bc748bfe",
   "metadata": {},
   "outputs": [
    {
     "data": {
      "text/plain": [
       "Segment\n",
       "E    79523\n",
       "D    15464\n",
       "C     4997\n",
       "A       15\n",
       "B        1\n",
       "dtype: int64"
      ]
     },
     "execution_count": 68,
     "metadata": {},
     "output_type": "execute_result"
    }
   ],
   "source": [
    "\n",
    "p0=pd.read_csv(\"ppp/open/sample_submission.csv\")\n",
    "p0[\"Segment\"]=flp2#np.hstack(ll442[:]).argmax(axis=1)%5\n",
    "gga1=dict(zip([0,1,2,3,4],[\"A\",\"B\",\"C\",\"D\",\"E\"]))\n",
    "p0[\"Segment\"]=p0[\"Segment\"].apply(lambda x: gga1[x])\n",
    "p0.value_counts(\"Segment\")"
   ]
  },
  {
   "cell_type": "code",
   "execution_count": 69,
   "id": "10466a45",
   "metadata": {},
   "outputs": [
    {
     "data": {
      "text/plain": [
       "Segment\n",
       "E    79321\n",
       "D    15635\n",
       "C     4993\n",
       "A       48\n",
       "B        3\n",
       "dtype: int64"
      ]
     },
     "execution_count": 69,
     "metadata": {},
     "output_type": "execute_result"
    }
   ],
   "source": [
    "p1=pd.read_csv(\"ppp/open/sample_submission_all_adasy_30_10000.csv\")\n",
    "p1.value_counts(\"Segment\")"
   ]
  },
  {
   "cell_type": "code",
   "execution_count": 70,
   "id": "a5c8fe61",
   "metadata": {},
   "outputs": [
    {
     "data": {
      "text/plain": [
       "Segment\n",
       "E    79523\n",
       "D    15463\n",
       "C     4961\n",
       "A       49\n",
       "B        4\n",
       "dtype: int64"
      ]
     },
     "execution_count": 70,
     "metadata": {},
     "output_type": "execute_result"
    }
   ],
   "source": [
    "#p0.iloc[p0[\"Segment\"]==\"A\",1]=\"C\"\n",
    "\n",
    "p0.iloc[p1[\"Segment\"]==\"A\",1]=\"A\"\n",
    "p0.iloc[p1[\"Segment\"]==\"B\",1]=\"B\"\n",
    "p0.iloc[[22442],1]=\"B\"\n",
    "p0.value_counts(\"Segment\")"
   ]
  },
  {
   "cell_type": "code",
   "execution_count": null,
   "id": "a0e61438",
   "metadata": {},
   "outputs": [],
   "source": []
  },
  {
   "cell_type": "code",
   "execution_count": null,
   "id": "1b835d33",
   "metadata": {},
   "outputs": [],
   "source": [
    "E    79625\n",
    "D    15331\n",
    "C     4993\n",
    "A       48\n",
    "B        3"
   ]
  },
  {
   "cell_type": "code",
   "execution_count": 66,
   "id": "f79a024c",
   "metadata": {},
   "outputs": [
    {
     "data": {
      "text/plain": [
       "Segment\n",
       "E    79523\n",
       "D    15463\n",
       "C     4960\n",
       "A       49\n",
       "B        5\n",
       "dtype: int64"
      ]
     },
     "execution_count": 66,
     "metadata": {},
     "output_type": "execute_result"
    }
   ],
   "source": [
    "p0.value_counts(\"Segment\")"
   ]
  },
  {
   "cell_type": "code",
   "execution_count": 23,
   "id": "c9513b5d",
   "metadata": {},
   "outputs": [
    {
     "name": "stdout",
     "output_type": "stream",
     "text": [
      "11001\n"
     ]
    }
   ],
   "source": [
    "print(t1a[0].num_boosted_rounds())"
   ]
  },
  {
   "cell_type": "code",
   "execution_count": 71,
   "id": "70814915",
   "metadata": {},
   "outputs": [],
   "source": [
    "p0.to_csv(\"ppp/open/sample_submission_all_001_6_09_08_7000_07m_max_kfold_4_07m_12m_01__mean_no.csv\",index=False,encoding=\"utf-8-sig\")"
   ]
  },
  {
   "cell_type": "code",
   "execution_count": 51,
   "id": "76e50c8a",
   "metadata": {},
   "outputs": [
    {
     "data": {
      "text/plain": [
       "Segment\n",
       "E    79159\n",
       "D    15512\n",
       "C     5277\n",
       "A       49\n",
       "B        3\n",
       "dtype: int64"
      ]
     },
     "execution_count": 51,
     "metadata": {},
     "output_type": "execute_result"
    }
   ],
   "source": [
    "p1=pd.read_csv(\"ppp/open/sample_submission_all_001_6_09_08_7000_07m_max_kfold_4_07m_12m_01_040506.csv\")\n",
    "p1.value_counts(\"Segment\")"
   ]
  },
  {
   "cell_type": "code",
   "execution_count": null,
   "id": "f4daf90b",
   "metadata": {},
   "outputs": [],
   "source": []
  },
  {
   "cell_type": "code",
   "execution_count": 29,
   "id": "68860ceb",
   "metadata": {
    "scrolled": true
   },
   "outputs": [
    {
     "data": {
      "text/plain": [
       "Segment\n",
       "E    79121\n",
       "D    15622\n",
       "C     5230\n",
       "A       25\n",
       "B        2\n",
       "dtype: int64"
      ]
     },
     "execution_count": 29,
     "metadata": {},
     "output_type": "execute_result"
    }
   ],
   "source": [
    "\n",
    "p0=pd.read_csv(\"ppp/open/sample_submission.csv\")\n",
    "p0[\"Segment\"]=ll442[0].argmax(axis=1)\n",
    "gga1=dict(zip([0,1,2,3,4],[\"A\",\"B\",\"C\",\"D\",\"E\"]))\n",
    "p0[\"Segment\"]=p0[\"Segment\"].apply(lambda x: gga1[x])\n",
    "p0.value_counts(\"Segment\")"
   ]
  },
  {
   "cell_type": "code",
   "execution_count": 30,
   "id": "ba57451b",
   "metadata": {},
   "outputs": [],
   "source": [
    "p0.to_csv(\"ppp/open/sample_submission_all_adasy_6_09_09_10000_07m.csv\",index=False,encoding=\"utf-8-sig\")"
   ]
  },
  {
   "cell_type": "code",
   "execution_count": 25,
   "id": "439cc52a",
   "metadata": {
    "scrolled": true
   },
   "outputs": [
    {
     "data": {
      "text/plain": [
       "Segment\n",
       "E    79121\n",
       "D    15621\n",
       "C     5207\n",
       "A       48\n",
       "B        3\n",
       "dtype: int64"
      ]
     },
     "execution_count": 25,
     "metadata": {},
     "output_type": "execute_result"
    }
   ],
   "source": [
    "p0.iloc[p0[\"Segment\"]==\"A\",1]=\"C\"\n",
    "\n",
    "p0.iloc[p1[\"Segment\"]==\"A\",1]=\"A\"\n",
    "p0.iloc[p1[\"Segment\"]==\"B\",1]=\"B\"\n",
    "p0.value_counts(\"Segment\")"
   ]
  },
  {
   "cell_type": "code",
   "execution_count": 26,
   "id": "9091a372",
   "metadata": {},
   "outputs": [],
   "source": [
    "p0.to_csv(\"ppp/open/sample_submission_all_adasy_6_09_09_10000.csv\",index=False,encoding=\"utf-8-sig\")"
   ]
  },
  {
   "cell_type": "code",
   "execution_count": 27,
   "id": "972ef908",
   "metadata": {},
   "outputs": [
    {
     "data": {
      "text/html": [
       "<div>\n",
       "<style scoped>\n",
       "    .dataframe tbody tr th:only-of-type {\n",
       "        vertical-align: middle;\n",
       "    }\n",
       "\n",
       "    .dataframe tbody tr th {\n",
       "        vertical-align: top;\n",
       "    }\n",
       "\n",
       "    .dataframe thead th {\n",
       "        text-align: right;\n",
       "    }\n",
       "</style>\n",
       "<table border=\"1\" class=\"dataframe\">\n",
       "  <thead>\n",
       "    <tr style=\"text-align: right;\">\n",
       "      <th></th>\n",
       "      <th>ID</th>\n",
       "      <th>Segment</th>\n",
       "    </tr>\n",
       "  </thead>\n",
       "  <tbody>\n",
       "    <tr>\n",
       "      <th>0</th>\n",
       "      <td>TEST_00000</td>\n",
       "      <td>D</td>\n",
       "    </tr>\n",
       "    <tr>\n",
       "      <th>1</th>\n",
       "      <td>TEST_00001</td>\n",
       "      <td>E</td>\n",
       "    </tr>\n",
       "    <tr>\n",
       "      <th>2</th>\n",
       "      <td>TEST_00002</td>\n",
       "      <td>D</td>\n",
       "    </tr>\n",
       "    <tr>\n",
       "      <th>3</th>\n",
       "      <td>TEST_00003</td>\n",
       "      <td>E</td>\n",
       "    </tr>\n",
       "    <tr>\n",
       "      <th>4</th>\n",
       "      <td>TEST_00004</td>\n",
       "      <td>E</td>\n",
       "    </tr>\n",
       "    <tr>\n",
       "      <th>...</th>\n",
       "      <td>...</td>\n",
       "      <td>...</td>\n",
       "    </tr>\n",
       "    <tr>\n",
       "      <th>99995</th>\n",
       "      <td>TEST_99995</td>\n",
       "      <td>E</td>\n",
       "    </tr>\n",
       "    <tr>\n",
       "      <th>99996</th>\n",
       "      <td>TEST_99996</td>\n",
       "      <td>E</td>\n",
       "    </tr>\n",
       "    <tr>\n",
       "      <th>99997</th>\n",
       "      <td>TEST_99997</td>\n",
       "      <td>E</td>\n",
       "    </tr>\n",
       "    <tr>\n",
       "      <th>99998</th>\n",
       "      <td>TEST_99998</td>\n",
       "      <td>C</td>\n",
       "    </tr>\n",
       "    <tr>\n",
       "      <th>99999</th>\n",
       "      <td>TEST_99999</td>\n",
       "      <td>E</td>\n",
       "    </tr>\n",
       "  </tbody>\n",
       "</table>\n",
       "<p>100000 rows × 2 columns</p>\n",
       "</div>"
      ],
      "text/plain": [
       "               ID Segment\n",
       "0      TEST_00000       D\n",
       "1      TEST_00001       E\n",
       "2      TEST_00002       D\n",
       "3      TEST_00003       E\n",
       "4      TEST_00004       E\n",
       "...           ...     ...\n",
       "99995  TEST_99995       E\n",
       "99996  TEST_99996       E\n",
       "99997  TEST_99997       E\n",
       "99998  TEST_99998       C\n",
       "99999  TEST_99999       E\n",
       "\n",
       "[100000 rows x 2 columns]"
      ]
     },
     "execution_count": 27,
     "metadata": {},
     "output_type": "execute_result"
    }
   ],
   "source": [
    "p0#.value_counts(\"Segment\")"
   ]
  },
  {
   "cell_type": "code",
   "execution_count": 16,
   "id": "7c3b2c3b",
   "metadata": {},
   "outputs": [
    {
     "data": {
      "text/plain": [
       "Segment\n",
       "E    78836\n",
       "D    15856\n",
       "C     5258\n",
       "A       47\n",
       "B        3\n",
       "dtype: int64"
      ]
     },
     "execution_count": 16,
     "metadata": {},
     "output_type": "execute_result"
    }
   ],
   "source": [
    "p1=pd.read_csv(\"ppp/open/sample_submission_no_pca_982_all_200_1_20_35_35_79_down_my_30max_a01_11_kfold.csv\")\n",
    "p1.value_counts(\"Segment\")"
   ]
  },
  {
   "cell_type": "code",
   "execution_count": null,
   "id": "c48ef014",
   "metadata": {},
   "outputs": [],
   "source": []
  },
  {
   "cell_type": "code",
   "execution_count": 18,
   "id": "2a7100d0",
   "metadata": {},
   "outputs": [
    {
     "data": {
      "text/plain": [
       "Segment\n",
       "E    79321\n",
       "D    15635\n",
       "C     4993\n",
       "A       48\n",
       "B        3\n",
       "dtype: int64"
      ]
     },
     "execution_count": 18,
     "metadata": {},
     "output_type": "execute_result"
    }
   ],
   "source": [
    "p1=pd.read_csv(\"ppp/open/sample_submission_all_adasy_30_10000.csv\")\n",
    "p1.value_counts(\"Segment\")"
   ]
  },
  {
   "cell_type": "code",
   "execution_count": 17,
   "id": "0ab13b34",
   "metadata": {},
   "outputs": [
    {
     "data": {
      "text/html": [
       "<div>\n",
       "<style scoped>\n",
       "    .dataframe tbody tr th:only-of-type {\n",
       "        vertical-align: middle;\n",
       "    }\n",
       "\n",
       "    .dataframe tbody tr th {\n",
       "        vertical-align: top;\n",
       "    }\n",
       "\n",
       "    .dataframe thead th {\n",
       "        text-align: right;\n",
       "    }\n",
       "</style>\n",
       "<table border=\"1\" class=\"dataframe\">\n",
       "  <thead>\n",
       "    <tr style=\"text-align: right;\">\n",
       "      <th></th>\n",
       "      <th>0</th>\n",
       "      <th>1</th>\n",
       "      <th>2</th>\n",
       "      <th>3</th>\n",
       "      <th>4</th>\n",
       "    </tr>\n",
       "  </thead>\n",
       "  <tbody>\n",
       "    <tr>\n",
       "      <th>0</th>\n",
       "      <td>4.851117e-07</td>\n",
       "      <td>2.410338e-06</td>\n",
       "      <td>1.925889e-03</td>\n",
       "      <td>9.249136e-01</td>\n",
       "      <td>7.315755e-02</td>\n",
       "    </tr>\n",
       "    <tr>\n",
       "      <th>1</th>\n",
       "      <td>2.961581e-09</td>\n",
       "      <td>7.306760e-08</td>\n",
       "      <td>1.314948e-06</td>\n",
       "      <td>1.519364e-03</td>\n",
       "      <td>9.984793e-01</td>\n",
       "    </tr>\n",
       "    <tr>\n",
       "      <th>2</th>\n",
       "      <td>7.533076e-08</td>\n",
       "      <td>7.552279e-07</td>\n",
       "      <td>5.408830e-05</td>\n",
       "      <td>9.082879e-01</td>\n",
       "      <td>9.165709e-02</td>\n",
       "    </tr>\n",
       "    <tr>\n",
       "      <th>3</th>\n",
       "      <td>3.729116e-12</td>\n",
       "      <td>2.008005e-11</td>\n",
       "      <td>1.035724e-11</td>\n",
       "      <td>2.966018e-09</td>\n",
       "      <td>1.000000e+00</td>\n",
       "    </tr>\n",
       "    <tr>\n",
       "      <th>4</th>\n",
       "      <td>2.901409e-12</td>\n",
       "      <td>3.796494e-11</td>\n",
       "      <td>5.012567e-11</td>\n",
       "      <td>9.410555e-09</td>\n",
       "      <td>1.000000e+00</td>\n",
       "    </tr>\n",
       "    <tr>\n",
       "      <th>...</th>\n",
       "      <td>...</td>\n",
       "      <td>...</td>\n",
       "      <td>...</td>\n",
       "      <td>...</td>\n",
       "      <td>...</td>\n",
       "    </tr>\n",
       "    <tr>\n",
       "      <th>99995</th>\n",
       "      <td>6.214738e-11</td>\n",
       "      <td>2.274788e-10</td>\n",
       "      <td>1.984416e-09</td>\n",
       "      <td>3.132861e-08</td>\n",
       "      <td>1.000000e+00</td>\n",
       "    </tr>\n",
       "    <tr>\n",
       "      <th>99996</th>\n",
       "      <td>3.392434e-12</td>\n",
       "      <td>3.646056e-11</td>\n",
       "      <td>1.390322e-10</td>\n",
       "      <td>2.132397e-10</td>\n",
       "      <td>1.000000e+00</td>\n",
       "    </tr>\n",
       "    <tr>\n",
       "      <th>99997</th>\n",
       "      <td>1.854995e-11</td>\n",
       "      <td>1.276783e-10</td>\n",
       "      <td>1.360906e-09</td>\n",
       "      <td>3.754221e-09</td>\n",
       "      <td>1.000000e+00</td>\n",
       "    </tr>\n",
       "    <tr>\n",
       "      <th>99998</th>\n",
       "      <td>1.532696e-08</td>\n",
       "      <td>7.336335e-08</td>\n",
       "      <td>9.999808e-01</td>\n",
       "      <td>1.892577e-05</td>\n",
       "      <td>1.885940e-07</td>\n",
       "    </tr>\n",
       "    <tr>\n",
       "      <th>99999</th>\n",
       "      <td>1.347971e-12</td>\n",
       "      <td>9.224354e-12</td>\n",
       "      <td>3.078950e-10</td>\n",
       "      <td>1.997128e-10</td>\n",
       "      <td>1.000000e+00</td>\n",
       "    </tr>\n",
       "  </tbody>\n",
       "</table>\n",
       "<p>100000 rows × 5 columns</p>\n",
       "</div>"
      ],
      "text/plain": [
       "                  0             1             2             3             4\n",
       "0      4.851117e-07  2.410338e-06  1.925889e-03  9.249136e-01  7.315755e-02\n",
       "1      2.961581e-09  7.306760e-08  1.314948e-06  1.519364e-03  9.984793e-01\n",
       "2      7.533076e-08  7.552279e-07  5.408830e-05  9.082879e-01  9.165709e-02\n",
       "3      3.729116e-12  2.008005e-11  1.035724e-11  2.966018e-09  1.000000e+00\n",
       "4      2.901409e-12  3.796494e-11  5.012567e-11  9.410555e-09  1.000000e+00\n",
       "...             ...           ...           ...           ...           ...\n",
       "99995  6.214738e-11  2.274788e-10  1.984416e-09  3.132861e-08  1.000000e+00\n",
       "99996  3.392434e-12  3.646056e-11  1.390322e-10  2.132397e-10  1.000000e+00\n",
       "99997  1.854995e-11  1.276783e-10  1.360906e-09  3.754221e-09  1.000000e+00\n",
       "99998  1.532696e-08  7.336335e-08  9.999808e-01  1.892577e-05  1.885940e-07\n",
       "99999  1.347971e-12  9.224354e-12  3.078950e-10  1.997128e-10  1.000000e+00\n",
       "\n",
       "[100000 rows x 5 columns]"
      ]
     },
     "execution_count": 17,
     "metadata": {},
     "output_type": "execute_result"
    }
   ],
   "source": [
    "g1=pd.DataFrame(ll442[0])\n",
    "g1"
   ]
  },
  {
   "cell_type": "code",
   "execution_count": 59,
   "id": "39deb0b8",
   "metadata": {},
   "outputs": [
    {
     "data": {
      "text/plain": [
       "Segment\n",
       "E    79321\n",
       "D    15636\n",
       "C     5025\n",
       "A       16\n",
       "B        2\n",
       "dtype: int64"
      ]
     },
     "execution_count": 59,
     "metadata": {},
     "output_type": "execute_result"
    }
   ],
   "source": [
    "p1=pd.read_csv(\"ppp/open/sample_submission.csv\")\n",
    "p1[\"Segment\"]=ll442[0].argmax(axis=1)\n",
    "gga1=dict(zip([0,1,2,3,4],[\"A\",\"B\",\"C\",\"D\",\"E\"]))\n",
    "p1[\"Segment\"]=p1[\"Segment\"].apply(lambda x: gga1[x])\n",
    "p1.value_counts(\"Segment\")"
   ]
  },
  {
   "cell_type": "code",
   "execution_count": 60,
   "id": "2c97c57f",
   "metadata": {},
   "outputs": [
    {
     "data": {
      "text/plain": [
       "Segment\n",
       "E    78836\n",
       "D    15856\n",
       "C     5258\n",
       "A       47\n",
       "B        3\n",
       "dtype: int64"
      ]
     },
     "execution_count": 60,
     "metadata": {},
     "output_type": "execute_result"
    }
   ],
   "source": [
    "p2=pd.read_csv(\"ppp/open/sample_submission_no_pca_982_all_200_1_20_35_35_79_down_my_30max_a01_11_kfold.csv\")\n",
    "p2.value_counts(\"Segment\")"
   ]
  },
  {
   "cell_type": "code",
   "execution_count": 61,
   "id": "ee10a414",
   "metadata": {},
   "outputs": [
    {
     "data": {
      "text/plain": [
       "Segment\n",
       "E    79321\n",
       "D    15635\n",
       "C     4993\n",
       "A       48\n",
       "B        3\n",
       "dtype: int64"
      ]
     },
     "execution_count": 61,
     "metadata": {},
     "output_type": "execute_result"
    }
   ],
   "source": [
    "p1.iloc[p2[p2[\"Segment\"]==\"B\"].index,1]=\"B\"\n",
    "p1.iloc[p2[p2[\"Segment\"]==\"A\"].index,1]=\"A\"\n",
    "p1.value_counts(\"Segment\")"
   ]
  },
  {
   "cell_type": "code",
   "execution_count": 63,
   "id": "41869eb9",
   "metadata": {},
   "outputs": [
    {
     "data": {
      "text/plain": [
       "Segment\n",
       "E    79321\n",
       "D    15635\n",
       "C     4993\n",
       "A       48\n",
       "B        3\n",
       "dtype: int64"
      ]
     },
     "execution_count": 63,
     "metadata": {},
     "output_type": "execute_result"
    }
   ],
   "source": [
    "p1.to_csv(\"ppp/open/sample_submission_all_adasy_30_10000.csv\")\n",
    "p1.value_counts(\"Segment\")"
   ]
  },
  {
   "cell_type": "code",
   "execution_count": 64,
   "id": "db3aab69",
   "metadata": {},
   "outputs": [
    {
     "data": {
      "text/html": [
       "<div>\n",
       "<style scoped>\n",
       "    .dataframe tbody tr th:only-of-type {\n",
       "        vertical-align: middle;\n",
       "    }\n",
       "\n",
       "    .dataframe tbody tr th {\n",
       "        vertical-align: top;\n",
       "    }\n",
       "\n",
       "    .dataframe thead th {\n",
       "        text-align: right;\n",
       "    }\n",
       "</style>\n",
       "<table border=\"1\" class=\"dataframe\">\n",
       "  <thead>\n",
       "    <tr style=\"text-align: right;\">\n",
       "      <th></th>\n",
       "      <th>ID</th>\n",
       "      <th>Segment</th>\n",
       "    </tr>\n",
       "  </thead>\n",
       "  <tbody>\n",
       "    <tr>\n",
       "      <th>0</th>\n",
       "      <td>TEST_00000</td>\n",
       "      <td>D</td>\n",
       "    </tr>\n",
       "    <tr>\n",
       "      <th>1</th>\n",
       "      <td>TEST_00001</td>\n",
       "      <td>E</td>\n",
       "    </tr>\n",
       "    <tr>\n",
       "      <th>2</th>\n",
       "      <td>TEST_00002</td>\n",
       "      <td>D</td>\n",
       "    </tr>\n",
       "    <tr>\n",
       "      <th>3</th>\n",
       "      <td>TEST_00003</td>\n",
       "      <td>E</td>\n",
       "    </tr>\n",
       "    <tr>\n",
       "      <th>4</th>\n",
       "      <td>TEST_00004</td>\n",
       "      <td>E</td>\n",
       "    </tr>\n",
       "    <tr>\n",
       "      <th>...</th>\n",
       "      <td>...</td>\n",
       "      <td>...</td>\n",
       "    </tr>\n",
       "    <tr>\n",
       "      <th>99995</th>\n",
       "      <td>TEST_99995</td>\n",
       "      <td>E</td>\n",
       "    </tr>\n",
       "    <tr>\n",
       "      <th>99996</th>\n",
       "      <td>TEST_99996</td>\n",
       "      <td>E</td>\n",
       "    </tr>\n",
       "    <tr>\n",
       "      <th>99997</th>\n",
       "      <td>TEST_99997</td>\n",
       "      <td>E</td>\n",
       "    </tr>\n",
       "    <tr>\n",
       "      <th>99998</th>\n",
       "      <td>TEST_99998</td>\n",
       "      <td>C</td>\n",
       "    </tr>\n",
       "    <tr>\n",
       "      <th>99999</th>\n",
       "      <td>TEST_99999</td>\n",
       "      <td>E</td>\n",
       "    </tr>\n",
       "  </tbody>\n",
       "</table>\n",
       "<p>100000 rows × 2 columns</p>\n",
       "</div>"
      ],
      "text/plain": [
       "               ID Segment\n",
       "0      TEST_00000       D\n",
       "1      TEST_00001       E\n",
       "2      TEST_00002       D\n",
       "3      TEST_00003       E\n",
       "4      TEST_00004       E\n",
       "...           ...     ...\n",
       "99995  TEST_99995       E\n",
       "99996  TEST_99996       E\n",
       "99997  TEST_99997       E\n",
       "99998  TEST_99998       C\n",
       "99999  TEST_99999       E\n",
       "\n",
       "[100000 rows x 2 columns]"
      ]
     },
     "execution_count": 64,
     "metadata": {},
     "output_type": "execute_result"
    }
   ],
   "source": [
    "p1"
   ]
  },
  {
   "cell_type": "code",
   "execution_count": 65,
   "id": "2641ad8b",
   "metadata": {},
   "outputs": [],
   "source": [
    "p1.to_csv(\"ppp/open/sample_submission_all_adasy_30_10000.csv\",index=False,encoding=\"utf-8-sig\")"
   ]
  },
  {
   "cell_type": "code",
   "execution_count": 46,
   "id": "478971e5",
   "metadata": {},
   "outputs": [
    {
     "data": {
      "text/plain": [
       "array([3, 4, 3, ..., 4, 2, 4], dtype=int64)"
      ]
     },
     "execution_count": 46,
     "metadata": {},
     "output_type": "execute_result"
    }
   ],
   "source": [
    "ll442[0].argmax(axis=1)"
   ]
  },
  {
   "cell_type": "code",
   "execution_count": 43,
   "id": "1a4cc5eb",
   "metadata": {},
   "outputs": [
    {
     "data": {
      "text/plain": [
       "(array([0, 1, 2, 3, 4], dtype=int64),\n",
       " array([   11,     2,  4772, 15544, 79671], dtype=int64))"
      ]
     },
     "execution_count": 43,
     "metadata": {},
     "output_type": "execute_result"
    }
   ],
   "source": [
    "np.unique(np.array(ll442).mean(axis=0).argmax(axis=1),return_counts=True)"
   ]
  },
  {
   "cell_type": "code",
   "execution_count": 31,
   "id": "c1452904",
   "metadata": {},
   "outputs": [],
   "source": [
    "\n",
    "import matplotlib.pyplot as plt\n",
    "%matplotlib qt5\n",
    "for j in range(6):\n",
    "    g1=pd.DataFrame(ll442[j])\n",
    "    for i in [0]:\n",
    "        fag=g1[i]\n",
    "        plt.scatter(range(len(fag)),fag)\n"
   ]
  },
  {
   "cell_type": "code",
   "execution_count": null,
   "id": "b57468e9",
   "metadata": {},
   "outputs": [],
   "source": []
  },
  {
   "cell_type": "code",
   "execution_count": null,
   "id": "cd31d6f6",
   "metadata": {},
   "outputs": [],
   "source": [
    "E    78836\n",
    "D    15856\n",
    "C     5258\n",
    "A       47\n",
    "B        3"
   ]
  },
  {
   "cell_type": "code",
   "execution_count": 20,
   "id": "b76901cd",
   "metadata": {},
   "outputs": [
    {
     "name": "stdout",
     "output_type": "stream",
     "text": [
      "0 0 1.0\n",
      "0 1 0.8\n",
      "0 2 0.6666666666666666\n",
      "0 3 0.5714285714285715\n",
      "0 4 0.5\n",
      "0 5 0.4444444444444445\n",
      "0 6 0.4\n",
      "0 7 0.3636363636363636\n",
      "0 8 0.33333333333333337\n",
      "0 9 0.3076923076923077\n",
      "0 10 0.2857142857142857\n",
      "1 0 0.6666666666666666\n",
      "1 1 0.5\n",
      "1 2 0.4\n",
      "1 3 0.3333333333333333\n",
      "1 4 0.28571428571428575\n",
      "1 5 0.25\n",
      "1 6 0.22222222222222224\n",
      "1 7 0.2\n",
      "1 8 0.1818181818181818\n",
      "1 9 0.16666666666666669\n",
      "1 10 0.15384615384615385\n"
     ]
    }
   ],
   "source": [
    "def f(pre,rec):\n",
    "    return 2*(pre*rec)/(pre+rec)\n",
    "\n",
    "pre=[1,1/2]\n",
    "for n1,j in enumerate(pre):\n",
    "    for i in range(0,11):\n",
    "        if n1==0:\n",
    "            rec=2/(2+i)\n",
    "        elif n1==1:\n",
    "            rec=1/(1+i)\n",
    "        print(n1,i,f(j,rec))"
   ]
  },
  {
   "cell_type": "code",
   "execution_count": 15,
   "id": "01c0309e",
   "metadata": {},
   "outputs": [
    {
     "data": {
      "text/plain": [
       "(array([ 1242,  1870,  7000,  8045,  9694, 12129, 12508, 15258, 23825,\n",
       "        24588, 24893, 28024, 31019, 38048, 39197, 39895, 41053, 42481,\n",
       "        43890, 45995, 47959, 48389, 53109, 53258, 53525, 56681, 57192,\n",
       "        58982, 61433, 62589, 64074, 73642, 73870, 74584, 77869, 78806,\n",
       "        81114, 81971, 84241, 86956, 88257, 88359, 88823, 89692, 90740,\n",
       "        91943, 92435, 93032, 94180, 95899, 95957, 99023], dtype=int64),)"
      ]
     },
     "execution_count": 15,
     "metadata": {},
     "output_type": "execute_result"
    }
   ],
   "source": [
    "np.where(ll442[0].argmax(axis=1)==0)"
   ]
  },
  {
   "cell_type": "code",
   "execution_count": null,
   "id": "1ed47073",
   "metadata": {},
   "outputs": [],
   "source": []
  },
  {
   "cell_type": "code",
   "execution_count": 32,
   "id": "e6e491a4",
   "metadata": {},
   "outputs": [
    {
     "name": "stdout",
     "output_type": "stream",
     "text": [
      "sample_submission_no_pca_967_all_100_6_25_re02_6_30p5.csv 32\n",
      "sample_submission_no_pca_967_all_100_6_25_re02_6_step.csv 96\n",
      "sample_submission_no_pca_967_all_200_20_25_te02_09.csv 56\n",
      "sample_submission_no_pca_967_all_200_9_25_re02_all071185.csv 68\n",
      "sample_submission_no_pca_968_all_100_6_25_te01m.csv 21\n",
      "sample_submission_no_pca_971_all_200_20_3_re02.csv 16\n",
      "sample_submission_no_pca_971_all_200_20_3_re02_all0712.csv 47\n",
      "sample_submission_no_pca_971_all_200_20_3_re02_all0712__970__02teand_971_02te.csv 47\n",
      "sample_submission_no_pca_982_all_100_6_20_16_16_4_down_my_30max_5244.csv 41\n",
      "sample_submission_no_pca_982_all_100_6_25_re02_all0712_step_1_1_2.csv 30\n",
      "sample_submission_no_pca_982_all_200_15_20_16_16_4_down.csv 47\n",
      "sample_submission_no_pca_982_all_200_15_20_16_16_4_down_my.csv 45\n",
      "sample_submission_no_pca_982_all_200_15_20_16_16_4_down_my_30max_01a11.csv 47\n",
      "sample_submission_no_pca_982_all_200_1_20_35_35_79_down_my_30max_a01_11_kfold.csv 47\n",
      "sample_submission_no_pca_982_all_200_1_20_35_35_79_down_my_30max_a01_11_kfold_00step.csv 34\n",
      "sample_submission_no_pca_982_all_200_1_20_35_35_79_down_my_30max_a01_11_kfold_30_s_00.csv 96\n",
      "sample_submission_no_pca_982_all_200_1_20_35_35_79_down_my_30max_a01_11_kfold_all_5_20_0011.csv 47\n",
      "sample_submission_no_pca_982_all_200_1_20_35_35_79_down_my_30max_a01_11_kfold_yes_0011.csv 51\n",
      "sample_submission_no_pca_982_all_200_1_20_35_35_79_down_my_30max_a01_11_kfold_yes_068_10.csv 58\n",
      "sample_submission_no_pca_982_all_200_1_20_35_35_79_down_my_30max_a01_11_kfold_yes_068_10_som.csv 75\n",
      "sample_submission_no_pca_982_all_200_1_20_35_35_79_down_my_30max_a01_11_stand.csv 47\n",
      "sample_submission_no_pca_982_all_200_1_20_35_35_79_down_my_30max_a01_11_stand_01a_a102.csv 45\n",
      "sample_submission_no_pca_982_all_200_1_20_35_35_79_down_my_30max_a01_11_stand_01a_a103_setand.csv 31\n",
      "sample_submission_no_pca_982_all_200_1_20_35_35_79_down_my_30max_a01_11_stand_b_00_41.csv 41\n",
      "sample_submission_no_pca_982_all_200_1_20_35_35_79_down_my_30max_a01_11_stand_b_00_ab010383.csv 38\n",
      "sample_submission_no_pca_982_all_300_1_30_35_35_79_down_my_30max_a01_11.csv 47\n",
      "sample_submission_no_pca_982_all_300_1_30_35_35_79_down_my_30max_a11.csv 27\n",
      "sample_submission_no_pca_982_all_300_1_30_7_25_1_down_my_30max_01a11.csv 47\n",
      "sample_submission_pca40_all_xgb_200_10_01_57.csv 55\n",
      "sample_submission_pca40_all_xgb_200_10_01_57_13.csv 148\n",
      "sample_submission_pca40_all_xgb_200_10_01_66_47.csv 55\n",
      "sample_submission_pca40_all_xgb_200_10_01_67_32_xytr_12m.csv 16\n",
      "sample_submission_pca40_all_xgb_50_6_00005_2.csv 35\n",
      "sample_submission_xbg_30max.csv 47\n",
      "sample_submission_xbg_30max_07.csv 47\n"
     ]
    }
   ],
   "source": [
    "for i in list(filter(lambda x:\"sample_submission\" in x,os.listdir(\"ppp/open/\"))):\n",
    "    gfhie=pd.read_csv(f\"ppp/open/{i}\")\n",
    "    if len(gfhie[gfhie[\"Segment\"]==\"B\"])==3:\n",
    "        print(i,len(gfhie[gfhie[\"Segment\"]==\"A\"]))"
   ]
  },
  {
   "cell_type": "code",
   "execution_count": null,
   "id": "0ab2368d",
   "metadata": {},
   "outputs": [],
   "source": []
  },
  {
   "cell_type": "code",
   "execution_count": null,
   "id": "62b1c1d5",
   "metadata": {},
   "outputs": [],
   "source": []
  },
  {
   "cell_type": "code",
   "execution_count": 14,
   "id": "a3086ade",
   "metadata": {},
   "outputs": [
    {
     "data": {
      "text/plain": [
       "array([[1.1791661e-07, 1.3180039e-07, 3.7997687e-01, 7.6465549e+00,\n",
       "        1.9734678e+00],\n",
       "       [2.6305394e-10, 5.0024546e-08, 2.6379030e-03, 1.1175435e+00,\n",
       "        8.8798189e+00],\n",
       "       [7.4408335e-10, 1.8508693e-07, 1.6390106e-01, 6.5766521e+00,\n",
       "        3.2594469e+00],\n",
       "       ...,\n",
       "       [5.5685869e-11, 1.0012136e-09, 1.0697540e-05, 3.0311444e-04,\n",
       "        9.9996862e+00],\n",
       "       [1.9400909e-07, 1.2566510e-06, 9.8651466e+00, 1.3377316e-01,\n",
       "        1.0793897e-03],\n",
       "       [1.7568249e-11, 9.7395168e-11, 2.8216531e-05, 6.0689804e-04,\n",
       "        9.9993649e+00]], dtype=float32)"
      ]
     },
     "execution_count": 14,
     "metadata": {},
     "output_type": "execute_result"
    }
   ],
   "source": [
    "ll442[1]"
   ]
  },
  {
   "cell_type": "code",
   "execution_count": null,
   "id": "c2c0ccc2",
   "metadata": {},
   "outputs": [],
   "source": []
  },
  {
   "cell_type": "code",
   "execution_count": 17,
   "id": "e89794a9",
   "metadata": {},
   "outputs": [
    {
     "data": {
      "text/plain": [
       "(array([], dtype=int64),)"
      ]
     },
     "execution_count": 17,
     "metadata": {},
     "output_type": "execute_result"
    }
   ],
   "source": [
    "np.where(ll442[0].argmax(axis=1)==0)"
   ]
  },
  {
   "cell_type": "code",
   "execution_count": null,
   "id": "6924a5bc",
   "metadata": {},
   "outputs": [],
   "source": [
    "[   13,     2,  4845, 16742, 78398]\n",
    "[   14,     2,  4846, 16633, 78505]"
   ]
  },
  {
   "cell_type": "code",
   "execution_count": 96,
   "id": "6bcafcda",
   "metadata": {},
   "outputs": [
    {
     "data": {
      "text/plain": [
       "array([3, 4, 3, ..., 4, 2, 4], dtype=int64)"
      ]
     },
     "execution_count": 96,
     "metadata": {},
     "output_type": "execute_result"
    }
   ],
   "source": [
    "laf1=np.vstack(ll443).T\n",
    "\n",
    "ty1=[]\n",
    "for i in range(100000):\n",
    "    ty1.append(np.bincount(laf1[i]).argmax())\n",
    "ty1=np.array(ty1)\n",
    "ty1"
   ]
  },
  {
   "cell_type": "code",
   "execution_count": 97,
   "id": "f325a8a7",
   "metadata": {},
   "outputs": [
    {
     "data": {
      "text/plain": [
       "(array([0, 1, 2, 3, 4], dtype=int64),\n",
       " array([   23,     2,  6785, 12845, 80345], dtype=int64))"
      ]
     },
     "execution_count": 97,
     "metadata": {},
     "output_type": "execute_result"
    }
   ],
   "source": [
    "np.unique(ty1,return_counts=True)"
   ]
  },
  {
   "cell_type": "code",
   "execution_count": 67,
   "id": "4b6dc470",
   "metadata": {},
   "outputs": [
    {
     "data": {
      "text/plain": [
       "Segment\n",
       "E    82233\n",
       "D    14055\n",
       "C     3669\n",
       "A       41\n",
       "B        2\n",
       "dtype: int64"
      ]
     },
     "execution_count": 67,
     "metadata": {},
     "output_type": "execute_result"
    }
   ],
   "source": [
    "pr1=pd.read_csv(\"ppp/open/sample_submission_pca40_all_xgb_200_op.csv\")\n",
    "pr1.value_counts(\"Segment\")"
   ]
  },
  {
   "cell_type": "code",
   "execution_count": 69,
   "id": "3d44be31",
   "metadata": {},
   "outputs": [
    {
     "data": {
      "text/plain": [
       "Segment\n",
       "E    82956\n",
       "D    12756\n",
       "C     4266\n",
       "A       21\n",
       "B        1\n",
       "dtype: int64"
      ]
     },
     "execution_count": 69,
     "metadata": {},
     "output_type": "execute_result"
    }
   ],
   "source": [
    "pr1=pd.read_csv(\"ppp/open/sample_submission_pca40_all_xgb_200.csv\")\n",
    "pr1.value_counts(\"Segment\")"
   ]
  },
  {
   "cell_type": "code",
   "execution_count": 1,
   "id": "860d5ffa",
   "metadata": {},
   "outputs": [
    {
     "ename": "NameError",
     "evalue": "name 'x' is not defined",
     "output_type": "error",
     "traceback": [
      "\u001b[1;31m---------------------------------------------------------------------------\u001b[0m",
      "\u001b[1;31mNameError\u001b[0m                                 Traceback (most recent call last)",
      "\u001b[1;32m~\\AppData\\Local\\Temp/ipykernel_9544/507466620.py\u001b[0m in \u001b[0;36m<module>\u001b[1;34m\u001b[0m\n\u001b[0;32m      1\u001b[0m \u001b[1;32mfrom\u001b[0m \u001b[0msklearn\u001b[0m\u001b[1;33m.\u001b[0m\u001b[0mpreprocessing\u001b[0m \u001b[1;32mimport\u001b[0m \u001b[0mStandardScaler\u001b[0m\u001b[1;33m\u001b[0m\u001b[1;33m\u001b[0m\u001b[0m\n\u001b[0;32m      2\u001b[0m \u001b[0mtca\u001b[0m\u001b[1;33m=\u001b[0m\u001b[0mStandardScaler\u001b[0m\u001b[1;33m(\u001b[0m\u001b[1;33m)\u001b[0m\u001b[1;33m\u001b[0m\u001b[1;33m\u001b[0m\u001b[0m\n\u001b[1;32m----> 3\u001b[1;33m \u001b[0mx\u001b[0m\u001b[1;33m=\u001b[0m\u001b[0mtca\u001b[0m\u001b[1;33m.\u001b[0m\u001b[0mfit_transform\u001b[0m\u001b[1;33m(\u001b[0m\u001b[0mx\u001b[0m\u001b[1;33m)\u001b[0m\u001b[1;33m\u001b[0m\u001b[1;33m\u001b[0m\u001b[0m\n\u001b[0m",
      "\u001b[1;31mNameError\u001b[0m: name 'x' is not defined"
     ]
    }
   ],
   "source": [
    "from sklearn.preprocessing import StandardScaler\n",
    "tca=StandardScaler().transform\n",
    "x=tca.fit_transform(x)\n"
   ]
  },
  {
   "cell_type": "code",
   "execution_count": 50,
   "id": "1b0d902e",
   "metadata": {},
   "outputs": [
    {
     "data": {
      "text/plain": [
       "array([1.1437797e-08, 1.1815804e-08, 1.2165270e-08, ..., 1.3658212e-01,\n",
       "       9.5792276e-01, 9.7935790e-01], dtype=float32)"
      ]
     },
     "execution_count": 50,
     "metadata": {},
     "output_type": "execute_result"
    }
   ],
   "source": [
    "np.sort(ll442[0][:,1])"
   ]
  },
  {
   "cell_type": "code",
   "execution_count": 65,
   "id": "06dd75bd",
   "metadata": {},
   "outputs": [
    {
     "data": {
      "text/plain": [
       "array([53348,   859, 56173,  9694,  9845, 66797, 97354, 12129, 14256,\n",
       "       47520], dtype=int64)"
      ]
     },
     "execution_count": 65,
     "metadata": {},
     "output_type": "execute_result"
    }
   ],
   "source": [
    "ll442[0][:,1].argsort()[-10:]"
   ]
  },
  {
   "cell_type": "code",
   "execution_count": 64,
   "id": "479573c1",
   "metadata": {},
   "outputs": [
    {
     "data": {
      "text/plain": [
       "array([38273, 58831, 16685,   859, 47520, 97354, 41648, 53348, 66797,\n",
       "       14256], dtype=int64)"
      ]
     },
     "execution_count": 64,
     "metadata": {},
     "output_type": "execute_result"
    }
   ],
   "source": [
    "ll442[1][:,1].argsort()[-10:]"
   ]
  },
  {
   "cell_type": "code",
   "execution_count": 14,
   "id": "8bda3c80",
   "metadata": {
    "scrolled": true
   },
   "outputs": [
    {
     "data": {
      "text/plain": [
       "(array([ 3623, 12508, 23825, 24893, 28024, 42481, 51233, 62589, 69364,\n",
       "        73642, 74584, 75097, 77869, 91943], dtype=int64),\n",
       " array([3, 3, 4, 3, 6, 6, 6, 1, 3, 5, 6, 2, 2, 1], dtype=int64))"
      ]
     },
     "execution_count": 14,
     "metadata": {},
     "output_type": "execute_result"
    }
   ],
   "source": [
    "p1123q=[]\n",
    "for i in range(6):\n",
    "    agagg=ll441[i][:,0]\n",
    "    afa12=np.where(agagg>0.80)[0]\n",
    "    for j in afa12:\n",
    "        p1123q.append(j)\n",
    "np.unique(np.array(p1123q),return_counts=True)"
   ]
  },
  {
   "cell_type": "code",
   "execution_count": null,
   "id": "3ce1af04",
   "metadata": {},
   "outputs": [],
   "source": []
  },
  {
   "cell_type": "code",
   "execution_count": null,
   "id": "e8a36297",
   "metadata": {},
   "outputs": [],
   "source": []
  },
  {
   "cell_type": "code",
   "execution_count": 117,
   "id": "f04ca1f5",
   "metadata": {},
   "outputs": [
    {
     "data": {
      "text/plain": [
       "array([4.6727397e-05, 7.4927862e-06, 2.2867805e-05, ..., 7.5868883e-08,\n",
       "       4.9358127e-06, 1.3008916e-07], dtype=float32)"
      ]
     },
     "execution_count": 117,
     "metadata": {},
     "output_type": "execute_result"
    }
   ],
   "source": [
    "ll442[i][:,1]"
   ]
  },
  {
   "cell_type": "code",
   "execution_count": 23,
   "id": "1d742006",
   "metadata": {},
   "outputs": [
    {
     "data": {
      "text/plain": [
       "(array([  859,  9845, 14256, 21257, 22442, 22560, 23607, 30544, 47520,\n",
       "        51212, 53348, 53647, 58831, 66797, 71182, 74770, 77190, 79878,\n",
       "        84288, 97354], dtype=int64),\n",
       " 20)"
      ]
     },
     "execution_count": 23,
     "metadata": {},
     "output_type": "execute_result"
    }
   ],
   "source": [
    "gh1,gh2=np.unique(np.array(p1123q),return_counts=True)\n",
    "gh1[np.where(gh2>4)[0]],len(gh1[np.where(gh2>4)[0]])"
   ]
  },
  {
   "cell_type": "code",
   "execution_count": 48,
   "id": "5e528d0b",
   "metadata": {},
   "outputs": [
    {
     "data": {
      "text/plain": [
       "(38, 31, 31, 47, 34, 48, 31)"
      ]
     },
     "execution_count": 48,
     "metadata": {},
     "output_type": "execute_result"
    }
   ],
   "source": [
    "a101=[ 3623,  6685,  9694, 10793, 11825, 12508, 15258, 16685, 20587,\n",
    "23825, 24893, 28024, 31019, 36665, 39895, 41053, 42481, 43890,\n",
    "45995, 46586, 51233, 53109, 53258, 57192, 62589, 63979, 64074,\n",
    "68540, 69364, 71330, 73642, 73870, 74584, 75097, 77869, 81971,\n",
    "83835, 84250, 85253, 88359, 88823, 89692, 90740, 90758, 91943,\n",
    "95957, 99023]\n",
    "\n",
    "a102=[ 1242,  3623,  6685,  8045,  9694, 11825, 13458, 15258, 16685,\n",
    "        23825, 24893, 28024, 31019, 39895, 41053, 42481, 43421, 43890,\n",
    "        51233, 53258, 56681, 57192, 59250, 62589, 63296, 63979, 64074,\n",
    "        68540, 69364, 73642, 73870, 74584, 74998, 75097, 77869, 81971,\n",
    "        83835, 85253, 88359, 88823, 89692, 90740, 90758, 91943, 95776,\n",
    "        95899, 95957, 99023]\n",
    "\n",
    "a103=[ 1242,  3623,  8045,  9694, 10793, 12508, 16685, 23825, 24893,\n",
    "            28024, 31019, 39895, 41053, 42481, 43890, 51233, 53258, 57192,\n",
    "            62589, 64074, 69364, 71330, 73642, 73870, 74584, 75097, 77869,\n",
    "            85253, 88359, 90740, 90758, 91943, 95776, 99023]\n",
    "a104=[ 1242,  3623, 12508, 18465, 19591, 23825, 24893, 28024, 43890,\n",
    "        51233, 53258, 57192, 62589, 64074, 73642, 74584, 75097, 77869,\n",
    "        81971, 88359, 89692, 90740, 90758, 91943, 95776]\n",
    "\n",
    "a105=[ 1242,  1870,  3623,  6685,  8045,  8639,  9694, 10793, 12129,\n",
    "        12508, 15258, 16037, 16685, 18465, 19591, 20587, 23825, 24588,\n",
    "        24893, 25635, 28024, 31019, 34843, 36665, 37666, 38048, 39197,\n",
    "        39895, 39925, 41053, 41106, 42030, 42481, 43890, 45981, 45995,\n",
    "        46586, 47959, 48389, 48604, 51233, 52215, 52627, 53109, 53258,\n",
    "        53525, 56681, 57192, 57373, 58831, 58982, 59250, 62589, 63296,\n",
    "        63979, 64074, 66797, 67955, 68540, 69364, 71330, 72112, 73642,\n",
    "        73870, 74584, 74998, 75097, 75393, 77200, 77869, 78806, 79456,\n",
    "        80278, 81114, 81971, 83835, 84241, 84250, 84292, 85102, 85244,\n",
    "        85253, 88257, 88359, 88823, 89692, 89749, 90740, 90758, 91943,\n",
    "        94180, 95776, 95899, 95957, 96614, 99023, 99974]\n",
    "a106=[ 1242,  3623,  6685,  8045,  9694, 10793, 12508, 13458, 15258,\n",
    "            16685, 17966, 23825, 24893, 28024, 31019, 39895, 41053, 41106,\n",
    "            42481, 43890, 51233, 53109, 53258, 56681, 57192, 58831, 62020,\n",
    "            62589, 63296, 64074, 68540, 69364, 71330, 73642, 73870, 74584,\n",
    "            74998, 75097, 77869, 81114, 81971, 88359, 88823, 89692, 90740,\n",
    "            90758, 91943, 95776, 95899, 95957, 99023]\n",
    "a107=[ 1242,  3623,  8045,  9694, 12508, 13458, 23825, 24893, 28024,\n",
    "        31019, 39895, 41053, 42481, 43890, 53109, 53258, 56681, 57192,\n",
    "        62589, 64074, 73642, 74584, 75097, 77869, 81114, 81971, 88359,\n",
    "        88823, 89692, 90740, 90758, 91943, 95776]\n",
    "a108=[ 1242,  3623,  6685,  8045,  9694, 10793, 12508, 13458, 15258,\n",
    "            16685, 17966, 19591, 20587, 23825, 24893, 28024, 31019, 39895,\n",
    "            41053, 41106, 42481, 45995, 47842, 51233, 53109, 53258, 56681,\n",
    "            57192, 58831, 59250, 62020, 62589, 63296, 64074, 68540, 69364,\n",
    "            73642, 73870, 74584, 74998, 75097, 77869, 78806, 81114, 81971,\n",
    "            85253, 88359, 88823, 89692, 89749, 90740, 90758, 91943, 94180,\n",
    "            95776, 95899, 95957, 99023]\n",
    "a109=[ 1242,  3623,  8045, 23825, 24893, 28024, 31019, 39895, 41053,\n",
    "        42481, 51233, 53258, 56681, 57192, 62589, 64074, 69364, 73642,\n",
    "        73870, 74584, 75097, 77869, 81971, 88359, 88823, 89692, 90758,\n",
    "        91943, 99023]\n",
    "a110=[ 1242,  3623, 12508, 23825, 24893, 28024, 42481, 51233, 62589,\n",
    "        64074, 73642, 74584, 75097, 77869, 88359, 90740, 91943]\n",
    "a111=[ 1242,  3623,  6685,  8045,  9977, 10793, 12129, 12508, 13458,\n",
    "            14624, 15258, 16685, 17966, 23825, 24893, 28024, 31019, 38048,\n",
    "            39197, 39895, 39925, 41053, 41106, 42030, 42481, 43287, 43890,\n",
    "            45995, 46586, 51233, 52627, 53109, 53258, 56681, 57192, 57373,\n",
    "            58831, 58982, 59250, 61433, 62589, 63296, 63979, 64074, 68051,\n",
    "            69364, 71330, 72112, 73642, 73870, 74584, 74998, 75097, 77869,\n",
    "            78806, 81114, 81971, 82439, 83835, 84241, 85253, 85337, 88359,\n",
    "            88823, 89692, 90740, 90758, 91943, 94180, 94987, 95776, 95899,\n",
    "            95957, 96614, 99023]\n",
    "a112=[ 1242,  1870,  7000,  8045,  9694, 12129, 12508, 15258, 23825,\n",
    "        24588, 24893, 28024, 31019, 38048, 39197, 39895, 41053, 42481,\n",
    "        43890, 45995, 47959, 48389, 53109, 53258, 53525, 56681, 57192,\n",
    "        58982, 61433, 62589, 64074, 73642, 73870, 74584, 77869, 78806,\n",
    "        81114, 81971, 84241, 86956, 88257, 88359, 88823, 89692, 90740,\n",
    "        91943, 92435, 93032, 94180, 95899, 95957, 99023]\n",
    "a113=[ 1242,  3623,  6685,  9977, 10793, 12508, 16685, 23742, 23825,\n",
    "            24893, 28024, 31019, 39895, 41106, 42481, 51233, 53258, 62589,\n",
    "            64074, 68540, 69364, 73642, 73870, 74584, 75097, 77869, 88359,\n",
    "            89692, 90758, 91943, 95776, 95957, 99023]\n",
    "\n",
    "a114=[ 1242,  3623,  6685,  8045,  9977, 10793, 12508, 16685, 23825,\n",
    "            24893, 28024, 39895, 41106, 42481, 47842, 51233, 62589, 64074,\n",
    "            68540, 69364, 71003, 73642, 73870, 74584, 75097, 77869, 81971,\n",
    "            83835, 84241, 85253, 88359, 89692, 90758, 91943, 94987, 95899,\n",
    "            95957, 99023]\n",
    "\n",
    "a115=[ 1242,  3623,  6685,  8045, 12508, 14624, 16685, 23825, 24893,\n",
    "            28024, 31019, 39895, 41053, 41106, 42481, 51233, 53109, 53258,\n",
    "            62589, 64074, 68540, 69364, 73642, 74584, 75097, 77869, 84241,\n",
    "            85253, 88359, 89692, 90740, 90758, 91943, 95957, 99023]\n",
    "a116=[ 1242,  3623,  6685,  8045,  9977, 10793, 12508, 16685, 23825,\n",
    "            24893, 28024, 31019, 39895, 41053, 41106, 42481, 51233, 62589,\n",
    "            64074, 68540, 69364, 73642, 73870, 74584, 75097, 77869, 81971,\n",
    "            84241, 85253, 88359, 89692, 90740, 90758, 91943, 95776, 95899]\n",
    "len(set(a101)&set(a102)),len(set(a101)&set(a103)),len(set(a102)&set(a103)),len(a101),len(a103),len(a102),len(set(a101)&set(a103)),"
   ]
  },
  {
   "cell_type": "code",
   "execution_count": 17,
   "id": "a2fb0169",
   "metadata": {},
   "outputs": [
    {
     "data": {
      "text/plain": [
       "(38, 51, 27, 33, 39, 58, 26, 29, 41, 75, 29, 52)"
      ]
     },
     "execution_count": 17,
     "metadata": {},
     "output_type": "execute_result"
    }
   ],
   "source": [
    "len(set(a101)&set(a106)),len(a106),len(set(a101)&set(a107)),len(a107),len(set(a101)&set(a108)),len(a108),len(set(a101)&set(a109)),len(a109),len(set(a101)&set(a111)),len(a111),len(set(a101)&set(a112)),len(a112)"
   ]
  },
  {
   "cell_type": "code",
   "execution_count": 2,
   "id": "30d52945",
   "metadata": {},
   "outputs": [
    {
     "data": {
      "text/plain": [
       "41"
      ]
     },
     "execution_count": 2,
     "metadata": {},
     "output_type": "execute_result"
    }
   ],
   "source": [
    "len(set(a101)&set(a111))"
   ]
  },
  {
   "cell_type": "code",
   "execution_count": 49,
   "id": "8836793e",
   "metadata": {},
   "outputs": [
    {
     "data": {
      "text/plain": [
       "(29, 36)"
      ]
     },
     "execution_count": 49,
     "metadata": {},
     "output_type": "execute_result"
    }
   ],
   "source": [
    "len(set(a101)&set(a116)),len(set(a116))"
   ]
  },
  {
   "cell_type": "code",
   "execution_count": 3,
   "id": "ad51ba15",
   "metadata": {
    "scrolled": true
   },
   "outputs": [
    {
     "data": {
      "text/plain": [
       "{3623,\n",
       " 6685,\n",
       " 10793,\n",
       " 12508,\n",
       " 15258,\n",
       " 16685,\n",
       " 23825,\n",
       " 24893,\n",
       " 28024,\n",
       " 31019,\n",
       " 39895,\n",
       " 41053,\n",
       " 42481,\n",
       " 43890,\n",
       " 45995,\n",
       " 46586,\n",
       " 51233,\n",
       " 53109,\n",
       " 53258,\n",
       " 57192,\n",
       " 62589,\n",
       " 63979,\n",
       " 64074,\n",
       " 69364,\n",
       " 71330,\n",
       " 73642,\n",
       " 73870,\n",
       " 74584,\n",
       " 75097,\n",
       " 77869,\n",
       " 81971,\n",
       " 83835,\n",
       " 85253,\n",
       " 88359,\n",
       " 88823,\n",
       " 89692,\n",
       " 90740,\n",
       " 90758,\n",
       " 91943,\n",
       " 95957,\n",
       " 99023}"
      ]
     },
     "execution_count": 3,
     "metadata": {},
     "output_type": "execute_result"
    }
   ],
   "source": [
    "set(a101)&set(a111)"
   ]
  },
  {
   "cell_type": "code",
   "execution_count": 18,
   "id": "5ba93585",
   "metadata": {},
   "outputs": [
    {
     "data": {
      "text/plain": [
       "Int64Index([ 3623,  6685,  9694, 11825, 15258, 16685, 23825, 24893, 28024,\n",
       "            31019, 39895, 41053, 42481, 43890, 51233, 53258, 57192, 62589,\n",
       "            63979, 64074, 68540, 69364, 73642, 73870, 74584, 75097, 77869,\n",
       "            81971, 83835, 85253, 88359, 88823, 89692, 90740, 90758, 91943,\n",
       "            95957, 99023],\n",
       "           dtype='int64')"
      ]
     },
     "execution_count": 18,
     "metadata": {},
     "output_type": "execute_result"
    }
   ],
   "source": [
    "p212=pd.read_csv(\"ppp/open/sample_submission_no_pca_982_all_200_1_20_35_35_79_down_my_30max_a01_11_stand_b_00_ab010383.csv\")\n",
    "p212[p212[\"Segment\"]==\"A\"].index"
   ]
  },
  {
   "cell_type": "code",
   "execution_count": 133,
   "id": "cff56dd4",
   "metadata": {},
   "outputs": [
    {
     "data": {
      "text/plain": [
       "38"
      ]
     },
     "execution_count": 133,
     "metadata": {},
     "output_type": "execute_result"
    }
   ],
   "source": [
    "len(p212[p212[\"Segment\"]==\"A\"].index)"
   ]
  },
  {
   "cell_type": "code",
   "execution_count": 113,
   "id": "22267998",
   "metadata": {},
   "outputs": [
    {
     "data": {
      "text/plain": [
       "(array([14256, 47520, 66797], dtype=int64), array([1, 1, 1], dtype=int64))"
      ]
     },
     "execution_count": 113,
     "metadata": {},
     "output_type": "execute_result"
    }
   ],
   "source": [
    "p1123q=[]\n",
    "for i in range(1):\n",
    "    agagg=ll442[i][:,1]\n",
    "    afa12=np.where(agagg>0.99)[0]\n",
    "    for j in afa12:\n",
    "        p1123q.append(j)\n",
    "np.unique(np.array(p1123q),return_counts=True)"
   ]
  },
  {
   "cell_type": "code",
   "execution_count": 114,
   "id": "c97278fa",
   "metadata": {},
   "outputs": [
    {
     "data": {
      "text/plain": [
       "[array([[3.7582191e-05, 4.6727397e-05, 1.3260077e+00, 1.6328308e+01,\n",
       "         8.3455992e+00],\n",
       "        [1.5864474e-06, 7.4927862e-06, 1.6474497e-02, 3.6938578e-01,\n",
       "         2.5614128e+01],\n",
       "        [6.6375183e-06, 2.2867805e-05, 6.2446691e-02, 2.0701660e+01,\n",
       "         5.2358623e+00],\n",
       "        ...,\n",
       "        [4.5579213e-08, 7.5868883e-08, 9.8914834e-06, 5.3176314e-05,\n",
       "         2.5999939e+01],\n",
       "        [3.4897976e-06, 4.9358127e-06, 2.5965946e+01, 3.3813369e-02,\n",
       "         2.3244007e-04],\n",
       "        [8.4798614e-08, 1.3008916e-07, 3.9278435e-05, 9.5085747e-04,\n",
       "         2.5999008e+01]], dtype=float32)]"
      ]
     },
     "execution_count": 114,
     "metadata": {},
     "output_type": "execute_result"
    }
   ],
   "source": [
    "ll442.낷"
   ]
  },
  {
   "cell_type": "code",
   "execution_count": 101,
   "id": "4b83dc07",
   "metadata": {},
   "outputs": [
    {
     "data": {
      "text/plain": [
       "array([ 9845, 14256, 23607, 41648, 47520, 66797], dtype=int64)"
      ]
     },
     "execution_count": 101,
     "metadata": {},
     "output_type": "execute_result"
    }
   ],
   "source": [
    "m0,n5=np.unique(np.array(p1123q),return_counts=True)\n",
    "m0[np.where(n5>1)[0]]"
   ]
  },
  {
   "cell_type": "code",
   "execution_count": 102,
   "id": "58fd6b16",
   "metadata": {},
   "outputs": [
    {
     "data": {
      "text/plain": [
       "Int64Index([ 3623,  6685,  9694, 10793, 11825, 12508, 15258, 16685, 20587,\n",
       "            23825, 24893, 28024, 31019, 36665, 39895, 41053, 42481, 43890,\n",
       "            45995, 46586, 51233, 53109, 53258, 57192, 62589, 63979, 64074,\n",
       "            68540, 69364, 71330, 73642, 73870, 74584, 75097, 77869, 81971,\n",
       "            83835, 84250, 85253, 88359, 88823, 89692, 90740, 90758, 91943,\n",
       "            95957, 99023],\n",
       "           dtype='int64')"
      ]
     },
     "execution_count": 102,
     "metadata": {},
     "output_type": "execute_result"
    }
   ],
   "source": [
    "p1=pd.read_csv(\"ppp/open/sample_submission_no_pca_982_all_200_1_20_35_35_79_down_my_30max_a01_11_stand.csv\")\n",
    "p1[p1[\"Segment\"]==\"A\"].index"
   ]
  },
  {
   "cell_type": "code",
   "execution_count": 105,
   "id": "340d35bf",
   "metadata": {},
   "outputs": [
    {
     "data": {
      "text/plain": [
       "Segment\n",
       "E    79805\n",
       "D    15614\n",
       "C     4530\n",
       "A       47\n",
       "B        4\n",
       "dtype: int64"
      ]
     },
     "execution_count": 105,
     "metadata": {},
     "output_type": "execute_result"
    }
   ],
   "source": [
    "p1=pd.read_csv(\"ppp/open/sample_submission_no_pca_982_all_200_1_20_35_35_79_down_my_30max_a01_11_stand.csv\")\n",
    "#p1.iloc[p1[p1[\"Segment\"]==\"A\"].index,1]=\"C\"\n",
    "p1.iloc[[ 14256, 23607, 47520, 66797],1]=\"B\"\n",
    "# 14256, 22442, 47520, 52803, 60501, 66797\n",
    "p1.value_counts(\"Segment\")"
   ]
  },
  {
   "cell_type": "code",
   "execution_count": 35,
   "id": "29aa790e",
   "metadata": {},
   "outputs": [
    {
     "data": {
      "text/plain": [
       "Segment\n",
       "E    78508\n",
       "D    16632\n",
       "C     4810\n",
       "A       47\n",
       "B        3\n",
       "dtype: int64"
      ]
     },
     "execution_count": 35,
     "metadata": {},
     "output_type": "execute_result"
    }
   ],
   "source": [
    "p1.value_counts(\"Segment\")"
   ]
  },
  {
   "cell_type": "code",
   "execution_count": null,
   "id": "4faad8d1",
   "metadata": {},
   "outputs": [],
   "source": [
    "23607 x \n",
    "24424,58831 o?"
   ]
  },
  {
   "cell_type": "code",
   "execution_count": 10,
   "id": "403bdffc",
   "metadata": {},
   "outputs": [
    {
     "data": {
      "text/plain": [
       "Segment\n",
       "E    78836\n",
       "D    15856\n",
       "C     5255\n",
       "A       47\n",
       "B        6\n",
       "dtype: int64"
      ]
     },
     "execution_count": 10,
     "metadata": {},
     "output_type": "execute_result"
    }
   ],
   "source": [
    "import pandas as pd\n",
    "p1=pd.read_csv(\"ppp/open/sample_submission_no_pca_982_all_200_1_20_35_35_79_down_my_30max_a01_11_kfold.csv\")\n",
    "#p1.iloc[p1[p1[\"Segment\"]==\"A\"].index,1]=\"C\"\n",
    "\n",
    "#p1.iloc[[ 58831],1]=\"B\"\n",
    "p1.iloc[[14256, 22442, 47520, 52803, 60501, 66797],1]=\"B\"\n",
    "p1.value_counts(\"Segment\")"
   ]
  },
  {
   "cell_type": "code",
   "execution_count": 11,
   "id": "8b3d87e6",
   "metadata": {},
   "outputs": [
    {
     "data": {
      "text/html": [
       "<div>\n",
       "<style scoped>\n",
       "    .dataframe tbody tr th:only-of-type {\n",
       "        vertical-align: middle;\n",
       "    }\n",
       "\n",
       "    .dataframe tbody tr th {\n",
       "        vertical-align: top;\n",
       "    }\n",
       "\n",
       "    .dataframe thead th {\n",
       "        text-align: right;\n",
       "    }\n",
       "</style>\n",
       "<table border=\"1\" class=\"dataframe\">\n",
       "  <thead>\n",
       "    <tr style=\"text-align: right;\">\n",
       "      <th></th>\n",
       "      <th>ID</th>\n",
       "      <th>Segment</th>\n",
       "    </tr>\n",
       "  </thead>\n",
       "  <tbody>\n",
       "    <tr>\n",
       "      <th>14256</th>\n",
       "      <td>TEST_14256</td>\n",
       "      <td>B</td>\n",
       "    </tr>\n",
       "    <tr>\n",
       "      <th>22442</th>\n",
       "      <td>TEST_22442</td>\n",
       "      <td>B</td>\n",
       "    </tr>\n",
       "    <tr>\n",
       "      <th>47520</th>\n",
       "      <td>TEST_47520</td>\n",
       "      <td>B</td>\n",
       "    </tr>\n",
       "    <tr>\n",
       "      <th>52803</th>\n",
       "      <td>TEST_52803</td>\n",
       "      <td>B</td>\n",
       "    </tr>\n",
       "    <tr>\n",
       "      <th>60501</th>\n",
       "      <td>TEST_60501</td>\n",
       "      <td>B</td>\n",
       "    </tr>\n",
       "    <tr>\n",
       "      <th>66797</th>\n",
       "      <td>TEST_66797</td>\n",
       "      <td>B</td>\n",
       "    </tr>\n",
       "  </tbody>\n",
       "</table>\n",
       "</div>"
      ],
      "text/plain": [
       "               ID Segment\n",
       "14256  TEST_14256       B\n",
       "22442  TEST_22442       B\n",
       "47520  TEST_47520       B\n",
       "52803  TEST_52803       B\n",
       "60501  TEST_60501       B\n",
       "66797  TEST_66797       B"
      ]
     },
     "execution_count": 11,
     "metadata": {},
     "output_type": "execute_result"
    }
   ],
   "source": [
    "p1[p1[\"Segment\"]==\"B\"]"
   ]
  },
  {
   "cell_type": "code",
   "execution_count": 12,
   "id": "343f0e56",
   "metadata": {},
   "outputs": [],
   "source": [
    "p1.to_csv(\"ppp/open/sample_submission_no_pca_982_all_200_1_20_35_35_79_down_my_30max_a01_11_kfold_te_fuc.csv\",index=False,encoding=\"utf-8-sig\")"
   ]
  },
  {
   "cell_type": "code",
   "execution_count": null,
   "id": "00d881dd",
   "metadata": {},
   "outputs": [],
   "source": [
    "14256,58831"
   ]
  },
  {
   "cell_type": "code",
   "execution_count": 79,
   "id": "77e71317",
   "metadata": {},
   "outputs": [],
   "source": [
    "p1.to_csv(\"ppp/open/sample_submission_no_pca_982_all_200_1_20_35_35_79_down_my_30max_a01_11_kfold_30_s_00.csv\",index=False,encoding=\"utf-8-sig\")"
   ]
  },
  {
   "cell_type": "code",
   "execution_count": 139,
   "id": "eda766b4",
   "metadata": {},
   "outputs": [],
   "source": [
    "p1.to_csv(\"ppp/open/sample_submission_no_pca_982_all_200_1_20_35_35_79_down_my_30max_a01_11_kfold_00step.csv\",index=False,encoding=\"utf-8-sig\")"
   ]
  },
  {
   "cell_type": "code",
   "execution_count": 106,
   "id": "e39c808a",
   "metadata": {},
   "outputs": [],
   "source": [
    "p1.to_csv(\"ppp/open/sample_submission_no_pca_982_all_200_1_20_35_35_79_down_my_30max_a01_11_stand_b_01bb44.csv\",index=False,encoding=\"utf-8-sig\")"
   ]
  },
  {
   "cell_type": "code",
   "execution_count": 129,
   "id": "c59a02e3",
   "metadata": {},
   "outputs": [],
   "source": [
    "del x_tr,y_tr,x_te,y_te"
   ]
  },
  {
   "cell_type": "code",
   "execution_count": 148,
   "id": "38528bf4",
   "metadata": {},
   "outputs": [
    {
     "ename": "AxisError",
     "evalue": "axis 1 is out of bounds for array of dimension 1",
     "output_type": "error",
     "traceback": [
      "\u001b[1;31m---------------------------------------------------------------------------\u001b[0m",
      "\u001b[1;31mAxisError\u001b[0m                                 Traceback (most recent call last)",
      "\u001b[1;32m~\\AppData\\Local\\Temp/ipykernel_8328/984448968.py\u001b[0m in \u001b[0;36m<module>\u001b[1;34m\u001b[0m\n\u001b[1;32m----> 1\u001b[1;33m \u001b[0mpredst\u001b[0m\u001b[1;33m=\u001b[0m \u001b[1;33m(\u001b[0m\u001b[0mpreds\u001b[0m\u001b[1;33m.\u001b[0m\u001b[0mT\u001b[0m\u001b[1;33m)\u001b[0m\u001b[1;33m.\u001b[0m\u001b[0margmax\u001b[0m\u001b[1;33m(\u001b[0m\u001b[0maxis\u001b[0m\u001b[1;33m=\u001b[0m\u001b[1;36m1\u001b[0m\u001b[1;33m)\u001b[0m\u001b[1;33m\u001b[0m\u001b[1;33m\u001b[0m\u001b[0m\n\u001b[0m\u001b[0;32m      2\u001b[0m \u001b[1;33m\u001b[0m\u001b[0m\n\u001b[0;32m      3\u001b[0m \u001b[0mprint\u001b[0m\u001b[1;33m(\u001b[0m\u001b[0mnp\u001b[0m\u001b[1;33m.\u001b[0m\u001b[0munique\u001b[0m\u001b[1;33m(\u001b[0m\u001b[0mpredst\u001b[0m\u001b[1;33m,\u001b[0m\u001b[0mreturn_counts\u001b[0m\u001b[1;33m=\u001b[0m\u001b[1;32mTrue\u001b[0m\u001b[1;33m)\u001b[0m\u001b[1;33m)\u001b[0m\u001b[1;33m\u001b[0m\u001b[1;33m\u001b[0m\u001b[0m\n\u001b[0;32m      4\u001b[0m \u001b[0mprint\u001b[0m\u001b[1;33m(\u001b[0m\u001b[0mnp\u001b[0m\u001b[1;33m.\u001b[0m\u001b[0mwhere\u001b[0m\u001b[1;33m(\u001b[0m\u001b[0mpredst\u001b[0m\u001b[1;33m==\u001b[0m\u001b[1;36m1\u001b[0m\u001b[1;33m)\u001b[0m\u001b[1;33m)\u001b[0m\u001b[1;33m\u001b[0m\u001b[1;33m\u001b[0m\u001b[0m\n",
      "\u001b[1;31mAxisError\u001b[0m: axis 1 is out of bounds for array of dimension 1"
     ]
    }
   ],
   "source": [
    "predst= (preds.T).argmax(axis=1)\n",
    "\n",
    "print(np.unique(predst,return_counts=True))\n",
    "print(np.where(predst==1))\n"
   ]
  },
  {
   "cell_type": "code",
   "execution_count": 150,
   "id": "714b0f00",
   "metadata": {},
   "outputs": [
    {
     "data": {
      "text/plain": [
       "array([3, 3, 3, ..., 4, 2, 4], dtype=int64)"
      ]
     },
     "execution_count": 150,
     "metadata": {},
     "output_type": "execute_result"
    }
   ],
   "source": [
    "predst"
   ]
  },
  {
   "cell_type": "code",
   "execution_count": 149,
   "id": "ac61f002",
   "metadata": {},
   "outputs": [
    {
     "ename": "AxisError",
     "evalue": "axis 1 is out of bounds for array of dimension 1",
     "output_type": "error",
     "traceback": [
      "\u001b[1;31m---------------------------------------------------------------------------\u001b[0m",
      "\u001b[1;31mAxisError\u001b[0m                                 Traceback (most recent call last)",
      "\u001b[1;32m~\\AppData\\Local\\Temp/ipykernel_8328/984448968.py\u001b[0m in \u001b[0;36m<module>\u001b[1;34m\u001b[0m\n\u001b[1;32m----> 1\u001b[1;33m \u001b[0mpredst\u001b[0m\u001b[1;33m=\u001b[0m \u001b[1;33m(\u001b[0m\u001b[0mpreds\u001b[0m\u001b[1;33m.\u001b[0m\u001b[0mT\u001b[0m\u001b[1;33m)\u001b[0m\u001b[1;33m.\u001b[0m\u001b[0margmax\u001b[0m\u001b[1;33m(\u001b[0m\u001b[0maxis\u001b[0m\u001b[1;33m=\u001b[0m\u001b[1;36m1\u001b[0m\u001b[1;33m)\u001b[0m\u001b[1;33m\u001b[0m\u001b[1;33m\u001b[0m\u001b[0m\n\u001b[0m\u001b[0;32m      2\u001b[0m \u001b[1;33m\u001b[0m\u001b[0m\n\u001b[0;32m      3\u001b[0m \u001b[0mprint\u001b[0m\u001b[1;33m(\u001b[0m\u001b[0mnp\u001b[0m\u001b[1;33m.\u001b[0m\u001b[0munique\u001b[0m\u001b[1;33m(\u001b[0m\u001b[0mpredst\u001b[0m\u001b[1;33m,\u001b[0m\u001b[0mreturn_counts\u001b[0m\u001b[1;33m=\u001b[0m\u001b[1;32mTrue\u001b[0m\u001b[1;33m)\u001b[0m\u001b[1;33m)\u001b[0m\u001b[1;33m\u001b[0m\u001b[1;33m\u001b[0m\u001b[0m\n\u001b[0;32m      4\u001b[0m \u001b[0mprint\u001b[0m\u001b[1;33m(\u001b[0m\u001b[0mnp\u001b[0m\u001b[1;33m.\u001b[0m\u001b[0mwhere\u001b[0m\u001b[1;33m(\u001b[0m\u001b[0mpredst\u001b[0m\u001b[1;33m==\u001b[0m\u001b[1;36m1\u001b[0m\u001b[1;33m)\u001b[0m\u001b[1;33m)\u001b[0m\u001b[1;33m\u001b[0m\u001b[1;33m\u001b[0m\u001b[0m\n",
      "\u001b[1;31mAxisError\u001b[0m: axis 1 is out of bounds for array of dimension 1"
     ]
    }
   ],
   "source": [
    "predst= (preds.T).argmax(axis=1)\n",
    "\n",
    "print(np.unique(predst,return_counts=True))\n",
    "print(np.where(predst==1))\n"
   ]
  },
  {
   "cell_type": "code",
   "execution_count": 128,
   "id": "7673f90c",
   "metadata": {},
   "outputs": [],
   "source": [
    "import matplotlib.pyplot as plt\n",
    "%matplotlib qt5\n",
    "for i in [4,3,2,0,1]:\n",
    "    plt.scatter(np.where(predst==i)[0],preds.T[np.where(predst==i)[0],i])"
   ]
  },
  {
   "cell_type": "code",
   "execution_count": 63,
   "id": "5d885d97",
   "metadata": {},
   "outputs": [
    {
     "data": {
      "text/plain": [
       "array([0.95792276], dtype=float32)"
      ]
     },
     "execution_count": 63,
     "metadata": {},
     "output_type": "execute_result"
    }
   ],
   "source": [
    "preds.T[np.where(predst==1)[0],1]"
   ]
  },
  {
   "cell_type": "code",
   "execution_count": 19,
   "id": "9ca3ac69",
   "metadata": {},
   "outputs": [
    {
     "data": {
      "text/plain": [
       "array([9.5744520e-07, 2.7328240e-06, 1.2138453e-06, ..., 7.2148694e-08,\n",
       "       1.0761624e-05, 1.0735933e-07], dtype=float32)"
      ]
     },
     "execution_count": 19,
     "metadata": {},
     "output_type": "execute_result"
    }
   ],
   "source": [
    "ll442[-1][:,0]"
   ]
  },
  {
   "cell_type": "code",
   "execution_count": 26,
   "id": "deaf8d1b",
   "metadata": {},
   "outputs": [
    {
     "data": {
      "text/plain": [
       "<matplotlib.legend.Legend at 0x1a48722d0d0>"
      ]
     },
     "execution_count": 26,
     "metadata": {},
     "output_type": "execute_result"
    }
   ],
   "source": [
    "%matplotlib qt5 \n",
    "for i in [4,3,2,1]:\n",
    "    plt.plot(range(1000),ll442[-1][:1000,i],)\n",
    "plt.legend([\"4\",\"3\",\"2\",\"1\"])"
   ]
  },
  {
   "cell_type": "code",
   "execution_count": null,
   "id": "d6f86624",
   "metadata": {},
   "outputs": [],
   "source": []
  },
  {
   "cell_type": "code",
   "execution_count": null,
   "id": "c95eadde",
   "metadata": {},
   "outputs": [],
   "source": []
  },
  {
   "cell_type": "code",
   "execution_count": 16,
   "id": "ac3e5eb5",
   "metadata": {},
   "outputs": [
    {
     "data": {
      "text/plain": [
       "(5, 417720)"
      ]
     },
     "execution_count": 16,
     "metadata": {},
     "output_type": "execute_result"
    }
   ],
   "source": [
    "#x14=x14.fillna(mean123)\n",
    "#x14 = xgb.DMatrix(x14)\n",
    "ans_pro_l=[]\n",
    "for k1qw in range(5):\n",
    "    for iin,i in enumerate(models_05[k1qw]):\n",
    "        pred=i.predict(x_te)\n",
    "        if iin==0:\n",
    "            pred44=pred\n",
    "        else:\n",
    "            pred44 = np.where(pred44<pred,pred,pred44)\n",
    "    pred=pred44[:,k1qw]\n",
    "    ans_pro_l.append(pred)\n",
    "preds=np.array(ans_pro_l)\n",
    "preds.shape"
   ]
  },
  {
   "cell_type": "code",
   "execution_count": 43,
   "id": "ae87f44f",
   "metadata": {},
   "outputs": [
    {
     "data": {
      "text/plain": [
       "<matplotlib.collections.PathCollection at 0x27ebdb72eb0>"
      ]
     },
     "execution_count": 43,
     "metadata": {},
     "output_type": "execute_result"
    }
   ],
   "source": [
    "import matplotlib.pyplot as plt\n",
    "%matplotlib qt5\n",
    "\n",
    "for i in np.where(y_te.values[preds.T[:,1].argsort()]==1)[0]:\n",
    "    plt.plot([i,i],[0,1])\n",
    "plt.scatter(range(len(np.sort(preds.T[:,1]))),np.sort(preds.T[:,1]))"
   ]
  },
  {
   "cell_type": "code",
   "execution_count": 40,
   "id": "23209abc",
   "metadata": {},
   "outputs": [
    {
     "data": {
      "text/plain": [
       "417719"
      ]
     },
     "execution_count": 40,
     "metadata": {},
     "output_type": "execute_result"
    }
   ],
   "source": [
    "i"
   ]
  },
  {
   "cell_type": "code",
   "execution_count": 42,
   "id": "7875210b",
   "metadata": {},
   "outputs": [
    {
     "data": {
      "text/plain": [
       "array([414335, 414468, 416210, 416417, 416544, 417179, 417270, 417304,\n",
       "       417338, 417406, 417504, 417527, 417585, 417618, 417643, 417644,\n",
       "       417648, 417651, 417652, 417653, 417661, 417662, 417663, 417664,\n",
       "       417668, 417672, 417673, 417674, 417675, 417677, 417682, 417684,\n",
       "       417685, 417686, 417687, 417688, 417689, 417690, 417691, 417693,\n",
       "       417694, 417695, 417696, 417697, 417698, 417699, 417700, 417701,\n",
       "       417702, 417703, 417704, 417705, 417706, 417707, 417708, 417709,\n",
       "       417710, 417711, 417712, 417713, 417714, 417715, 417716, 417717,\n",
       "       417718, 417719], dtype=int64)"
      ]
     },
     "execution_count": 42,
     "metadata": {},
     "output_type": "execute_result"
    }
   ],
   "source": [
    "np.where(y_te.values[preds.T[:,1].argsort()]==1)[0]"
   ]
  },
  {
   "cell_type": "code",
   "execution_count": 31,
   "id": "9d9cb61b",
   "metadata": {},
   "outputs": [
    {
     "data": {
      "text/plain": [
       "array([    81,     82,     83,     84,     85,     86,     87,     88,\n",
       "           89,     90,     91,  69701,  69702,  69703,  69704,  69705,\n",
       "        69706,  69707,  69708,  69709,  69710,  69711, 139321, 139322,\n",
       "       139323, 139324, 139325, 139326, 139327, 139328, 139329, 139330,\n",
       "       139331, 208941, 208942, 208943, 208944, 208945, 208946, 208947,\n",
       "       208948, 208949, 208950, 208951, 278561, 278562, 278563, 278564,\n",
       "       278565, 278566, 278567, 278568, 278569, 278570, 278571, 348181,\n",
       "       348182, 348183, 348184, 348185, 348186, 348187, 348188, 348189,\n",
       "       348190, 348191], dtype=int64)"
      ]
     },
     "execution_count": 31,
     "metadata": {},
     "output_type": "execute_result"
    }
   ],
   "source": [
    "np.where(y_te.values==1)[0]"
   ]
  },
  {
   "cell_type": "code",
   "execution_count": 90,
   "id": "d6632003",
   "metadata": {},
   "outputs": [
    {
     "data": {
      "text/plain": [
       "array([[ 1, 22, 33],\n",
       "       [ 2,  3,  3],\n",
       "       [ 3,  4,  4],\n",
       "       [ 4,  5,  5],\n",
       "       [ 5,  5,  5]])"
      ]
     },
     "execution_count": 90,
     "metadata": {},
     "output_type": "execute_result"
    }
   ],
   "source": [
    "hhhhh=[]\n",
    "hhhhh.append([1,2,3,4,5])\n",
    "hhhhh.append([22,3,4,5,5])\n",
    "hhhhh.append([33,3,4,5,5])\n",
    "np.array(hhhhh).T"
   ]
  },
  {
   "cell_type": "code",
   "execution_count": 21,
   "id": "c2a6f1dd",
   "metadata": {},
   "outputs": [
    {
     "ename": "NameError",
     "evalue": "name 'preds' is not defined",
     "output_type": "error",
     "traceback": [
      "\u001b[1;31m---------------------------------------------------------------------------\u001b[0m",
      "\u001b[1;31mNameError\u001b[0m                                 Traceback (most recent call last)",
      "\u001b[1;32m~\\AppData\\Local\\Temp/ipykernel_8244/2660337510.py\u001b[0m in \u001b[0;36m<module>\u001b[1;34m\u001b[0m\n\u001b[1;32m----> 1\u001b[1;33m \u001b[0mpredst\u001b[0m\u001b[1;33m=\u001b[0m \u001b[1;33m(\u001b[0m\u001b[0mpreds\u001b[0m\u001b[1;33m.\u001b[0m\u001b[0mT\u001b[0m\u001b[1;33m)\u001b[0m\u001b[1;33m.\u001b[0m\u001b[0margmax\u001b[0m\u001b[1;33m(\u001b[0m\u001b[0maxis\u001b[0m\u001b[1;33m=\u001b[0m\u001b[1;36m1\u001b[0m\u001b[1;33m)\u001b[0m\u001b[1;33m\u001b[0m\u001b[1;33m\u001b[0m\u001b[0m\n\u001b[0m\u001b[0;32m      2\u001b[0m \u001b[1;33m\u001b[0m\u001b[0m\n\u001b[0;32m      3\u001b[0m \u001b[0mprint\u001b[0m\u001b[1;33m(\u001b[0m\u001b[0mnp\u001b[0m\u001b[1;33m.\u001b[0m\u001b[0munique\u001b[0m\u001b[1;33m(\u001b[0m\u001b[0mpredst\u001b[0m\u001b[1;33m,\u001b[0m\u001b[0mreturn_counts\u001b[0m\u001b[1;33m=\u001b[0m\u001b[1;32mTrue\u001b[0m\u001b[1;33m)\u001b[0m\u001b[1;33m)\u001b[0m\u001b[1;33m\u001b[0m\u001b[1;33m\u001b[0m\u001b[0m\n\u001b[0;32m      4\u001b[0m \u001b[0mprint\u001b[0m\u001b[1;33m(\u001b[0m\u001b[0mnp\u001b[0m\u001b[1;33m.\u001b[0m\u001b[0mwhere\u001b[0m\u001b[1;33m(\u001b[0m\u001b[0mpredst\u001b[0m\u001b[1;33m==\u001b[0m\u001b[1;36m1\u001b[0m\u001b[1;33m)\u001b[0m\u001b[1;33m)\u001b[0m\u001b[1;33m\u001b[0m\u001b[1;33m\u001b[0m\u001b[0m\n",
      "\u001b[1;31mNameError\u001b[0m: name 'preds' is not defined"
     ]
    }
   ],
   "source": [
    "predst= (preds.T).argmax(axis=1)\n",
    "\n",
    "print(np.unique(predst,return_counts=True))\n",
    "print(np.where(predst==1))"
   ]
  },
  {
   "cell_type": "code",
   "execution_count": 73,
   "id": "8d474afc",
   "metadata": {},
   "outputs": [
    {
     "data": {
      "text/plain": [
       "Int64Index([149487, 130546, 299586,  42762,  10808, 367317, 218404,  90445,\n",
       "            208449, 376373,\n",
       "            ...\n",
       "             78992, 297880, 289541, 358670,  33629,  44936, 214093, 335744,\n",
       "             87328, 111912],\n",
       "           dtype='int64', length=417720)"
      ]
     },
     "execution_count": 73,
     "metadata": {},
     "output_type": "execute_result"
    }
   ],
   "source": [
    "(y_te==1).index"
   ]
  },
  {
   "cell_type": "code",
   "execution_count": 44,
   "id": "ae5b4260",
   "metadata": {},
   "outputs": [
    {
     "ename": "NameError",
     "evalue": "name 'hlhl' is not defined",
     "output_type": "error",
     "traceback": [
      "\u001b[1;31m---------------------------------------------------------------------------\u001b[0m",
      "\u001b[1;31mNameError\u001b[0m                                 Traceback (most recent call last)",
      "\u001b[1;32m~\\AppData\\Local\\Temp/ipykernel_16976/2360133590.py\u001b[0m in \u001b[0;36m<module>\u001b[1;34m\u001b[0m\n\u001b[0;32m      3\u001b[0m \u001b[1;32mfor\u001b[0m \u001b[0mi\u001b[0m \u001b[1;32min\u001b[0m \u001b[1;33m[\u001b[0m\u001b[1;36m4\u001b[0m\u001b[1;33m,\u001b[0m\u001b[1;36m3\u001b[0m\u001b[1;33m,\u001b[0m\u001b[1;36m2\u001b[0m\u001b[1;33m,\u001b[0m\u001b[1;36m0\u001b[0m\u001b[1;33m,\u001b[0m\u001b[1;36m1\u001b[0m\u001b[1;33m]\u001b[0m\u001b[1;33m:\u001b[0m\u001b[1;33m\u001b[0m\u001b[1;33m\u001b[0m\u001b[0m\n\u001b[0;32m      4\u001b[0m     \u001b[0mplt\u001b[0m\u001b[1;33m.\u001b[0m\u001b[0mscatter\u001b[0m\u001b[1;33m(\u001b[0m\u001b[1;33m(\u001b[0m\u001b[0mnp\u001b[0m\u001b[1;33m.\u001b[0m\u001b[0mwhere\u001b[0m\u001b[1;33m(\u001b[0m\u001b[0my_te\u001b[0m\u001b[1;33m.\u001b[0m\u001b[0mvalues\u001b[0m\u001b[1;33m==\u001b[0m\u001b[1;36m1\u001b[0m\u001b[1;33m)\u001b[0m\u001b[1;33m[\u001b[0m\u001b[1;36m0\u001b[0m\u001b[1;33m]\u001b[0m\u001b[1;33m)\u001b[0m\u001b[1;33m,\u001b[0m\u001b[0mpreds\u001b[0m\u001b[1;33m.\u001b[0m\u001b[0mT\u001b[0m\u001b[1;33m[\u001b[0m\u001b[0mnp\u001b[0m\u001b[1;33m.\u001b[0m\u001b[0mwhere\u001b[0m\u001b[1;33m(\u001b[0m\u001b[0my_te\u001b[0m\u001b[1;33m.\u001b[0m\u001b[0mvalues\u001b[0m\u001b[1;33m==\u001b[0m\u001b[1;36m1\u001b[0m\u001b[1;33m)\u001b[0m\u001b[1;33m[\u001b[0m\u001b[1;36m0\u001b[0m\u001b[1;33m]\u001b[0m\u001b[1;33m,\u001b[0m\u001b[0mi\u001b[0m\u001b[1;33m]\u001b[0m\u001b[1;33m)\u001b[0m\u001b[1;33m\u001b[0m\u001b[1;33m\u001b[0m\u001b[0m\n\u001b[1;32m----> 5\u001b[1;33m     \u001b[1;32mfor\u001b[0m \u001b[0mj\u001b[0m \u001b[1;32min\u001b[0m \u001b[0mhlhl\u001b[0m\u001b[1;33m:\u001b[0m\u001b[1;33m\u001b[0m\u001b[1;33m\u001b[0m\u001b[0m\n\u001b[0m\u001b[0;32m      6\u001b[0m         \u001b[0mplt\u001b[0m\u001b[1;33m.\u001b[0m\u001b[0mplot\u001b[0m\u001b[1;33m(\u001b[0m\u001b[1;33m[\u001b[0m\u001b[0mj\u001b[0m\u001b[1;33m,\u001b[0m\u001b[0mj\u001b[0m\u001b[1;33m]\u001b[0m\u001b[1;33m,\u001b[0m\u001b[1;33m[\u001b[0m\u001b[1;36m0\u001b[0m\u001b[1;33m,\u001b[0m\u001b[1;36m1\u001b[0m\u001b[1;33m]\u001b[0m\u001b[1;33m)\u001b[0m\u001b[1;33m\u001b[0m\u001b[1;33m\u001b[0m\u001b[0m\n\u001b[0;32m      7\u001b[0m \u001b[0mplt\u001b[0m\u001b[1;33m.\u001b[0m\u001b[0mlegend\u001b[0m\u001b[1;33m(\u001b[0m\u001b[1;33m[\u001b[0m\u001b[1;36m4\u001b[0m\u001b[1;33m,\u001b[0m\u001b[1;36m3\u001b[0m\u001b[1;33m,\u001b[0m\u001b[1;36m2\u001b[0m\u001b[1;33m,\u001b[0m\u001b[1;36m0\u001b[0m\u001b[1;33m,\u001b[0m\u001b[1;36m1\u001b[0m\u001b[1;33m]\u001b[0m\u001b[1;33m)\u001b[0m\u001b[1;33m\u001b[0m\u001b[1;33m\u001b[0m\u001b[0m\n",
      "\u001b[1;31mNameError\u001b[0m: name 'hlhl' is not defined"
     ]
    }
   ],
   "source": [
    "import matplotlib.pyplot as plt\n",
    "%matplotlib qt5\n",
    "for i in [4,3,2,0,1]:\n",
    "    plt.scatter((np.where(y_te.values==1)[0]),preds.T[np.where(y_te.values==1)[0],i])\n",
    "    for j in hlhl:\n",
    "        plt.plot([j,j],[0,1])\n",
    "plt.legend([4,3,2,0,1])"
   ]
  },
  {
   "cell_type": "code",
   "execution_count": 114,
   "id": "298fdf27",
   "metadata": {},
   "outputs": [
    {
     "data": {
      "text/plain": [
       "Int64Index([294250, 289152, 235877, 305269, 155671,  61321, 149555,  33783,\n",
       "            362774,  61664, 289152, 194417, 256790, 235877, 158775, 112900,\n",
       "            213882,  64700, 294250, 155671, 256790,  61321, 194417, 227355,\n",
       "            318536,  33783, 112900, 362774, 368113, 349712, 155671,  61664,\n",
       "            294250,  64700, 193847, 211122, 112900,  61321, 103311, 256790,\n",
       "            294250, 368113, 112900, 256790,  64700,  33783, 155671, 289152,\n",
       "            158775, 235877, 256790, 368113, 294250, 158775, 349712, 213882,\n",
       "            155671,  61664, 103311, 194417],\n",
       "           dtype='int64')"
      ]
     },
     "execution_count": 114,
     "metadata": {},
     "output_type": "execute_result"
    }
   ],
   "source": [
    "y_tr[y_tr==1].index"
   ]
  },
  {
   "cell_type": "code",
   "execution_count": 115,
   "id": "ac82ee0a",
   "metadata": {},
   "outputs": [
    {
     "data": {
      "text/plain": [
       "Int64Index([ 64700, 112900, 390620, 194417, 227355, 211122, 103311, 158775,\n",
       "            213882, 318536, 256790, 349712, 368113,  33783, 318536, 362774,\n",
       "            103311, 227355, 211122,  61664, 193847, 390620, 158775, 149555,\n",
       "            155671, 390620, 289152, 305269, 213882,  64700, 235877,  61664,\n",
       "            294250, 368113, 194417,  33783, 362774, 390620, 318536, 289152,\n",
       "            158775, 305269, 349712, 227355, 211122, 103311, 305269, 149555,\n",
       "            227355,  61321, 362774, 390620, 194417, 349712, 213882, 289152,\n",
       "            149555, 305269, 193847,  61321, 390620, 112900, 362774, 211122,\n",
       "             64700,  33783],\n",
       "           dtype='int64')"
      ]
     },
     "execution_count": 115,
     "metadata": {},
     "output_type": "execute_result"
    }
   ],
   "source": [
    "y_te[y_te==1].index"
   ]
  },
  {
   "cell_type": "code",
   "execution_count": null,
   "id": "ac2209da",
   "metadata": {},
   "outputs": [],
   "source": [
    "preds.T"
   ]
  },
  {
   "cell_type": "code",
   "execution_count": 103,
   "id": "7b2093b6",
   "metadata": {},
   "outputs": [
    {
     "data": {
      "text/plain": [
       "array([    81,     82,     84,     87,     91,  69702,  69706,  69709,\n",
       "       139323, 139329, 139331, 208941, 208942, 278562, 348187],\n",
       "      dtype=int64)"
      ]
     },
     "execution_count": 103,
     "metadata": {},
     "output_type": "execute_result"
    }
   ],
   "source": [
    "hlhl=np.where(preds.T.argmax(axis=1)==1)[0]\n",
    "hlhl"
   ]
  },
  {
   "cell_type": "code",
   "execution_count": 93,
   "id": "24f56821",
   "metadata": {},
   "outputs": [
    {
     "data": {
      "text/plain": [
       "array([3.64273006e-07, 8.88670570e-07, 1.24264238e-06, 1.39619442e-06,\n",
       "       3.73450206e-07, 4.33287077e-08, 1.63991643e-07, 4.83170311e-07,\n",
       "       2.30796402e-07, 4.37078569e-08, 1.50774429e-06, 3.50490019e-08,\n",
       "       1.38460328e-08, 1.34414734e-06, 4.37078569e-08, 4.90127761e-08,\n",
       "       1.63991643e-07, 3.73450206e-07, 4.33287077e-08, 2.77367235e-06,\n",
       "       4.18957279e-06, 1.24264238e-06, 4.83170311e-07, 3.57465126e-07,\n",
       "       2.25834782e-07, 1.24264238e-06, 1.03614745e-07, 8.26631776e-07,\n",
       "       2.30796402e-07, 3.64273006e-07, 7.18724152e-07, 2.77367235e-06,\n",
       "       8.87818601e-08, 1.38460328e-08, 1.39619442e-06, 1.34414734e-06,\n",
       "       4.90127761e-08, 1.24264238e-06, 4.37078569e-08, 1.03614745e-07,\n",
       "       4.83170311e-07, 8.26631776e-07, 3.50490019e-08, 3.73450206e-07,\n",
       "       4.33287077e-08, 1.63991643e-07, 8.26631776e-07, 3.57465126e-07,\n",
       "       3.73450206e-07, 2.13549038e-06, 4.90127761e-08, 1.24264238e-06,\n",
       "       1.39619442e-06, 3.50490019e-08, 2.30796402e-07, 1.03614745e-07,\n",
       "       3.57465126e-07, 8.26631776e-07, 4.18957279e-06, 2.13549038e-06,\n",
       "       1.24264238e-06, 8.88670570e-07, 4.90127761e-08, 4.33287077e-08,\n",
       "       3.64273006e-07, 1.34414734e-06], dtype=float32)"
      ]
     },
     "execution_count": 93,
     "metadata": {},
     "output_type": "execute_result"
    }
   ],
   "source": [
    "preds.T[(y_te[y_te==1]).index,i]"
   ]
  },
  {
   "cell_type": "code",
   "execution_count": 98,
   "id": "83ca3724",
   "metadata": {},
   "outputs": [
    {
     "data": {
      "text/plain": [
       "array([    81,     82,     83,     84,     85,     86,     87,     88,\n",
       "           89,     90,     91,  69701,  69702,  69703,  69704,  69705,\n",
       "        69706,  69707,  69708,  69709,  69710,  69711, 139321, 139322,\n",
       "       139323, 139324, 139325, 139326, 139327, 139328, 139329, 139330,\n",
       "       139331, 208941, 208942, 208943, 208944, 208945, 208946, 208947,\n",
       "       208948, 208949, 208950, 208951, 278561, 278562, 278563, 278564,\n",
       "       278565, 278566, 278567, 278568, 278569, 278570, 278571, 348181,\n",
       "       348182, 348183, 348184, 348185, 348186, 348187, 348188, 348189,\n",
       "       348190, 348191], dtype=int64)"
      ]
     },
     "execution_count": 98,
     "metadata": {},
     "output_type": "execute_result"
    }
   ],
   "source": [
    "np.where(y_te.values==1)[0]#==1"
   ]
  },
  {
   "cell_type": "code",
   "execution_count": 94,
   "id": "47a5068b",
   "metadata": {},
   "outputs": [
    {
     "data": {
      "text/plain": [
       "Int64Index([ 64700, 112900, 390620, 194417, 227355, 211122, 103311, 158775,\n",
       "            213882, 318536, 256790, 349712, 368113,  33783, 318536, 362774,\n",
       "            103311, 227355, 211122,  61664, 193847, 390620, 158775, 149555,\n",
       "            155671, 390620, 289152, 305269, 213882,  64700, 235877,  61664,\n",
       "            294250, 368113, 194417,  33783, 362774, 390620, 318536, 289152,\n",
       "            158775, 305269, 349712, 227355, 211122, 103311, 305269, 149555,\n",
       "            227355,  61321, 362774, 390620, 194417, 349712, 213882, 289152,\n",
       "            149555, 305269, 193847,  61321, 390620, 112900, 362774, 211122,\n",
       "             64700,  33783],\n",
       "           dtype='int64')"
      ]
     },
     "execution_count": 94,
     "metadata": {},
     "output_type": "execute_result"
    }
   ],
   "source": [
    "y_te[y_te==1].index"
   ]
  },
  {
   "cell_type": "code",
   "execution_count": 33,
   "id": "bb382933",
   "metadata": {},
   "outputs": [
    {
     "data": {
      "text/plain": [
       "array([3, 4, 4, ..., 4, 2, 4], dtype=int64)"
      ]
     },
     "execution_count": 33,
     "metadata": {},
     "output_type": "execute_result"
    }
   ],
   "source": [
    "np.hstack(ll442[:])#.argmax()"
   ]
  },
  {
   "cell_type": "code",
   "execution_count": 49,
   "id": "8aee77ef",
   "metadata": {},
   "outputs": [
    {
     "data": {
      "text/plain": [
       "array([0, 0, 0, 0, 6], dtype=int64)"
      ]
     },
     "execution_count": 49,
     "metadata": {},
     "output_type": "execute_result"
    }
   ],
   "source": [
    "h1414=np.vstack(ll442).T\n",
    "\n",
    "for i in np.bincount(np.vstack(ll442).T[4])"
   ]
  },
  {
   "cell_type": "code",
   "execution_count": 51,
   "id": "1fba7802",
   "metadata": {},
   "outputs": [
    {
     "data": {
      "text/plain": [
       "array([3, 4, 3, ..., 4, 2, 4], dtype=int64)"
      ]
     },
     "execution_count": 51,
     "metadata": {},
     "output_type": "execute_result"
    }
   ],
   "source": [
    "ll441[0]"
   ]
  },
  {
   "cell_type": "code",
   "execution_count": 42,
   "id": "c4e1bda5",
   "metadata": {},
   "outputs": [
    {
     "data": {
      "text/plain": [
       "array([[3, 4, 4, ..., 4, 2, 4],\n",
       "       [3, 4, 3, ..., 4, 2, 4],\n",
       "       [3, 4, 3, ..., 4, 2, 4],\n",
       "       [3, 4, 4, ..., 4, 2, 4],\n",
       "       [3, 4, 4, ..., 4, 2, 4],\n",
       "       [3, 4, 4, ..., 4, 2, 4]], dtype=int64)"
      ]
     },
     "execution_count": 42,
     "metadata": {},
     "output_type": "execute_result"
    }
   ],
   "source": [
    "np.vstack(ll442).ar"
   ]
  },
  {
   "cell_type": "code",
   "execution_count": 15,
   "id": "08553e38",
   "metadata": {},
   "outputs": [
    {
     "data": {
      "text/plain": [
       "(array([0, 1, 2, 3, 4], dtype=int64),\n",
       " array([   37,     3,  4573, 15376, 80011], dtype=int64))"
      ]
     },
     "execution_count": 15,
     "metadata": {},
     "output_type": "execute_result"
    }
   ],
   "source": [
    "np.unique(np.array(ll442).sum(axis=0).argmax(axis=1),return_counts=True)"
   ]
  },
  {
   "cell_type": "code",
   "execution_count": null,
   "id": "2378472d",
   "metadata": {},
   "outputs": [],
   "source": []
  },
  {
   "cell_type": "code",
   "execution_count": 30,
   "id": "5a27617f",
   "metadata": {},
   "outputs": [
    {
     "data": {
      "text/plain": [
       "array([3, 4, 4, ..., 4, 2, 4], dtype=int64)"
      ]
     },
     "execution_count": 30,
     "metadata": {},
     "output_type": "execute_result"
    }
   ],
   "source": [
    "np.hstack(ll442).argmax(axis=1)%5"
   ]
  },
  {
   "cell_type": "code",
   "execution_count": 36,
   "id": "6b4503fd",
   "metadata": {},
   "outputs": [],
   "source": [
    "pred=np.hstack(ll442).argmax(axis=1)%5"
   ]
  },
  {
   "cell_type": "code",
   "execution_count": 26,
   "id": "4f76596c",
   "metadata": {},
   "outputs": [
    {
     "data": {
      "text/plain": [
       "(100000, 25)"
      ]
     },
     "execution_count": 26,
     "metadata": {},
     "output_type": "execute_result"
    }
   ],
   "source": [
    "np.hstack(ll442[:5]).shape"
   ]
  },
  {
   "cell_type": "code",
   "execution_count": 16,
   "id": "8208ab5c",
   "metadata": {},
   "outputs": [
    {
     "data": {
      "text/plain": [
       "(array([0, 2, 3, 4], dtype=int64),\n",
       " array([   22,  4204, 14566, 81208], dtype=int64))"
      ]
     },
     "execution_count": 16,
     "metadata": {},
     "output_type": "execute_result"
    }
   ],
   "source": [
    "np.unique(np.array(ll442).mean(axis=0).argmax(axis=1),return_counts=True)"
   ]
  },
  {
   "cell_type": "code",
   "execution_count": 4,
   "id": "44f0e170",
   "metadata": {
    "scrolled": true
   },
   "outputs": [
    {
     "name": "stdout",
     "output_type": "stream",
     "text": [
      "(array([0, 1, 2, 3, 4], dtype=int64), array([   12,     1,  4748, 15482, 79757], dtype=int64))\n",
      "(array([    3,     7,    15, ..., 99996, 99997, 99999], dtype=int64), array([4, 4, 4, ..., 4, 4, 4], dtype=int64))\n"
     ]
    }
   ],
   "source": [
    "print(np.unique(np.hstack(ll442[:]).argmax(axis=1)%5,return_counts=True))\n",
    "print(np.where(pred==1))\n",
    "preds=np.hstack(ll442).argmax(axis=1)%5"
   ]
  },
  {
   "cell_type": "code",
   "execution_count": null,
   "id": "a1c9cb14",
   "metadata": {},
   "outputs": [],
   "source": []
  },
  {
   "cell_type": "code",
   "execution_count": null,
   "id": "bc19216f",
   "metadata": {},
   "outputs": [],
   "source": [
    "[15, 2, 4841 15375, 79767]"
   ]
  },
  {
   "cell_type": "code",
   "execution_count": 30,
   "id": "319cf1c6",
   "metadata": {},
   "outputs": [
    {
     "data": {
      "text/plain": [
       "(array([ 1242,  3623,  8045, 23825, 24893, 28024, 31019, 39895, 41053,\n",
       "        42481, 51233, 53258, 56681, 57192, 62589, 64074, 69364, 73642,\n",
       "        73870, 74584, 75097, 77869, 81971, 88359, 88823, 89692, 90758,\n",
       "        91943, 99023], dtype=int64),)"
      ]
     },
     "execution_count": 30,
     "metadata": {},
     "output_type": "execute_result"
    }
   ],
   "source": [
    "np.where(np.hstack(ll442[:]).argmax(axis=1)%5==0)"
   ]
  },
  {
   "cell_type": "code",
   "execution_count": 71,
   "id": "2acb4a01",
   "metadata": {},
   "outputs": [
    {
     "data": {
      "text/plain": [
       "(array([ 1242,  1870,  3623,  6685,  8045,  8639,  9694, 10793, 12129,\n",
       "        12508, 15258, 16037, 16685, 18465, 19591, 20587, 23825, 24588,\n",
       "        24893, 25635, 28024, 31019, 34843, 35545, 37666, 38048, 39197,\n",
       "        39895, 39925, 41053, 41106, 42030, 42481, 43890, 45981, 45995,\n",
       "        46586, 47959, 48389, 48604, 51233, 52215, 52627, 53109, 53258,\n",
       "        53525, 56681, 57192, 57373, 58831, 58982, 59250, 62589, 63296,\n",
       "        63979, 64074, 68540, 69364, 71330, 72112, 73642, 73870, 74584,\n",
       "        74998, 75097, 75393, 77200, 77869, 78806, 79456, 80278, 81114,\n",
       "        81971, 83835, 84241, 84250, 84292, 85102, 85244, 85253, 88257,\n",
       "        88359, 88823, 89692, 89749, 90740, 90758, 91943, 94180, 95776,\n",
       "        95899, 95957, 96614, 99023, 99974], dtype=int64),)"
      ]
     },
     "execution_count": 71,
     "metadata": {},
     "output_type": "execute_result"
    }
   ],
   "source": [
    "np.where(preds==0)"
   ]
  },
  {
   "cell_type": "code",
   "execution_count": 29,
   "id": "fd16aca5",
   "metadata": {},
   "outputs": [
    {
     "data": {
      "text/plain": [
       "array([3, 4, 4, ..., 4, 2, 4], dtype=int64)"
      ]
     },
     "execution_count": 29,
     "metadata": {},
     "output_type": "execute_result"
    }
   ],
   "source": [
    "(np.hstack(ll442).argmax(axis=1))%5"
   ]
  },
  {
   "cell_type": "code",
   "execution_count": 74,
   "id": "8b8e3b8f",
   "metadata": {},
   "outputs": [
    {
     "data": {
      "text/plain": [
       "[]"
      ]
     },
     "execution_count": 74,
     "metadata": {},
     "output_type": "execute_result"
    }
   ],
   "source": [
    "ll441"
   ]
  },
  {
   "cell_type": "code",
   "execution_count": 150,
   "id": "0087b84b",
   "metadata": {},
   "outputs": [
    {
     "data": {
      "text/plain": [
       "{0: set(),\n",
       " 1: {3,\n",
       "  7,\n",
       "  13,\n",
       "  14,\n",
       "  15,\n",
       "  17,\n",
       "  20,\n",
       "  22,\n",
       "  25,\n",
       "  26,\n",
       "  33,\n",
       "  35,\n",
       "  36,\n",
       "  38,\n",
       "  43,\n",
       "  44,\n",
       "  45,\n",
       "  49,\n",
       "  50,\n",
       "  54,\n",
       "  56,\n",
       "  60,\n",
       "  61,\n",
       "  65,\n",
       "  66,\n",
       "  68,\n",
       "  69,\n",
       "  70,\n",
       "  74,\n",
       "  79,\n",
       "  80,\n",
       "  82,\n",
       "  85,\n",
       "  92,\n",
       "  94,\n",
       "  98,\n",
       "  103,\n",
       "  109,\n",
       "  112,\n",
       "  113,\n",
       "  114,\n",
       "  116,\n",
       "  117,\n",
       "  120,\n",
       "  126,\n",
       "  127,\n",
       "  138,\n",
       "  143,\n",
       "  145,\n",
       "  147,\n",
       "  148,\n",
       "  149,\n",
       "  150,\n",
       "  151,\n",
       "  153,\n",
       "  155,\n",
       "  156,\n",
       "  160,\n",
       "  164,\n",
       "  167,\n",
       "  168,\n",
       "  170,\n",
       "  173,\n",
       "  180,\n",
       "  182,\n",
       "  191,\n",
       "  193,\n",
       "  197,\n",
       "  199,\n",
       "  200,\n",
       "  202,\n",
       "  207,\n",
       "  208,\n",
       "  211,\n",
       "  219,\n",
       "  225,\n",
       "  233,\n",
       "  234,\n",
       "  236,\n",
       "  241,\n",
       "  245,\n",
       "  247,\n",
       "  251,\n",
       "  257,\n",
       "  258,\n",
       "  265,\n",
       "  268,\n",
       "  269,\n",
       "  274,\n",
       "  279,\n",
       "  284,\n",
       "  286,\n",
       "  287,\n",
       "  290,\n",
       "  297,\n",
       "  301,\n",
       "  308,\n",
       "  312,\n",
       "  313,\n",
       "  324,\n",
       "  326,\n",
       "  330,\n",
       "  331,\n",
       "  333,\n",
       "  335,\n",
       "  336,\n",
       "  337,\n",
       "  340,\n",
       "  345,\n",
       "  347,\n",
       "  350,\n",
       "  354,\n",
       "  358,\n",
       "  359,\n",
       "  360,\n",
       "  361,\n",
       "  362,\n",
       "  363,\n",
       "  366,\n",
       "  368,\n",
       "  371,\n",
       "  374,\n",
       "  375,\n",
       "  376,\n",
       "  381,\n",
       "  384,\n",
       "  386,\n",
       "  387,\n",
       "  389,\n",
       "  392,\n",
       "  394,\n",
       "  396,\n",
       "  401,\n",
       "  406,\n",
       "  407,\n",
       "  423,\n",
       "  426,\n",
       "  435,\n",
       "  438,\n",
       "  440,\n",
       "  442,\n",
       "  444,\n",
       "  446,\n",
       "  450,\n",
       "  455,\n",
       "  459,\n",
       "  462,\n",
       "  466,\n",
       "  468,\n",
       "  475,\n",
       "  476,\n",
       "  478,\n",
       "  479,\n",
       "  480,\n",
       "  483,\n",
       "  484,\n",
       "  487,\n",
       "  490,\n",
       "  498,\n",
       "  503,\n",
       "  513,\n",
       "  520,\n",
       "  524,\n",
       "  527,\n",
       "  529,\n",
       "  530,\n",
       "  531,\n",
       "  532,\n",
       "  533,\n",
       "  537,\n",
       "  538,\n",
       "  539,\n",
       "  543,\n",
       "  554,\n",
       "  555,\n",
       "  556,\n",
       "  557,\n",
       "  563,\n",
       "  566,\n",
       "  567,\n",
       "  568,\n",
       "  571,\n",
       "  572,\n",
       "  573,\n",
       "  575,\n",
       "  576,\n",
       "  581,\n",
       "  596,\n",
       "  600,\n",
       "  605,\n",
       "  608,\n",
       "  610,\n",
       "  613,\n",
       "  615,\n",
       "  619,\n",
       "  621,\n",
       "  622,\n",
       "  623,\n",
       "  625,\n",
       "  628,\n",
       "  637,\n",
       "  639,\n",
       "  642,\n",
       "  644,\n",
       "  645,\n",
       "  647,\n",
       "  650,\n",
       "  658,\n",
       "  668,\n",
       "  669,\n",
       "  671,\n",
       "  672,\n",
       "  677,\n",
       "  678,\n",
       "  687,\n",
       "  693,\n",
       "  694,\n",
       "  697,\n",
       "  699,\n",
       "  711,\n",
       "  714,\n",
       "  717,\n",
       "  719,\n",
       "  721,\n",
       "  722,\n",
       "  724,\n",
       "  731,\n",
       "  733,\n",
       "  735,\n",
       "  739,\n",
       "  745,\n",
       "  748,\n",
       "  754,\n",
       "  757,\n",
       "  761,\n",
       "  762,\n",
       "  763,\n",
       "  766,\n",
       "  769,\n",
       "  770,\n",
       "  776,\n",
       "  778,\n",
       "  780,\n",
       "  782,\n",
       "  783,\n",
       "  784,\n",
       "  785,\n",
       "  786,\n",
       "  791,\n",
       "  792,\n",
       "  793,\n",
       "  801,\n",
       "  804,\n",
       "  805,\n",
       "  811,\n",
       "  817,\n",
       "  818,\n",
       "  819,\n",
       "  821,\n",
       "  822,\n",
       "  823,\n",
       "  824,\n",
       "  830,\n",
       "  834,\n",
       "  835,\n",
       "  839,\n",
       "  840,\n",
       "  841,\n",
       "  843,\n",
       "  845,\n",
       "  851,\n",
       "  852,\n",
       "  854,\n",
       "  862,\n",
       "  863,\n",
       "  870,\n",
       "  871,\n",
       "  872,\n",
       "  874,\n",
       "  877,\n",
       "  878,\n",
       "  879,\n",
       "  882,\n",
       "  884,\n",
       "  885,\n",
       "  887,\n",
       "  889,\n",
       "  891,\n",
       "  892,\n",
       "  897,\n",
       "  908,\n",
       "  912,\n",
       "  916,\n",
       "  925,\n",
       "  926,\n",
       "  930,\n",
       "  933,\n",
       "  936,\n",
       "  938,\n",
       "  939,\n",
       "  942,\n",
       "  943,\n",
       "  947,\n",
       "  949,\n",
       "  950,\n",
       "  952,\n",
       "  957,\n",
       "  958,\n",
       "  965,\n",
       "  969,\n",
       "  972,\n",
       "  973,\n",
       "  974,\n",
       "  977,\n",
       "  978,\n",
       "  982,\n",
       "  983,\n",
       "  984,\n",
       "  986,\n",
       "  991,\n",
       "  997,\n",
       "  1004,\n",
       "  1006,\n",
       "  1009,\n",
       "  1010,\n",
       "  1015,\n",
       "  1016,\n",
       "  1017,\n",
       "  1020,\n",
       "  1023,\n",
       "  1034,\n",
       "  1036,\n",
       "  1039,\n",
       "  1044,\n",
       "  1047,\n",
       "  1048,\n",
       "  1049,\n",
       "  1054,\n",
       "  1057,\n",
       "  1062,\n",
       "  1063,\n",
       "  1065,\n",
       "  1068,\n",
       "  1069,\n",
       "  1071,\n",
       "  1072,\n",
       "  1076,\n",
       "  1078,\n",
       "  1079,\n",
       "  1080,\n",
       "  1083,\n",
       "  1086,\n",
       "  1087,\n",
       "  1089,\n",
       "  1090,\n",
       "  1092,\n",
       "  1097,\n",
       "  1100,\n",
       "  1102,\n",
       "  1103,\n",
       "  1105,\n",
       "  1106,\n",
       "  1107,\n",
       "  1108,\n",
       "  1113,\n",
       "  1117,\n",
       "  1124,\n",
       "  1127,\n",
       "  1129,\n",
       "  1131,\n",
       "  1132,\n",
       "  1133,\n",
       "  1137,\n",
       "  1141,\n",
       "  1142,\n",
       "  1144,\n",
       "  1146,\n",
       "  1149,\n",
       "  1158,\n",
       "  1159,\n",
       "  1168,\n",
       "  1175,\n",
       "  1176,\n",
       "  1179,\n",
       "  1181,\n",
       "  1182,\n",
       "  1185,\n",
       "  1186,\n",
       "  1189,\n",
       "  1190,\n",
       "  1193,\n",
       "  1195,\n",
       "  1199,\n",
       "  1202,\n",
       "  1205,\n",
       "  1206,\n",
       "  1216,\n",
       "  1221,\n",
       "  1222,\n",
       "  1224,\n",
       "  1225,\n",
       "  1226,\n",
       "  1227,\n",
       "  1229,\n",
       "  1240,\n",
       "  1241,\n",
       "  1243,\n",
       "  1247,\n",
       "  1252,\n",
       "  1253,\n",
       "  1257,\n",
       "  1260,\n",
       "  1261,\n",
       "  1262,\n",
       "  1270,\n",
       "  1271,\n",
       "  1274,\n",
       "  1284,\n",
       "  1291,\n",
       "  1292,\n",
       "  1293,\n",
       "  1296,\n",
       "  1297,\n",
       "  1300,\n",
       "  1304,\n",
       "  1306,\n",
       "  1307,\n",
       "  1311,\n",
       "  1313,\n",
       "  1316,\n",
       "  1320,\n",
       "  1321,\n",
       "  1327,\n",
       "  1331,\n",
       "  1335,\n",
       "  1336,\n",
       "  1337,\n",
       "  1338,\n",
       "  1347,\n",
       "  1348,\n",
       "  1353,\n",
       "  1357,\n",
       "  1358,\n",
       "  1360,\n",
       "  1365,\n",
       "  1368,\n",
       "  1376,\n",
       "  1378,\n",
       "  1389,\n",
       "  1390,\n",
       "  1391,\n",
       "  1394,\n",
       "  1399,\n",
       "  1400,\n",
       "  1407,\n",
       "  1408,\n",
       "  1409,\n",
       "  1410,\n",
       "  1411,\n",
       "  1415,\n",
       "  1416,\n",
       "  1419,\n",
       "  1420,\n",
       "  1423,\n",
       "  1424,\n",
       "  1426,\n",
       "  1427,\n",
       "  1431,\n",
       "  1434,\n",
       "  1436,\n",
       "  1438,\n",
       "  1441,\n",
       "  1442,\n",
       "  1443,\n",
       "  1444,\n",
       "  1447,\n",
       "  1448,\n",
       "  1452,\n",
       "  1453,\n",
       "  1454,\n",
       "  1455,\n",
       "  1458,\n",
       "  1460,\n",
       "  1467,\n",
       "  1472,\n",
       "  1474,\n",
       "  1475,\n",
       "  1476,\n",
       "  1477,\n",
       "  1478,\n",
       "  1480,\n",
       "  1483,\n",
       "  1487,\n",
       "  1496,\n",
       "  1500,\n",
       "  1502,\n",
       "  1506,\n",
       "  1510,\n",
       "  1512,\n",
       "  1513,\n",
       "  1515,\n",
       "  1517,\n",
       "  1518,\n",
       "  1520,\n",
       "  1522,\n",
       "  1524,\n",
       "  1529,\n",
       "  1531,\n",
       "  1537,\n",
       "  1543,\n",
       "  1546,\n",
       "  1549,\n",
       "  1551,\n",
       "  1552,\n",
       "  1553,\n",
       "  1556,\n",
       "  1559,\n",
       "  1561,\n",
       "  1562,\n",
       "  1564,\n",
       "  1565,\n",
       "  1572,\n",
       "  1573,\n",
       "  1574,\n",
       "  1576,\n",
       "  1580,\n",
       "  1581,\n",
       "  1582,\n",
       "  1585,\n",
       "  1589,\n",
       "  1597,\n",
       "  1598,\n",
       "  1601,\n",
       "  1604,\n",
       "  1607,\n",
       "  1609,\n",
       "  1610,\n",
       "  1615,\n",
       "  1622,\n",
       "  1628,\n",
       "  1629,\n",
       "  1634,\n",
       "  1636,\n",
       "  1648,\n",
       "  1653,\n",
       "  1655,\n",
       "  1658,\n",
       "  1661,\n",
       "  1663,\n",
       "  1664,\n",
       "  1665,\n",
       "  1672,\n",
       "  1674,\n",
       "  1679,\n",
       "  1687,\n",
       "  1691,\n",
       "  1692,\n",
       "  1697,\n",
       "  1698,\n",
       "  1699,\n",
       "  1702,\n",
       "  1703,\n",
       "  1704,\n",
       "  1707,\n",
       "  1708,\n",
       "  1712,\n",
       "  1713,\n",
       "  1722,\n",
       "  1724,\n",
       "  1726,\n",
       "  1727,\n",
       "  1731,\n",
       "  1736,\n",
       "  1739,\n",
       "  1745,\n",
       "  1747,\n",
       "  1756,\n",
       "  1759,\n",
       "  1760,\n",
       "  1761,\n",
       "  1766,\n",
       "  1768,\n",
       "  1770,\n",
       "  1774,\n",
       "  1777,\n",
       "  1779,\n",
       "  1783,\n",
       "  1784,\n",
       "  1787,\n",
       "  1793,\n",
       "  1795,\n",
       "  1797,\n",
       "  1798,\n",
       "  1819,\n",
       "  1821,\n",
       "  1822,\n",
       "  1830,\n",
       "  1831,\n",
       "  1833,\n",
       "  1834,\n",
       "  1838,\n",
       "  1842,\n",
       "  1845,\n",
       "  1847,\n",
       "  1848,\n",
       "  1850,\n",
       "  1854,\n",
       "  1858,\n",
       "  1865,\n",
       "  1866,\n",
       "  1867,\n",
       "  1872,\n",
       "  1875,\n",
       "  1876,\n",
       "  1885,\n",
       "  1887,\n",
       "  1889,\n",
       "  1891,\n",
       "  1897,\n",
       "  1899,\n",
       "  1903,\n",
       "  1914,\n",
       "  1917,\n",
       "  1918,\n",
       "  1920,\n",
       "  1922,\n",
       "  1923,\n",
       "  1927,\n",
       "  1935,\n",
       "  1936,\n",
       "  1941,\n",
       "  1946,\n",
       "  1951,\n",
       "  1953,\n",
       "  1970,\n",
       "  1972,\n",
       "  1973,\n",
       "  1975,\n",
       "  1976,\n",
       "  1977,\n",
       "  1978,\n",
       "  1980,\n",
       "  1981,\n",
       "  1982,\n",
       "  1983,\n",
       "  1985,\n",
       "  1987,\n",
       "  1988,\n",
       "  1994,\n",
       "  1995,\n",
       "  1997,\n",
       "  2003,\n",
       "  2005,\n",
       "  2007,\n",
       "  2008,\n",
       "  2009,\n",
       "  2010,\n",
       "  2012,\n",
       "  2017,\n",
       "  2021,\n",
       "  2023,\n",
       "  2024,\n",
       "  2025,\n",
       "  2027,\n",
       "  2034,\n",
       "  2037,\n",
       "  2040,\n",
       "  2045,\n",
       "  2046,\n",
       "  2047,\n",
       "  2048,\n",
       "  2058,\n",
       "  2061,\n",
       "  2063,\n",
       "  2064,\n",
       "  2067,\n",
       "  2070,\n",
       "  2071,\n",
       "  2072,\n",
       "  2073,\n",
       "  2074,\n",
       "  2076,\n",
       "  2077,\n",
       "  2078,\n",
       "  2081,\n",
       "  2082,\n",
       "  2085,\n",
       "  2095,\n",
       "  2098,\n",
       "  2099,\n",
       "  2103,\n",
       "  2106,\n",
       "  2109,\n",
       "  2110,\n",
       "  2112,\n",
       "  2114,\n",
       "  2116,\n",
       "  2117,\n",
       "  2120,\n",
       "  2127,\n",
       "  2128,\n",
       "  2131,\n",
       "  2133,\n",
       "  2134,\n",
       "  2136,\n",
       "  2137,\n",
       "  2138,\n",
       "  2142,\n",
       "  2143,\n",
       "  2144,\n",
       "  2154,\n",
       "  2156,\n",
       "  2162,\n",
       "  2165,\n",
       "  2168,\n",
       "  2170,\n",
       "  2173,\n",
       "  2180,\n",
       "  2182,\n",
       "  2185,\n",
       "  2189,\n",
       "  2196,\n",
       "  2198,\n",
       "  2200,\n",
       "  2205,\n",
       "  2208,\n",
       "  2213,\n",
       "  2221,\n",
       "  2222,\n",
       "  2223,\n",
       "  2224,\n",
       "  2234,\n",
       "  2236,\n",
       "  2237,\n",
       "  2238,\n",
       "  2244,\n",
       "  2245,\n",
       "  2246,\n",
       "  2247,\n",
       "  2248,\n",
       "  2249,\n",
       "  2250,\n",
       "  2255,\n",
       "  2256,\n",
       "  2260,\n",
       "  2261,\n",
       "  2262,\n",
       "  2263,\n",
       "  2265,\n",
       "  2268,\n",
       "  2271,\n",
       "  2272,\n",
       "  2280,\n",
       "  2285,\n",
       "  2289,\n",
       "  2291,\n",
       "  2294,\n",
       "  2295,\n",
       "  2298,\n",
       "  2303,\n",
       "  2306,\n",
       "  2310,\n",
       "  2315,\n",
       "  2316,\n",
       "  2325,\n",
       "  2327,\n",
       "  2329,\n",
       "  2337,\n",
       "  2342,\n",
       "  2345,\n",
       "  2346,\n",
       "  2347,\n",
       "  2348,\n",
       "  2349,\n",
       "  2350,\n",
       "  2355,\n",
       "  2356,\n",
       "  2357,\n",
       "  2358,\n",
       "  2362,\n",
       "  2364,\n",
       "  2366,\n",
       "  2375,\n",
       "  2377,\n",
       "  2385,\n",
       "  2387,\n",
       "  2388,\n",
       "  2389,\n",
       "  2390,\n",
       "  2392,\n",
       "  2394,\n",
       "  2396,\n",
       "  2401,\n",
       "  2403,\n",
       "  2405,\n",
       "  2409,\n",
       "  2410,\n",
       "  2412,\n",
       "  2413,\n",
       "  2424,\n",
       "  2425,\n",
       "  2431,\n",
       "  2432,\n",
       "  2434,\n",
       "  2436,\n",
       "  2446,\n",
       "  2448,\n",
       "  2449,\n",
       "  2451,\n",
       "  2453,\n",
       "  2455,\n",
       "  2456,\n",
       "  2457,\n",
       "  2460,\n",
       "  2461,\n",
       "  2464,\n",
       "  2466,\n",
       "  2468,\n",
       "  2470,\n",
       "  2479,\n",
       "  2484,\n",
       "  2486,\n",
       "  2491,\n",
       "  2493,\n",
       "  2494,\n",
       "  2495,\n",
       "  2499,\n",
       "  2500,\n",
       "  2501,\n",
       "  2502,\n",
       "  2505,\n",
       "  2506,\n",
       "  2511,\n",
       "  2513,\n",
       "  2514,\n",
       "  2515,\n",
       "  2516,\n",
       "  2517,\n",
       "  2520,\n",
       "  2521,\n",
       "  2524,\n",
       "  2529,\n",
       "  2532,\n",
       "  2534,\n",
       "  2535,\n",
       "  2536,\n",
       "  2544,\n",
       "  2546,\n",
       "  2547,\n",
       "  2548,\n",
       "  2550,\n",
       "  2551,\n",
       "  2555,\n",
       "  2557,\n",
       "  2560,\n",
       "  2561,\n",
       "  2575,\n",
       "  2576,\n",
       "  2579,\n",
       "  2582,\n",
       "  2586,\n",
       "  2590,\n",
       "  2591,\n",
       "  2596,\n",
       "  2600,\n",
       "  2602,\n",
       "  2603,\n",
       "  2606,\n",
       "  2610,\n",
       "  2615,\n",
       "  2616,\n",
       "  2618,\n",
       "  2625,\n",
       "  2628,\n",
       "  2634,\n",
       "  2639,\n",
       "  2643,\n",
       "  2647,\n",
       "  2648,\n",
       "  2652,\n",
       "  2655,\n",
       "  2663,\n",
       "  2671,\n",
       "  2675,\n",
       "  2678,\n",
       "  2684,\n",
       "  2689,\n",
       "  2693,\n",
       "  2695,\n",
       "  2696,\n",
       "  2698,\n",
       "  2700,\n",
       "  2701,\n",
       "  2704,\n",
       "  2706,\n",
       "  2707,\n",
       "  2713,\n",
       "  2714,\n",
       "  2715,\n",
       "  2719,\n",
       "  2721,\n",
       "  2722,\n",
       "  2723,\n",
       "  2724,\n",
       "  2727,\n",
       "  2728,\n",
       "  2730,\n",
       "  2733,\n",
       "  2734,\n",
       "  2735,\n",
       "  2738,\n",
       "  2739,\n",
       "  2740,\n",
       "  2744,\n",
       "  2746,\n",
       "  2747,\n",
       "  2750,\n",
       "  2752,\n",
       "  2754,\n",
       "  2755,\n",
       "  2757,\n",
       "  2759,\n",
       "  2760,\n",
       "  2762,\n",
       "  2771,\n",
       "  2772,\n",
       "  2773,\n",
       "  2776,\n",
       "  2777,\n",
       "  2782,\n",
       "  2783,\n",
       "  2788,\n",
       "  2789,\n",
       "  2791,\n",
       "  2796,\n",
       "  2798,\n",
       "  2799,\n",
       "  2802,\n",
       "  2810,\n",
       "  2814,\n",
       "  2818,\n",
       "  2819,\n",
       "  2820,\n",
       "  2821,\n",
       "  2825,\n",
       "  2827,\n",
       "  2829,\n",
       "  2833,\n",
       "  2836,\n",
       "  2837,\n",
       "  2840,\n",
       "  2842,\n",
       "  2846,\n",
       "  2849,\n",
       "  2850,\n",
       "  2851,\n",
       "  2853,\n",
       "  2863,\n",
       "  2865,\n",
       "  2867,\n",
       "  2869,\n",
       "  2871,\n",
       "  2873,\n",
       "  2876,\n",
       "  2879,\n",
       "  2884,\n",
       "  2886,\n",
       "  2888,\n",
       "  2889,\n",
       "  2890,\n",
       "  2895,\n",
       "  2896,\n",
       "  2897,\n",
       "  2903,\n",
       "  2905,\n",
       "  2906,\n",
       "  2909,\n",
       "  2913,\n",
       "  2915,\n",
       "  2917,\n",
       "  2918,\n",
       "  2928,\n",
       "  2929,\n",
       "  2931,\n",
       "  2933,\n",
       "  2939,\n",
       "  2940,\n",
       "  2943,\n",
       "  2944,\n",
       "  2947,\n",
       "  2952,\n",
       "  2954,\n",
       "  2955,\n",
       "  2956,\n",
       "  2958,\n",
       "  2969,\n",
       "  2970,\n",
       "  2971,\n",
       "  2974,\n",
       "  2977,\n",
       "  ...},\n",
       " 2: set(),\n",
       " 3: set(),\n",
       " 4: set()}"
      ]
     },
     "execution_count": 150,
     "metadata": {},
     "output_type": "execute_result"
    }
   ],
   "source": [
    "ypq"
   ]
  },
  {
   "cell_type": "code",
   "execution_count": 152,
   "id": "08d6ca42",
   "metadata": {
    "scrolled": true
   },
   "outputs": [
    {
     "data": {
      "text/plain": [
       "[array([[1.5147032e-06, 4.5330798e-06, 3.9417338e-02, 9.9414611e-01,\n",
       "         7.5581491e-01],\n",
       "        [6.7612120e-08, 9.3917816e-07, 1.8708540e-04, 3.2729585e-02,\n",
       "         9.9902105e-01],\n",
       "        [1.6473882e-07, 2.1932397e-06, 1.0876827e-03, 9.2669868e-01,\n",
       "         8.3044934e-01],\n",
       "        ...,\n",
       "        [1.9768323e-10, 6.8773454e-10, 5.5734432e-08, 5.6993946e-07,\n",
       "         1.0000000e+00],\n",
       "        [2.7523285e-07, 6.9992819e-07, 9.9996197e-01, 2.9059139e-03,\n",
       "         7.3134784e-06],\n",
       "        [5.8247057e-10, 1.2194031e-09, 2.3494982e-07, 9.3035233e-06,\n",
       "         1.0000000e+00]], dtype=float32),\n",
       " array([[8.7184895e-07, 3.5857970e-06, 7.3198550e-03, 9.8652595e-01,\n",
       "         7.1253937e-01],\n",
       "        [4.0130945e-07, 7.3127289e-06, 2.2725201e-04, 5.2207124e-01,\n",
       "         9.7364622e-01],\n",
       "        [3.2174242e-07, 3.7765551e-06, 8.6054960e-03, 9.5972395e-01,\n",
       "         6.5526640e-01],\n",
       "        ...,\n",
       "        [2.7671973e-10, 8.7049290e-10, 1.1053163e-07, 1.1353872e-06,\n",
       "         1.0000000e+00],\n",
       "        [8.5468017e-08, 2.9718822e-07, 9.9996018e-01, 6.1299857e-03,\n",
       "         1.0439416e-05],\n",
       "        [3.9566250e-10, 8.0509988e-10, 4.7452141e-07, 7.3861711e-06,\n",
       "         1.0000000e+00]], dtype=float32),\n",
       " array([[9.5263459e-07, 1.1235810e-06, 1.7379070e-02, 9.9699044e-01,\n",
       "         1.0703507e-01],\n",
       "        [2.5519731e-07, 3.2440878e-06, 3.5667574e-04, 1.7180659e-01,\n",
       "         9.9621373e-01],\n",
       "        [5.3230468e-07, 3.3598094e-06, 2.9511026e-03, 2.3620901e-01,\n",
       "         9.9266797e-01],\n",
       "        ...,\n",
       "        [3.3481298e-10, 7.3130524e-10, 2.8628341e-07, 1.1033331e-06,\n",
       "         1.0000000e+00],\n",
       "        [1.5647755e-07, 4.8017000e-07, 9.9993467e-01, 5.7439236e-03,\n",
       "         2.6664122e-05],\n",
       "        [6.1492034e-10, 1.8612761e-09, 2.9266173e-06, 1.8168503e-05,\n",
       "         9.9999988e-01]], dtype=float32),\n",
       " array([[3.9993725e-07, 5.4511935e-07, 8.2652913e-03, 9.9611664e-01,\n",
       "         3.7822253e-01],\n",
       "        [1.7038667e-07, 2.2734259e-06, 1.2366951e-04, 5.4401863e-01,\n",
       "         9.8348087e-01],\n",
       "        [6.6432606e-09, 5.2194821e-08, 6.8425647e-06, 1.9868233e-03,\n",
       "         9.9995494e-01],\n",
       "        ...,\n",
       "        [7.2270612e-10, 2.2970279e-09, 1.3446889e-06, 6.0368238e-06,\n",
       "         9.9999988e-01],\n",
       "        [8.2766917e-07, 7.7241430e-07, 9.9953890e-01, 4.4769816e-02,\n",
       "         5.2420812e-05],\n",
       "        [1.2481390e-09, 2.0840896e-09, 1.4234880e-05, 3.4468555e-06,\n",
       "         1.0000000e+00]], dtype=float32),\n",
       " array([[4.0567375e-07, 4.0213880e-07, 1.6830230e-02, 9.9914944e-01,\n",
       "         8.0618508e-02],\n",
       "        [1.0966620e-07, 1.5397986e-06, 1.3217804e-05, 1.0129087e-01,\n",
       "         9.9704236e-01],\n",
       "        [5.8768613e-08, 4.3045702e-07, 1.5854825e-04, 5.1465113e-02,\n",
       "         9.9933040e-01],\n",
       "        ...,\n",
       "        [2.7001019e-09, 5.6456759e-09, 9.4675067e-07, 1.6617616e-05,\n",
       "         9.9999976e-01],\n",
       "        [3.5675509e-07, 1.5768539e-06, 9.9994004e-01, 1.6050560e-03,\n",
       "         3.4995963e-05],\n",
       "        [3.0724712e-09, 3.8179073e-09, 1.8472587e-05, 1.6786176e-04,\n",
       "         9.9999988e-01]], dtype=float32),\n",
       " array([[1.5039025e-07, 1.5671885e-07, 7.6874476e-03, 9.9911076e-01,\n",
       "         3.9173540e-02],\n",
       "        [3.6477752e-07, 5.4329225e-06, 3.1880208e-04, 7.0356894e-01,\n",
       "         9.5884675e-01],\n",
       "        [1.3547049e-07, 8.6951212e-07, 2.1438883e-04, 2.2010481e-01,\n",
       "         9.9123412e-01],\n",
       "        ...,\n",
       "        [1.1068976e-09, 5.0234896e-09, 2.0482526e-06, 1.2250138e-05,\n",
       "         9.9999964e-01],\n",
       "        [2.5663391e-07, 1.4454888e-06, 9.9996364e-01, 7.6126163e-03,\n",
       "         1.4497450e-04],\n",
       "        [2.3086175e-09, 4.5308344e-09, 5.7877172e-05, 7.0495480e-05,\n",
       "         9.9999976e-01]], dtype=float32)]"
      ]
     },
     "execution_count": 152,
     "metadata": {},
     "output_type": "execute_result"
    }
   ],
   "source": [
    "ll441"
   ]
  },
  {
   "cell_type": "code",
   "execution_count": 44,
   "id": "bad0383e",
   "metadata": {},
   "outputs": [],
   "source": [
    "ypq={}\n",
    "for i in range(5):\n",
    "    pps=[]\n",
    "    for j in ll442:\n",
    "        pps+=list(np.where(j.argmax(axis=1)==i)[0])\n",
    "    ypq[i]=set(pps)\n"
   ]
  },
  {
   "cell_type": "code",
   "execution_count": 45,
   "id": "067a9485",
   "metadata": {},
   "outputs": [
    {
     "data": {
      "text/html": [
       "<div>\n",
       "<style scoped>\n",
       "    .dataframe tbody tr th:only-of-type {\n",
       "        vertical-align: middle;\n",
       "    }\n",
       "\n",
       "    .dataframe tbody tr th {\n",
       "        vertical-align: top;\n",
       "    }\n",
       "\n",
       "    .dataframe thead th {\n",
       "        text-align: right;\n",
       "    }\n",
       "</style>\n",
       "<table border=\"1\" class=\"dataframe\">\n",
       "  <thead>\n",
       "    <tr style=\"text-align: right;\">\n",
       "      <th></th>\n",
       "      <th>ID</th>\n",
       "      <th>Segment</th>\n",
       "    </tr>\n",
       "  </thead>\n",
       "  <tbody>\n",
       "    <tr>\n",
       "      <th>0</th>\n",
       "      <td>TEST_00000</td>\n",
       "      <td>A</td>\n",
       "    </tr>\n",
       "    <tr>\n",
       "      <th>1</th>\n",
       "      <td>TEST_00001</td>\n",
       "      <td>A</td>\n",
       "    </tr>\n",
       "    <tr>\n",
       "      <th>2</th>\n",
       "      <td>TEST_00002</td>\n",
       "      <td>A</td>\n",
       "    </tr>\n",
       "    <tr>\n",
       "      <th>3</th>\n",
       "      <td>TEST_00003</td>\n",
       "      <td>A</td>\n",
       "    </tr>\n",
       "    <tr>\n",
       "      <th>4</th>\n",
       "      <td>TEST_00004</td>\n",
       "      <td>A</td>\n",
       "    </tr>\n",
       "    <tr>\n",
       "      <th>...</th>\n",
       "      <td>...</td>\n",
       "      <td>...</td>\n",
       "    </tr>\n",
       "    <tr>\n",
       "      <th>99995</th>\n",
       "      <td>TEST_99995</td>\n",
       "      <td>A</td>\n",
       "    </tr>\n",
       "    <tr>\n",
       "      <th>99996</th>\n",
       "      <td>TEST_99996</td>\n",
       "      <td>A</td>\n",
       "    </tr>\n",
       "    <tr>\n",
       "      <th>99997</th>\n",
       "      <td>TEST_99997</td>\n",
       "      <td>A</td>\n",
       "    </tr>\n",
       "    <tr>\n",
       "      <th>99998</th>\n",
       "      <td>TEST_99998</td>\n",
       "      <td>A</td>\n",
       "    </tr>\n",
       "    <tr>\n",
       "      <th>99999</th>\n",
       "      <td>TEST_99999</td>\n",
       "      <td>A</td>\n",
       "    </tr>\n",
       "  </tbody>\n",
       "</table>\n",
       "<p>100000 rows × 2 columns</p>\n",
       "</div>"
      ],
      "text/plain": [
       "               ID Segment\n",
       "0      TEST_00000       A\n",
       "1      TEST_00001       A\n",
       "2      TEST_00002       A\n",
       "3      TEST_00003       A\n",
       "4      TEST_00004       A\n",
       "...           ...     ...\n",
       "99995  TEST_99995       A\n",
       "99996  TEST_99996       A\n",
       "99997  TEST_99997       A\n",
       "99998  TEST_99998       A\n",
       "99999  TEST_99999       A\n",
       "\n",
       "[100000 rows x 2 columns]"
      ]
     },
     "execution_count": 45,
     "metadata": {},
     "output_type": "execute_result"
    }
   ],
   "source": [
    "p1=pd.read_csv(\"ppp/open/sample_submission.csv\")\n",
    "p1"
   ]
  },
  {
   "cell_type": "code",
   "execution_count": 30,
   "id": "3f10ccdb",
   "metadata": {},
   "outputs": [
    {
     "data": {
      "text/html": [
       "<div>\n",
       "<style scoped>\n",
       "    .dataframe tbody tr th:only-of-type {\n",
       "        vertical-align: middle;\n",
       "    }\n",
       "\n",
       "    .dataframe tbody tr th {\n",
       "        vertical-align: top;\n",
       "    }\n",
       "\n",
       "    .dataframe thead th {\n",
       "        text-align: right;\n",
       "    }\n",
       "</style>\n",
       "<table border=\"1\" class=\"dataframe\">\n",
       "  <thead>\n",
       "    <tr style=\"text-align: right;\">\n",
       "      <th></th>\n",
       "      <th>ID</th>\n",
       "      <th>Segment</th>\n",
       "    </tr>\n",
       "  </thead>\n",
       "  <tbody>\n",
       "    <tr>\n",
       "      <th>0</th>\n",
       "      <td>TEST_00000</td>\n",
       "      <td>D</td>\n",
       "    </tr>\n",
       "    <tr>\n",
       "      <th>1</th>\n",
       "      <td>TEST_00001</td>\n",
       "      <td>E</td>\n",
       "    </tr>\n",
       "    <tr>\n",
       "      <th>2</th>\n",
       "      <td>TEST_00002</td>\n",
       "      <td>E</td>\n",
       "    </tr>\n",
       "    <tr>\n",
       "      <th>3</th>\n",
       "      <td>TEST_00003</td>\n",
       "      <td>E</td>\n",
       "    </tr>\n",
       "    <tr>\n",
       "      <th>4</th>\n",
       "      <td>TEST_00004</td>\n",
       "      <td>E</td>\n",
       "    </tr>\n",
       "    <tr>\n",
       "      <th>...</th>\n",
       "      <td>...</td>\n",
       "      <td>...</td>\n",
       "    </tr>\n",
       "    <tr>\n",
       "      <th>99995</th>\n",
       "      <td>TEST_99995</td>\n",
       "      <td>E</td>\n",
       "    </tr>\n",
       "    <tr>\n",
       "      <th>99996</th>\n",
       "      <td>TEST_99996</td>\n",
       "      <td>E</td>\n",
       "    </tr>\n",
       "    <tr>\n",
       "      <th>99997</th>\n",
       "      <td>TEST_99997</td>\n",
       "      <td>E</td>\n",
       "    </tr>\n",
       "    <tr>\n",
       "      <th>99998</th>\n",
       "      <td>TEST_99998</td>\n",
       "      <td>C</td>\n",
       "    </tr>\n",
       "    <tr>\n",
       "      <th>99999</th>\n",
       "      <td>TEST_99999</td>\n",
       "      <td>E</td>\n",
       "    </tr>\n",
       "  </tbody>\n",
       "</table>\n",
       "<p>100000 rows × 2 columns</p>\n",
       "</div>"
      ],
      "text/plain": [
       "               ID Segment\n",
       "0      TEST_00000       D\n",
       "1      TEST_00001       E\n",
       "2      TEST_00002       E\n",
       "3      TEST_00003       E\n",
       "4      TEST_00004       E\n",
       "...           ...     ...\n",
       "99995  TEST_99995       E\n",
       "99996  TEST_99996       E\n",
       "99997  TEST_99997       E\n",
       "99998  TEST_99998       C\n",
       "99999  TEST_99999       E\n",
       "\n",
       "[100000 rows x 2 columns]"
      ]
     },
     "execution_count": 30,
     "metadata": {},
     "output_type": "execute_result"
    }
   ],
   "source": [
    "p1[\"Segment\"]=ll442[0].argmax(axis=1)\n",
    "val=dict(zip((0,1,2,3,4),list(\"ABCDE\")))\n",
    "#p1[\"Segment\"]=pred\n",
    "p1[\"Segment\"]=p1[\"Segment\"].apply(lambda x:val[x])\n",
    "p1\n",
    "#p1.to_csv(\"ppp/open/sample_submission_no_pca_982_all_100_6_20_16_16_4_down_my_30max_5244.csv\",index=False,encoding=\"utf-8-sig\")"
   ]
  },
  {
   "cell_type": "code",
   "execution_count": null,
   "id": "ea9663f6",
   "metadata": {},
   "outputs": [],
   "source": []
  },
  {
   "cell_type": "code",
   "execution_count": 31,
   "id": "deaa584b",
   "metadata": {},
   "outputs": [
    {
     "data": {
      "text/plain": [
       "Segment\n",
       "E    78508\n",
       "D    16633\n",
       "C     4843\n",
       "A       14\n",
       "B        2\n",
       "dtype: int64"
      ]
     },
     "execution_count": 31,
     "metadata": {},
     "output_type": "execute_result"
    }
   ],
   "source": [
    "p1.value_counts(\"Segment\")"
   ]
  },
  {
   "cell_type": "code",
   "execution_count": null,
   "id": "72334dd0",
   "metadata": {},
   "outputs": [],
   "source": []
  },
  {
   "cell_type": "code",
   "execution_count": null,
   "id": "42ac7856",
   "metadata": {},
   "outputs": [],
   "source": []
  },
  {
   "cell_type": "code",
   "execution_count": 37,
   "id": "77199a08",
   "metadata": {},
   "outputs": [],
   "source": [
    "p1.to_csv(\"ppp/open/sample_submission_no_pca_967_all_100_6_25_re02_6_step.csv\",index=False,encoding=\"utf-8-sig\")"
   ]
  },
  {
   "cell_type": "code",
   "execution_count": 26,
   "id": "e2e89c69",
   "metadata": {},
   "outputs": [
    {
     "data": {
      "text/html": [
       "<div>\n",
       "<style scoped>\n",
       "    .dataframe tbody tr th:only-of-type {\n",
       "        vertical-align: middle;\n",
       "    }\n",
       "\n",
       "    .dataframe tbody tr th {\n",
       "        vertical-align: top;\n",
       "    }\n",
       "\n",
       "    .dataframe thead th {\n",
       "        text-align: right;\n",
       "    }\n",
       "</style>\n",
       "<table border=\"1\" class=\"dataframe\">\n",
       "  <thead>\n",
       "    <tr style=\"text-align: right;\">\n",
       "      <th></th>\n",
       "      <th>ID</th>\n",
       "      <th>Segment</th>\n",
       "    </tr>\n",
       "  </thead>\n",
       "  <tbody>\n",
       "    <tr>\n",
       "      <th>14256</th>\n",
       "      <td>TEST_14256</td>\n",
       "      <td>B</td>\n",
       "    </tr>\n",
       "    <tr>\n",
       "      <th>47520</th>\n",
       "      <td>TEST_47520</td>\n",
       "      <td>B</td>\n",
       "    </tr>\n",
       "    <tr>\n",
       "      <th>66797</th>\n",
       "      <td>TEST_66797</td>\n",
       "      <td>B</td>\n",
       "    </tr>\n",
       "  </tbody>\n",
       "</table>\n",
       "</div>"
      ],
      "text/plain": [
       "               ID Segment\n",
       "14256  TEST_14256       B\n",
       "47520  TEST_47520       B\n",
       "66797  TEST_66797       B"
      ]
     },
     "execution_count": 26,
     "metadata": {},
     "output_type": "execute_result"
    }
   ],
   "source": [
    "p1[p1[\"Segment\"]==\"B\"]"
   ]
  },
  {
   "cell_type": "code",
   "execution_count": 158,
   "id": "93d6b7f5",
   "metadata": {},
   "outputs": [
    {
     "data": {
      "text/plain": [
       "E    77239\n",
       "D    18247\n",
       "C     4464\n",
       "A       47\n",
       "B        3\n",
       "Name: Segment, dtype: int64"
      ]
     },
     "execution_count": 158,
     "metadata": {},
     "output_type": "execute_result"
    }
   ],
   "source": [
    "p1[\"Segment\"].value_counts()"
   ]
  },
  {
   "cell_type": "code",
   "execution_count": 46,
   "id": "fdc37583",
   "metadata": {},
   "outputs": [
    {
     "data": {
      "text/plain": [
       "4    75405\n",
       "3    17010\n",
       "2     7544\n",
       "0       36\n",
       "1        5\n",
       "Name: Segment, dtype: int64"
      ]
     },
     "execution_count": 46,
     "metadata": {},
     "output_type": "execute_result"
    }
   ],
   "source": [
    "for i in [4,3,2,1,0]:\n",
    "    p1.loc[list(ypq[i]),\"Segment\"]=i\n",
    "p1[\"Segment\"].value_counts()"
   ]
  },
  {
   "cell_type": "code",
   "execution_count": 47,
   "id": "2aca9a77",
   "metadata": {},
   "outputs": [
    {
     "data": {
      "text/plain": [
       "Int64Index([ 1242,  3623,  6685,  8045,  9977, 10793, 12508, 16685, 23825,\n",
       "            24893, 28024, 31019, 39895, 41053, 41106, 42481, 51233, 62589,\n",
       "            64074, 68540, 69364, 73642, 73870, 74584, 75097, 77869, 81971,\n",
       "            84241, 85253, 88359, 89692, 90740, 90758, 91943, 95776, 95899],\n",
       "           dtype='int64')"
      ]
     },
     "execution_count": 47,
     "metadata": {},
     "output_type": "execute_result"
    }
   ],
   "source": [
    "p1[p1[\"Segment\"]==0].index"
   ]
  },
  {
   "cell_type": "code",
   "execution_count": null,
   "id": "392cc1cb",
   "metadata": {},
   "outputs": [],
   "source": []
  },
  {
   "cell_type": "code",
   "execution_count": null,
   "id": "1f0f80dc",
   "metadata": {},
   "outputs": [],
   "source": []
  },
  {
   "cell_type": "code",
   "execution_count": 19,
   "id": "c9523428",
   "metadata": {},
   "outputs": [
    {
     "data": {
      "text/plain": [
       "Int64Index([ 1242,  3623,  6685,  8045,  9977, 10793, 12129, 12508, 13458,\n",
       "            14624, 15258, 16685, 17966, 23825, 24893, 28024, 31019, 38048,\n",
       "            39197, 39895, 39925, 41053, 41106, 42030, 42481, 43287, 43890,\n",
       "            45995, 46586, 51233, 52627, 53109, 53258, 56681, 57192, 57373,\n",
       "            58831, 58982, 59250, 61433, 62589, 63296, 63979, 64074, 68051,\n",
       "            69364, 71330, 72112, 73642, 73870, 74584, 74998, 75097, 77869,\n",
       "            78806, 81114, 81971, 82439, 83835, 84241, 85253, 85337, 88359,\n",
       "            88823, 89692, 90740, 90758, 91943, 94180, 94987, 95776, 95899,\n",
       "            95957, 96614, 99023],\n",
       "           dtype='int64')"
      ]
     },
     "execution_count": 19,
     "metadata": {},
     "output_type": "execute_result"
    }
   ],
   "source": [
    "p1[p1[\"Segment\"]==0].index"
   ]
  },
  {
   "cell_type": "code",
   "execution_count": 1,
   "id": "df121e8c",
   "metadata": {},
   "outputs": [
    {
     "data": {
      "text/plain": [
       "(35, 31)"
      ]
     },
     "execution_count": 1,
     "metadata": {},
     "output_type": "execute_result"
    }
   ],
   "source": [
    "a101=[ 3623,  6685,  9694, 10793, 11825, 12508, 15258, 16685, 20587,\n",
    "23825, 24893, 28024, 31019, 36665, 39895, 41053, 42481, 43890,\n",
    "45995, 46586, 51233, 53109, 53258, 57192, 62589, 63979, 64074,\n",
    "68540, 69364, 71330, 73642, 73870, 74584, 75097, 77869, 81971,\n",
    "83835, 84250, 85253, 88359, 88823, 89692, 90740, 90758, 91943,\n",
    "95957, 99023]\n",
    "\n",
    "a102=[ 1242,  3623,  6685,  8045,  9694, 12508, 15258, 16685, 20587,\n",
    "            23825, 24893, 25635, 28024, 31019, 39895, 41053, 42481, 43421,\n",
    "            43890, 51233, 53258, 56681, 57192, 59250, 62589, 63296, 64074,\n",
    "            73642, 73870, 74584, 74998, 75097, 77869, 81114, 81971, 83835,\n",
    "            85253, 85337, 88359, 88823, 89692, 90740, 90758, 91943, 99023]\n",
    "a103=[ 1242,  3623,  6685,  8045,  9694, 15258, 16685, 17966, 23825,\n",
    "24893, 28024, 38048, 39895, 41053, 42481, 51233, 53258, 56681,\n",
    "59250, 62589, 63296, 63979, 64074, 69364, 73642, 73870, 74584,\n",
    "75097, 77869, 81971, 88359, 88823, 89692, 89749, 90740, 90758,\n",
    "91943, 95776, 95957, 98300, 99023]\n",
    "len(set(a101)&set(a102)),len(set(a101)&set(a103))"
   ]
  },
  {
   "cell_type": "code",
   "execution_count": 32,
   "id": "8ab89cd0",
   "metadata": {},
   "outputs": [
    {
     "data": {
      "text/plain": [
       "Segment\n",
       "E    78508\n",
       "D    16632\n",
       "C     4810\n",
       "A       47\n",
       "B        3\n",
       "dtype: int64"
      ]
     },
     "execution_count": 32,
     "metadata": {},
     "output_type": "execute_result"
    }
   ],
   "source": [
    "p2=pd.read_csv(\"ppp/open/sample_submission_no_pca_982_all_200_1_20_35_35_79_down_my_30max_a01_11_stand.csv\")\n",
    "p1.iloc[p1[p1[\"Segment\"]==\"A\"].index,1]=\"C\"\n",
    "p1.iloc[p2[p2[\"Segment\"]==\"A\"].index,1]=\"A\"\n",
    "p1.iloc[p2[p2[\"Segment\"]==\"B\"].index,1]=\"B\"\n",
    "\n",
    "p1.value_counts(\"Segment\")"
   ]
  },
  {
   "cell_type": "code",
   "execution_count": 33,
   "id": "714b3bb1",
   "metadata": {},
   "outputs": [],
   "source": [
    "p1.to_csv(\"ppp/open/sample_submission_no_pca_982_all_200_1_20_35_35_79_down_my_30max_a01_11_kfold_all_5_20_0011.csv\",index=False,encoding=\"utf-8-sig\")"
   ]
  },
  {
   "cell_type": "code",
   "execution_count": 56,
   "id": "c593feca",
   "metadata": {},
   "outputs": [
    {
     "data": {
      "text/plain": [
       "Segment\n",
       "E    78836\n",
       "D    15856\n",
       "C     5258\n",
       "A       47\n",
       "B        3\n",
       "dtype: int64"
      ]
     },
     "execution_count": 56,
     "metadata": {},
     "output_type": "execute_result"
    }
   ],
   "source": [
    "p2=pd.read_csv(\"ppp/open/sample_submission_no_pca_982_all_200_1_20_35_35_79_down_my_30max_a01_11_stand.csv\")\n",
    "p1.iloc[p1[p1[\"Segment\"]==\"A\"].index,1]=\"C\"\n",
    "p1.iloc[p2[p2[\"Segment\"]==\"A\"].index,1]=\"A\"\n",
    "p1.iloc[p2[p2[\"Segment\"]==\"B\"].index,1]=\"B\"\n",
    "\n",
    "p1.value_counts(\"Segment\")"
   ]
  },
  {
   "cell_type": "code",
   "execution_count": 57,
   "id": "88f196f3",
   "metadata": {},
   "outputs": [],
   "source": [
    "p1.to_csv(\"ppp/open/sample_submission_no_pca_982_all_200_1_20_35_35_79_down_my_30max_a01_11_kfold.csv\",index=False,encoding=\"utf-8-sig\")"
   ]
  },
  {
   "cell_type": "code",
   "execution_count": 3,
   "id": "033d7b1c",
   "metadata": {},
   "outputs": [
    {
     "data": {
      "text/plain": [
       "Segment\n",
       "E    79805\n",
       "D    15614\n",
       "C     4532\n",
       "A       47\n",
       "B        2\n",
       "dtype: int64"
      ]
     },
     "execution_count": 3,
     "metadata": {},
     "output_type": "execute_result"
    }
   ],
   "source": [
    "import pandas as pd\n",
    "p1=pd.read_csv(\"ppp/open/sample_submission_no_pca_982_all_200_1_20_35_35_79_down_my_30max_a01_11_stand.csv\")\n",
    "p1.iloc[[66797],1]=\"C\"\n",
    "#p1.iloc[list(set(a101)&set(a103)),1]=\"A\"\n",
    "\n",
    "p1.value_counts(\"Segment\")"
   ]
  },
  {
   "cell_type": "code",
   "execution_count": 2,
   "id": "8eb926ef",
   "metadata": {},
   "outputs": [
    {
     "data": {
      "text/html": [
       "<div>\n",
       "<style scoped>\n",
       "    .dataframe tbody tr th:only-of-type {\n",
       "        vertical-align: middle;\n",
       "    }\n",
       "\n",
       "    .dataframe tbody tr th {\n",
       "        vertical-align: top;\n",
       "    }\n",
       "\n",
       "    .dataframe thead th {\n",
       "        text-align: right;\n",
       "    }\n",
       "</style>\n",
       "<table border=\"1\" class=\"dataframe\">\n",
       "  <thead>\n",
       "    <tr style=\"text-align: right;\">\n",
       "      <th></th>\n",
       "      <th>ID</th>\n",
       "      <th>Segment</th>\n",
       "    </tr>\n",
       "  </thead>\n",
       "  <tbody>\n",
       "    <tr>\n",
       "      <th>14256</th>\n",
       "      <td>TEST_14256</td>\n",
       "      <td>B</td>\n",
       "    </tr>\n",
       "    <tr>\n",
       "      <th>47520</th>\n",
       "      <td>TEST_47520</td>\n",
       "      <td>B</td>\n",
       "    </tr>\n",
       "    <tr>\n",
       "      <th>66797</th>\n",
       "      <td>TEST_66797</td>\n",
       "      <td>B</td>\n",
       "    </tr>\n",
       "  </tbody>\n",
       "</table>\n",
       "</div>"
      ],
      "text/plain": [
       "               ID Segment\n",
       "14256  TEST_14256       B\n",
       "47520  TEST_47520       B\n",
       "66797  TEST_66797       B"
      ]
     },
     "execution_count": 2,
     "metadata": {},
     "output_type": "execute_result"
    }
   ],
   "source": [
    "p1[p1[\"Segment\"]==\"B\"]"
   ]
  },
  {
   "cell_type": "code",
   "execution_count": 15,
   "id": "df3150af",
   "metadata": {},
   "outputs": [],
   "source": [
    "p1.to_csv(\"ppp/open/sample_submission_no_pca_982_all_200_1_20_35_35_79_down_my_30max_a01_11_stand.csv\",index=False,encoding=\"utf-8-sig\")"
   ]
  },
  {
   "cell_type": "code",
   "execution_count": 17,
   "id": "e7151ca9",
   "metadata": {},
   "outputs": [
    {
     "data": {
      "text/plain": [
       "0.3998922745"
      ]
     },
     "execution_count": 17,
     "metadata": {},
     "output_type": "execute_result"
    }
   ],
   "source": [
    "(0.6793944264-0.5994159715)*5"
   ]
  },
  {
   "cell_type": "code",
   "execution_count": null,
   "id": "195989b5",
   "metadata": {},
   "outputs": [],
   "source": []
  },
  {
   "cell_type": "code",
   "execution_count": 36,
   "id": "d487bb26",
   "metadata": {},
   "outputs": [
    {
     "data": {
      "text/plain": [
       "Int64Index([ 1242,  3623,  6685,  8045,  9694, 15258, 16685, 17966, 23825,\n",
       "            24893, 28024, 38048, 39895, 41053, 42481, 51233, 53258, 56681,\n",
       "            59250, 62589, 63296, 63979, 64074, 69364, 73642, 73870, 74584,\n",
       "            75097, 77869, 81971, 88359, 88823, 89692, 89749, 90740, 90758,\n",
       "            91943, 95776, 95957, 98300, 99023],\n",
       "           dtype='int64')"
      ]
     },
     "execution_count": 36,
     "metadata": {},
     "output_type": "execute_result"
    }
   ],
   "source": [
    "p1[p1[\"Segment\"]==0].index"
   ]
  },
  {
   "cell_type": "code",
   "execution_count": null,
   "id": "f0390c60",
   "metadata": {},
   "outputs": [],
   "source": []
  },
  {
   "cell_type": "code",
   "execution_count": 157,
   "id": "85c97c2d",
   "metadata": {},
   "outputs": [
    {
     "ename": "KeyError",
     "evalue": "'D'",
     "output_type": "error",
     "traceback": [
      "\u001b[1;31m---------------------------------------------------------------------------\u001b[0m",
      "\u001b[1;31mKeyError\u001b[0m                                  Traceback (most recent call last)",
      "\u001b[1;32m~\\AppData\\Local\\Temp/ipykernel_8328/2631874353.py\u001b[0m in \u001b[0;36m<module>\u001b[1;34m\u001b[0m\n\u001b[0;32m      1\u001b[0m \u001b[0mval\u001b[0m\u001b[1;33m=\u001b[0m\u001b[0mdict\u001b[0m\u001b[1;33m(\u001b[0m\u001b[0mzip\u001b[0m\u001b[1;33m(\u001b[0m\u001b[1;33m(\u001b[0m\u001b[1;36m0\u001b[0m\u001b[1;33m,\u001b[0m\u001b[1;36m1\u001b[0m\u001b[1;33m,\u001b[0m\u001b[1;36m2\u001b[0m\u001b[1;33m,\u001b[0m\u001b[1;36m3\u001b[0m\u001b[1;33m,\u001b[0m\u001b[1;36m4\u001b[0m\u001b[1;33m)\u001b[0m\u001b[1;33m,\u001b[0m\u001b[0mlist\u001b[0m\u001b[1;33m(\u001b[0m\u001b[1;34m\"ABCDE\"\u001b[0m\u001b[1;33m)\u001b[0m\u001b[1;33m)\u001b[0m\u001b[1;33m)\u001b[0m\u001b[1;33m\u001b[0m\u001b[1;33m\u001b[0m\u001b[0m\n\u001b[0;32m      2\u001b[0m \u001b[1;31m#p1[\"Segment\"]=pred\u001b[0m\u001b[1;33m\u001b[0m\u001b[1;33m\u001b[0m\u001b[0m\n\u001b[1;32m----> 3\u001b[1;33m \u001b[0mp1\u001b[0m\u001b[1;33m[\u001b[0m\u001b[1;34m\"Segment\"\u001b[0m\u001b[1;33m]\u001b[0m\u001b[1;33m=\u001b[0m\u001b[0mp1\u001b[0m\u001b[1;33m[\u001b[0m\u001b[1;34m\"Segment\"\u001b[0m\u001b[1;33m]\u001b[0m\u001b[1;33m.\u001b[0m\u001b[0mapply\u001b[0m\u001b[1;33m(\u001b[0m\u001b[1;32mlambda\u001b[0m \u001b[0mx\u001b[0m\u001b[1;33m:\u001b[0m\u001b[0mval\u001b[0m\u001b[1;33m[\u001b[0m\u001b[0mx\u001b[0m\u001b[1;33m]\u001b[0m\u001b[1;33m)\u001b[0m\u001b[1;33m\u001b[0m\u001b[1;33m\u001b[0m\u001b[0m\n\u001b[0m\u001b[0;32m      4\u001b[0m \u001b[0mp1\u001b[0m\u001b[1;33m\u001b[0m\u001b[1;33m\u001b[0m\u001b[0m\n",
      "\u001b[1;32m~\\anaconda3\\lib\\site-packages\\pandas\\core\\series.py\u001b[0m in \u001b[0;36mapply\u001b[1;34m(self, func, convert_dtype, args, **kwargs)\u001b[0m\n\u001b[0;32m   4355\u001b[0m         \u001b[0mdtype\u001b[0m\u001b[1;33m:\u001b[0m \u001b[0mfloat64\u001b[0m\u001b[1;33m\u001b[0m\u001b[1;33m\u001b[0m\u001b[0m\n\u001b[0;32m   4356\u001b[0m         \"\"\"\n\u001b[1;32m-> 4357\u001b[1;33m         \u001b[1;32mreturn\u001b[0m \u001b[0mSeriesApply\u001b[0m\u001b[1;33m(\u001b[0m\u001b[0mself\u001b[0m\u001b[1;33m,\u001b[0m \u001b[0mfunc\u001b[0m\u001b[1;33m,\u001b[0m \u001b[0mconvert_dtype\u001b[0m\u001b[1;33m,\u001b[0m \u001b[0margs\u001b[0m\u001b[1;33m,\u001b[0m \u001b[0mkwargs\u001b[0m\u001b[1;33m)\u001b[0m\u001b[1;33m.\u001b[0m\u001b[0mapply\u001b[0m\u001b[1;33m(\u001b[0m\u001b[1;33m)\u001b[0m\u001b[1;33m\u001b[0m\u001b[1;33m\u001b[0m\u001b[0m\n\u001b[0m\u001b[0;32m   4358\u001b[0m \u001b[1;33m\u001b[0m\u001b[0m\n\u001b[0;32m   4359\u001b[0m     def _reduce(\n",
      "\u001b[1;32m~\\anaconda3\\lib\\site-packages\\pandas\\core\\apply.py\u001b[0m in \u001b[0;36mapply\u001b[1;34m(self)\u001b[0m\n\u001b[0;32m   1041\u001b[0m             \u001b[1;32mreturn\u001b[0m \u001b[0mself\u001b[0m\u001b[1;33m.\u001b[0m\u001b[0mapply_str\u001b[0m\u001b[1;33m(\u001b[0m\u001b[1;33m)\u001b[0m\u001b[1;33m\u001b[0m\u001b[1;33m\u001b[0m\u001b[0m\n\u001b[0;32m   1042\u001b[0m \u001b[1;33m\u001b[0m\u001b[0m\n\u001b[1;32m-> 1043\u001b[1;33m         \u001b[1;32mreturn\u001b[0m \u001b[0mself\u001b[0m\u001b[1;33m.\u001b[0m\u001b[0mapply_standard\u001b[0m\u001b[1;33m(\u001b[0m\u001b[1;33m)\u001b[0m\u001b[1;33m\u001b[0m\u001b[1;33m\u001b[0m\u001b[0m\n\u001b[0m\u001b[0;32m   1044\u001b[0m \u001b[1;33m\u001b[0m\u001b[0m\n\u001b[0;32m   1045\u001b[0m     \u001b[1;32mdef\u001b[0m \u001b[0magg\u001b[0m\u001b[1;33m(\u001b[0m\u001b[0mself\u001b[0m\u001b[1;33m)\u001b[0m\u001b[1;33m:\u001b[0m\u001b[1;33m\u001b[0m\u001b[1;33m\u001b[0m\u001b[0m\n",
      "\u001b[1;32m~\\anaconda3\\lib\\site-packages\\pandas\\core\\apply.py\u001b[0m in \u001b[0;36mapply_standard\u001b[1;34m(self)\u001b[0m\n\u001b[0;32m   1096\u001b[0m                 \u001b[1;31m# List[Union[Callable[..., Any], str]]]]]\"; expected\u001b[0m\u001b[1;33m\u001b[0m\u001b[1;33m\u001b[0m\u001b[0m\n\u001b[0;32m   1097\u001b[0m                 \u001b[1;31m# \"Callable[[Any], Any]\"\u001b[0m\u001b[1;33m\u001b[0m\u001b[1;33m\u001b[0m\u001b[0m\n\u001b[1;32m-> 1098\u001b[1;33m                 mapped = lib.map_infer(\n\u001b[0m\u001b[0;32m   1099\u001b[0m                     \u001b[0mvalues\u001b[0m\u001b[1;33m,\u001b[0m\u001b[1;33m\u001b[0m\u001b[1;33m\u001b[0m\u001b[0m\n\u001b[0;32m   1100\u001b[0m                     \u001b[0mf\u001b[0m\u001b[1;33m,\u001b[0m  \u001b[1;31m# type: ignore[arg-type]\u001b[0m\u001b[1;33m\u001b[0m\u001b[1;33m\u001b[0m\u001b[0m\n",
      "\u001b[1;32m~\\anaconda3\\lib\\site-packages\\pandas\\_libs\\lib.pyx\u001b[0m in \u001b[0;36mpandas._libs.lib.map_infer\u001b[1;34m()\u001b[0m\n",
      "\u001b[1;32m~\\AppData\\Local\\Temp/ipykernel_8328/2631874353.py\u001b[0m in \u001b[0;36m<lambda>\u001b[1;34m(x)\u001b[0m\n\u001b[0;32m      1\u001b[0m \u001b[0mval\u001b[0m\u001b[1;33m=\u001b[0m\u001b[0mdict\u001b[0m\u001b[1;33m(\u001b[0m\u001b[0mzip\u001b[0m\u001b[1;33m(\u001b[0m\u001b[1;33m(\u001b[0m\u001b[1;36m0\u001b[0m\u001b[1;33m,\u001b[0m\u001b[1;36m1\u001b[0m\u001b[1;33m,\u001b[0m\u001b[1;36m2\u001b[0m\u001b[1;33m,\u001b[0m\u001b[1;36m3\u001b[0m\u001b[1;33m,\u001b[0m\u001b[1;36m4\u001b[0m\u001b[1;33m)\u001b[0m\u001b[1;33m,\u001b[0m\u001b[0mlist\u001b[0m\u001b[1;33m(\u001b[0m\u001b[1;34m\"ABCDE\"\u001b[0m\u001b[1;33m)\u001b[0m\u001b[1;33m)\u001b[0m\u001b[1;33m)\u001b[0m\u001b[1;33m\u001b[0m\u001b[1;33m\u001b[0m\u001b[0m\n\u001b[0;32m      2\u001b[0m \u001b[1;31m#p1[\"Segment\"]=pred\u001b[0m\u001b[1;33m\u001b[0m\u001b[1;33m\u001b[0m\u001b[0m\n\u001b[1;32m----> 3\u001b[1;33m \u001b[0mp1\u001b[0m\u001b[1;33m[\u001b[0m\u001b[1;34m\"Segment\"\u001b[0m\u001b[1;33m]\u001b[0m\u001b[1;33m=\u001b[0m\u001b[0mp1\u001b[0m\u001b[1;33m[\u001b[0m\u001b[1;34m\"Segment\"\u001b[0m\u001b[1;33m]\u001b[0m\u001b[1;33m.\u001b[0m\u001b[0mapply\u001b[0m\u001b[1;33m(\u001b[0m\u001b[1;32mlambda\u001b[0m \u001b[0mx\u001b[0m\u001b[1;33m:\u001b[0m\u001b[0mval\u001b[0m\u001b[1;33m[\u001b[0m\u001b[0mx\u001b[0m\u001b[1;33m]\u001b[0m\u001b[1;33m)\u001b[0m\u001b[1;33m\u001b[0m\u001b[1;33m\u001b[0m\u001b[0m\n\u001b[0m\u001b[0;32m      4\u001b[0m \u001b[0mp1\u001b[0m\u001b[1;33m\u001b[0m\u001b[1;33m\u001b[0m\u001b[0m\n",
      "\u001b[1;31mKeyError\u001b[0m: 'D'"
     ]
    }
   ],
   "source": [
    "val=dict(zip((0,1,2,3,4),list(\"ABCDE\")))\n",
    "#p1[\"Segment\"]=pred\n",
    "p1[\"Segment\"]=p1[\"Segment\"].apply(lambda x:val[x])\n",
    "p1"
   ]
  },
  {
   "cell_type": "code",
   "execution_count": 76,
   "id": "7b6b5180",
   "metadata": {},
   "outputs": [
    {
     "data": {
      "text/plain": [
       "E    75867\n",
       "D    17596\n",
       "C     6489\n",
       "A       45\n",
       "B        3\n",
       "Name: Segment, dtype: int64"
      ]
     },
     "execution_count": 76,
     "metadata": {},
     "output_type": "execute_result"
    }
   ],
   "source": [
    "p1[\"Segment\"].value_counts()"
   ]
  },
  {
   "cell_type": "code",
   "execution_count": 51,
   "id": "74fedb99",
   "metadata": {},
   "outputs": [
    {
     "data": {
      "text/plain": [
       "Int64Index([ 3623,  6685,  9694, 10793, 11825, 12508, 15258, 16685, 20587,\n",
       "            23825, 24893, 28024, 31019, 36665, 39895, 41053, 42481, 43890,\n",
       "            45995, 46586, 51233, 53109, 53258, 57192, 62589, 63979, 64074,\n",
       "            68540, 69364, 71330, 73642, 73870, 74584, 75097, 77869, 81971,\n",
       "            83835, 84250, 85253, 88359, 88823, 89692, 90740, 90758, 91943,\n",
       "            95957, 99023],\n",
       "           dtype='int64')"
      ]
     },
     "execution_count": 51,
     "metadata": {},
     "output_type": "execute_result"
    }
   ],
   "source": [
    "fg[fg[\"Segment\"]==\"A\"].index"
   ]
  },
  {
   "cell_type": "code",
   "execution_count": 55,
   "id": "92d06e95",
   "metadata": {},
   "outputs": [],
   "source": [
    "p1.iloc[p1[p1[\"Segment\"]==\"A\"].index,1]=\"C\""
   ]
  },
  {
   "cell_type": "code",
   "execution_count": 56,
   "id": "62ba4077",
   "metadata": {},
   "outputs": [],
   "source": [
    "p1.iloc[fg[fg[\"Segment\"]==\"A\"].index,1]=\"A\""
   ]
  },
  {
   "cell_type": "code",
   "execution_count": 77,
   "id": "7f80694d",
   "metadata": {},
   "outputs": [],
   "source": [
    "p1.to_csv(\"ppp/open/sample_submission_no_pca_982_all_200_15_20_16_16_4_down_my.csv\",index=False,encoding=\"utf-8-sig\")"
   ]
  },
  {
   "cell_type": "code",
   "execution_count": null,
   "id": "64cace9d",
   "metadata": {},
   "outputs": [],
   "source": [
    "E    73054\n",
    "D    19426\n",
    "C     7470\n",
    "A       49\n",
    "B        1"
   ]
  },
  {
   "cell_type": "code",
   "execution_count": null,
   "id": "43b2b282",
   "metadata": {},
   "outputs": [],
   "source": []
  },
  {
   "cell_type": "code",
   "execution_count": null,
   "id": "165155d2",
   "metadata": {},
   "outputs": [],
   "source": [
    "E    77792\n",
    "D    14968\n",
    "C     7190\n",
    "A       47\n",
    "B        3\n",
    "# [ 27 , 3 , 7190 , 14968, 77792 ] sample_submission_no_pca_982_all_200_15_20_16_16_4_down_my_30max_01a\n",
    "# [ 47 , 3 , 7190 , 14968, 77792 ] sample_submission_no_pca_982_all_200_15_20_16_16_4_down_my_30max_01a11\n",
    "#    47     3    4306   14356   81288                                                                     0.669\n",
    "#   47,      3,  6487, 17596, 75867]pp/open/sample_submission_no_pca_971_all_200_20_3_re02_all0712.csv     0.6649 \n",
    "\n",
    "#    [ 49, 1(3), 7470, 19426, 73054]  sample_submission_no_pca_968_all_100_6_25_te01m_5000  10000 \n",
    "#    [ 21, 1(3), 7355, 18978, 73643]  sample_submission_no_pca_968_all_100_6_25_te01m  10000  59\n",
    "#     96 , 3, 6350, 22343, 71208 61 sample_submission_no_pca_967_all_100_6_25_re02_6_step\n",
    "\n",
    "# [   32,     3,  4048, 17526, 78391]  sample_submission_no_pca_967_all_100_6_25_re02_6_30p5     61 \n",
    "# [   43,     2,  6703, 18033, 75219]  sample_submission_no_pca_982_all_100_6_25_re02_all0712_step_1_1_21185  \n",
    "\n",
    "# [   68,     3,  6993, 20069, 72905]  sample_submission_no_pca_982_all_100_6_25_re02_all0712_step_1_1_2  118_982_no_pca_min_max_all_data_all{100}_{25}_{10}\n",
    "\n",
    "# [   68,     3,  4474, 15518, 79937]  sample_submission_no_pca_967_all_200_9_25_re02_all071185 8_967_no_pca_min_max_all_data_all{200}_{25}_{9}_1185\n",
    "# 55,     0,  4261, 15128, 80552]sample_submission_no_pca_967_all_200_9_25_re02_all0712_step_1185_1fa  18_967_no_pca_min_max_all_data_all{200}_{25}_{9}_1185   46 \n",
    "# 55,     1,  4264, 15128, 80552] sample_submission_no_pca_967_all_200_9_25_re02_all0712_hstak_max  18_967_no_pca_min_max_all_data_all{200}_{25}_{9}_1185\n",
    "#[   120,     4,  6394, 18599, 74883]sample_submission_no_pca_967_all_200_9_25_re02_all0712_step_1185 118_967_no_pca_min_max_all_data_all{200}_{25}_{9}_1185\n",
    "#[   56,     3,  4217, 15272, 80452]  ppp/open/models2/118_967_no_pca_min_max_all_data_te_02{200}_{25}_{20}.model sample_submission_no_pca_967_all_200_20_25_te02_09\n",
    "#   47,      3,  4775, 18381, 76794]pp/open/sample_submission_no_pca_971_all_200_20_3_re02_all0712.csv    0.67\n",
    "#[   16,     3,  4431, 17737, 77813] sample_submission_no_pca_971_all_200_20_3_re02 118_971_no_pca_min_max_all_data_te_02 63\n",
    "#[66797] f\"ppp/open/models2/118_973_no_pca_min_max_all_data_{200}_{25}_{20}.modelxxxxxxxxxxxxx\n",
    "#[   15,     2,  4808, 18381, 76794]  118_970_no_pca_min_max_all_data_02test_200_0.3_20.model E 만 1/3   64"
   ]
  },
  {
   "cell_type": "code",
   "execution_count": null,
   "id": "2feffe08",
   "metadata": {},
   "outputs": [],
   "source": [
    "# [ 47 , 3 , 7190 , 14968, 77792 ] sample_submission_no_pca_982_all_200_15_20_16_16_4_down_my_30max_01a11   0.66\n",
    "# [ 27 , 3 , 7190 , 14968, 77792 ] sample_submission_no_pca_982_all_200_15_20_16_16_4_down_my_30max_01a11   0.62\n",
    "#    47  3    4306   14356   81288                                                                     0.669\n",
    "#   47,  3,  6487, 17596, 75867]pp/open/sample_submission_no_pca_971_all_200_20_3_re02_all0712.csv     0.6649 \n",
    "#   47, 3,  4775, 18381, 76794]pp/open/sample_submission_no_pca_971_all_200_20_3_re02_all0712.csv    0.67\n",
    "#[   16,  3,  4431, 17737, 77813] sample_submission_no_pca_971_all_200_20_3_re02 118_971_no_pca_min_max_all_data_te_02 63"
   ]
  },
  {
   "cell_type": "code",
   "execution_count": 47,
   "id": "184008b9",
   "metadata": {},
   "outputs": [
    {
     "data": {
      "text/plain": [
       "Segment\n",
       "E    77792\n",
       "D    14968\n",
       "C     7213\n",
       "A       27\n",
       "dtype: int64"
      ]
     },
     "execution_count": 47,
     "metadata": {},
     "output_type": "execute_result"
    }
   ],
   "source": [
    "p1.value_counts(\"Segment\")"
   ]
  },
  {
   "cell_type": "code",
   "execution_count": 52,
   "id": "98de87f8",
   "metadata": {},
   "outputs": [
    {
     "data": {
      "text/plain": [
       "Segment\n",
       "E    81288\n",
       "D    14356\n",
       "C     4337\n",
       "A       18\n",
       "B        1\n",
       "dtype: int64"
      ]
     },
     "execution_count": 52,
     "metadata": {},
     "output_type": "execute_result"
    }
   ],
   "source": [
    "ad=pd.read_csv(\"ppp/open/sample_submission_no_pca_982_all_200_15_20_16_16_4_down_my_30max.csv\")\n",
    "ad.value_counts(\"Segment\")\n",
    "#a#d[]"
   ]
  },
  {
   "cell_type": "code",
   "execution_count": 30,
   "id": "07b42363",
   "metadata": {},
   "outputs": [],
   "source": [
    "p1.iloc[p1[p1[\"Segment\"]==\"A\"].index,1]=\"C\"\n"
   ]
  },
  {
   "cell_type": "code",
   "execution_count": null,
   "id": "2ad8ac3e",
   "metadata": {},
   "outputs": [],
   "source": []
  },
  {
   "cell_type": "code",
   "execution_count": 154,
   "id": "d231872b",
   "metadata": {},
   "outputs": [],
   "source": [
    "p1.iloc[fg[fg[\"Segment\"]==\"B\"].index,1]=\"B\"\n",
    "p1.iloc[fg[fg[\"Segment\"]==\"A\"].index,1]=\"A\"\n"
   ]
  },
  {
   "cell_type": "code",
   "execution_count": 155,
   "id": "e1afe61d",
   "metadata": {},
   "outputs": [
    {
     "data": {
      "text/plain": [
       "Segment\n",
       "E    77239\n",
       "D    18247\n",
       "C     4464\n",
       "A       47\n",
       "B        3\n",
       "dtype: int64"
      ]
     },
     "execution_count": 155,
     "metadata": {},
     "output_type": "execute_result"
    }
   ],
   "source": [
    "p1.value_counts(\"Segment\")"
   ]
  },
  {
   "cell_type": "code",
   "execution_count": 156,
   "id": "102e1970",
   "metadata": {},
   "outputs": [],
   "source": [
    "p1.to_csv(\"ppp/open/sample_submission_xbg_30max_07.csv\",index=False,encoding=\"utf-8-sig\")"
   ]
  },
  {
   "cell_type": "code",
   "execution_count": 142,
   "id": "4619d275",
   "metadata": {},
   "outputs": [
    {
     "data": {
      "text/plain": [
       "47"
      ]
     },
     "execution_count": 142,
     "metadata": {},
     "output_type": "execute_result"
    }
   ],
   "source": [
    "fg=pd.read_csv(\"ppp/open/sample_submission_no_pca_971_all_200_20_3_re02_all0712.csv\")\n",
    "fgg=fg[fg[\"Segment\"]==\"A\"]\n",
    "len(fgg)"
   ]
  },
  {
   "cell_type": "code",
   "execution_count": 143,
   "id": "0bb73bc3",
   "metadata": {},
   "outputs": [
    {
     "data": {
      "text/plain": [
       "7"
      ]
     },
     "execution_count": 143,
     "metadata": {},
     "output_type": "execute_result"
    }
   ],
   "source": [
    "fg14=p1#pd.read_csv(\"ppp/open/sample_submission_no_pca_971_all_200_20_3_re02_all0712.csv\")\n",
    "fgg14=fg14[fg14[\"Segment\"]==\"A\"]\n",
    "len(fgg14)"
   ]
  },
  {
   "cell_type": "code",
   "execution_count": null,
   "id": "d1ea94f2",
   "metadata": {},
   "outputs": [],
   "source": []
  },
  {
   "cell_type": "code",
   "execution_count": 60,
   "id": "f5684dc4",
   "metadata": {},
   "outputs": [],
   "source": [
    "p1.iloc[p1[p1[\"Segment\"]==\"A\"].index,1]=\"C\"\n",
    "p1.iloc[fg[fg[\"Segment\"]==\"A\"].index,1]=\"A\"\n",
    "\n",
    "p1.iloc[fg[fg[\"Segment\"]==\"B\"].index,1]=\"B\""
   ]
  },
  {
   "cell_type": "code",
   "execution_count": 62,
   "id": "3e5b8ef1",
   "metadata": {},
   "outputs": [],
   "source": [
    "p1.to_csv(\"ppp/open/sample_submission_no_pca_982_all_300_1_30_35_35_79_down_my_30max_a01_11.csv\",index=False,encoding=\"utf-8-sig\")"
   ]
  },
  {
   "cell_type": "code",
   "execution_count": 61,
   "id": "e8d7c965",
   "metadata": {},
   "outputs": [
    {
     "data": {
      "text/plain": [
       "Segment\n",
       "E    77792\n",
       "D    14968\n",
       "C     7190\n",
       "A       47\n",
       "B        3\n",
       "dtype: int64"
      ]
     },
     "execution_count": 61,
     "metadata": {},
     "output_type": "execute_result"
    }
   ],
   "source": [
    "p1.value_counts(\"Segment\")"
   ]
  },
  {
   "cell_type": "code",
   "execution_count": 144,
   "id": "3ad20941",
   "metadata": {},
   "outputs": [
    {
     "data": {
      "text/plain": [
       "7"
      ]
     },
     "execution_count": 144,
     "metadata": {},
     "output_type": "execute_result"
    }
   ],
   "source": [
    "len(set(fgg.index)&set(fgg14.index))"
   ]
  },
  {
   "cell_type": "code",
   "execution_count": 26,
   "id": "273b66cc",
   "metadata": {},
   "outputs": [
    {
     "data": {
      "text/plain": [
       "Segment\n",
       "E    80552\n",
       "D    15128\n",
       "C     4261\n",
       "A       55\n",
       "1        4\n",
       "dtype: int64"
      ]
     },
     "execution_count": 26,
     "metadata": {},
     "output_type": "execute_result"
    }
   ],
   "source": [
    "ad1=pd.read_csv(\"ppp/open/sample_submission_no_pca_967_all_200_9_25_re02_all0712_step_1185_1fa.csv\")\n",
    "ad1.value_counts(\"Segment\")"
   ]
  },
  {
   "cell_type": "code",
   "execution_count": null,
   "id": "4fa83018",
   "metadata": {},
   "outputs": [],
   "source": []
  },
  {
   "cell_type": "code",
   "execution_count": 23,
   "id": "e45d622f",
   "metadata": {},
   "outputs": [],
   "source": [
    "val=dict(zip(list(\"ABCDE1\"),(0,1,2,3,4,1)))\n",
    "a1=p1[\"Segment\"].apply(lambda x:val[x])\n",
    "a2=fg[\"Segment\"].apply(lambda x:val[x])\n"
   ]
  },
  {
   "cell_type": "code",
   "execution_count": 38,
   "id": "1e0bfccb",
   "metadata": {},
   "outputs": [
    {
     "data": {
      "text/plain": [
       "0        3\n",
       "1        3\n",
       "2        3\n",
       "3        4\n",
       "4        4\n",
       "        ..\n",
       "99995    4\n",
       "99996    4\n",
       "99997    4\n",
       "99998    2\n",
       "99999    4\n",
       "Name: Segment, Length: 100000, dtype: int64"
      ]
     },
     "execution_count": 38,
     "metadata": {},
     "output_type": "execute_result"
    }
   ],
   "source": [
    "a2"
   ]
  },
  {
   "cell_type": "code",
   "execution_count": null,
   "id": "f334af22",
   "metadata": {},
   "outputs": [],
   "source": []
  },
  {
   "cell_type": "code",
   "execution_count": null,
   "id": "4e5c5ab0",
   "metadata": {},
   "outputs": [],
   "source": [
    "[55,     4,  4261, 15128, 80552] 46\n",
    "            3600, 14000, 82000\n",
    "[   32,     3,  4048, 17526, 78391]    61 \n",
    "[    96 ,   3,  6350, 22343, 71208 61\n",
    " [   16,     3,  4431, 17737, 77813]  63 \n",
    "[   15,     2,  4808, 18381, 76794]   64\n",
    "[  47,      3,  4775, 18381, 76794]  0.67\n"
   ]
  },
  {
   "cell_type": "code",
   "execution_count": null,
   "id": "2b5fa251",
   "metadata": {},
   "outputs": [],
   "source": [
    "40~ ,3~ , 4500~ 6500 , 18000~22000,71000~78000"
   ]
  },
  {
   "cell_type": "code",
   "execution_count": 24,
   "id": "616b0daf",
   "metadata": {},
   "outputs": [
    {
     "name": "stdout",
     "output_type": "stream",
     "text": [
      "0.580508979011452\n",
      "[0.37288136 0.         0.81687035 0.7614216  0.9513716 ]\n",
      "[[   11     0    36     0     0]\n",
      " [    0     0     3     0     0]\n",
      " [    1     0  4445  1630   280]\n",
      " [    0     0    43 14033  7107]\n",
      " [    0     0     0    14 72397]]\n"
     ]
    }
   ],
   "source": [
    "print(f1_score(a2,a1 ,average=\"macro\"))\n",
    "print(f1_score( a2,a1,average=None))\n",
    "print(confusion_matrix( a2,a1))"
   ]
  },
  {
   "cell_type": "code",
   "execution_count": null,
   "id": "598e12e2",
   "metadata": {},
   "outputs": [],
   "source": []
  },
  {
   "cell_type": "code",
   "execution_count": 34,
   "id": "f0421c58",
   "metadata": {},
   "outputs": [
    {
     "name": "stdout",
     "output_type": "stream",
     "text": [
      "0.7852263505180906\n",
      "[0.60784314 0.85714286 0.78402562 0.73057751 0.94654263]\n",
      "[[   31     0    16     0     0]\n",
      " [    0     3     0     0     0]\n",
      " [   24     1  4162  1846   323]\n",
      " [    0     0    83 13264  7836]\n",
      " [    0     0     0    18 72393]]\n"
     ]
    }
   ],
   "source": [
    "print(f1_score(a2,a1 ,average=\"macro\"))\n",
    "print(f1_score( a2,a1,average=None))\n",
    "print(confusion_matrix( a2,a1))"
   ]
  },
  {
   "cell_type": "code",
   "execution_count": 36,
   "id": "1e1bce8f",
   "metadata": {},
   "outputs": [
    {
     "name": "stdout",
     "output_type": "stream",
     "text": [
      "0.7196116355462658\n",
      "[0.43835616 0.4        0.87811119 0.89546873 0.9861221 ]\n",
      "[[   16     0     2     0     0]\n",
      " [    0     1     0     0     0]\n",
      " [   39     3  3775   489    31]\n",
      " [    0     0   431 13201   724]\n",
      " [    0     0    53  1438 79797]]\n"
     ]
    }
   ],
   "source": [
    "print(f1_score(a2,a1 ,average=\"macro\"))\n",
    "print(f1_score( a2,a1,average=None))\n",
    "print(confusion_matrix( a2,a1))"
   ]
  },
  {
   "cell_type": "code",
   "execution_count": 42,
   "id": "f0bad0a1",
   "metadata": {},
   "outputs": [],
   "source": [
    "val=dict(zip(list(\"ABCDE\"),(0,1,2,3,4)))"
   ]
  },
  {
   "cell_type": "code",
   "execution_count": 95,
   "id": "5d09ba22",
   "metadata": {},
   "outputs": [],
   "source": [
    "val=dict(zip(list(\"ABCDE\"),(0,1,2,3,4)))\n",
    "a1=p1[\"Segment\"]#.apply(lambda x:val[x])\n",
    "a2=fg[\"Segment\"]#.apply(lambda x:val[x])\n"
   ]
  },
  {
   "cell_type": "code",
   "execution_count": null,
   "id": "f2dc189f",
   "metadata": {},
   "outputs": [],
   "source": []
  },
  {
   "cell_type": "code",
   "execution_count": 30,
   "id": "e5fb2b02",
   "metadata": {
    "scrolled": true
   },
   "outputs": [
    {
     "data": {
      "text/plain": [
       "47"
      ]
     },
     "execution_count": 30,
     "metadata": {},
     "output_type": "execute_result"
    }
   ],
   "source": [
    "fg=pd.read_csv(\"ppp/open/sample_submission_no_pca_971_all_200_20_3_re02_all0712.csv\")\n",
    "fgg=fg[fg[\"Segment\"]==\"A\"]\n",
    "len(fgg)"
   ]
  },
  {
   "cell_type": "code",
   "execution_count": 35,
   "id": "d83612b2",
   "metadata": {
    "scrolled": true
   },
   "outputs": [
    {
     "data": {
      "text/plain": [
       "15"
      ]
     },
     "execution_count": 35,
     "metadata": {},
     "output_type": "execute_result"
    }
   ],
   "source": [
    "fg1=pd.read_csv(\"ppp/open/sample_submission_no_pca_970_all_200_20_3.csv\")\n",
    "fgg1=fg1[fg1[\"Segment\"]==\"A\"]\n",
    "len(fgg1)"
   ]
  },
  {
   "cell_type": "code",
   "execution_count": 90,
   "id": "3451a7ec",
   "metadata": {},
   "outputs": [
    {
     "data": {
      "text/plain": [
       "32"
      ]
     },
     "execution_count": 90,
     "metadata": {},
     "output_type": "execute_result"
    }
   ],
   "source": [
    "fg2=pd.read_csv(\"ppp/open/sample_submission_no_pca_967_all_100_6_25_re02_6_30p5.csv\")\n",
    "fgg2=fg2[fg2[\"Segment\"]==\"A\"]\n",
    "len(fgg2)"
   ]
  },
  {
   "cell_type": "code",
   "execution_count": 24,
   "id": "4851ebdc",
   "metadata": {},
   "outputs": [
    {
     "data": {
      "text/plain": [
       "96"
      ]
     },
     "execution_count": 24,
     "metadata": {},
     "output_type": "execute_result"
    }
   ],
   "source": [
    "fg3=pd.read_csv(\"ppp/open/sample_submission_no_pca_967_all_100_6_25_re02_6_step.csv\")\n",
    "fgg3=fg3[fg3[\"Segment\"]==\"A\"]\n",
    "len(fgg3)"
   ]
  },
  {
   "cell_type": "code",
   "execution_count": 26,
   "id": "3c88132e",
   "metadata": {},
   "outputs": [
    {
     "data": {
      "text/plain": [
       "Segment\n",
       "E    82233\n",
       "D    14055\n",
       "C     3669\n",
       "A       41\n",
       "B        2\n",
       "dtype: int64"
      ]
     },
     "execution_count": 26,
     "metadata": {},
     "output_type": "execute_result"
    }
   ],
   "source": [
    "fg4=pd.read_csv(\"ppp/open/sample_submission_pca40_all_xgb_200_op.csv\")\n",
    "fgg4=fg4[fg4[\"Segment\"]==\"A\"]\n",
    "fg4.value_counts(\"Segment\")"
   ]
  },
  {
   "cell_type": "code",
   "execution_count": null,
   "id": "568a1050",
   "metadata": {},
   "outputs": [],
   "source": []
  },
  {
   "cell_type": "code",
   "execution_count": 17,
   "id": "ae5ceb0d",
   "metadata": {},
   "outputs": [
    {
     "data": {
      "text/plain": [
       "Segment\n",
       "E    73643\n",
       "D    18978\n",
       "C     7355\n",
       "A       21\n",
       "B        3\n",
       "dtype: int64"
      ]
     },
     "execution_count": 17,
     "metadata": {},
     "output_type": "execute_result"
    }
   ],
   "source": [
    "fg5=pd.read_csv(\"ppp/open/sample_submission_no_pca_968_all_100_6_25_te01m.csv\")\n",
    "fgg5=fg5[fg5[\"Segment\"]==\"A\"]\n",
    "fg5.value_counts(\"Segment\")"
   ]
  },
  {
   "cell_type": "code",
   "execution_count": 43,
   "id": "5483f5be",
   "metadata": {},
   "outputs": [
    {
     "data": {
      "text/plain": [
       "Segment\n",
       "E    73643\n",
       "D    18978\n",
       "C     7355\n",
       "A       21\n",
       "B        3\n",
       "dtype: int64"
      ]
     },
     "execution_count": 43,
     "metadata": {},
     "output_type": "execute_result"
    }
   ],
   "source": [
    "p1.value_counts(\"Segment\")"
   ]
  },
  {
   "cell_type": "code",
   "execution_count": 34,
   "id": "adce6d6d",
   "metadata": {},
   "outputs": [
    {
     "data": {
      "text/plain": [
       "Segment\n",
       "E    73054\n",
       "D    19426\n",
       "C     7470\n",
       "A       49\n",
       "B        1\n",
       "dtype: int64"
      ]
     },
     "execution_count": 34,
     "metadata": {},
     "output_type": "execute_result"
    }
   ],
   "source": [
    "fg6=p1#pd.read_csv(\"ppp/open/sample_submission_pca40_all_xgb_200_op.csv\")\n",
    "fgg6=fg6[fg6[\"Segment\"]==\"A\"]\n",
    "fg6.value_counts(\"Segment\")"
   ]
  },
  {
   "cell_type": "code",
   "execution_count": 35,
   "id": "cec3faea",
   "metadata": {},
   "outputs": [
    {
     "data": {
      "text/plain": [
       "Segment\n",
       "4    75867\n",
       "3    17596\n",
       "2     6489\n",
       "0       45\n",
       "1        3\n",
       "dtype: int64"
      ]
     },
     "execution_count": 35,
     "metadata": {},
     "output_type": "execute_result"
    }
   ],
   "source": [
    "fg7=p1#pd.read_csv(\"ppp/open/sample_submission_pca40_all_xgb_200_op.csv\")\n",
    "fgg7=fg7[fg7[\"Segment\"]==0]\n",
    "fg7.value_counts(\"Segment\")"
   ]
  },
  {
   "cell_type": "code",
   "execution_count": 88,
   "id": "4878e379",
   "metadata": {},
   "outputs": [
    {
     "data": {
      "text/plain": [
       "Segment\n",
       "E    81179\n",
       "D    14366\n",
       "C     4411\n",
       "A       41\n",
       "B        3\n",
       "dtype: int64"
      ]
     },
     "execution_count": 88,
     "metadata": {},
     "output_type": "execute_result"
    }
   ],
   "source": [
    "fg8=p1#pd.read_csv(\"ppp/open/sample_submission_pca40_all_xgb_200_op.csv\")\n",
    "fgg8=fg8[fg8[\"Segment\"]==\"A\"]\n",
    "fg8.value_counts(\"Segment\")"
   ]
  },
  {
   "cell_type": "code",
   "execution_count": 36,
   "id": "560c64b3",
   "metadata": {
    "scrolled": true
   },
   "outputs": [],
   "source": [
    "p1.to_csv(\"ppp/open/sample_submission_no_pca_968_all_100_6_25_te01m_5000.csv\",index=False,encoding=\"utf-8-sig\")"
   ]
  },
  {
   "cell_type": "code",
   "execution_count": 41,
   "id": "9733e308",
   "metadata": {},
   "outputs": [],
   "source": [
    "p1.iloc[[14256,47520,66797],1]=\"B\""
   ]
  },
  {
   "cell_type": "code",
   "execution_count": 42,
   "id": "2b87e63f",
   "metadata": {},
   "outputs": [],
   "source": [
    "p1.to_csv(\"ppp/open/sample_submission_no_pca_968_all_100_6_25_te01m.csv\",index=False,encoding=\"utf-8-sig\")"
   ]
  },
  {
   "cell_type": "code",
   "execution_count": 92,
   "id": "3f4816af",
   "metadata": {},
   "outputs": [
    {
     "data": {
      "text/plain": [
       "28"
      ]
     },
     "execution_count": 92,
     "metadata": {},
     "output_type": "execute_result"
    }
   ],
   "source": [
    "len(set(fgg8.index)&set(fgg.index))"
   ]
  },
  {
   "cell_type": "code",
   "execution_count": 34,
   "id": "4d19a542",
   "metadata": {},
   "outputs": [
    {
     "data": {
      "text/html": [
       "<div>\n",
       "<style scoped>\n",
       "    .dataframe tbody tr th:only-of-type {\n",
       "        vertical-align: middle;\n",
       "    }\n",
       "\n",
       "    .dataframe tbody tr th {\n",
       "        vertical-align: top;\n",
       "    }\n",
       "\n",
       "    .dataframe thead th {\n",
       "        text-align: right;\n",
       "    }\n",
       "</style>\n",
       "<table border=\"1\" class=\"dataframe\">\n",
       "  <thead>\n",
       "    <tr style=\"text-align: right;\">\n",
       "      <th></th>\n",
       "      <th>ID</th>\n",
       "      <th>Segment</th>\n",
       "    </tr>\n",
       "  </thead>\n",
       "  <tbody>\n",
       "    <tr>\n",
       "      <th>14256</th>\n",
       "      <td>TEST_14256</td>\n",
       "      <td>1</td>\n",
       "    </tr>\n",
       "    <tr>\n",
       "      <th>47520</th>\n",
       "      <td>TEST_47520</td>\n",
       "      <td>1</td>\n",
       "    </tr>\n",
       "    <tr>\n",
       "      <th>66797</th>\n",
       "      <td>TEST_66797</td>\n",
       "      <td>1</td>\n",
       "    </tr>\n",
       "  </tbody>\n",
       "</table>\n",
       "</div>"
      ],
      "text/plain": [
       "               ID Segment\n",
       "14256  TEST_14256       1\n",
       "47520  TEST_47520       1\n",
       "66797  TEST_66797       1"
      ]
     },
     "execution_count": 34,
     "metadata": {},
     "output_type": "execute_result"
    }
   ],
   "source": [
    "fgg7"
   ]
  },
  {
   "cell_type": "markdown",
   "id": "01a38057",
   "metadata": {},
   "source": [
    "## 제출파일"
   ]
  },
  {
   "cell_type": "code",
   "execution_count": 43,
   "id": "1fc48f32",
   "metadata": {},
   "outputs": [],
   "source": [
    "import pandas as pd\n",
    "\n",
    "p1=pd.read_csv(\"ppp/open/sample_submission.csv\")\n",
    "val=dict(zip((0,1,2,3,4),list(\"ABCDE\")))\n",
    "p1[\"Segment\"]=pred\n",
    "p1[\"Segment\"]=p1[\"Segment\"].apply(lambda x:val[x])\n",
    "p1.to_csv(\"ppp/open/sample_submission_no_pca_967_all_200_9_25_re02_all071185.csv\",index=False,encoding=\"utf-8-sig\")"
   ]
  },
  {
   "cell_type": "code",
   "execution_count": 39,
   "id": "a57acbf6",
   "metadata": {},
   "outputs": [],
   "source": [
    "p1.to_csv(\"ppp/open/sample_submission_no_pca_967_all_200_9_25_re02_all0712_step_1185_1fa.csv\",index=False,encoding=\"utf-8-sig\")"
   ]
  },
  {
   "cell_type": "code",
   "execution_count": 58,
   "id": "95486b6c",
   "metadata": {},
   "outputs": [
    {
     "data": {
      "text/html": [
       "<div>\n",
       "<style scoped>\n",
       "    .dataframe tbody tr th:only-of-type {\n",
       "        vertical-align: middle;\n",
       "    }\n",
       "\n",
       "    .dataframe tbody tr th {\n",
       "        vertical-align: top;\n",
       "    }\n",
       "\n",
       "    .dataframe thead th {\n",
       "        text-align: right;\n",
       "    }\n",
       "</style>\n",
       "<table border=\"1\" class=\"dataframe\">\n",
       "  <thead>\n",
       "    <tr style=\"text-align: right;\">\n",
       "      <th></th>\n",
       "      <th>ID</th>\n",
       "      <th>Segment</th>\n",
       "    </tr>\n",
       "  </thead>\n",
       "  <tbody>\n",
       "    <tr>\n",
       "      <th>0</th>\n",
       "      <td>TEST_00000</td>\n",
       "      <td>D</td>\n",
       "    </tr>\n",
       "    <tr>\n",
       "      <th>1</th>\n",
       "      <td>TEST_00001</td>\n",
       "      <td>E</td>\n",
       "    </tr>\n",
       "    <tr>\n",
       "      <th>2</th>\n",
       "      <td>TEST_00002</td>\n",
       "      <td>D</td>\n",
       "    </tr>\n",
       "    <tr>\n",
       "      <th>3</th>\n",
       "      <td>TEST_00003</td>\n",
       "      <td>E</td>\n",
       "    </tr>\n",
       "    <tr>\n",
       "      <th>4</th>\n",
       "      <td>TEST_00004</td>\n",
       "      <td>E</td>\n",
       "    </tr>\n",
       "    <tr>\n",
       "      <th>...</th>\n",
       "      <td>...</td>\n",
       "      <td>...</td>\n",
       "    </tr>\n",
       "    <tr>\n",
       "      <th>99995</th>\n",
       "      <td>TEST_99995</td>\n",
       "      <td>E</td>\n",
       "    </tr>\n",
       "    <tr>\n",
       "      <th>99996</th>\n",
       "      <td>TEST_99996</td>\n",
       "      <td>E</td>\n",
       "    </tr>\n",
       "    <tr>\n",
       "      <th>99997</th>\n",
       "      <td>TEST_99997</td>\n",
       "      <td>E</td>\n",
       "    </tr>\n",
       "    <tr>\n",
       "      <th>99998</th>\n",
       "      <td>TEST_99998</td>\n",
       "      <td>C</td>\n",
       "    </tr>\n",
       "    <tr>\n",
       "      <th>99999</th>\n",
       "      <td>TEST_99999</td>\n",
       "      <td>E</td>\n",
       "    </tr>\n",
       "  </tbody>\n",
       "</table>\n",
       "<p>100000 rows × 2 columns</p>\n",
       "</div>"
      ],
      "text/plain": [
       "               ID Segment\n",
       "0      TEST_00000       D\n",
       "1      TEST_00001       E\n",
       "2      TEST_00002       D\n",
       "3      TEST_00003       E\n",
       "4      TEST_00004       E\n",
       "...           ...     ...\n",
       "99995  TEST_99995       E\n",
       "99996  TEST_99996       E\n",
       "99997  TEST_99997       E\n",
       "99998  TEST_99998       C\n",
       "99999  TEST_99999       E\n",
       "\n",
       "[100000 rows x 2 columns]"
      ]
     },
     "execution_count": 58,
     "metadata": {},
     "output_type": "execute_result"
    }
   ],
   "source": [
    "aa=pd.read_csv(\"ppp/open/sample_submission_no_pca_970_all_200_20_3.csv\")\n",
    "aa"
   ]
  },
  {
   "cell_type": "code",
   "execution_count": 59,
   "id": "4f3e9b1d",
   "metadata": {},
   "outputs": [
    {
     "data": {
      "text/plain": [
       "E    76794\n",
       "D    18381\n",
       "C     4808\n",
       "A       15\n",
       "B        2\n",
       "Name: Segment, dtype: int64"
      ]
     },
     "execution_count": 59,
     "metadata": {},
     "output_type": "execute_result"
    }
   ],
   "source": [
    "aa[\"Segment\"].value_counts()\n",
    " "
   ]
  },
  {
   "cell_type": "code",
   "execution_count": 60,
   "id": "cee09cd5",
   "metadata": {},
   "outputs": [
    {
     "data": {
      "text/plain": [
       "E    76794\n",
       "D    18381\n",
       "C     4775\n",
       "A       47\n",
       "B        3\n",
       "Name: Segment, dtype: int64"
      ]
     },
     "execution_count": 60,
     "metadata": {},
     "output_type": "execute_result"
    }
   ],
   "source": [
    "for i in [0,1]:\n",
    "    aa.loc[list(ypq[i]),\"Segment\"]=val[i]\n",
    "aa[\"Segment\"].value_counts()\n",
    "    "
   ]
  },
  {
   "cell_type": "code",
   "execution_count": 63,
   "id": "3251aa16",
   "metadata": {},
   "outputs": [
    {
     "data": {
      "text/plain": [
       "E    76794\n",
       "D    18381\n",
       "C     4775\n",
       "A       47\n",
       "B        3\n",
       "Name: Segment, dtype: int64"
      ]
     },
     "execution_count": 63,
     "metadata": {},
     "output_type": "execute_result"
    }
   ],
   "source": [
    "aa[\"Segment\"].value_counts()"
   ]
  },
  {
   "cell_type": "code",
   "execution_count": null,
   "id": "b3f7c965",
   "metadata": {},
   "outputs": [],
   "source": [
    "두개모델 합치기 \n",
    "\"E\" 1/3 만 사용해서 테스트 0 사용 07월 예측으로 CDE 열 예측 \n",
    "\"E\" 1/5 ,\"C\" 1/3 , \"D\" 1/3 만 사용해서 테스트 0.2 사용 07월~ 12월 예측 AB 열 모든값 사용 예측 \n",
    "== 0.67\n"
   ]
  },
  {
   "cell_type": "code",
   "execution_count": 16,
   "id": "e0294d7c",
   "metadata": {},
   "outputs": [
    {
     "data": {
      "text/plain": [
       "Segment\n",
       "E    76794\n",
       "D    18381\n",
       "C     4775\n",
       "A       47\n",
       "B        3\n",
       "dtype: int64"
      ]
     },
     "execution_count": 16,
     "metadata": {},
     "output_type": "execute_result"
    }
   ],
   "source": [
    "pd.read_csv(\"ppp/open/sample_submission_no_pca_971_all_200_20_3_re02_all0712__970__02teand_971_02te.csv\").value_counts(\"Segment\")"
   ]
  },
  {
   "cell_type": "code",
   "execution_count": 62,
   "id": "19b7d265",
   "metadata": {},
   "outputs": [],
   "source": [
    "aa.to_csv(\"ppp/open/sample_submission_no_pca_971_all_200_20_3_re02_all0712__970__02teand_971_02te.csv\",index=False,encoding=\"utf-8-sig\")"
   ]
  }
 ],
 "metadata": {
  "kernelspec": {
   "display_name": "Python 3 (ipykernel)",
   "language": "python",
   "name": "python3"
  },
  "language_info": {
   "codemirror_mode": {
    "name": "ipython",
    "version": 3
   },
   "file_extension": ".py",
   "mimetype": "text/x-python",
   "name": "python",
   "nbconvert_exporter": "python",
   "pygments_lexer": "ipython3",
   "version": "3.9.7"
  }
 },
 "nbformat": 4,
 "nbformat_minor": 5
}
